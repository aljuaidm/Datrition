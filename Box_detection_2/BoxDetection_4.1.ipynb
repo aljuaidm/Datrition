{
 "cells": [
  {
   "cell_type": "markdown",
   "metadata": {},
   "source": [
    "## Importing Libraries¶"
   ]
  },
  {
   "cell_type": "code",
   "execution_count": 35,
   "metadata": {},
   "outputs": [],
   "source": [
    "import cv2\n",
    "import os\n",
    "from skimage import color, data, io, measure\n",
    "from skimage.filters import threshold_otsu\n",
    "import numpy as np\n",
    "import pandas as pd\n",
    "import matplotlib.pyplot as plt\n",
    "import matplotlib as mpl\n",
    "from ipywidgets import interact, interactive, fixed, interact_manual\n",
    "import ipywidgets as widgets\n",
    "mpl.rcParams['image.cmap'] = 'gray'\n",
    "plt.rcParams['figure.dpi']= 300\n",
    "plt.rc(\"savefig\", dpi=300)\n",
    "from tqdm import tqdm"
   ]
  },
  {
   "cell_type": "code",
   "execution_count": 36,
   "metadata": {},
   "outputs": [],
   "source": [
    "def sort_contours(cnts, method=\"left-to-right\"):\n",
    "    # initialize the reverse flag and sort index\n",
    "    reverse = False\n",
    "    i = 0\n",
    "\n",
    "    # handle if we need to sort in reverse\n",
    "    if method == \"right-to-left\" or method == \"bottom-to-top\":\n",
    "        reverse = False\n",
    "\n",
    "    # handle if we are sorting against the y-coordinate rather than\n",
    "    # the x-coordinate of the bounding box\n",
    "    if method == \"top-to-bottom\" or method == \"right-to-left\":\n",
    "        i = 1\n",
    "\n",
    "    # construct the list of bounding boxes and sort them from top to\n",
    "    # bottom\n",
    "    boundingBoxes = [cv2.boundingRect(c) for c in cnts]\n",
    "    (cnts, boundingBoxes) = zip(*sorted(zip(cnts, boundingBoxes),\n",
    "        key=lambda b:b[1][i], reverse=reverse))\n",
    "\n",
    "    # return the list of sorted contours and bounding boxes\n",
    "    return (cnts, boundingBoxes)\n",
    "\n",
    "# Find contours for image, which will detect all the boxes\n",
    "# contours, hierarchy = cv2.findContours(img_final_bin, cv2.RETR_TREE, cv2.CHAIN_APPROX_SIMPLE)\n",
    "\n",
    "# # Sort all the contours by top to bottom.\n",
    "# (contours, boundingBoxes) = sort_contours(contours, method=\"top-to-bottom\")"
   ]
  },
  {
   "cell_type": "code",
   "execution_count": 37,
   "metadata": {},
   "outputs": [],
   "source": [
    "def f(y):\n",
    "    # Defining a kernel length\n",
    "    global horizontal_lines_img, verticle_lines_img, kernel\n",
    "    kernel_length = np.array(img).shape[1]//y\n",
    "\n",
    "    # A verticle kernel of (1 X kernel_length), which will detect all the verticle lines from the image.\n",
    "    verticle_kernel = cv2.getStructuringElement(cv2.MORPH_RECT, (1, kernel_length))\n",
    "    # A horizontal kernel of (kernel_length X 1), which will help to detect all the horizontal line from the image.\n",
    "    hori_kernel = cv2.getStructuringElement(cv2.MORPH_RECT, (kernel_length, 1))\n",
    "    # A kernel of (3 X 3) ones.\n",
    "    ###kernel = cv2.getStructuringElement(cv2.MORPH_RECT, (3, 3))\n",
    "    # Morphological operation to detect vertical lines from an image\n",
    "    img_temp1 = cv2.erode(img_bin, verticle_kernel, iterations=1)\n",
    "    verticle_lines_img = cv2.dilate(img_temp1, verticle_kernel, iterations=1)\n",
    "    cv2.imwrite(\"verticle_lines.jpg\",verticle_lines_img)\n",
    "    # Morphological operation to detect horizontal lines from an image\n",
    "    img_temp2 = cv2.erode(img_bin, hori_kernel, iterations=1)\n",
    "    horizontal_lines_img = cv2.dilate(img_temp2, hori_kernel, iterations=1)\n",
    "    ###plt.subplot(1, 2, 1)  # 2 rows, 2 columns, 1st subplot = top left\n",
    "    ###plt.imshow(verticle_lines_img);\n",
    "    ###plt.axis('off')\n",
    "\n",
    "    ###plt.subplot(1, 2, 2)  # 2 rows, 2 columns, 2nd subplot = top right\n",
    "    plt.imshow(horizontal_lines_img);\n",
    "    plt.axis('off')"
   ]
  },
  {
   "cell_type": "markdown",
   "metadata": {},
   "source": [
    "# Numbers of Images\n"
   ]
  },
  {
   "cell_type": "code",
   "execution_count": 38,
   "metadata": {},
   "outputs": [],
   "source": [
    "import glob\n",
    "import matplotlib.image as mpimg\n",
    "%matplotlib inline\n",
    "images = []\n",
    "for img_path in glob.glob('img_2/*.jpg'):\n",
    "    images.append(mpimg.imread(img_path))"
   ]
  },
  {
   "cell_type": "code",
   "execution_count": 39,
   "metadata": {},
   "outputs": [
    {
     "data": {
      "text/plain": [
       "108"
      ]
     },
     "execution_count": 39,
     "metadata": {},
     "output_type": "execute_result"
    }
   ],
   "source": [
    "len(images)"
   ]
  },
  {
   "cell_type": "markdown",
   "metadata": {},
   "source": [
    "## The images are saved in the folder named as 'img_result'."
   ]
  },
  {
   "cell_type": "code",
   "execution_count": 40,
   "metadata": {},
   "outputs": [
    {
     "name": "stderr",
     "output_type": "stream",
     "text": [
      "  0%|          | 0/6 [00:00<?, ?it/s]\n"
     ]
    },
    {
     "ename": "ValueError",
     "evalue": "too many values to unpack (expected 2)",
     "output_type": "error",
     "traceback": [
      "\u001b[1;31m---------------------------------------------------------------------------\u001b[0m",
      "\u001b[1;31mValueError\u001b[0m                                Traceback (most recent call last)",
      "\u001b[1;32m<ipython-input-40-e076312be7aa>\u001b[0m in \u001b[0;36m<module>\u001b[1;34m\u001b[0m\n\u001b[0;32m     22\u001b[0m \u001b[1;31m#     images.append(mpimg.imread(img_path))\u001b[0m\u001b[1;33m\u001b[0m\u001b[1;33m\u001b[0m\u001b[1;33m\u001b[0m\u001b[0m\n\u001b[0;32m     23\u001b[0m     \u001b[1;31m# Find contours for image, which will detect all the boxes\u001b[0m\u001b[1;33m\u001b[0m\u001b[1;33m\u001b[0m\u001b[1;33m\u001b[0m\u001b[0m\n\u001b[1;32m---> 24\u001b[1;33m     \u001b[0mcontours\u001b[0m\u001b[1;33m,\u001b[0m \u001b[0mhierarchy\u001b[0m \u001b[1;33m=\u001b[0m \u001b[0mcv2\u001b[0m\u001b[1;33m.\u001b[0m\u001b[0mfindContours\u001b[0m\u001b[1;33m(\u001b[0m\u001b[0mimg_final_bin\u001b[0m\u001b[1;33m,\u001b[0m \u001b[0mcv2\u001b[0m\u001b[1;33m.\u001b[0m\u001b[0mRETR_TREE\u001b[0m\u001b[1;33m,\u001b[0m \u001b[0mcv2\u001b[0m\u001b[1;33m.\u001b[0m\u001b[0mCHAIN_APPROX_SIMPLE\u001b[0m\u001b[1;33m)\u001b[0m\u001b[1;33m\u001b[0m\u001b[1;33m\u001b[0m\u001b[0m\n\u001b[0m\u001b[0;32m     25\u001b[0m \u001b[1;33m\u001b[0m\u001b[0m\n\u001b[0;32m     26\u001b[0m     \u001b[1;31m# Sort all the contours by top to bottom.\u001b[0m\u001b[1;33m\u001b[0m\u001b[1;33m\u001b[0m\u001b[1;33m\u001b[0m\u001b[0m\n",
      "\u001b[1;31mValueError\u001b[0m: too many values to unpack (expected 2)"
     ]
    },
    {
     "data": {
      "image/png": "[encoded data removed]",
      "text/plain": [
       "<Figure size 432x288 with 1 Axes>"
      ]
     },
     "metadata": {
      "needs_background": "light"
     },
     "output_type": "display_data"
    }
   ],
   "source": [
    "import glob\n",
    "import matplotlib.pyplot as plt\n",
    "import matplotlib.image as mpimg\n",
    "%matplotlib inline\n",
    "\n",
    "images = []\n",
    "counter = 1\n",
    "for img_path in tqdm(glob.glob('img/*.jpg')):\n",
    "    \n",
    "    img = cv2.imread(img_path,0)\n",
    "    (thresh, img_bin) = cv2.threshold(img, 240, 255,cv2.THRESH_BINARY|cv2.THRESH_OTSU)\n",
    "    img_bin = 255-img_bin\n",
    "    f(255)\n",
    "    alpha = 0.9\n",
    "    beta = 1.0 - alpha\n",
    "    # This function helps to add two image with specific weight parameter to get a third image as summation of two image.\n",
    "    img_final_bin = cv2.addWeighted(verticle_lines_img, alpha, horizontal_lines_img, beta, 0.5)\n",
    "    #img_final_bin = cv2.erode(~img_final_bin, kernel, iterations=2)\n",
    "    (thresh, img_final_bin) = cv2.threshold(img_final_bin, 230,255, cv2.THRESH_BINARY | cv2.THRESH_OTSU)\n",
    "    plt.axis('off')\n",
    "    plt.imshow(img_final_bin)\n",
    "#     images.append(mpimg.imread(img_path))\n",
    "    # Find contours for image, which will detect all the boxes\n",
    "    contours, hierarchy = cv2.findContours(img_final_bin, cv2.RETR_TREE, cv2.CHAIN_APPROX_SIMPLE)\n",
    "\n",
    "    # Sort all the contours by top to bottom.\n",
    "    (contours, boundingBoxes) = sort_contours(contours, method=\"top-to-bottom\")\n",
    "    idx = 1\n",
    "    \n",
    "    for c in (contours):\n",
    "        # Returns the location and width,height for every contour\n",
    "        x, y, w, h = cv2.boundingRect(c)\n",
    "        \n",
    "# If the box height is greater then 20, widht is >80, then only save it as a box in \"cropped/\" folder.\n",
    "        if (w > 160 and h > 80) and w < 2.5 *h:\n",
    "            idx += 3\n",
    "            new_img = img[y:y+h, x:x+w]\n",
    "            #plt.subplot(2,3, idx)\n",
    "            plt.imshow(new_img)\n",
    "            plt.axis('off')\n",
    "            #cv2.imwrite('./th/')\n",
    "            #path = './th/'\n",
    "            plt.savefig(f'./img_result/label{counter}.jpg',dpi=300)\n",
    "            #cv2.imwrite(os.path.join(path , 'label'+str(num)+'.jpg'), new_img)\n",
    "            #cv2.imwrite(os.path.join(path , 'f', new_img))\n",
    "            counter+=1\n",
    "            #cv2.waitKey(0)\n",
    "    #break"
   ]
  },
  {
   "cell_type": "code",
   "execution_count": 33,
   "metadata": {
    "scrolled": true
   },
   "outputs": [
    {
     "name": "stderr",
     "output_type": "stream",
     "text": [
      "  0%|          | 0/6 [00:00<?, ?it/s]\n"
     ]
    },
    {
     "ename": "ValueError",
     "evalue": "too many values to unpack (expected 2)",
     "output_type": "error",
     "traceback": [
      "\u001b[1;31m---------------------------------------------------------------------------\u001b[0m",
      "\u001b[1;31mValueError\u001b[0m                                Traceback (most recent call last)",
      "\u001b[1;32m<ipython-input-33-99906a10b7e0>\u001b[0m in \u001b[0;36m<module>\u001b[1;34m\u001b[0m\n\u001b[0;32m     22\u001b[0m \u001b[1;31m#     images.append(mpimg.imread(img_path))\u001b[0m\u001b[1;33m\u001b[0m\u001b[1;33m\u001b[0m\u001b[1;33m\u001b[0m\u001b[0m\n\u001b[0;32m     23\u001b[0m     \u001b[1;31m# Find contours for image, which will detect all the boxes\u001b[0m\u001b[1;33m\u001b[0m\u001b[1;33m\u001b[0m\u001b[1;33m\u001b[0m\u001b[0m\n\u001b[1;32m---> 24\u001b[1;33m     \u001b[0mcontours\u001b[0m\u001b[1;33m,\u001b[0m \u001b[0mhierarchy\u001b[0m \u001b[1;33m=\u001b[0m \u001b[0mcv2\u001b[0m\u001b[1;33m.\u001b[0m\u001b[0mfindContours\u001b[0m\u001b[1;33m(\u001b[0m\u001b[0mimg_final_bin\u001b[0m\u001b[1;33m,\u001b[0m \u001b[0mcv2\u001b[0m\u001b[1;33m.\u001b[0m\u001b[0mRETR_TREE\u001b[0m\u001b[1;33m,\u001b[0m \u001b[0mcv2\u001b[0m\u001b[1;33m.\u001b[0m\u001b[0mCHAIN_APPROX_SIMPLE\u001b[0m\u001b[1;33m)\u001b[0m\u001b[1;33m\u001b[0m\u001b[1;33m\u001b[0m\u001b[0m\n\u001b[0m\u001b[0;32m     25\u001b[0m \u001b[1;33m\u001b[0m\u001b[0m\n\u001b[0;32m     26\u001b[0m     \u001b[1;31m# Sort all the contours by top to bottom.\u001b[0m\u001b[1;33m\u001b[0m\u001b[1;33m\u001b[0m\u001b[1;33m\u001b[0m\u001b[0m\n",
      "\u001b[1;31mValueError\u001b[0m: too many values to unpack (expected 2)"
     ]
    },
    {
     "data": {
      "image/png": "[encoded data removed]",
      "text/plain": [
       "<Figure size 432x288 with 1 Axes>"
      ]
     },
     "metadata": {
      "needs_background": "light"
     },
     "output_type": "display_data"
    }
   ],
   "source": [
    "import glob\n",
    "import matplotlib.pyplot as plt\n",
    "import matplotlib.image as mpimg\n",
    "%matplotlib inline\n",
    "\n",
    "images = []\n",
    "counter = 1\n",
    "for img_path in tqdm(glob.glob('img/*.jpg')):\n",
    "    \n",
    "    img = cv2.imread(img_path,0)\n",
    "    (thresh, img_bin) = cv2.threshold(img, 240, 255,cv2.THRESH_BINARY|cv2.THRESH_OTSU)\n",
    "    img_bin = 255-img_bin\n",
    "    f(255)\n",
    "    alpha = 0.9\n",
    "    beta = 1.0 - alpha\n",
    "    # This function helps to add two image with specific weight parameter to get a third image as summation of two image.\n",
    "    img_final_bin = cv2.addWeighted(verticle_lines_img, alpha, horizontal_lines_img, beta, 0.5)\n",
    "    #img_final_bin = cv2.erode(~img_final_bin, kernel, iterations=2)\n",
    "    (thresh, img_final_bin) = cv2.threshold(img_final_bin, 230,255, cv2.THRESH_BINARY | cv2.THRESH_OTSU)\n",
    "    plt.axis('off')\n",
    "    plt.imshow(img_final_bin)\n",
    "#     images.append(mpimg.imread(img_path))\n",
    "    # Find contours for image, which will detect all the boxes\n",
    "    contours, hierarchy = cv2.findContours(img_final_bin, cv2.RETR_TREE, cv2.CHAIN_APPROX_SIMPLE)\n",
    "\n",
    "    # Sort all the contours by top to bottom.\n",
    "    (contours, boundingBoxes) = sort_contours(contours, method=\"top-to-bottom\")\n",
    "    idx = 1\n",
    "    \n",
    "    for c in (contours):\n",
    "        # Returns the location and width,height for every contour\n",
    "        x, y, w, h = cv2.boundingRect(c)\n",
    "        \n",
    "# If the box height is greater then 20, widht is >80, then only save it as a box in \"cropped/\" folder.\n",
    "        if (w > 160 and h > 80) and w < 2.5 *h:\n",
    "            idx += 3\n",
    "            new_img = img[y:y+h, x:x+w]\n",
    "            #plt.subplot(2,3, idx)\n",
    "            plt.imshow(new_img)\n",
    "            plt.axis('off')\n",
    "            file_n = img_path.split('/')[-1].split('.')[0]\n",
    "            \n",
    "            plt.savefig(f'./img_result/{file_n} _ label{counter}',dpi=300)\n",
    "            #cv2.imwrite(os.path.join(path , 'label'+str(num)+'.jpg'), new_img)\n",
    "            #cv2.imwrite(os.path.join(path , 'f', new_img))\n",
    "            counter+=1\n",
    "            #cv2.waitKey(0)\n",
    "    #break"
   ]
  },
  {
   "cell_type": "code",
   "execution_count": 41,
   "metadata": {},
   "outputs": [
    {
     "ename": "ValueError",
     "evalue": "too many values to unpack (expected 2)",
     "output_type": "error",
     "traceback": [
      "\u001b[1;31m---------------------------------------------------------------------------\u001b[0m",
      "\u001b[1;31mValueError\u001b[0m                                Traceback (most recent call last)",
      "\u001b[1;32m<ipython-input-41-62bba1d1760e>\u001b[0m in \u001b[0;36m<module>\u001b[1;34m\u001b[0m\n\u001b[0;32m     17\u001b[0m \u001b[0mplt\u001b[0m\u001b[1;33m.\u001b[0m\u001b[0maxis\u001b[0m\u001b[1;33m(\u001b[0m\u001b[1;34m'off'\u001b[0m\u001b[1;33m)\u001b[0m\u001b[1;33m\u001b[0m\u001b[1;33m\u001b[0m\u001b[0m\n\u001b[0;32m     18\u001b[0m \u001b[0mplt\u001b[0m\u001b[1;33m.\u001b[0m\u001b[0mimshow\u001b[0m\u001b[1;33m(\u001b[0m\u001b[0mimg_final_bin\u001b[0m\u001b[1;33m)\u001b[0m\u001b[1;33m\u001b[0m\u001b[1;33m\u001b[0m\u001b[0m\n\u001b[1;32m---> 19\u001b[1;33m \u001b[0mcontours\u001b[0m\u001b[1;33m,\u001b[0m \u001b[0mhierarchy\u001b[0m \u001b[1;33m=\u001b[0m \u001b[0mcv2\u001b[0m\u001b[1;33m.\u001b[0m\u001b[0mfindContours\u001b[0m\u001b[1;33m(\u001b[0m\u001b[0mimg_final_bin\u001b[0m\u001b[1;33m,\u001b[0m \u001b[0mcv2\u001b[0m\u001b[1;33m.\u001b[0m\u001b[0mRETR_TREE\u001b[0m\u001b[1;33m,\u001b[0m \u001b[0mcv2\u001b[0m\u001b[1;33m.\u001b[0m\u001b[0mCHAIN_APPROX_SIMPLE\u001b[0m\u001b[1;33m)\u001b[0m\u001b[1;33m\u001b[0m\u001b[1;33m\u001b[0m\u001b[0m\n\u001b[0m\u001b[0;32m     20\u001b[0m \u001b[1;33m\u001b[0m\u001b[0m\n\u001b[0;32m     21\u001b[0m \u001b[1;33m(\u001b[0m\u001b[0mcontours\u001b[0m\u001b[1;33m,\u001b[0m \u001b[0mboundingBoxes\u001b[0m\u001b[1;33m)\u001b[0m \u001b[1;33m=\u001b[0m \u001b[0msort_contours\u001b[0m\u001b[1;33m(\u001b[0m\u001b[0mcontours\u001b[0m\u001b[1;33m,\u001b[0m \u001b[0mmethod\u001b[0m\u001b[1;33m=\u001b[0m\u001b[1;34m\"top-to-bottom\"\u001b[0m\u001b[1;33m)\u001b[0m\u001b[1;33m\u001b[0m\u001b[1;33m\u001b[0m\u001b[0m\n",
      "\u001b[1;31mValueError\u001b[0m: too many values to unpack (expected 2)"
     ]
    },
    {
     "data": {
      "image/png": "[encoded data removed]",
      "text/plain": [
       "<Figure size 432x288 with 1 Axes>"
      ]
     },
     "metadata": {
      "needs_background": "light"
     },
     "output_type": "display_data"
    }
   ],
   "source": [
    "import glob\n",
    "import matplotlib.pyplot as plt\n",
    "import matplotlib.image as mpimg\n",
    "%matplotlib inline\n",
    "\n",
    "images = []\n",
    "counter = 1\n",
    "\n",
    "img = cv2.imread('img/product_6.jpg',0)\n",
    "(thresh, img_bin) = cv2.threshold(img, 240, 255,cv2.THRESH_BINARY|cv2.THRESH_OTSU)\n",
    "img_bin = 255-img_bin\n",
    "f(255)\n",
    "alpha = 0.9\n",
    "beta = 1.0 - alpha\n",
    "img_final_bin = cv2.addWeighted(verticle_lines_img, alpha, horizontal_lines_img, beta, 0.5)\n",
    "(thresh, img_final_bin) = cv2.threshold(img_final_bin, 230,255, cv2.THRESH_BINARY | cv2.THRESH_OTSU)\n",
    "plt.axis('off')\n",
    "plt.imshow(img_final_bin)\n",
    "contours, hierarchy = cv2.findContours(img_final_bin, cv2.RETR_TREE, cv2.CHAIN_APPROX_SIMPLE)\n",
    "\n",
    "(contours, boundingBoxes) = sort_contours(contours, method=\"top-to-bottom\")\n",
    "idx = 1\n",
    "\n",
    "for c in (contours):\n",
    "    x, y, w, h = cv2.boundingRect(c)\n",
    "\n",
    "    if (w > 160 and h > 80) and w < 2.5 *h:\n",
    "        idx += 3\n",
    "        new_img = img[y:y+h, x:x+w]\n",
    "        plt.imshow(new_img)\n",
    "        plt.axis('off')\n",
    "        plt.savefig(f'./img_result/label{counter}.jpg',dpi=300)\n",
    "        counter+=1\n",
    "print(im)"
   ]
  },
  {
   "cell_type": "code",
   "execution_count": 42,
   "metadata": {},
   "outputs": [
    {
     "data": {
      "text/plain": [
       "array([[ 29,  29,  29, ..., 255, 255, 255],\n",
       "       [ 29,  29,  29, ..., 255, 255, 255],\n",
       "       [ 29,  29,  29, ..., 255, 255, 255],\n",
       "       ...,\n",
       "       [255, 255, 255, ..., 110, 110, 110],\n",
       "       [255, 255, 255, ..., 110, 110, 110],\n",
       "       [255, 255, 255, ..., 110, 110, 110]], dtype=uint8)"
      ]
     },
     "execution_count": 42,
     "metadata": {},
     "output_type": "execute_result"
    }
   ],
   "source": [
    "img"
   ]
  },
  {
   "cell_type": "code",
   "execution_count": 43,
   "metadata": {},
   "outputs": [
    {
     "data": {
      "text/plain": [
       "array([[67, 67, 67, ..., 67, 67, 67],\n",
       "       [67, 67, 67, ..., 67, 67, 67],\n",
       "       [67, 67, 67, ..., 67, 67, 67],\n",
       "       ...,\n",
       "       [67, 67, 67, ..., 67, 67, 67],\n",
       "       [67, 67, 67, ..., 67, 67, 67],\n",
       "       [67, 67, 67, ..., 67, 67, 67]], dtype=uint8)"
      ]
     },
     "execution_count": 43,
     "metadata": {},
     "output_type": "execute_result"
    }
   ],
   "source": [
    "new_img"
   ]
  },
  {
   "cell_type": "markdown",
   "metadata": {},
   "source": [
    "## Extracting text from Nutrition lables"
   ]
  },
  {
   "cell_type": "markdown",
   "metadata": {},
   "source": [
    "### ---------------"
   ]
  },
  {
   "cell_type": "code",
   "execution_count": 44,
   "metadata": {},
   "outputs": [],
   "source": [
    "import pytesseract\n",
    "from PIL import Image, ImageEnhance, ImageFilter\n",
    "import os\n",
    "import glob\n",
    "import re\n",
    "import sys\n",
    "import cv2"
   ]
  },
  {
   "cell_type": "code",
   "execution_count": 45,
   "metadata": {},
   "outputs": [],
   "source": [
    "\n",
    "#sys.path.append('/usr/local/lib/python2.7/site-packages')\n",
    "## FOR FEW IMAGES ONLY\n",
    "\n",
    "def writeFile(directory, fileName, content):\n",
    "    outFile = open('outputs/' + directory + '/' + fileName + '.txt', 'w')\n",
    "    outFile.write(content)\n",
    "    outFile.close()\n",
    "\n",
    "# Setup regex for stripping file names\n",
    "p = re.compile('[0-9]+.jpg')\n",
    "    \n",
    "# Use images in the labels directory\n",
    "for file in glob.glob('../labels/*.jpg'):\n",
    "    fileName = p.findall(file)[0]\n",
    "    print (\"Proccessing \" + fileName)\n",
    "    outFileName = fileName[0:len(fileName)-4]\n",
    "    \n",
    "    #-----------------------\n",
    "#     # Get default text recognition \n",
    "#     output = pytesseract.image_to_string(Image.open(file))\n",
    "#     #print(output)\n",
    "\n",
    "#     # Write default text output to 'outputs/default' directory\n",
    "#     writeFile('default', outFileName, output)\n",
    "\n",
    "    # Open image as black and white\n",
    "    #-----------------------\n",
    "    \n",
    "    bw = cv2.imread(file, 0)\n",
    "\n",
    "    # Apply adaptive thresholding to images\n",
    "    thresh = cv2.adaptiveThreshold(bw, 255, cv2.ADAPTIVE_THRESH_GAUSSIAN_C,\\\n",
    "            cv2.THRESH_BINARY, 11, 2)\n",
    "\n",
    "    # Get text recognition from thresholded images\n",
    "    output = pytesseract.image_to_string(Image.fromarray(bw))\n",
    "    writeFile('bw', outFileName, output)\n",
    "\n",
    "    break"
   ]
  },
  {
   "cell_type": "code",
   "execution_count": null,
   "metadata": {},
   "outputs": [],
   "source": []
  },
  {
   "cell_type": "code",
   "execution_count": 46,
   "metadata": {},
   "outputs": [],
   "source": [
    "def label_Recognizer(path):\n",
    "    import re\n",
    "#    import end_to_end\n",
    "    import os\n",
    "    from matplotlib import pyplot \n",
    "    files = []\n",
    "    # r=root, d=directories, f = files\n",
    "    for  r,d, f in os.walk(path):\n",
    "        for file in f:\n",
    "            files.append(os.path.join(file))\n",
    "    p = re.compile('[0-9]+.jpg')\n",
    "    all_result = []\n",
    "    for f in files:\n",
    "        print(f)\n",
    "     #   out_dict = end_to_end.end_to_end(f'{path}\\{f}')\n",
    "        #-----------------\n",
    "        try:\n",
    "            for file in glob.glob('./pd_test/*.jpg'):\n",
    "                fileName = p.findall(file)[0]\n",
    "                print (\"Proccessing \" + fileName)\n",
    "                outFileName = fileName[0:len(fileName)-4]\n",
    "                # Get default text recognition \n",
    "                output = pytesseract.image_to_string(Image.open(file))\n",
    "                print(\"/n/sLABEL\", output)\n",
    "                all_result.append(output)\n",
    "            return all_result\n",
    "        except:\n",
    "            \n",
    "            print('error')\n",
    "    \n",
    "            # Write default text output to 'outputs/default' directory\n",
    "#             writeFile('default', outFileName, output)\n",
    "\n",
    "#             # Open image as black and white\n",
    "#             bw = cv2.imread(file, 0)\n",
    "\n",
    "#             # Apply adaptive thresholding to images\n",
    "#             thresh = cv2.adaptiveThreshold(bw, 255, cv2.ADAPTIVE_THRESH_GAUSSIAN_C,\\\n",
    "#                     cv2.THRESH_BINARY, 11, 2)\n",
    "\n",
    "#             # Get text recognition from thresholded images\n",
    "#             output = pytesseract.image_to_string(Image.fromarray(bw))\n",
    "                \n",
    "\n",
    "#         #-----------------\n",
    "# #         print('This is out_dict type', type(out_dict))\n",
    "# #         print(f.replace(r'.jpg',''))\n",
    "# #         out_dict['Image_id']=f.replace(r'.jpg','')\n",
    "#             all_result.append(output)\n",
    "            \n",
    "#         break\n",
    "\n",
    "#     df = pd.DataFrame(all_result)\n",
    "#     df = pd.DataFrame(columns=['Image_id','Nutrient', 'Amount', 'Unit', 'Serving Size','Serving Size Unit','Language'])\n",
    "#     df_long = df.melt(id_vars=['Serving Size','Image_id'])\n",
    "#     Units = {'Calories': 'Kcal',\n",
    "#         'Energy': 'kJ',\n",
    "#         'Total Fat': 'g',\n",
    "#         'Saturated Fat': 'g',\n",
    "#         'Trans Fat': 'g',\n",
    "#         'Poly Fat': 'g',\n",
    "#         'Mono Fat': 'g',\n",
    "#         'Cholesterol': 'mg',\n",
    "#         'Sodium': 'mg',\n",
    "#         'Potassium': 'g',\n",
    "#         'Total Carbohydrate': 'g',\n",
    "#         'Dietary Fiber': 'g',\n",
    "#         'Sugars': 'g',\n",
    "#         'Protein': 'g'}\n",
    "#     df_long['Serving Size Unit']= 'g'\n",
    "#     df_long.columns = ['Serving Size','Image_id','Nutrient','Amount','Serving Size Unit']\n",
    "#     df_long['Unit'] = [Units [x] for x in df_long['Nutrient']]\n",
    "#     df_long['Language'] = 'English'\n",
    "#     Final_Outcome = df_long[['Image_id','Nutrient', 'Amount', 'Unit', 'Serving Size','Serving Size Unit','Language']]\n",
    "#     Final_Outcome.to_excel('DSI-V-Abdulrahman.xlsx', index=False)\n",
    "#     return Final_Outcome"
   ]
  },
  {
   "cell_type": "code",
   "execution_count": 52,
   "metadata": {},
   "outputs": [],
   "source": [
    "#####\n",
    "\n",
    "def label_Recognizer(path):\n",
    "    import re\n",
    "    import os\n",
    "    from matplotlib import pyplot \n",
    "    files = []\n",
    "    for  r,d, f in os.walk(path):\n",
    "        for file in f:\n",
    "            files.append(os.path.join(file))\n",
    "    p = re.compile('[0-9]+.jpg')\n",
    "    all_result = []\n",
    "    for f in files:\n",
    "        print(f)\n",
    "     #   out_dict = end_to_end.end_to_end(f'{path}\\{f}')\n",
    "        #-----------------\n",
    "\n",
    "        for file in glob.glob('pd_test/*.jpg'):\n",
    "            fileName = p.findall(file)[0]\n",
    "            print (\"Proccessing \" + fileName)\n",
    "            outFileName = fileName[0:len(fileName)-4]\n",
    "            # Get default text recognition \n",
    "            output = pytesseract.image_to_string(Image.open(file))\n",
    "            print(\"/n/sLABEL\", output)\n",
    "            all_result.append(output)\n",
    "        result = []\n",
    "        for i in all_result:\n",
    "            if len(i) == 0:\n",
    "                pass\n",
    "            else:\n",
    "                result.append(i)\n",
    "        return result\n",
    "            \n"
   ]
  },
  {
   "cell_type": "code",
   "execution_count": 54,
   "metadata": {
    "scrolled": false
   },
   "outputs": [],
   "source": [
    "test = n[0].split('\\n')"
   ]
  },
  {
   "cell_type": "code",
   "execution_count": 55,
   "metadata": {},
   "outputs": [],
   "source": [
    "df_test = pd.DataFrame(test)"
   ]
  },
  {
   "cell_type": "code",
   "execution_count": 81,
   "metadata": {},
   "outputs": [
    {
     "data": {
      "text/plain": [
       "' '"
      ]
     },
     "execution_count": 81,
     "metadata": {},
     "output_type": "execute_result"
    }
   ],
   "source": [
    "df_test[0][19]"
   ]
  },
  {
   "cell_type": "code",
   "execution_count": 88,
   "metadata": {},
   "outputs": [],
   "source": [
    "df_cl = df_test.replace(['',' '], np.nan)"
   ]
  },
  {
   "cell_type": "code",
   "execution_count": 91,
   "metadata": {},
   "outputs": [],
   "source": [
    "df_cl.dropna(inplace=True)"
   ]
  },
  {
   "cell_type": "code",
   "execution_count": 105,
   "metadata": {},
   "outputs": [
    {
     "data": {
      "text/html": [
       "<div>\n",
       "<style scoped>\n",
       "    .dataframe tbody tr th:only-of-type {\n",
       "        vertical-align: middle;\n",
       "    }\n",
       "\n",
       "    .dataframe tbody tr th {\n",
       "        vertical-align: top;\n",
       "    }\n",
       "\n",
       "    .dataframe thead th {\n",
       "        text-align: right;\n",
       "    }\n",
       "</style>\n",
       "<table border=\"1\" class=\"dataframe\">\n",
       "  <thead>\n",
       "    <tr style=\"text-align: right;\">\n",
       "      <th></th>\n",
       "      <th>0</th>\n",
       "    </tr>\n",
       "  </thead>\n",
       "  <tbody>\n",
       "    <tr>\n",
       "      <th>0</th>\n",
       "      <td>Nutrition Facts</td>\n",
       "    </tr>\n",
       "    <tr>\n",
       "      <th>1</th>\n",
       "      <td>A Amount Per Serving 1oz (289)</td>\n",
       "    </tr>\n",
       "    <tr>\n",
       "      <th>2</th>\n",
       "      <td>A Galories 175 Calories From Fat 125</td>\n",
       "    </tr>\n",
       "    <tr>\n",
       "      <th>3</th>\n",
       "      <td>Total Fat 14g 22%</td>\n",
       "    </tr>\n",
       "    <tr>\n",
       "      <th>4</th>\n",
       "      <td>Saturated Fat 2.19 11%</td>\n",
       "    </tr>\n",
       "    <tr>\n",
       "      <th>5</th>\n",
       "      <td>Trans Fat Og 0%</td>\n",
       "    </tr>\n",
       "    <tr>\n",
       "      <th>6</th>\n",
       "      <td>Cholesterol Omg 0%</td>\n",
       "    </tr>\n",
       "    <tr>\n",
       "      <th>7</th>\n",
       "      <td>Sodium 23mg 1%</td>\n",
       "    </tr>\n",
       "    <tr>\n",
       "      <th>8</th>\n",
       "      <td>Total Carbohydrate 5g 5%</td>\n",
       "    </tr>\n",
       "    <tr>\n",
       "      <th>9</th>\n",
       "      <td>Dietary Fiber 2.79 119</td>\n",
       "    </tr>\n",
       "    <tr>\n",
       "      <th>10</th>\n",
       "      <td>Protein 7g 14%</td>\n",
       "    </tr>\n",
       "    <tr>\n",
       "      <th>11</th>\n",
       "      <td>Calcium 0%</td>\n",
       "    </tr>\n",
       "    <tr>\n",
       "      <th>12</th>\n",
       "      <td>Iron 3%</td>\n",
       "    </tr>\n",
       "    <tr>\n",
       "      <th>13</th>\n",
       "      <td>VitaminA = 0% Vitamin€ = 2%</td>\n",
       "    </tr>\n",
       "    <tr>\n",
       "      <th>14</th>\n",
       "      <td>Calcium 6% Iron 8%</td>\n",
       "    </tr>\n",
       "    <tr>\n",
       "      <th>15</th>\n",
       "      <td>Percent Daily Values are based on - 2000 calories</td>\n",
       "    </tr>\n",
       "    <tr>\n",
       "      <th>16</th>\n",
       "      <td>diet Your Daily value may be higher or lower</td>\n",
       "    </tr>\n",
       "    <tr>\n",
       "      <th>17</th>\n",
       "      <td>depending on your calorie ne</td>\n",
       "    </tr>\n",
       "    <tr>\n",
       "      <th>18</th>\n",
       "      <td></td>\n",
       "    </tr>\n",
       "    <tr>\n",
       "      <th>19</th>\n",
       "      <td></td>\n",
       "    </tr>\n",
       "    <tr>\n",
       "      <th>20</th>\n",
       "      <td></td>\n",
       "    </tr>\n",
       "    <tr>\n",
       "      <th>21</th>\n",
       "      <td></td>\n",
       "    </tr>\n",
       "    <tr>\n",
       "      <th>22</th>\n",
       "      <td></td>\n",
       "    </tr>\n",
       "    <tr>\n",
       "      <th>23</th>\n",
       "      <td></td>\n",
       "    </tr>\n",
       "    <tr>\n",
       "      <th>24</th>\n",
       "      <td></td>\n",
       "    </tr>\n",
       "    <tr>\n",
       "      <th>25</th>\n",
       "      <td>Aug byllg Syballuc bysylarost</td>\n",
       "    </tr>\n",
       "    <tr>\n",
       "      <th>26</th>\n",
       "      <td>Uno egg</td>\n",
       "    </tr>\n",
       "    <tr>\n",
       "      <th>27</th>\n",
       "      <td></td>\n",
       "    </tr>\n",
       "    <tr>\n",
       "      <th>28</th>\n",
       "      <td>KEEP AWAY FROM HEAT , HUMIDITY</td>\n",
       "    </tr>\n",
       "    <tr>\n",
       "      <th>29</th>\n",
       "      <td>AND SUNLIGHT</td>\n",
       "    </tr>\n",
       "    <tr>\n",
       "      <th>30</th>\n",
       "      <td></td>\n",
       "    </tr>\n",
       "    <tr>\n",
       "      <th>31</th>\n",
       "      <td>MIAN</td>\n",
       "    </tr>\n",
       "    <tr>\n",
       "      <th>32</th>\n",
       "      <td></td>\n",
       "    </tr>\n",
       "    <tr>\n",
       "      <th>33</th>\n",
       "      <td>Mn 7260</td>\n",
       "    </tr>\n",
       "  </tbody>\n",
       "</table>\n",
       "</div>"
      ],
      "text/plain": [
       "                                                    0\n",
       "0                                     Nutrition Facts\n",
       "1                      A Amount Per Serving 1oz (289)\n",
       "2                A Galories 175 Calories From Fat 125\n",
       "3                                   Total Fat 14g 22%\n",
       "4                              Saturated Fat 2.19 11%\n",
       "5                                     Trans Fat Og 0%\n",
       "6                                  Cholesterol Omg 0%\n",
       "7                                      Sodium 23mg 1%\n",
       "8                            Total Carbohydrate 5g 5%\n",
       "9                              Dietary Fiber 2.79 119\n",
       "10                                     Protein 7g 14%\n",
       "11                                         Calcium 0%\n",
       "12                                            Iron 3%\n",
       "13                        VitaminA = 0% Vitamin€ = 2%\n",
       "14                                 Calcium 6% Iron 8%\n",
       "15  Percent Daily Values are based on - 2000 calories\n",
       "16       diet Your Daily value may be higher or lower\n",
       "17                       depending on your calorie ne\n",
       "18                                                   \n",
       "19                                                   \n",
       "20                                                   \n",
       "21                                                   \n",
       "22                                                   \n",
       "23                                                   \n",
       "24                                                   \n",
       "25                      Aug byllg Syballuc bysylarost\n",
       "26                                            Uno egg\n",
       "27                                                   \n",
       "28                     KEEP AWAY FROM HEAT , HUMIDITY\n",
       "29                                       AND SUNLIGHT\n",
       "30                                                   \n",
       "31                                               MIAN\n",
       "32                                                   \n",
       "33                                            Mn 7260"
      ]
     },
     "execution_count": 105,
     "metadata": {},
     "output_type": "execute_result"
    }
   ],
   "source": [
    "df_test"
   ]
  },
  {
   "cell_type": "code",
   "execution_count": 110,
   "metadata": {},
   "outputs": [],
   "source": [
    "df_test = df_test.rename(columns={0:'data'})"
   ]
  },
  {
   "cell_type": "code",
   "execution_count": 121,
   "metadata": {},
   "outputs": [
    {
     "data": {
      "text/html": [
       "<div>\n",
       "<style scoped>\n",
       "    .dataframe tbody tr th:only-of-type {\n",
       "        vertical-align: middle;\n",
       "    }\n",
       "\n",
       "    .dataframe tbody tr th {\n",
       "        vertical-align: top;\n",
       "    }\n",
       "\n",
       "    .dataframe thead th {\n",
       "        text-align: right;\n",
       "    }\n",
       "</style>\n",
       "<table border=\"1\" class=\"dataframe\">\n",
       "  <thead>\n",
       "    <tr style=\"text-align: right;\">\n",
       "      <th></th>\n",
       "      <th>data</th>\n",
       "    </tr>\n",
       "  </thead>\n",
       "  <tbody>\n",
       "    <tr>\n",
       "      <th>1</th>\n",
       "      <td>A Amount Per Serving 1oz (289)</td>\n",
       "    </tr>\n",
       "  </tbody>\n",
       "</table>\n",
       "</div>"
      ],
      "text/plain": [
       "                             data\n",
       "1  A Amount Per Serving 1oz (289)"
      ]
     },
     "execution_count": 121,
     "metadata": {},
     "output_type": "execute_result"
    }
   ],
   "source": [
    "df_test[df_test['data'].str.contains('Serving')]"
   ]
  },
  {
   "cell_type": "code",
   "execution_count": 128,
   "metadata": {},
   "outputs": [
    {
     "data": {
      "text/html": [
       "<div>\n",
       "<style scoped>\n",
       "    .dataframe tbody tr th:only-of-type {\n",
       "        vertical-align: middle;\n",
       "    }\n",
       "\n",
       "    .dataframe tbody tr th {\n",
       "        vertical-align: top;\n",
       "    }\n",
       "\n",
       "    .dataframe thead th {\n",
       "        text-align: right;\n",
       "    }\n",
       "</style>\n",
       "<table border=\"1\" class=\"dataframe\">\n",
       "  <thead>\n",
       "    <tr style=\"text-align: right;\">\n",
       "      <th></th>\n",
       "      <th>0</th>\n",
       "    </tr>\n",
       "  </thead>\n",
       "  <tbody>\n",
       "    <tr>\n",
       "      <th>0</th>\n",
       "      <td>NaN</td>\n",
       "    </tr>\n",
       "    <tr>\n",
       "      <th>1</th>\n",
       "      <td>1oz</td>\n",
       "    </tr>\n",
       "    <tr>\n",
       "      <th>2</th>\n",
       "      <td>NaN</td>\n",
       "    </tr>\n",
       "    <tr>\n",
       "      <th>3</th>\n",
       "      <td>14g</td>\n",
       "    </tr>\n",
       "    <tr>\n",
       "      <th>4</th>\n",
       "      <td>NaN</td>\n",
       "    </tr>\n",
       "    <tr>\n",
       "      <th>5</th>\n",
       "      <td>NaN</td>\n",
       "    </tr>\n",
       "    <tr>\n",
       "      <th>6</th>\n",
       "      <td>NaN</td>\n",
       "    </tr>\n",
       "    <tr>\n",
       "      <th>7</th>\n",
       "      <td>23mg</td>\n",
       "    </tr>\n",
       "    <tr>\n",
       "      <th>8</th>\n",
       "      <td>5g</td>\n",
       "    </tr>\n",
       "    <tr>\n",
       "      <th>9</th>\n",
       "      <td>NaN</td>\n",
       "    </tr>\n",
       "    <tr>\n",
       "      <th>10</th>\n",
       "      <td>7g</td>\n",
       "    </tr>\n",
       "    <tr>\n",
       "      <th>11</th>\n",
       "      <td>NaN</td>\n",
       "    </tr>\n",
       "    <tr>\n",
       "      <th>12</th>\n",
       "      <td>NaN</td>\n",
       "    </tr>\n",
       "    <tr>\n",
       "      <th>13</th>\n",
       "      <td>NaN</td>\n",
       "    </tr>\n",
       "    <tr>\n",
       "      <th>14</th>\n",
       "      <td>NaN</td>\n",
       "    </tr>\n",
       "    <tr>\n",
       "      <th>15</th>\n",
       "      <td>NaN</td>\n",
       "    </tr>\n",
       "    <tr>\n",
       "      <th>16</th>\n",
       "      <td>NaN</td>\n",
       "    </tr>\n",
       "    <tr>\n",
       "      <th>17</th>\n",
       "      <td>NaN</td>\n",
       "    </tr>\n",
       "    <tr>\n",
       "      <th>18</th>\n",
       "      <td>NaN</td>\n",
       "    </tr>\n",
       "    <tr>\n",
       "      <th>19</th>\n",
       "      <td>NaN</td>\n",
       "    </tr>\n",
       "    <tr>\n",
       "      <th>20</th>\n",
       "      <td>NaN</td>\n",
       "    </tr>\n",
       "    <tr>\n",
       "      <th>21</th>\n",
       "      <td>NaN</td>\n",
       "    </tr>\n",
       "    <tr>\n",
       "      <th>22</th>\n",
       "      <td>NaN</td>\n",
       "    </tr>\n",
       "    <tr>\n",
       "      <th>23</th>\n",
       "      <td>NaN</td>\n",
       "    </tr>\n",
       "    <tr>\n",
       "      <th>24</th>\n",
       "      <td>NaN</td>\n",
       "    </tr>\n",
       "    <tr>\n",
       "      <th>25</th>\n",
       "      <td>NaN</td>\n",
       "    </tr>\n",
       "    <tr>\n",
       "      <th>26</th>\n",
       "      <td>NaN</td>\n",
       "    </tr>\n",
       "    <tr>\n",
       "      <th>27</th>\n",
       "      <td>NaN</td>\n",
       "    </tr>\n",
       "    <tr>\n",
       "      <th>28</th>\n",
       "      <td>NaN</td>\n",
       "    </tr>\n",
       "    <tr>\n",
       "      <th>29</th>\n",
       "      <td>NaN</td>\n",
       "    </tr>\n",
       "    <tr>\n",
       "      <th>30</th>\n",
       "      <td>NaN</td>\n",
       "    </tr>\n",
       "    <tr>\n",
       "      <th>31</th>\n",
       "      <td>NaN</td>\n",
       "    </tr>\n",
       "    <tr>\n",
       "      <th>32</th>\n",
       "      <td>NaN</td>\n",
       "    </tr>\n",
       "    <tr>\n",
       "      <th>33</th>\n",
       "      <td>NaN</td>\n",
       "    </tr>\n",
       "  </tbody>\n",
       "</table>\n",
       "</div>"
      ],
      "text/plain": [
       "       0\n",
       "0    NaN\n",
       "1    1oz\n",
       "2    NaN\n",
       "3    14g\n",
       "4    NaN\n",
       "5    NaN\n",
       "6    NaN\n",
       "7   23mg\n",
       "8     5g\n",
       "9    NaN\n",
       "10    7g\n",
       "11   NaN\n",
       "12   NaN\n",
       "13   NaN\n",
       "14   NaN\n",
       "15   NaN\n",
       "16   NaN\n",
       "17   NaN\n",
       "18   NaN\n",
       "19   NaN\n",
       "20   NaN\n",
       "21   NaN\n",
       "22   NaN\n",
       "23   NaN\n",
       "24   NaN\n",
       "25   NaN\n",
       "26   NaN\n",
       "27   NaN\n",
       "28   NaN\n",
       "29   NaN\n",
       "30   NaN\n",
       "31   NaN\n",
       "32   NaN\n",
       "33   NaN"
      ]
     },
     "execution_count": 128,
     "metadata": {},
     "output_type": "execute_result"
    }
   ],
   "source": [
    "df_test['data'].str.extract('(\\d+?[Aa-zZ]+)')"
   ]
  },
  {
   "cell_type": "code",
   "execution_count": null,
   "metadata": {},
   "outputs": [],
   "source": [
    "df_cl['amount_per_serving'] = "
   ]
  },
  {
   "cell_type": "code",
   "execution_count": 59,
   "metadata": {},
   "outputs": [
    {
     "ename": "SyntaxError",
     "evalue": "invalid syntax (<ipython-input-59-ad01468a4d6e>, line 1)",
     "output_type": "error",
     "traceback": [
      "\u001b[1;36m  File \u001b[1;32m\"<ipython-input-59-ad01468a4d6e>\"\u001b[1;36m, line \u001b[1;32m1\u001b[0m\n\u001b[1;33m    df_c['Nutrition_Facts'] = df_c.map(lambda x: if \"Nutrition Facts\" in x return 'True' else 'False')\u001b[0m\n\u001b[1;37m                                                  ^\u001b[0m\n\u001b[1;31mSyntaxError\u001b[0m\u001b[1;31m:\u001b[0m invalid syntax\n"
     ]
    }
   ],
   "source": [
    "df_c['Nutrition_Facts'] = df_c.map(lambda x: if \"Nutrition Facts\" in x return 'True' else 'False')"
   ]
  },
  {
   "cell_type": "code",
   "execution_count": null,
   "metadata": {},
   "outputs": [],
   "source": []
  },
  {
   "cell_type": "code",
   "execution_count": null,
   "metadata": {},
   "outputs": [],
   "source": []
  },
  {
   "cell_type": "code",
   "execution_count": 104,
   "metadata": {},
   "outputs": [
    {
     "data": {
      "text/plain": [
       "{'n': 2, 'b': 3}"
      ]
     },
     "execution_count": 104,
     "metadata": {},
     "output_type": "execute_result"
    }
   ],
   "source": [
    "{k:v for (k,v) in zip(['n','b'],[2,3])}"
   ]
  },
  {
   "cell_type": "code",
   "execution_count": null,
   "metadata": {},
   "outputs": [],
   "source": [
    "pd.DataFrame({'':})"
   ]
  },
  {
   "cell_type": "code",
   "execution_count": null,
   "metadata": {},
   "outputs": [],
   "source": [
    "re.findall(r'(Irond+)')"
   ]
  },
  {
   "cell_type": "code",
   "execution_count": 53,
   "metadata": {
    "scrolled": true
   },
   "outputs": [
    {
     "name": "stdout",
     "output_type": "stream",
     "text": [
      "label322.jpg\n",
      "Proccessing 322.jpg\n",
      "/n/sLABEL Nutrition Facts\n",
      "A Amount Per Serving 1oz (289)\n",
      "A Galories 175 Calories From Fat 125\n",
      "Total Fat 14g 22%\n",
      "Saturated Fat 2.19 11%\n",
      "Trans Fat Og 0%\n",
      "Cholesterol Omg 0%\n",
      "Sodium 23mg 1%\n",
      "Total Carbohydrate 5g 5%\n",
      "Dietary Fiber 2.79 119\n",
      "Protein 7g 14%\n",
      "Calcium 0%\n",
      "Iron 3%\n",
      "VitaminA = 0% Vitamin€ = 2%\n",
      "Calcium 6% Iron 8%\n",
      "Percent Daily Values are based on - 2000 calories\n",
      "diet Your Daily value may be higher or lower\n",
      "depending on your calorie ne\n",
      "\n",
      " \n",
      "\n",
      " \n",
      "\n",
      " \n",
      "\n",
      "Aug byllg Syballuc bysylarost\n",
      "Uno egg\n",
      "\n",
      "KEEP AWAY FROM HEAT , HUMIDITY\n",
      "AND SUNLIGHT\n",
      "\n",
      "MIAN\n",
      "\n",
      "Mn 7260\n"
     ]
    }
   ],
   "source": [
    "n = label_Recognizer('pd_test')"
   ]
  },
  {
   "cell_type": "code",
   "execution_count": 129,
   "metadata": {
    "scrolled": true
   },
   "outputs": [
    {
     "data": {
      "text/plain": [
       "['Nutrition Facts\\nA Amount Per Serving 1oz (289)\\nA Galories 175 Calories From Fat 125\\nTotal Fat 14g 22%\\nSaturated Fat 2.19 11%\\nTrans Fat Og 0%\\nCholesterol Omg 0%\\nSodium 23mg 1%\\nTotal Carbohydrate 5g 5%\\nDietary Fiber 2.79 119\\nProtein 7g 14%\\nCalcium 0%\\nIron 3%\\nVitaminA = 0% Vitamin€ = 2%\\nCalcium 6% Iron 8%\\nPercent Daily Values are based on - 2000 calories\\ndiet Your Daily value may be higher or lower\\ndepending on your calorie ne\\n\\n \\n\\n \\n\\n \\n\\nAug byllg Syballuc bysylarost\\nUno egg\\n\\nKEEP AWAY FROM HEAT , HUMIDITY\\nAND SUNLIGHT\\n\\nMIAN\\n\\nMn 7260']"
      ]
     },
     "execution_count": 129,
     "metadata": {},
     "output_type": "execute_result"
    }
   ],
   "source": [
    "n"
   ]
  },
  {
   "cell_type": "code",
   "execution_count": 157,
   "metadata": {},
   "outputs": [],
   "source": [
    "import re\n",
    "from Levenshtein import distance\n",
    "from keywords import Keywords\n",
    "from label import Label\n",
    "import numpy as np\n",
    "from munkres import Munkres\n",
    "\n",
    "pairs = []\n",
    "\n",
    "_digits = re.compile('\\d')\n",
    "_alpha = re.compile('[a-zA-Z]')\n",
    "\n",
    "\n",
    "def contains_digits(s):\n",
    "    return bool(_digits.search(s))\n",
    "\n",
    "\n",
    "def contains_alpha(s):\n",
    "    return bool(_alpha.search(s))\n",
    "def make_pairs(raw_text):\n",
    "    \"\"\"\n",
    "    Consume raw OCR text, turning each line into a pair of string values.\n",
    "    \"\"\"\n",
    "    lines = raw_text.split('\\n')\n",
    "    # Remove empty lines\n",
    "    lines = filter(None, lines)\n",
    "    lines = filter(lambda x: x != ' ', lines)\n",
    "    pairs = []\n",
    "    i = 0\n",
    "    for line in lines:\n",
    "        def check_line(line):\n",
    "            return len(line) > 5\\\n",
    "                and contains_digits(line)\\\n",
    "                and contains_alpha(line)\n",
    "\n",
    "        if not check_line(line):\n",
    "            continue\n",
    "\n",
    "        alpha = 0\n",
    "        lastAlpha = False\n",
    "        for k in range(len(line)):\n",
    "            if(contains_alpha(line[k])):\n",
    "                alpha += 1\n",
    "                lastAlpha = True\n",
    "            if(contains_digits(line[k]) and (alpha > 3)):\n",
    "                if(lastAlpha):\n",
    "                    line = line[0:(k - 1)] + ' ' + line[k:(len(line) - 1)]\n",
    "                break\n",
    "\n",
    "        words = line.strip().split(' ')\n",
    "        key = words[0]\n",
    "        words = words[1:]\n",
    "        for j, word in enumerate(words):\n",
    "            if not contains_digits(word):\n",
    "                key += ' ' + word\n",
    "            else:\n",
    "                words = words[j:]\n",
    "                break\n",
    "\n",
    "        pairs.append((key, (' ').join(words), i))\n",
    "        i += 1\n",
    "\n",
    "    return pairs"
   ]
  },
  {
   "cell_type": "code",
   "execution_count": 158,
   "metadata": {},
   "outputs": [],
   "source": [
    "a = n[0]"
   ]
  },
  {
   "cell_type": "code",
   "execution_count": 159,
   "metadata": {
    "scrolled": false
   },
   "outputs": [],
   "source": [
    "pairs = make_pairs(a)"
   ]
  },
  {
   "cell_type": "code",
   "execution_count": 165,
   "metadata": {},
   "outputs": [
    {
     "data": {
      "text/plain": [
       "[('A Amount Per Serving', '1oz (289', 0),\n",
       " ('A Galories', '175 Calories From Fat 12', 1),\n",
       " ('Total Fat', '14g 22', 2),\n",
       " ('Saturated Fat', '2.19 11', 3),\n",
       " ('Trans Fat Og', '0', 4),\n",
       " ('Cholesterol Omg', '0', 5),\n",
       " ('Sodium', '23mg 1', 6),\n",
       " ('Total Carbohydrate', '5g 5', 7),\n",
       " ('Dietary Fiber', '2.79 11', 8),\n",
       " ('Protein', '7g 14', 9),\n",
       " ('Calcium', '0', 10),\n",
       " ('Iron', '3', 11),\n",
       " ('VitaminA =', '0% Vitamin€ = 2', 12),\n",
       " ('Calcium', '6% Iron 8', 13),\n",
       " ('Percent Daily Values are based on -', '2000 calorie', 14),\n",
       " ('Mn', '7260', 15)]"
      ]
     },
     "execution_count": 165,
     "metadata": {},
     "output_type": "execute_result"
    }
   ],
   "source": [
    "pairs"
   ]
  },
  {
   "cell_type": "code",
   "execution_count": 193,
   "metadata": {},
   "outputs": [],
   "source": [
    "def match_bipartite(pairs, keywords):\n",
    "    \"\"\"\n",
    "    Uses the Munkres bipartite matching algorithm to find the best\n",
    "    matching between the OCR pairs and label keywords.\n",
    "\n",
    "    Returns (keyword, OCR value, OCR line)\n",
    "    \"\"\"\n",
    "    pairs = list(pairs)\n",
    "    keywords = list(keywords)\n",
    "\n",
    "    distances = np.zeros((len(keywords), len(pairs)), dtype=np.int32).tolist()\n",
    "    for i, key in enumerate(keywords):\n",
    "        for j, pair in enumerate(pairs):\n",
    "            distances[i][j] = distance(pair[0], key)\n",
    "\n",
    "    keywords_ordered = Keywords.ordered\n",
    "    start_line = 3\n",
    "    for i, key in enumerate(keywords):\n",
    "        for j, pair in enumerate(pairs):\n",
    "            line = pair[2] - start_line\n",
    "            expected_line = keywords_ordered.index(key)\n",
    "            tol = (int(0.2 * expected_line) + 2)\n",
    "            diff = np.abs((expected_line - line)) - tol\n",
    "            diff = max(diff, 0)\n",
    "            diff = np.log(diff + 1)\n",
    "            print(diff, key, pair, expected_line)\n",
    "            distances[i][j] += diff\n",
    "\n",
    "    m = Munkres()\n",
    "    # Copy distance matrix to preserve distances\n",
    "    indices = m.compute(distances.copy())\n",
    "\n",
    "    key_pairs = []\n",
    "    # (i, j), for optimal mapping from keywords[i] -> ocr_tuples[j].\n",
    "    for i, j in indices:\n",
    "        keyword = keywords[i]\n",
    "        # Skip if half of the characters are wrong.\n",
    "        if distances[i][j] <= len(keyword)/2:\n",
    "            key_pairs.append((keyword, pairs[j][1], pairs[j][2]))\n",
    "\n",
    "    return key_pairs\n"
   ]
  },
  {
   "cell_type": "code",
   "execution_count": null,
   "metadata": {},
   "outputs": [],
   "source": []
  },
  {
   "cell_type": "code",
   "execution_count": null,
   "metadata": {},
   "outputs": [],
   "source": []
  },
  {
   "cell_type": "code",
   "execution_count": 195,
   "metadata": {
    "scrolled": true
   },
   "outputs": [
    {
     "ename": "ValueError",
     "evalue": "tuple.index(x): x not in tuple",
     "output_type": "error",
     "traceback": [
      "\u001b[1;31m---------------------------------------------------------------------------\u001b[0m",
      "\u001b[1;31mValueError\u001b[0m                                Traceback (most recent call last)",
      "\u001b[1;32m<ipython-input-195-a83c8931316f>\u001b[0m in \u001b[0;36m<module>\u001b[1;34m\u001b[0m\n\u001b[1;32m----> 1\u001b[1;33m \u001b[0mmatch_bipartite\u001b[0m\u001b[1;33m(\u001b[0m\u001b[0mpairs\u001b[0m\u001b[1;33m,\u001b[0m \u001b[0mlabel_keywords\u001b[0m\u001b[1;33m)\u001b[0m\u001b[1;33m\u001b[0m\u001b[1;33m\u001b[0m\u001b[0m\n\u001b[0m",
      "\u001b[1;32m<ipython-input-193-e88e5acbef3d>\u001b[0m in \u001b[0;36mmatch_bipartite\u001b[1;34m(pairs, keywords)\u001b[0m\n\u001b[0;32m     19\u001b[0m         \u001b[1;32mfor\u001b[0m \u001b[0mj\u001b[0m\u001b[1;33m,\u001b[0m \u001b[0mpair\u001b[0m \u001b[1;32min\u001b[0m \u001b[0menumerate\u001b[0m\u001b[1;33m(\u001b[0m\u001b[0mpairs\u001b[0m\u001b[1;33m)\u001b[0m\u001b[1;33m:\u001b[0m\u001b[1;33m\u001b[0m\u001b[1;33m\u001b[0m\u001b[0m\n\u001b[0;32m     20\u001b[0m             \u001b[0mline\u001b[0m \u001b[1;33m=\u001b[0m \u001b[0mpair\u001b[0m\u001b[1;33m[\u001b[0m\u001b[1;36m2\u001b[0m\u001b[1;33m]\u001b[0m \u001b[1;33m-\u001b[0m \u001b[0mstart_line\u001b[0m\u001b[1;33m\u001b[0m\u001b[1;33m\u001b[0m\u001b[0m\n\u001b[1;32m---> 21\u001b[1;33m             \u001b[0mexpected_line\u001b[0m \u001b[1;33m=\u001b[0m \u001b[0mkeywords_ordered\u001b[0m\u001b[1;33m.\u001b[0m\u001b[0mindex\u001b[0m\u001b[1;33m(\u001b[0m\u001b[0mkey\u001b[0m\u001b[1;33m)\u001b[0m\u001b[1;33m\u001b[0m\u001b[1;33m\u001b[0m\u001b[0m\n\u001b[0m\u001b[0;32m     22\u001b[0m             \u001b[0mtol\u001b[0m \u001b[1;33m=\u001b[0m \u001b[1;33m(\u001b[0m\u001b[0mint\u001b[0m\u001b[1;33m(\u001b[0m\u001b[1;36m0.2\u001b[0m \u001b[1;33m*\u001b[0m \u001b[0mexpected_line\u001b[0m\u001b[1;33m)\u001b[0m \u001b[1;33m+\u001b[0m \u001b[1;36m2\u001b[0m\u001b[1;33m)\u001b[0m\u001b[1;33m\u001b[0m\u001b[1;33m\u001b[0m\u001b[0m\n\u001b[0;32m     23\u001b[0m             \u001b[0mdiff\u001b[0m \u001b[1;33m=\u001b[0m \u001b[0mnp\u001b[0m\u001b[1;33m.\u001b[0m\u001b[0mabs\u001b[0m\u001b[1;33m(\u001b[0m\u001b[1;33m(\u001b[0m\u001b[0mexpected_line\u001b[0m \u001b[1;33m-\u001b[0m \u001b[0mline\u001b[0m\u001b[1;33m)\u001b[0m\u001b[1;33m)\u001b[0m \u001b[1;33m-\u001b[0m \u001b[0mtol\u001b[0m\u001b[1;33m\u001b[0m\u001b[1;33m\u001b[0m\u001b[0m\n",
      "\u001b[1;31mValueError\u001b[0m: tuple.index(x): x not in tuple"
     ]
    }
   ],
   "source": [
    "match_bipartite(pairs, label_keywords)"
   ]
  },
  {
   "cell_type": "code",
   "execution_count": 175,
   "metadata": {},
   "outputs": [],
   "source": [
    "def keyword_pairs(pairs):\n",
    "    \"\"\"\n",
    "    Take a list of pairs and return a list of pairs,\n",
    "    with first values having the appropriate keyword.\n",
    "    (keyword, stuff)\n",
    "    \"\"\"\n",
    "    i = 1\n",
    "    newKeys = []\n",
    "    for k in pairs:\n",
    "        newKeys.append((k[0], k[1], i))\n",
    "        i += 1\n",
    "    #print(pairs)\n",
    "    #print(newKeys)\n",
    "    keywords = Keywords.label.values()\n",
    "    key_pairs = match_bipartite(newKeys, keywords)\n",
    "    print(key_pairs)\n",
    "    print('\\n\\n')\n",
    "    remove_indices = check_keyword_ordering(key_pairs)\n",
    "    for ri in remove_indices:\n",
    "        for nk in newKeys:\n",
    "            if nk[2] is ri:\n",
    "                newKeys.remove(nk)\n",
    "\n",
    "    if len(remove_indices) > 0:\n",
    "        key_pairs = match_bipartite(newKeys, keywords)\n",
    "\n",
    "    return key_pairs\n"
   ]
  },
  {
   "cell_type": "code",
   "execution_count": 176,
   "metadata": {},
   "outputs": [
    {
     "name": "stdout",
     "output_type": "stream",
     "text": [
      "[('Calories', '175 Calories From Fat 12', 2), ('Total Fat', '14g 22', 3), ('Saturated Fat', '2.19 11', 4), ('Trans Fat', '0', 5), ('Cholesterol', '0', 6), ('Sodium', '23mg 1', 7), ('Total Carbohydrate', '5g 5', 8), ('Dietary Fiber', '2.79 11', 9), ('Protein', '7g 14', 10)]\n",
      "\n",
      "\n",
      "\n"
     ]
    },
    {
     "ename": "NameError",
     "evalue": "name 'check_keyword_ordering' is not defined",
     "output_type": "error",
     "traceback": [
      "\u001b[1;31m---------------------------------------------------------------------------\u001b[0m",
      "\u001b[1;31mNameError\u001b[0m                                 Traceback (most recent call last)",
      "\u001b[1;32m<ipython-input-176-189a590dbd55>\u001b[0m in \u001b[0;36m<module>\u001b[1;34m\u001b[0m\n\u001b[1;32m----> 1\u001b[1;33m \u001b[0mkeyword_pairs\u001b[0m\u001b[1;33m(\u001b[0m\u001b[0mpairs\u001b[0m\u001b[1;33m)\u001b[0m\u001b[1;33m\u001b[0m\u001b[1;33m\u001b[0m\u001b[0m\n\u001b[0m",
      "\u001b[1;32m<ipython-input-175-da97fd7acc49>\u001b[0m in \u001b[0;36mkeyword_pairs\u001b[1;34m(pairs)\u001b[0m\n\u001b[0;32m     16\u001b[0m     \u001b[0mprint\u001b[0m\u001b[1;33m(\u001b[0m\u001b[0mkey_pairs\u001b[0m\u001b[1;33m)\u001b[0m\u001b[1;33m\u001b[0m\u001b[1;33m\u001b[0m\u001b[0m\n\u001b[0;32m     17\u001b[0m     \u001b[0mprint\u001b[0m\u001b[1;33m(\u001b[0m\u001b[1;34m'\\n\\n'\u001b[0m\u001b[1;33m)\u001b[0m\u001b[1;33m\u001b[0m\u001b[1;33m\u001b[0m\u001b[0m\n\u001b[1;32m---> 18\u001b[1;33m     \u001b[0mremove_indices\u001b[0m \u001b[1;33m=\u001b[0m \u001b[0mcheck_keyword_ordering\u001b[0m\u001b[1;33m(\u001b[0m\u001b[0mkey_pairs\u001b[0m\u001b[1;33m)\u001b[0m\u001b[1;33m\u001b[0m\u001b[1;33m\u001b[0m\u001b[0m\n\u001b[0m\u001b[0;32m     19\u001b[0m     \u001b[1;32mfor\u001b[0m \u001b[0mri\u001b[0m \u001b[1;32min\u001b[0m \u001b[0mremove_indices\u001b[0m\u001b[1;33m:\u001b[0m\u001b[1;33m\u001b[0m\u001b[1;33m\u001b[0m\u001b[0m\n\u001b[0;32m     20\u001b[0m         \u001b[1;32mfor\u001b[0m \u001b[0mnk\u001b[0m \u001b[1;32min\u001b[0m \u001b[0mnewKeys\u001b[0m\u001b[1;33m:\u001b[0m\u001b[1;33m\u001b[0m\u001b[1;33m\u001b[0m\u001b[0m\n",
      "\u001b[1;31mNameError\u001b[0m: name 'check_keyword_ordering' is not defined"
     ]
    }
   ],
   "source": [
    "keyword_pairs(pairs)"
   ]
  },
  {
   "cell_type": "code",
   "execution_count": 152,
   "metadata": {},
   "outputs": [],
   "source": [
    "import post_process"
   ]
  },
  {
   "cell_type": "code",
   "execution_count": 202,
   "metadata": {},
   "outputs": [
    {
     "data": {
      "text/plain": [
       "('A Amount Per Serving', '1oz (289', 0)"
      ]
     },
     "execution_count": 202,
     "metadata": {},
     "output_type": "execute_result"
    }
   ],
   "source": []
  },
  {
   "cell_type": "code",
   "execution_count": 203,
   "metadata": {
    "scrolled": true
   },
   "outputs": [
    {
     "name": "stdout",
     "output_type": "stream",
     "text": [
      "[('A Amount Per Serving', '1oz (289', 0), ('A Galories', '175 Calories From Fat 12', 1), ('Total Fat', '14g 22', 2), ('Saturated Fat', '2.19 11', 3), ('Trans Fat Og', '0', 4), ('Cholesterol Omg', '0', 5), ('Sodium', '23mg 1', 6), ('Total Carbohydrate', '5g 5', 7), ('Dietary Fiber', '2.79 11', 8), ('Protein', '7g 14', 9), ('Calcium', '0', 10), ('Iron', '3', 11), ('VitaminA =', '0% Vitamin€ = 2', 12), ('Calcium', '6% Iron 8', 13), ('Percent Daily Values are based on -', '2000 calorie', 14), ('Mn', '7260', 15)]\n",
      "\n",
      "\n",
      "\n",
      "[('A Galories', '175 Calories From Fat 12', 1), ('Total Fat', '14g 22', 2), ('Saturated Fat', '2.19 11', 3), ('Trans Fat Og', '0', 4), ('Cholesterol Omg', '0', 5), ('Sodium', '23mg 1', 6), ('Total Carbohydrate', '5g 5', 7), ('Dietary Fiber', '2.79 11', 8), ('Protein', '7g 14', 9), ('Calcium', '0', 10), ('Calcium', '6% Iron 8', 13)]\n",
      "\n",
      "\n",
      "\n",
      "[('Sugars', '175 Calories From Fat 12', 1), ('Total Fat', '14g 22', 2), ('Saturated Fat', '2.19 11', 3), ('Trans Fat Og', '0', 4), ('Cholesterol Omg', '0', 5), ('Sodium', '23mg 1', 6), ('Total Carbohydrate', '5g 5', 7), ('Dietary Fiber', '2.79 11', 8), ('Protein', '7g 14', 9), ('Calcium', '0', 10), ('Calcium', '6% Iron 8', 13)]\n",
      "\n",
      "\n",
      "\n",
      "[('Calories', '0', 10), ('Total Fat', '14g 22', 2), ('Saturated Fat', '2.19 11', 3), ('Trans Fat', '0', 4), ('Cholesterol', '0', 5), ('Sodium', '23mg 1', 6), ('Total Carbohydrate', '5g 5', 7), ('Dietary Fiber', '2.79 11', 8), ('Sugars', '175 Calories From Fat 12', 1), ('Protein', '7g 14', 9)]\n",
      "\n",
      "\n",
      "\n",
      "[('Calories', '0', 10), ('Total Fat', '14g 22', 2), ('Saturated Fat', '2.19 11', 3), ('Trans Fat', '0', 4), ('Cholesterol', '0', 5), ('Sodium', '23mg 1', 6), ('Total Carbohydrate', '5g 5', 7), ('Dietary Fiber', '2.79 11', 8), ('Sugars', '175 Calories From Fat 12', 1), ('Protein', '7g 14', 9)]\n",
      "\n",
      "\n",
      "\n"
     ]
    },
    {
     "data": {
      "text/plain": [
       "{'Calories': '0',\n",
       " 'Total Fat': '14',\n",
       " 'Saturated Fat': '2.1',\n",
       " 'Trans Fat': '0',\n",
       " 'Cholesterol': '0',\n",
       " 'Sodium': '23',\n",
       " 'Total Carbohydrate': '5',\n",
       " 'Dietary Fiber': '2.7',\n",
       " 'Sugars': '175',\n",
       " 'Protein': '7'}"
      ]
     },
     "execution_count": 203,
     "metadata": {},
     "output_type": "execute_result"
    }
   ],
   "source": [
    "post_process.post_process(a)"
   ]
  },
  {
   "cell_type": "code",
   "execution_count": 81,
   "metadata": {
    "scrolled": false
   },
   "outputs": [
    {
     "data": {
      "text/plain": [
       "'14'"
      ]
     },
     "execution_count": 81,
     "metadata": {},
     "output_type": "execute_result"
    }
   ],
   "source": [
    " 'Total Fat 14g 22%'[10:12]"
   ]
  },
  {
   "cell_type": "code",
   "execution_count": null,
   "metadata": {},
   "outputs": [],
   "source": []
  },
  {
   "cell_type": "code",
   "execution_count": 74,
   "metadata": {},
   "outputs": [
    {
     "data": {
      "text/plain": [
       "['Nutrition Facts',\n",
       " 'A Amount Per Serving 1oz (289)',\n",
       " 'A Galories 175 Calories From Fat 125',\n",
       " 'Total Fat 14g 22%',\n",
       " 'Saturated Fat 2.19 11%',\n",
       " 'Trans Fat Og 0%',\n",
       " 'Cholesterol Omg 0%',\n",
       " 'Sodium 23mg 1%',\n",
       " 'Total Carbohydrate 5g 5%',\n",
       " 'Dietary Fiber 2.79 119',\n",
       " 'Protein 7g 14%',\n",
       " 'Calcium 0%',\n",
       " 'Iron 3%',\n",
       " 'VitaminA = 0% Vitamin€ = 2%',\n",
       " 'Calcium 6% Iron 8%',\n",
       " 'Percent Daily Values are based on - 2000 calories',\n",
       " 'diet Your Daily value may be higher or lower',\n",
       " 'depending on your calorie ne',\n",
       " '',\n",
       " ' ',\n",
       " '',\n",
       " ' ',\n",
       " '',\n",
       " ' ',\n",
       " '',\n",
       " 'Aug byllg Syballuc bysylarost',\n",
       " 'Uno egg',\n",
       " '',\n",
       " 'KEEP AWAY FROM HEAT , HUMIDITY',\n",
       " 'AND SUNLIGHT',\n",
       " '',\n",
       " 'MIAN',\n",
       " '',\n",
       " 'Mn 7260']"
      ]
     },
     "execution_count": 74,
     "metadata": {},
     "output_type": "execute_result"
    }
   ],
   "source": [
    "Trans_Fat = []\n",
    "cal = []\n",
    "vitA = []\n",
    "nut = {}\n",
    "for i in n[2].split('\\n'):\n",
    "    if 'Trans Fat' in i:\n",
    "        Trans_Fat.append(numb)\n",
    "    else:\n",
    "        Trans_Fat.append(0)\n",
    "        \n",
    "        \n",
    "        "
   ]
  },
  {
   "cell_type": "code",
   "execution_count": 71,
   "metadata": {},
   "outputs": [
    {
     "name": "stdout",
     "output_type": "stream",
     "text": [
      "True\n"
     ]
    }
   ],
   "source": [
    "if 'Nutrition (Facts|Information)' in n[2]  :\n",
    "    n[2].split('\\n')\n",
    "    \n",
    "    "
   ]
  },
  {
   "cell_type": "code",
   "execution_count": 15,
   "metadata": {
    "scrolled": false
   },
   "outputs": [
    {
     "name": "stdout",
     "output_type": "stream",
     "text": [
      "label152.jpg\n",
      "Proccessing 152.jpg\n",
      "/n/sLABEL \n",
      "Proccessing 386.jpg\n",
      "/n/sLABEL ition Facts|!INGREDIENTS:\n",
      "(28g / about 1\" cube) | PASTEURIZED PART-SKIM.\n",
      "out 8 MILK, CHEESE CULTURE,\n",
      "SALT, ENZYMES\n",
      "\n",
      " \n",
      "   \n",
      "  \n",
      " \n",
      "  \n",
      " \n",
      "\n",
      "     \n",
      " \n",
      "\n",
      " \n",
      "\n",
      "CONTAINS: MILK.\n",
      "\n",
      "DISTRIBUTED BY\n",
      "‘9% | CHURNY COMPANY, INC.\n",
      "WEYAUWEGA, WI54983 USA\n",
      "\n",
      "Glu eran ie) 0 oF Ug eh INS\n",
      "\n",
      "1) wh\n",
      "\n",
      "O27¢\n",
      "\n",
      " \n",
      "\n",
      "fae\n",
      "KEEP AERIERATD\n",
      "Proccessing 322.jpg\n",
      "/n/sLABEL Nutrition Facts\n",
      "A Amount Per Serving 1oz (289)\n",
      "A Galories 175 Calories From Fat 125\n",
      "Total Fat 14g 22%\n",
      "Saturated Fat 2.19 11%\n",
      "Trans Fat Og 0%\n",
      "Cholesterol Omg 0%\n",
      "Sodium 23mg 1%\n",
      "Total Carbohydrate 5g 5%\n",
      "Dietary Fiber 2.79 119\n",
      "Protein 7g 14%\n",
      "Calcium 0%\n",
      "Iron 3%\n",
      "VitaminA = 0% Vitamin€ = 2%\n",
      "Calcium 6% Iron 8%\n",
      "Percent Daily Values are based on - 2000 calories\n",
      "diet Your Daily value may be higher or lower\n",
      "depending on your calorie ne\n",
      "\n",
      " \n",
      "\n",
      " \n",
      "\n",
      " \n",
      "\n",
      "Aug byllg Syballuc bysylarost\n",
      "Uno egg\n",
      "\n",
      "KEEP AWAY FROM HEAT , HUMIDITY\n",
      "AND SUNLIGHT\n",
      "\n",
      "MIAN\n",
      "\n",
      "Mn 7260\n",
      "Proccessing 109.jpg\n",
      "/n/sLABEL \n"
     ]
    }
   ],
   "source": [
    "m = label_Recognizer('pd_test')"
   ]
  },
  {
   "cell_type": "code",
   "execution_count": 21,
   "metadata": {},
   "outputs": [
    {
     "data": {
      "text/plain": [
       "'Nutrition Facts\\nA Amount Per Serving 1oz (289)\\nA Galories 175 Calories From Fat 125\\nTotal Fat 14g 22%\\nSaturated Fat 2.19 11%\\nTrans Fat Og 0%\\nCholesterol Omg 0%\\nSodium 23mg 1%\\nTotal Carbohydrate 5g 5%\\nDietary Fiber 2.79 119\\nProtein 7g 14%\\nCalcium 0%\\nIron 3%\\nVitaminA = 0% Vitamin€ = 2%\\nCalcium 6% Iron 8%\\nPercent Daily Values are based on - 2000 calories\\ndiet Your Daily value may be higher or lower\\ndepending on your calorie ne\\n\\n \\n\\n \\n\\n \\n\\nAug byllg Syballuc bysylarost\\nUno egg\\n\\nKEEP AWAY FROM HEAT , HUMIDITY\\nAND SUNLIGHT\\n\\nMIAN\\n\\nMn 7260'"
      ]
     },
     "execution_count": 21,
     "metadata": {},
     "output_type": "execute_result"
    }
   ],
   "source": [
    "m[2]"
   ]
  },
  {
   "cell_type": "code",
   "execution_count": null,
   "metadata": {},
   "outputs": [],
   "source": []
  },
  {
   "cell_type": "markdown",
   "metadata": {},
   "source": [
    "### -------------------"
   ]
  },
  {
   "cell_type": "code",
   "execution_count": null,
   "metadata": {},
   "outputs": [],
   "source": []
  },
  {
   "cell_type": "markdown",
   "metadata": {},
   "source": [
    "### All_Labels:"
   ]
  },
  {
   "cell_type": "code",
   "execution_count": null,
   "metadata": {},
   "outputs": [],
   "source": [
    "\n",
    "#sys.path.append('/usr/local/lib/python2.7/site-packages')\n",
    "\n",
    "\n",
    "def writeFile(directory, fileName, content):\n",
    "    outFile = open('outputs/' + directory + '/' + fileName + '.txt', 'w')\n",
    "    outFile.write(content)\n",
    "    outFile.close()\n",
    "\n",
    "# Setup regex for stripping file names\n",
    "p = re.compile('[0-9]+.jpg')\n",
    "    \n",
    "# Use images in the labels directory\n",
    "for file in glob.glob('../labels/*.jpg'):\n",
    "    fileName = p.findall(file)[0]\n",
    "    print (\"Proccessing \" + fileName)\n",
    "    outFileName = fileName[0:len(fileName)-4]\n",
    "    # Get default text recognition \n",
    "    output = pytesseract.image_to_string(Image.open(file))\n",
    "    #print(output)\n",
    "\n",
    "    # Write default text output to 'outputs/default' directory\n",
    "    writeFile('default', outFileName, output)\n",
    "\n",
    "    # Open image as black and white\n",
    "    bw = cv2.imread(file, 0)\n",
    "\n",
    "    # Apply adaptive thresholding to images\n",
    "    thresh = cv2.adaptiveThreshold(bw, 255, cv2.ADAPTIVE_THRESH_GAUSSIAN_C,\\\n",
    "            cv2.THRESH_BINARY, 11, 2)\n",
    "\n",
    "    # Get text recognition from thresholded images\n",
    "    output = pytesseract.image_to_string(Image.fromarray(bw))\n",
    "    writeFile('bw', outFileName, output)\n",
    "\n",
    "    break"
   ]
  },
  {
   "cell_type": "code",
   "execution_count": null,
   "metadata": {},
   "outputs": [],
   "source": [
    "def label_Recognizer(path):\n",
    "    import re\n",
    "#    import end_to_end\n",
    "    import os\n",
    "    from matplotlib import pyplot \n",
    "    files = []\n",
    "    # r=root, d=directories, f = files\n",
    "    for  r,d, f in os.walk(path):\n",
    "        for file in f:\n",
    "            files.append(os.path.join(file))\n",
    "    p = re.compile('[0-9]+.jpg')\n",
    "    all_result = []\n",
    "    for f in files:\n",
    "        print(f)\n",
    "     #   out_dict = end_to_end.end_to_end(f'{path}\\{f}')\n",
    "        #-----------------\n",
    "        for file in glob.glob('./img_result/*.jpg'):\n",
    "            fileName = p.findall(file)[0]\n",
    "            print (\"Proccessing \" + fileName)\n",
    "            outFileName = fileName[0:len(fileName)-4]\n",
    "            # Get default text recognition \n",
    "            output = pytesseract.image_to_string(Image.open(file))\n",
    "            print(\"/n\", output)\n",
    "            all_result.append(output)\n",
    "\n",
    "            # Write default text output to 'outputs/default' directory\n",
    "#             writeFile('default', outFileName, output)\n",
    "\n",
    "#             # Open image as black and white\n",
    "#             bw = cv2.imread(file, 0)\n",
    "\n",
    "#             # Apply adaptive thresholding to images\n",
    "#             thresh = cv2.adaptiveThreshold(bw, 255, cv2.ADAPTIVE_THRESH_GAUSSIAN_C,\\\n",
    "#                     cv2.THRESH_BINARY, 11, 2)\n",
    "\n",
    "#             # Get text recognition from thresholded images\n",
    "#             output = pytesseract.image_to_string(Image.fromarray(bw))\n",
    "                \n",
    "\n",
    "#         #-----------------\n",
    "# #         print('This is out_dict type', type(out_dict))\n",
    "# #         print(f.replace(r'.jpg',''))\n",
    "# #         out_dict['Image_id']=f.replace(r'.jpg','')\n",
    "#             all_result.append(output)\n",
    "            \n",
    "#         break\n",
    "\n",
    "    df = pd.DataFrame(all_result)\n",
    "    df = pd.DataFrame(columns=['Image_id','Nutrient', 'Amount', 'Unit', 'Serving Size','Serving Size Unit','Language'])\n",
    "    df_long = df.melt(id_vars=['Serving Size','Image_id'])\n",
    "    Units = {'Calories': 'Kcal',\n",
    "        'Energy': 'kJ',\n",
    "        'Total Fat': 'g',\n",
    "        'Saturated Fat': 'g',\n",
    "        'Trans Fat': 'g',\n",
    "        'Poly Fat': 'g',\n",
    "        'Mono Fat': 'g',\n",
    "        'Cholesterol': 'mg',\n",
    "        'Sodium': 'mg',\n",
    "        'Potassium': 'g',\n",
    "        'Total Carbohydrate': 'g',\n",
    "        'Dietary Fiber': 'g',\n",
    "        'Sugars': 'g',\n",
    "        'Protein': 'g'}\n",
    "    df_long['Serving Size Unit']= 'g'\n",
    "    df_long.columns = ['Serving Size','Image_id','Nutrient','Amount','Serving Size Unit']\n",
    "    df_long['Unit'] = [Units [x] for x in df_long['Nutrient']]\n",
    "    df_long['Language'] = 'English'\n",
    "    Final_Outcome = df_long[['Image_id','Nutrient', 'Amount', 'Unit', 'Serving Size','Serving Size Unit','Language']]\n",
    "    Final_Outcome.to_excel('DSI-V-Abdulrahman.xlsx', index=False)\n",
    "    return Final_Outcome"
   ]
  },
  {
   "cell_type": "code",
   "execution_count": null,
   "metadata": {
    "scrolled": true
   },
   "outputs": [],
   "source": [
    "label_Recognizer('img_result')"
   ]
  },
  {
   "cell_type": "code",
   "execution_count": null,
   "metadata": {},
   "outputs": [],
   "source": [
    "Proccessing 152.jpg\n",
    "Proccessing 386.jpg\n",
    "Proccessing 322.jpg\n",
    "Proccessing 109.jpg"
   ]
  },
  {
   "cell_type": "code",
   "execution_count": null,
   "metadata": {},
   "outputs": [],
   "source": []
  },
  {
   "cell_type": "code",
   "execution_count": null,
   "metadata": {},
   "outputs": [],
   "source": []
  },
  {
   "cell_type": "code",
   "execution_count": null,
   "metadata": {},
   "outputs": [],
   "source": []
  },
  {
   "cell_type": "code",
   "execution_count": null,
   "metadata": {},
   "outputs": [],
   "source": []
  },
  {
   "cell_type": "code",
   "execution_count": null,
   "metadata": {},
   "outputs": [],
   "source": []
  },
  {
   "cell_type": "markdown",
   "metadata": {},
   "source": [
    "## Referenced_code"
   ]
  },
  {
   "cell_type": "code",
   "execution_count": null,
   "metadata": {},
   "outputs": [],
   "source": []
  },
  {
   "cell_type": "code",
   "execution_count": null,
   "metadata": {},
   "outputs": [],
   "source": []
  },
  {
   "cell_type": "code",
   "execution_count": null,
   "metadata": {},
   "outputs": [],
   "source": []
  },
  {
   "cell_type": "code",
   "execution_count": null,
   "metadata": {},
   "outputs": [],
   "source": [
    "basename = os.path.basename(\"./img_result\")\n",
    "label_impath = impath.replace(basename, 'tmp_' + basename)\n",
    "# label_impath = impath.lower().replace('.jpg', 'label_tmp.jpg')\n",
    "cv2.imwrite(label_impath, label_im)\n",
    "\n",
    "start = timer()\n",
    "# Apply Tesseract to image\n",
    "output = apply_tesseract(label_impath, demo=demo)\n",
    "#        print (\"\\n\")\n",
    "output = pytesseract.image_to_string(label_impath,lang='eng')\n",
    "#     print(arabic)\n",
    "\n",
    "end = timer()\n",
    "print('OCR time: %2f' % (end-start))\n",
    "os.remove(label_impath)\n",
    "\n",
    "start = timer()\n",
    "ocr_label = post_process(output, demo=demo)\n",
    "print(ocr_label)\n",
    "\n",
    "end = timer()\n",
    "print('Post process time: %2f' % (end-start))\n",
    "\n",
    "if show:\n",
    "    draw_image(label_im, 'Transformed label: %s' % impath)\n",
    "\n",
    "return ocr_label"
   ]
  },
  {
   "cell_type": "markdown",
   "metadata": {},
   "source": [
    "### image view"
   ]
  },
  {
   "cell_type": "code",
   "execution_count": null,
   "metadata": {},
   "outputs": [],
   "source": [
    "io.imshow('./test_result.png')"
   ]
  },
  {
   "cell_type": "markdown",
   "metadata": {},
   "source": [
    "### Text with Tesseract - codes:"
   ]
  },
  {
   "cell_type": "code",
   "execution_count": null,
   "metadata": {},
   "outputs": [],
   "source": [
    "\n",
    "import pytesseract\n",
    "from PIL import Image, ImageEnhance, ImageFilter\n",
    "\n",
    "im = Image.open(\"test_result.png\") # the second one \n",
    "im = im.filter(ImageFilter.MedianFilter())\n",
    "enhancer = ImageEnhance.Contrast(im)\n",
    "im = enhancer.enhance(22)\n",
    "im = im.convert('1')\n",
    "im.save('test2.jpg')\n",
    "\n",
    "text = pytesseract.image_to_string(Image.open('test2.jpg'))\n",
    "print(text)"
   ]
  },
  {
   "cell_type": "markdown",
   "metadata": {},
   "source": [
    "#### Method 2"
   ]
  },
  {
   "cell_type": "code",
   "execution_count": null,
   "metadata": {},
   "outputs": [],
   "source": [
    "# A seconde way to extract text - OCR \n",
    "import os\n",
    "import tempfile\n",
    "import subprocess\n",
    "\n",
    "def ocr(path):\n",
    "    temp = tempfile.NamedTemporaryFile(delete=False)\n",
    "\n",
    "    process = subprocess.Popen(['tesseract', path, temp.name], stdout=subprocess.PIPE, stderr=subprocess.STDOUT)\n",
    "    process.communicate()\n",
    "\n",
    "    with open(temp.name + '.txt', 'r') as handle:\n",
    "        contents = handle.read()\n",
    "\n",
    "    os.remove(temp.name + '.txt')\n",
    "    os.remove(temp.name)\n",
    "\n",
    "    return contents\n",
    "\n",
    "str = ocr('test_result.png')\n",
    "print(str)"
   ]
  },
  {
   "cell_type": "code",
   "execution_count": 52,
   "metadata": {},
   "outputs": [],
   "source": [
    "img = cv2.imread('img/product_5.jpg',0)"
   ]
  },
  {
   "cell_type": "code",
   "execution_count": 53,
   "metadata": {},
   "outputs": [],
   "source": [
    "idx = 0\n",
    "boxes = []\n",
    "for c in contours:\n",
    "    # Returns the location and width,height for every contour\n",
    "    x, y, w, h = cv2.boundingRect(c)\n",
    "    if (w > 80 and h > 20) and w > 3*h:\n",
    "        idx += 1\n",
    "        boxes.append(img[y:y+h, x:x+w])\n",
    "# If the box height is greater then 20, widht is >80, then only save it as a box in \"cropped/\" folder.\n",
    "    if (w > 80 and h > 20) and w > 3*h:\n",
    "        idx += 1\n",
    "        boxes.append(img[y:y+h, x:x+w])\n",
    "        idx = 0\n",
    "boxes = []\n",
    "for c in contours:\n",
    "    # Returns the location and width,height for every contour\n",
    "    x, y, w, h = cv2.boundingRect(c)\n",
    "    if (w > 80 and h > 20) and w > 3*h:\n",
    "        idx += 1\n",
    "        boxes.append(img[y:y+h, x:x+w])\n",
    "# If the box height is greater then 20, widht is >80, then only save it as a box in \"cropped/\" folder.\n",
    "    if (w > 80 and h > 20) and w > 3*h:\n",
    "        idx += 1\n",
    "        boxes.append(img[y:y+h, x:x+w])"
   ]
  },
  {
   "cell_type": "code",
   "execution_count": 54,
   "metadata": {},
   "outputs": [
    {
     "data": {
      "text/plain": [
       "[]"
      ]
     },
     "execution_count": 54,
     "metadata": {},
     "output_type": "execute_result"
    }
   ],
   "source": [
    "boxes"
   ]
  },
  {
   "cell_type": "code",
   "execution_count": null,
   "metadata": {},
   "outputs": [],
   "source": []
  }
 ],
 "metadata": {
  "kernelspec": {
   "display_name": "Python 3",
   "language": "python",
   "name": "python3"
  },
  "language_info": {
   "codemirror_mode": {
    "name": "ipython",
    "version": 3
   },
   "file_extension": ".py",
   "mimetype": "text/x-python",
   "name": "python",
   "nbconvert_exporter": "python",
   "pygments_lexer": "ipython3",
   "version": "3.6.9"
  },
  "toc": {
   "base_numbering": 1,
   "nav_menu": {},
   "number_sections": true,
   "sideBar": true,
   "skip_h1_title": false,
   "title_cell": "Table of Contents",
   "title_sidebar": "Contents",
   "toc_cell": false,
   "toc_position": {},
   "toc_section_display": true,
   "toc_window_display": false
  }
 },
 "nbformat": 4,
 "nbformat_minor": 2
}
