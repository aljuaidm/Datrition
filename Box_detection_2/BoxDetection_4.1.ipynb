{
 "cells": [
  {
   "cell_type": "markdown",
   "metadata": {},
   "source": [
    "\n",
    "<img src=\"Datrition-1.jpg\" alt=\"Smiley face\" height=\"150\" width=\"150\" align=\"right\">\n",
    "\n",
    "\n",
    "# Capstone Project - Datrition \n",
    "   ###### Team:  Omar Alharbi - Mansour Aljuaid  - Sumaiah Alsadhan "
   ]
  },
  {
   "cell_type": "markdown",
   "metadata": {},
   "source": [
    "# Problem Statement "
   ]
  },
  {
   "cell_type": "code",
   "execution_count": null,
   "metadata": {},
   "outputs": [],
   "source": []
  },
  {
   "cell_type": "markdown",
   "metadata": {},
   "source": [
    "---"
   ]
  },
  {
   "cell_type": "markdown",
   "metadata": {},
   "source": [
    "# Model"
   ]
  },
  {
   "cell_type": "markdown",
   "metadata": {},
   "source": [
    "## Importing Libraries¶"
   ]
  },
  {
   "cell_type": "code",
   "execution_count": 1,
   "metadata": {},
   "outputs": [],
   "source": [
    "import cv2\n",
    "import os\n",
    "from skimage import color, data, io, measure\n",
    "from skimage.filters import threshold_otsu\n",
    "import numpy as np\n",
    "import pandas as pd\n",
    "import matplotlib.pyplot as plt\n",
    "import matplotlib as mpl\n",
    "from ipywidgets import interact, interactive, fixed, interact_manual\n",
    "import ipywidgets as widgets\n",
    "from tqdm import tqdm\n",
    "import glob\n",
    "import matplotlib.image as mpimg\n",
    "import seaborn as sns\n",
    "%matplotlib inline\n",
    "mpl.rcParams['image.cmap'] = 'gray'\n",
    "plt.rcParams['figure.dpi']= 300 #UPDATED\n",
    "plt.rc(\"savefig\", dpi=300) #UPDATED"
   ]
  },
  {
   "cell_type": "code",
   "execution_count": 2,
   "metadata": {},
   "outputs": [],
   "source": [
    "def sort_contours(cnts, method=\"left-to-right\"):\n",
    "    # initialize the reverse flag and sort index\n",
    "    reverse = False\n",
    "    i = 0\n",
    "\n",
    "    # handle if we need to sort in reverse\n",
    "    if method == \"right-to-left\" or method == \"bottom-to-top\":\n",
    "        reverse = False\n",
    "\n",
    "    # handle if we are sorting against the y-coordinate rather than\n",
    "    # the x-coordinate of the bounding box\n",
    "    if method == \"top-to-bottom\" or method == \"right-to-left\":\n",
    "        i = 1\n",
    "\n",
    "    # construct the list of bounding boxes and sort them from top to\n",
    "    # bottom\n",
    "    boundingBoxes = [cv2.boundingRect(c) for c in cnts]\n",
    "    (cnts, boundingBoxes) = zip(*sorted(zip(cnts, boundingBoxes),\n",
    "        key=lambda b:b[1][i], reverse=reverse))\n",
    "\n",
    "    # return the list of sorted contours and bounding boxes\n",
    "    return (cnts, boundingBoxes)"
   ]
  },
  {
   "cell_type": "code",
   "execution_count": 3,
   "metadata": {},
   "outputs": [],
   "source": [
    "def f(y):\n",
    "    # Defining a kernel length\n",
    "    global horizontal_lines_img, verticle_lines_img, kernel\n",
    "    kernel_length = np.array(img).shape[1]//y\n",
    "\n",
    "    # A verticle kernel of (1 X kernel_length), which will detect all the verticle lines from the image.\n",
    "    verticle_kernel = cv2.getStructuringElement(cv2.MORPH_RECT, (1, kernel_length))\n",
    "    # A horizontal kernel of (kernel_length X 1), which will help to detect all the horizontal line from the image.\n",
    "    hori_kernel = cv2.getStructuringElement(cv2.MORPH_RECT, (kernel_length, 1))\n",
    "    # A kernel of (3 X 3) ones.\n",
    "    ###kernel = cv2.getStructuringElement(cv2.MORPH_RECT, (3, 3))\n",
    "    # Morphological operation to detect vertical lines from an image\n",
    "    img_temp1 = cv2.erode(img_bin, verticle_kernel, iterations=1)\n",
    "    verticle_lines_img = cv2.dilate(img_temp1, verticle_kernel, iterations=1)\n",
    "    cv2.imwrite(\"verticle_lines.jpg\",verticle_lines_img)\n",
    "    # Morphological operation to detect horizontal lines from an image\n",
    "    img_temp2 = cv2.erode(img_bin, hori_kernel, iterations=1)\n",
    "    horizontal_lines_img = cv2.dilate(img_temp2, hori_kernel, iterations=1)\n",
    "    ###plt.subplot(1, 2, 1)  # 2 rows, 2 columns, 1st subplot = top left\n",
    "    ###plt.imshow(verticle_lines_img);\n",
    "    ###plt.axis('off')\n",
    "\n",
    "    ###plt.subplot(1, 2, 2)  # 2 rows, 2 columns, 2nd subplot = top right\n",
    "    plt.imshow(horizontal_lines_img);\n",
    "    plt.axis('off')"
   ]
  },
  {
   "cell_type": "code",
   "execution_count": 4,
   "metadata": {},
   "outputs": [],
   "source": [
    "#  images.append(mpimg.imread(img_path))\n",
    "#     print(\"Processing Image\", len(images))"
   ]
  },
  {
   "cell_type": "markdown",
   "metadata": {},
   "source": [
    "---"
   ]
  },
  {
   "cell_type": "markdown",
   "metadata": {},
   "source": [
    "## Images Pre-Processing \n",
    "### Processing from img Folder, then saving them in another folder named : 'img_result'"
   ]
  },
  {
   "cell_type": "code",
   "execution_count": 5,
   "metadata": {
    "scrolled": true
   },
   "outputs": [
    {
     "name": "stderr",
     "output_type": "stream",
     "text": [
      " 25%|██▌       | 6/24 [01:22<04:41, 15.65s/it]"
     ]
    },
    {
     "ename": "KeyboardInterrupt",
     "evalue": "",
     "output_type": "error",
     "traceback": [
      "\u001b[0;31m---------------------------------------------------------------------------\u001b[0m",
      "\u001b[0;31mKeyboardInterrupt\u001b[0m                         Traceback (most recent call last)",
      "\u001b[0;32m<ipython-input-5-d9afd341b43b>\u001b[0m in \u001b[0;36m<module>\u001b[0;34m\u001b[0m\n\u001b[1;32m     40\u001b[0m             \u001b[0;31m#cv2.imwrite(os.path.join(path , 'f', new_img))\u001b[0m\u001b[0;34m\u001b[0m\u001b[0;34m\u001b[0m\u001b[0;34m\u001b[0m\u001b[0m\n\u001b[1;32m     41\u001b[0m             \u001b[0mfile_n\u001b[0m \u001b[0;34m=\u001b[0m \u001b[0mimg_path\u001b[0m\u001b[0;34m.\u001b[0m\u001b[0msplit\u001b[0m\u001b[0;34m(\u001b[0m\u001b[0;34m'_'\u001b[0m\u001b[0;34m)\u001b[0m\u001b[0;34m[\u001b[0m\u001b[0;34m-\u001b[0m\u001b[0;36m1\u001b[0m\u001b[0;34m]\u001b[0m\u001b[0;34m.\u001b[0m\u001b[0msplit\u001b[0m\u001b[0;34m(\u001b[0m\u001b[0;34m'.'\u001b[0m\u001b[0;34m)\u001b[0m\u001b[0;34m[\u001b[0m\u001b[0;36m0\u001b[0m\u001b[0;34m]\u001b[0m\u001b[0;34m\u001b[0m\u001b[0;34m\u001b[0m\u001b[0m\n\u001b[0;32m---> 42\u001b[0;31m             \u001b[0mplt\u001b[0m\u001b[0;34m.\u001b[0m\u001b[0msavefig\u001b[0m\u001b[0;34m(\u001b[0m\u001b[0;34mf'./img_result/{file_n}_Nutritions_{counter}.jpg'\u001b[0m\u001b[0;34m,\u001b[0m\u001b[0mdpi\u001b[0m\u001b[0;34m=\u001b[0m\u001b[0;36m300\u001b[0m\u001b[0;34m)\u001b[0m \u001b[0;31m#UPDATED\u001b[0m\u001b[0;34m\u001b[0m\u001b[0;34m\u001b[0m\u001b[0m\n\u001b[0m\u001b[1;32m     43\u001b[0m             \u001b[0mcounter\u001b[0m\u001b[0;34m+=\u001b[0m\u001b[0;36m1\u001b[0m\u001b[0;34m\u001b[0m\u001b[0;34m\u001b[0m\u001b[0m\n\u001b[1;32m     44\u001b[0m             \u001b[0;31m#cv2.waitKey(0)\u001b[0m\u001b[0;34m\u001b[0m\u001b[0;34m\u001b[0m\u001b[0;34m\u001b[0m\u001b[0m\n",
      "\u001b[0;32m~/opt/anaconda3/envs/Datrition/lib/python3.7/site-packages/matplotlib/pyplot.py\u001b[0m in \u001b[0;36msavefig\u001b[0;34m(*args, **kwargs)\u001b[0m\n\u001b[1;32m    720\u001b[0m \u001b[0;32mdef\u001b[0m \u001b[0msavefig\u001b[0m\u001b[0;34m(\u001b[0m\u001b[0;34m*\u001b[0m\u001b[0margs\u001b[0m\u001b[0;34m,\u001b[0m \u001b[0;34m**\u001b[0m\u001b[0mkwargs\u001b[0m\u001b[0;34m)\u001b[0m\u001b[0;34m:\u001b[0m\u001b[0;34m\u001b[0m\u001b[0;34m\u001b[0m\u001b[0m\n\u001b[1;32m    721\u001b[0m     \u001b[0mfig\u001b[0m \u001b[0;34m=\u001b[0m \u001b[0mgcf\u001b[0m\u001b[0;34m(\u001b[0m\u001b[0;34m)\u001b[0m\u001b[0;34m\u001b[0m\u001b[0;34m\u001b[0m\u001b[0m\n\u001b[0;32m--> 722\u001b[0;31m     \u001b[0mres\u001b[0m \u001b[0;34m=\u001b[0m \u001b[0mfig\u001b[0m\u001b[0;34m.\u001b[0m\u001b[0msavefig\u001b[0m\u001b[0;34m(\u001b[0m\u001b[0;34m*\u001b[0m\u001b[0margs\u001b[0m\u001b[0;34m,\u001b[0m \u001b[0;34m**\u001b[0m\u001b[0mkwargs\u001b[0m\u001b[0;34m)\u001b[0m\u001b[0;34m\u001b[0m\u001b[0;34m\u001b[0m\u001b[0m\n\u001b[0m\u001b[1;32m    723\u001b[0m     \u001b[0mfig\u001b[0m\u001b[0;34m.\u001b[0m\u001b[0mcanvas\u001b[0m\u001b[0;34m.\u001b[0m\u001b[0mdraw_idle\u001b[0m\u001b[0;34m(\u001b[0m\u001b[0;34m)\u001b[0m   \u001b[0;31m# need this if 'transparent=True' to reset colors\u001b[0m\u001b[0;34m\u001b[0m\u001b[0;34m\u001b[0m\u001b[0m\n\u001b[1;32m    724\u001b[0m     \u001b[0;32mreturn\u001b[0m \u001b[0mres\u001b[0m\u001b[0;34m\u001b[0m\u001b[0;34m\u001b[0m\u001b[0m\n",
      "\u001b[0;32m~/opt/anaconda3/envs/Datrition/lib/python3.7/site-packages/matplotlib/figure.py\u001b[0m in \u001b[0;36msavefig\u001b[0;34m(self, fname, transparent, **kwargs)\u001b[0m\n\u001b[1;32m   2178\u001b[0m             \u001b[0mself\u001b[0m\u001b[0;34m.\u001b[0m\u001b[0mpatch\u001b[0m\u001b[0;34m.\u001b[0m\u001b[0mset_visible\u001b[0m\u001b[0;34m(\u001b[0m\u001b[0mframeon\u001b[0m\u001b[0;34m)\u001b[0m\u001b[0;34m\u001b[0m\u001b[0;34m\u001b[0m\u001b[0m\n\u001b[1;32m   2179\u001b[0m \u001b[0;34m\u001b[0m\u001b[0m\n\u001b[0;32m-> 2180\u001b[0;31m         \u001b[0mself\u001b[0m\u001b[0;34m.\u001b[0m\u001b[0mcanvas\u001b[0m\u001b[0;34m.\u001b[0m\u001b[0mprint_figure\u001b[0m\u001b[0;34m(\u001b[0m\u001b[0mfname\u001b[0m\u001b[0;34m,\u001b[0m \u001b[0;34m**\u001b[0m\u001b[0mkwargs\u001b[0m\u001b[0;34m)\u001b[0m\u001b[0;34m\u001b[0m\u001b[0;34m\u001b[0m\u001b[0m\n\u001b[0m\u001b[1;32m   2181\u001b[0m \u001b[0;34m\u001b[0m\u001b[0m\n\u001b[1;32m   2182\u001b[0m         \u001b[0;32mif\u001b[0m \u001b[0mframeon\u001b[0m\u001b[0;34m:\u001b[0m\u001b[0;34m\u001b[0m\u001b[0;34m\u001b[0m\u001b[0m\n",
      "\u001b[0;32m~/opt/anaconda3/envs/Datrition/lib/python3.7/site-packages/matplotlib/backend_bases.py\u001b[0m in \u001b[0;36mprint_figure\u001b[0;34m(self, filename, dpi, facecolor, edgecolor, orientation, format, bbox_inches, **kwargs)\u001b[0m\n\u001b[1;32m   2087\u001b[0m                     \u001b[0morientation\u001b[0m\u001b[0;34m=\u001b[0m\u001b[0morientation\u001b[0m\u001b[0;34m,\u001b[0m\u001b[0;34m\u001b[0m\u001b[0;34m\u001b[0m\u001b[0m\n\u001b[1;32m   2088\u001b[0m                     \u001b[0mbbox_inches_restore\u001b[0m\u001b[0;34m=\u001b[0m\u001b[0m_bbox_inches_restore\u001b[0m\u001b[0;34m,\u001b[0m\u001b[0;34m\u001b[0m\u001b[0;34m\u001b[0m\u001b[0m\n\u001b[0;32m-> 2089\u001b[0;31m                     **kwargs)\n\u001b[0m\u001b[1;32m   2090\u001b[0m             \u001b[0;32mfinally\u001b[0m\u001b[0;34m:\u001b[0m\u001b[0;34m\u001b[0m\u001b[0;34m\u001b[0m\u001b[0m\n\u001b[1;32m   2091\u001b[0m                 \u001b[0;32mif\u001b[0m \u001b[0mbbox_inches\u001b[0m \u001b[0;32mand\u001b[0m \u001b[0mrestore_bbox\u001b[0m\u001b[0;34m:\u001b[0m\u001b[0;34m\u001b[0m\u001b[0;34m\u001b[0m\u001b[0m\n",
      "\u001b[0;32m~/opt/anaconda3/envs/Datrition/lib/python3.7/site-packages/matplotlib/backends/backend_agg.py\u001b[0m in \u001b[0;36mprint_jpg\u001b[0;34m(self, filename_or_obj, dryrun, pil_kwargs, *args, **kwargs)\u001b[0m\n\u001b[1;32m    577\u001b[0m                 \u001b[0mover\u001b[0m \u001b[0;34m*\u001b[0m\u001b[0mquality\u001b[0m\u001b[0;34m*\u001b[0m\u001b[0;34m,\u001b[0m \u001b[0;34m*\u001b[0m\u001b[0moptimize\u001b[0m\u001b[0;34m*\u001b[0m \u001b[0;32mand\u001b[0m \u001b[0;34m*\u001b[0m\u001b[0mprogressive\u001b[0m\u001b[0;34m*\u001b[0m\u001b[0;34m.\u001b[0m\u001b[0;34m\u001b[0m\u001b[0;34m\u001b[0m\u001b[0m\n\u001b[1;32m    578\u001b[0m             \"\"\"\n\u001b[0;32m--> 579\u001b[0;31m             \u001b[0mbuf\u001b[0m\u001b[0;34m,\u001b[0m \u001b[0msize\u001b[0m \u001b[0;34m=\u001b[0m \u001b[0mself\u001b[0m\u001b[0;34m.\u001b[0m\u001b[0mprint_to_buffer\u001b[0m\u001b[0;34m(\u001b[0m\u001b[0;34m)\u001b[0m\u001b[0;34m\u001b[0m\u001b[0;34m\u001b[0m\u001b[0m\n\u001b[0m\u001b[1;32m    580\u001b[0m             \u001b[0;32mif\u001b[0m \u001b[0mdryrun\u001b[0m\u001b[0;34m:\u001b[0m\u001b[0;34m\u001b[0m\u001b[0;34m\u001b[0m\u001b[0m\n\u001b[1;32m    581\u001b[0m                 \u001b[0;32mreturn\u001b[0m\u001b[0;34m\u001b[0m\u001b[0;34m\u001b[0m\u001b[0m\n",
      "\u001b[0;32m~/opt/anaconda3/envs/Datrition/lib/python3.7/site-packages/matplotlib/backends/backend_agg.py\u001b[0m in \u001b[0;36mprint_to_buffer\u001b[0;34m(self)\u001b[0m\n\u001b[1;32m    533\u001b[0m \u001b[0;34m\u001b[0m\u001b[0m\n\u001b[1;32m    534\u001b[0m     \u001b[0;32mdef\u001b[0m \u001b[0mprint_to_buffer\u001b[0m\u001b[0;34m(\u001b[0m\u001b[0mself\u001b[0m\u001b[0;34m)\u001b[0m\u001b[0;34m:\u001b[0m\u001b[0;34m\u001b[0m\u001b[0;34m\u001b[0m\u001b[0m\n\u001b[0;32m--> 535\u001b[0;31m         \u001b[0mFigureCanvasAgg\u001b[0m\u001b[0;34m.\u001b[0m\u001b[0mdraw\u001b[0m\u001b[0;34m(\u001b[0m\u001b[0mself\u001b[0m\u001b[0;34m)\u001b[0m\u001b[0;34m\u001b[0m\u001b[0;34m\u001b[0m\u001b[0m\n\u001b[0m\u001b[1;32m    536\u001b[0m         \u001b[0mrenderer\u001b[0m \u001b[0;34m=\u001b[0m \u001b[0mself\u001b[0m\u001b[0;34m.\u001b[0m\u001b[0mget_renderer\u001b[0m\u001b[0;34m(\u001b[0m\u001b[0;34m)\u001b[0m\u001b[0;34m\u001b[0m\u001b[0;34m\u001b[0m\u001b[0m\n\u001b[1;32m    537\u001b[0m         \u001b[0;32mwith\u001b[0m \u001b[0mcbook\u001b[0m\u001b[0;34m.\u001b[0m\u001b[0m_setattr_cm\u001b[0m\u001b[0;34m(\u001b[0m\u001b[0mrenderer\u001b[0m\u001b[0;34m,\u001b[0m \u001b[0mdpi\u001b[0m\u001b[0;34m=\u001b[0m\u001b[0mself\u001b[0m\u001b[0;34m.\u001b[0m\u001b[0mfigure\u001b[0m\u001b[0;34m.\u001b[0m\u001b[0mdpi\u001b[0m\u001b[0;34m)\u001b[0m\u001b[0;34m:\u001b[0m\u001b[0;34m\u001b[0m\u001b[0;34m\u001b[0m\u001b[0m\n",
      "\u001b[0;32m~/opt/anaconda3/envs/Datrition/lib/python3.7/site-packages/matplotlib/backends/backend_agg.py\u001b[0m in \u001b[0;36mdraw\u001b[0;34m(self)\u001b[0m\n\u001b[1;32m    386\u001b[0m         \u001b[0mself\u001b[0m\u001b[0;34m.\u001b[0m\u001b[0mrenderer\u001b[0m \u001b[0;34m=\u001b[0m \u001b[0mself\u001b[0m\u001b[0;34m.\u001b[0m\u001b[0mget_renderer\u001b[0m\u001b[0;34m(\u001b[0m\u001b[0mcleared\u001b[0m\u001b[0;34m=\u001b[0m\u001b[0;32mTrue\u001b[0m\u001b[0;34m)\u001b[0m\u001b[0;34m\u001b[0m\u001b[0;34m\u001b[0m\u001b[0m\n\u001b[1;32m    387\u001b[0m         \u001b[0;32mwith\u001b[0m \u001b[0mRendererAgg\u001b[0m\u001b[0;34m.\u001b[0m\u001b[0mlock\u001b[0m\u001b[0;34m:\u001b[0m\u001b[0;34m\u001b[0m\u001b[0;34m\u001b[0m\u001b[0m\n\u001b[0;32m--> 388\u001b[0;31m             \u001b[0mself\u001b[0m\u001b[0;34m.\u001b[0m\u001b[0mfigure\u001b[0m\u001b[0;34m.\u001b[0m\u001b[0mdraw\u001b[0m\u001b[0;34m(\u001b[0m\u001b[0mself\u001b[0m\u001b[0;34m.\u001b[0m\u001b[0mrenderer\u001b[0m\u001b[0;34m)\u001b[0m\u001b[0;34m\u001b[0m\u001b[0;34m\u001b[0m\u001b[0m\n\u001b[0m\u001b[1;32m    389\u001b[0m             \u001b[0;31m# A GUI class may be need to update a window using this draw, so\u001b[0m\u001b[0;34m\u001b[0m\u001b[0;34m\u001b[0m\u001b[0;34m\u001b[0m\u001b[0m\n\u001b[1;32m    390\u001b[0m             \u001b[0;31m# don't forget to call the superclass.\u001b[0m\u001b[0;34m\u001b[0m\u001b[0;34m\u001b[0m\u001b[0;34m\u001b[0m\u001b[0m\n",
      "\u001b[0;32m~/opt/anaconda3/envs/Datrition/lib/python3.7/site-packages/matplotlib/artist.py\u001b[0m in \u001b[0;36mdraw_wrapper\u001b[0;34m(artist, renderer, *args, **kwargs)\u001b[0m\n\u001b[1;32m     36\u001b[0m                 \u001b[0mrenderer\u001b[0m\u001b[0;34m.\u001b[0m\u001b[0mstart_filter\u001b[0m\u001b[0;34m(\u001b[0m\u001b[0;34m)\u001b[0m\u001b[0;34m\u001b[0m\u001b[0;34m\u001b[0m\u001b[0m\n\u001b[1;32m     37\u001b[0m \u001b[0;34m\u001b[0m\u001b[0m\n\u001b[0;32m---> 38\u001b[0;31m             \u001b[0;32mreturn\u001b[0m \u001b[0mdraw\u001b[0m\u001b[0;34m(\u001b[0m\u001b[0martist\u001b[0m\u001b[0;34m,\u001b[0m \u001b[0mrenderer\u001b[0m\u001b[0;34m,\u001b[0m \u001b[0;34m*\u001b[0m\u001b[0margs\u001b[0m\u001b[0;34m,\u001b[0m \u001b[0;34m**\u001b[0m\u001b[0mkwargs\u001b[0m\u001b[0;34m)\u001b[0m\u001b[0;34m\u001b[0m\u001b[0;34m\u001b[0m\u001b[0m\n\u001b[0m\u001b[1;32m     39\u001b[0m         \u001b[0;32mfinally\u001b[0m\u001b[0;34m:\u001b[0m\u001b[0;34m\u001b[0m\u001b[0;34m\u001b[0m\u001b[0m\n\u001b[1;32m     40\u001b[0m             \u001b[0;32mif\u001b[0m \u001b[0martist\u001b[0m\u001b[0;34m.\u001b[0m\u001b[0mget_agg_filter\u001b[0m\u001b[0;34m(\u001b[0m\u001b[0;34m)\u001b[0m \u001b[0;32mis\u001b[0m \u001b[0;32mnot\u001b[0m \u001b[0;32mNone\u001b[0m\u001b[0;34m:\u001b[0m\u001b[0;34m\u001b[0m\u001b[0;34m\u001b[0m\u001b[0m\n",
      "\u001b[0;32m~/opt/anaconda3/envs/Datrition/lib/python3.7/site-packages/matplotlib/figure.py\u001b[0m in \u001b[0;36mdraw\u001b[0;34m(self, renderer)\u001b[0m\n\u001b[1;32m   1707\u001b[0m             \u001b[0mself\u001b[0m\u001b[0;34m.\u001b[0m\u001b[0mpatch\u001b[0m\u001b[0;34m.\u001b[0m\u001b[0mdraw\u001b[0m\u001b[0;34m(\u001b[0m\u001b[0mrenderer\u001b[0m\u001b[0;34m)\u001b[0m\u001b[0;34m\u001b[0m\u001b[0;34m\u001b[0m\u001b[0m\n\u001b[1;32m   1708\u001b[0m             mimage._draw_list_compositing_images(\n\u001b[0;32m-> 1709\u001b[0;31m                 renderer, self, artists, self.suppressComposite)\n\u001b[0m\u001b[1;32m   1710\u001b[0m \u001b[0;34m\u001b[0m\u001b[0m\n\u001b[1;32m   1711\u001b[0m             \u001b[0mrenderer\u001b[0m\u001b[0;34m.\u001b[0m\u001b[0mclose_group\u001b[0m\u001b[0;34m(\u001b[0m\u001b[0;34m'figure'\u001b[0m\u001b[0;34m)\u001b[0m\u001b[0;34m\u001b[0m\u001b[0;34m\u001b[0m\u001b[0m\n",
      "\u001b[0;32m~/opt/anaconda3/envs/Datrition/lib/python3.7/site-packages/matplotlib/image.py\u001b[0m in \u001b[0;36m_draw_list_compositing_images\u001b[0;34m(renderer, parent, artists, suppress_composite)\u001b[0m\n\u001b[1;32m    133\u001b[0m     \u001b[0;32mif\u001b[0m \u001b[0mnot_composite\u001b[0m \u001b[0;32mor\u001b[0m \u001b[0;32mnot\u001b[0m \u001b[0mhas_images\u001b[0m\u001b[0;34m:\u001b[0m\u001b[0;34m\u001b[0m\u001b[0;34m\u001b[0m\u001b[0m\n\u001b[1;32m    134\u001b[0m         \u001b[0;32mfor\u001b[0m \u001b[0ma\u001b[0m \u001b[0;32min\u001b[0m \u001b[0martists\u001b[0m\u001b[0;34m:\u001b[0m\u001b[0;34m\u001b[0m\u001b[0;34m\u001b[0m\u001b[0m\n\u001b[0;32m--> 135\u001b[0;31m             \u001b[0ma\u001b[0m\u001b[0;34m.\u001b[0m\u001b[0mdraw\u001b[0m\u001b[0;34m(\u001b[0m\u001b[0mrenderer\u001b[0m\u001b[0;34m)\u001b[0m\u001b[0;34m\u001b[0m\u001b[0;34m\u001b[0m\u001b[0m\n\u001b[0m\u001b[1;32m    136\u001b[0m     \u001b[0;32melse\u001b[0m\u001b[0;34m:\u001b[0m\u001b[0;34m\u001b[0m\u001b[0;34m\u001b[0m\u001b[0m\n\u001b[1;32m    137\u001b[0m         \u001b[0;31m# Composite any adjacent images together\u001b[0m\u001b[0;34m\u001b[0m\u001b[0;34m\u001b[0m\u001b[0;34m\u001b[0m\u001b[0m\n",
      "\u001b[0;32m~/opt/anaconda3/envs/Datrition/lib/python3.7/site-packages/matplotlib/artist.py\u001b[0m in \u001b[0;36mdraw_wrapper\u001b[0;34m(artist, renderer, *args, **kwargs)\u001b[0m\n\u001b[1;32m     36\u001b[0m                 \u001b[0mrenderer\u001b[0m\u001b[0;34m.\u001b[0m\u001b[0mstart_filter\u001b[0m\u001b[0;34m(\u001b[0m\u001b[0;34m)\u001b[0m\u001b[0;34m\u001b[0m\u001b[0;34m\u001b[0m\u001b[0m\n\u001b[1;32m     37\u001b[0m \u001b[0;34m\u001b[0m\u001b[0m\n\u001b[0;32m---> 38\u001b[0;31m             \u001b[0;32mreturn\u001b[0m \u001b[0mdraw\u001b[0m\u001b[0;34m(\u001b[0m\u001b[0martist\u001b[0m\u001b[0;34m,\u001b[0m \u001b[0mrenderer\u001b[0m\u001b[0;34m,\u001b[0m \u001b[0;34m*\u001b[0m\u001b[0margs\u001b[0m\u001b[0;34m,\u001b[0m \u001b[0;34m**\u001b[0m\u001b[0mkwargs\u001b[0m\u001b[0;34m)\u001b[0m\u001b[0;34m\u001b[0m\u001b[0;34m\u001b[0m\u001b[0m\n\u001b[0m\u001b[1;32m     39\u001b[0m         \u001b[0;32mfinally\u001b[0m\u001b[0;34m:\u001b[0m\u001b[0;34m\u001b[0m\u001b[0;34m\u001b[0m\u001b[0m\n\u001b[1;32m     40\u001b[0m             \u001b[0;32mif\u001b[0m \u001b[0martist\u001b[0m\u001b[0;34m.\u001b[0m\u001b[0mget_agg_filter\u001b[0m\u001b[0;34m(\u001b[0m\u001b[0;34m)\u001b[0m \u001b[0;32mis\u001b[0m \u001b[0;32mnot\u001b[0m \u001b[0;32mNone\u001b[0m\u001b[0;34m:\u001b[0m\u001b[0;34m\u001b[0m\u001b[0;34m\u001b[0m\u001b[0m\n",
      "\u001b[0;32m~/opt/anaconda3/envs/Datrition/lib/python3.7/site-packages/matplotlib/axes/_base.py\u001b[0m in \u001b[0;36mdraw\u001b[0;34m(self, renderer, inframe)\u001b[0m\n\u001b[1;32m   2645\u001b[0m             \u001b[0mrenderer\u001b[0m\u001b[0;34m.\u001b[0m\u001b[0mstop_rasterizing\u001b[0m\u001b[0;34m(\u001b[0m\u001b[0;34m)\u001b[0m\u001b[0;34m\u001b[0m\u001b[0;34m\u001b[0m\u001b[0m\n\u001b[1;32m   2646\u001b[0m \u001b[0;34m\u001b[0m\u001b[0m\n\u001b[0;32m-> 2647\u001b[0;31m         \u001b[0mmimage\u001b[0m\u001b[0;34m.\u001b[0m\u001b[0m_draw_list_compositing_images\u001b[0m\u001b[0;34m(\u001b[0m\u001b[0mrenderer\u001b[0m\u001b[0;34m,\u001b[0m \u001b[0mself\u001b[0m\u001b[0;34m,\u001b[0m \u001b[0martists\u001b[0m\u001b[0;34m)\u001b[0m\u001b[0;34m\u001b[0m\u001b[0;34m\u001b[0m\u001b[0m\n\u001b[0m\u001b[1;32m   2648\u001b[0m \u001b[0;34m\u001b[0m\u001b[0m\n\u001b[1;32m   2649\u001b[0m         \u001b[0mrenderer\u001b[0m\u001b[0;34m.\u001b[0m\u001b[0mclose_group\u001b[0m\u001b[0;34m(\u001b[0m\u001b[0;34m'axes'\u001b[0m\u001b[0;34m)\u001b[0m\u001b[0;34m\u001b[0m\u001b[0;34m\u001b[0m\u001b[0m\n",
      "\u001b[0;32m~/opt/anaconda3/envs/Datrition/lib/python3.7/site-packages/matplotlib/image.py\u001b[0m in \u001b[0;36m_draw_list_compositing_images\u001b[0;34m(renderer, parent, artists, suppress_composite)\u001b[0m\n\u001b[1;32m    133\u001b[0m     \u001b[0;32mif\u001b[0m \u001b[0mnot_composite\u001b[0m \u001b[0;32mor\u001b[0m \u001b[0;32mnot\u001b[0m \u001b[0mhas_images\u001b[0m\u001b[0;34m:\u001b[0m\u001b[0;34m\u001b[0m\u001b[0;34m\u001b[0m\u001b[0m\n\u001b[1;32m    134\u001b[0m         \u001b[0;32mfor\u001b[0m \u001b[0ma\u001b[0m \u001b[0;32min\u001b[0m \u001b[0martists\u001b[0m\u001b[0;34m:\u001b[0m\u001b[0;34m\u001b[0m\u001b[0;34m\u001b[0m\u001b[0m\n\u001b[0;32m--> 135\u001b[0;31m             \u001b[0ma\u001b[0m\u001b[0;34m.\u001b[0m\u001b[0mdraw\u001b[0m\u001b[0;34m(\u001b[0m\u001b[0mrenderer\u001b[0m\u001b[0;34m)\u001b[0m\u001b[0;34m\u001b[0m\u001b[0;34m\u001b[0m\u001b[0m\n\u001b[0m\u001b[1;32m    136\u001b[0m     \u001b[0;32melse\u001b[0m\u001b[0;34m:\u001b[0m\u001b[0;34m\u001b[0m\u001b[0;34m\u001b[0m\u001b[0m\n\u001b[1;32m    137\u001b[0m         \u001b[0;31m# Composite any adjacent images together\u001b[0m\u001b[0;34m\u001b[0m\u001b[0;34m\u001b[0m\u001b[0;34m\u001b[0m\u001b[0m\n",
      "\u001b[0;32m~/opt/anaconda3/envs/Datrition/lib/python3.7/site-packages/matplotlib/artist.py\u001b[0m in \u001b[0;36mdraw_wrapper\u001b[0;34m(artist, renderer, *args, **kwargs)\u001b[0m\n\u001b[1;32m     36\u001b[0m                 \u001b[0mrenderer\u001b[0m\u001b[0;34m.\u001b[0m\u001b[0mstart_filter\u001b[0m\u001b[0;34m(\u001b[0m\u001b[0;34m)\u001b[0m\u001b[0;34m\u001b[0m\u001b[0;34m\u001b[0m\u001b[0m\n\u001b[1;32m     37\u001b[0m \u001b[0;34m\u001b[0m\u001b[0m\n\u001b[0;32m---> 38\u001b[0;31m             \u001b[0;32mreturn\u001b[0m \u001b[0mdraw\u001b[0m\u001b[0;34m(\u001b[0m\u001b[0martist\u001b[0m\u001b[0;34m,\u001b[0m \u001b[0mrenderer\u001b[0m\u001b[0;34m,\u001b[0m \u001b[0;34m*\u001b[0m\u001b[0margs\u001b[0m\u001b[0;34m,\u001b[0m \u001b[0;34m**\u001b[0m\u001b[0mkwargs\u001b[0m\u001b[0;34m)\u001b[0m\u001b[0;34m\u001b[0m\u001b[0;34m\u001b[0m\u001b[0m\n\u001b[0m\u001b[1;32m     39\u001b[0m         \u001b[0;32mfinally\u001b[0m\u001b[0;34m:\u001b[0m\u001b[0;34m\u001b[0m\u001b[0;34m\u001b[0m\u001b[0m\n\u001b[1;32m     40\u001b[0m             \u001b[0;32mif\u001b[0m \u001b[0martist\u001b[0m\u001b[0;34m.\u001b[0m\u001b[0mget_agg_filter\u001b[0m\u001b[0;34m(\u001b[0m\u001b[0;34m)\u001b[0m \u001b[0;32mis\u001b[0m \u001b[0;32mnot\u001b[0m \u001b[0;32mNone\u001b[0m\u001b[0;34m:\u001b[0m\u001b[0;34m\u001b[0m\u001b[0;34m\u001b[0m\u001b[0m\n",
      "\u001b[0;32m~/opt/anaconda3/envs/Datrition/lib/python3.7/site-packages/matplotlib/image.py\u001b[0m in \u001b[0;36mdraw\u001b[0;34m(self, renderer, *args, **kwargs)\u001b[0m\n\u001b[1;32m    617\u001b[0m         \u001b[0;32melse\u001b[0m\u001b[0;34m:\u001b[0m\u001b[0;34m\u001b[0m\u001b[0;34m\u001b[0m\u001b[0m\n\u001b[1;32m    618\u001b[0m             im, l, b, trans = self.make_image(\n\u001b[0;32m--> 619\u001b[0;31m                 renderer, renderer.get_image_magnification())\n\u001b[0m\u001b[1;32m    620\u001b[0m             \u001b[0;32mif\u001b[0m \u001b[0mim\u001b[0m \u001b[0;32mis\u001b[0m \u001b[0;32mnot\u001b[0m \u001b[0;32mNone\u001b[0m\u001b[0;34m:\u001b[0m\u001b[0;34m\u001b[0m\u001b[0;34m\u001b[0m\u001b[0m\n\u001b[1;32m    621\u001b[0m                 \u001b[0mrenderer\u001b[0m\u001b[0;34m.\u001b[0m\u001b[0mdraw_image\u001b[0m\u001b[0;34m(\u001b[0m\u001b[0mgc\u001b[0m\u001b[0;34m,\u001b[0m \u001b[0ml\u001b[0m\u001b[0;34m,\u001b[0m \u001b[0mb\u001b[0m\u001b[0;34m,\u001b[0m \u001b[0mim\u001b[0m\u001b[0;34m)\u001b[0m\u001b[0;34m\u001b[0m\u001b[0;34m\u001b[0m\u001b[0m\n",
      "\u001b[0;32m~/opt/anaconda3/envs/Datrition/lib/python3.7/site-packages/matplotlib/image.py\u001b[0m in \u001b[0;36mmake_image\u001b[0;34m(self, renderer, magnification, unsampled)\u001b[0m\n\u001b[1;32m    879\u001b[0m         return self._make_image(\n\u001b[1;32m    880\u001b[0m             \u001b[0mself\u001b[0m\u001b[0;34m.\u001b[0m\u001b[0m_A\u001b[0m\u001b[0;34m,\u001b[0m \u001b[0mbbox\u001b[0m\u001b[0;34m,\u001b[0m \u001b[0mtransformed_bbox\u001b[0m\u001b[0;34m,\u001b[0m \u001b[0mself\u001b[0m\u001b[0;34m.\u001b[0m\u001b[0maxes\u001b[0m\u001b[0;34m.\u001b[0m\u001b[0mbbox\u001b[0m\u001b[0;34m,\u001b[0m \u001b[0mmagnification\u001b[0m\u001b[0;34m,\u001b[0m\u001b[0;34m\u001b[0m\u001b[0;34m\u001b[0m\u001b[0m\n\u001b[0;32m--> 881\u001b[0;31m             unsampled=unsampled)\n\u001b[0m\u001b[1;32m    882\u001b[0m \u001b[0;34m\u001b[0m\u001b[0m\n\u001b[1;32m    883\u001b[0m     \u001b[0;32mdef\u001b[0m \u001b[0m_check_unsampled_image\u001b[0m\u001b[0;34m(\u001b[0m\u001b[0mself\u001b[0m\u001b[0;34m,\u001b[0m \u001b[0mrenderer\u001b[0m\u001b[0;34m)\u001b[0m\u001b[0;34m:\u001b[0m\u001b[0;34m\u001b[0m\u001b[0;34m\u001b[0m\u001b[0m\n",
      "\u001b[0;32m~/opt/anaconda3/envs/Datrition/lib/python3.7/site-packages/matplotlib/image.py\u001b[0m in \u001b[0;36m_make_image\u001b[0;34m(self, A, in_bbox, out_bbox, clip_bbox, magnification, unsampled, round_to_pixel_border)\u001b[0m\n\u001b[1;32m    458\u001b[0m                 \u001b[0;31m# non-affine transformations\u001b[0m\u001b[0;34m\u001b[0m\u001b[0;34m\u001b[0m\u001b[0;34m\u001b[0m\u001b[0m\n\u001b[1;32m    459\u001b[0m                 out_mask = np.zeros((out_height, out_width),\n\u001b[0;32m--> 460\u001b[0;31m                                     dtype=mask.dtype)\n\u001b[0m\u001b[1;32m    461\u001b[0m                 _image.resample(mask, out_mask,\n\u001b[1;32m    462\u001b[0m                                 \u001b[0mt\u001b[0m\u001b[0;34m,\u001b[0m\u001b[0;34m\u001b[0m\u001b[0;34m\u001b[0m\u001b[0m\n",
      "\u001b[0;31mKeyboardInterrupt\u001b[0m: "
     ]
    },
    {
     "data": {
      "image/png": "[encoded data removed]",
      "text/plain": [
       "<Figure size 432x288 with 1 Axes>"
      ]
     },
     "metadata": {
      "needs_background": "light"
     },
     "output_type": "display_data"
    }
   ],
   "source": [
    "images = []\n",
    "counter = 1\n",
    "for img_path in tqdm(glob.glob('img/*.jpg')):\n",
    "    \n",
    "    img = cv2.imread(img_path,0)\n",
    "    (thresh, img_bin) = cv2.threshold(img, 240, 255,cv2.THRESH_OTSU| cv2.ADAPTIVE_THRESH_GAUSSIAN_C) # UPDATE\n",
    "    img_bin = 255-img_bin\n",
    "    f(255)\n",
    "    alpha = 1.0\n",
    "    beta =  0.9 - alpha #UPDATE\n",
    "    # This function helps to add two image with specific weight parameter to get a third image as summation of two image.\n",
    "    img_final_bin = cv2.addWeighted(verticle_lines_img, alpha, horizontal_lines_img, beta, 0.5)\n",
    "    #img_final_bin = cv2.erode(~img_final_bin, kernel, iterations=2)\n",
    "    (thresh, img_final_bin) = cv2.threshold(img_final_bin, 230,255, cv2.THRESH_OTSU| cv2.ADAPTIVE_THRESH_GAUSSIAN_C) # UPDATE\n",
    "    plt.axis('off')\n",
    "    plt.imshow(img_final_bin)\n",
    "#     images.append(mpimg.imread(img_path))\n",
    "    # Find contours for image, which will detect all the boxes\n",
    "    contours, hierarchy = cv2.findContours(img_final_bin, cv2.RETR_TREE, cv2.CHAIN_APPROX_NONE) #UPDATE\n",
    "\n",
    "    # Sort all the contours by top to bottom.\n",
    "    (contours, boundingBoxes) = sort_contours(contours, method=\"top-to-bottom\")\n",
    "    idx = 1\n",
    "    \n",
    "    for c in (contours):\n",
    "        # Returns the location and width,height for every contour\n",
    "        x, y, w, h = cv2.boundingRect(c)\n",
    "        \n",
    "# If the box height is greater then 20, widht is >80, then only save it as a box in \"cropped/\" folder.\n",
    "        if (w > 160 and h > 80) and w < 2.5 *h:\n",
    "            idx += 3\n",
    "            new_img = img[y:y+h, x:x+w]\n",
    "            #plt.subplot(2,3, idx)\n",
    "            plt.imshow(new_img)\n",
    "            plt.axis('off')\n",
    "            #cv2.imwrite('./th/')\n",
    "            #path = './th/'\n",
    "            #plt.savefig(f'./img_result/label{counter}.jpg',dpi=300)\n",
    "            #cv2.imwrite(os.path.join(path , 'label'+str(num)+'.jpg'), new_img)\n",
    "            #cv2.imwrite(os.path.join(path , 'f', new_img))\n",
    "            file_n = img_path.split('_')[-1].split('.')[0]\n",
    "            plt.savefig(f'./img_result/{file_n}_Nutritions_{counter}.jpg',dpi=300) #UPDATED\n",
    "            counter+=1\n",
    "            #cv2.waitKey(0)\n",
    "    #break"
   ]
  },
  {
   "cell_type": "code",
   "execution_count": 6,
   "metadata": {
    "scrolled": false
   },
   "outputs": [
    {
     "data": {
      "text/plain": [
       "array([[255, 255, 255, ...,  80,  81,  81],\n",
       "       [255, 255, 255, ...,  80,  80,  80],\n",
       "       [255, 255, 255, ...,  80,  80,  80],\n",
       "       ...,\n",
       "       [255, 255, 255, ...,  38,   6,  15],\n",
       "       [247, 240, 251, ..., 143, 134, 135],\n",
       "       [248, 255, 255, ..., 234, 251, 253]], dtype=uint8)"
      ]
     },
     "execution_count": 6,
     "metadata": {},
     "output_type": "execute_result"
    }
   ],
   "source": [
    "new_img"
   ]
  },
  {
   "cell_type": "markdown",
   "metadata": {},
   "source": [
    "---"
   ]
  },
  {
   "cell_type": "markdown",
   "metadata": {},
   "source": [
    "## Extracting text from Nutrition lables\n",
    "    OCR (pytesseract) and Open CV"
   ]
  },
  {
   "cell_type": "markdown",
   "metadata": {},
   "source": [
    "### Importing Packages & Libraries:"
   ]
  },
  {
   "cell_type": "code",
   "execution_count": 2,
   "metadata": {},
   "outputs": [],
   "source": [
    "import pytesseract\n",
    "from PIL import Image, ImageEnhance, ImageFilter\n",
    "import os\n",
    "import glob\n",
    "import re\n",
    "import sys\n",
    "import cv2\n",
    "import post_process"
   ]
  },
  {
   "cell_type": "markdown",
   "metadata": {},
   "source": [
    "### Applicatopn of OCR on images saved at 'img_result'"
   ]
  },
  {
   "cell_type": "code",
   "execution_count": 8,
   "metadata": {},
   "outputs": [],
   "source": [
    "def label_Recognizer(path):\n",
    "    import re\n",
    "    import os\n",
    "    from matplotlib import pyplot \n",
    "    files = []\n",
    "    for  r,d, f in os.walk(path):\n",
    "        print(f)\n",
    "        print(d)\n",
    "        print(r)\n",
    "        for file in f:\n",
    "            files.append(os.path.join(file))\n",
    "    p = re.compile('[0-9]+.jpg')\n",
    "    all_result = []\n",
    "    for f in files:\n",
    "        #print(f)\n",
    "     #   out_dict = end_to_end.end_to_end(f'{path}\\{f}')\n",
    "        #-----------------\n",
    "\n",
    "        for file in glob.glob('img_result/*.jpg'):\n",
    "            bw = cv2.imread(file, 0)\n",
    "\n",
    "        # Apply adaptive thresholding to images | @Suma Not Required already applied in image processing.\n",
    "#             thresh = cv2.adaptiveThreshold(bw, 255, cv2.ADAPTIVE_THRESH_GAUSSIAN_C,\\\n",
    "#                 cv2.THRESH_BINARY, 11, 2)\n",
    "\n",
    "        # Get text recognition from thresholded images\n",
    "            output = pytesseract.image_to_string(Image.fromarray(bw))\n",
    "\n",
    "            fileName = p.findall(file)[0]\n",
    "            print (\"Proccessing \" + fileName)\n",
    "            #outFileName = fileName[0:len(fileName)-4]\n",
    "            # Get default text recognition \n",
    "            #output = pytesseract.image_to_string(Image.open(file))\n",
    "            x = post_process.post_process(output)\n",
    "            print(\"\\n Completed Labels for:\", '\\n', fileName, '\\n', output)\n",
    "            all_result.append(x)\n",
    "            x['product_id']=file\n",
    "        result = []\n",
    "        for i in all_result:\n",
    "            if len(i) == 0:\n",
    "                pass\n",
    "            else:\n",
    "                result.append(i)\n",
    "        return result"
   ]
  },
  {
   "cell_type": "code",
   "execution_count": 9,
   "metadata": {},
   "outputs": [
    {
     "name": "stdout",
     "output_type": "stream",
     "text": [
      "['1_Nutritions_29.jpg', '6_Nutritions_75.jpg', '5_Nutritions_101.jpg', '8_Nutritions_115.jpg', '12_Nutritions_69.jpg', '12_Nutritions_68.jpg', '81_Nutritions_134.jpg', '8_Nutritions_114.jpg', '5_Nutritions_100.jpg', '6_Nutritions_74.jpg', '9_Nutritions_126.jpg', '1_Nutritions_28.jpg', '9_Nutritions_124.jpg', '6_Nutritions_76.jpg', '5_Nutritions_102.jpg', '8_Nutritions_116.jpg', '8_Nutritions_117.jpg', '5_Nutritions_103.jpg', '6_Nutritions_77.jpg', '73_Nutritions_23.jpg', '9_Nutritions_119.jpg', '9_Nutritions_125.jpg', '9_Nutritions_121.jpg', '80_Nutritions_129.jpg', '82_Nutritions_137.jpg', '73_Nutritions_27.jpg', '6_Nutritions_73.jpg', '7_Nutritions_49.jpg', '5_Nutritions_107.jpg', '.DS_Store', '8_Nutritions_113.jpg', '81_Nutritions_133.jpg', '81_Nutritions_132.jpg', '8_Nutritions_112.jpg', '5_Nutritions_106.jpg', '7_Nutritions_48.jpg', '6_Nutritions_72.jpg', '73_Nutritions_26.jpg', '80_Nutritions_128.jpg', '9_Nutritions_120.jpg', '9_Nutritions_122.jpg', '73_Nutritions_24.jpg', '5_Nutritions_110.jpg', '5_Nutritions_104.jpg', '81_Nutritions_130.jpg', '13_Nutritions_57.jpg', '81_Nutritions_131.jpg', '8_Nutritions_111.jpg', '5_Nutritions_105.jpg', '73_Nutritions_25.jpg', '9_Nutritions_123.jpg', '75_Nutritions_8.jpg', '74_Nutritions_22.jpg', '79_Nutritions_144.jpg', '79_Nutritions_150.jpg', '76_Nutritions_2.jpg', '78_Nutritions_162.jpg', '78_Nutritions_163.jpg', '5_Nutritions_99.jpg', '76_Nutritions_3.jpg', '79_Nutritions_151.jpg', '79_Nutritions_145.jpg', '75_Nutritions_9.jpg', '74_Nutritions_21.jpg', '2_Nutritions_38.jpg', '79_Nutritions_147.jpg', '76_Nutritions_1.jpg', '78_Nutritions_161.jpg', '11_Nutritions_93.jpg', '11_Nutritions_92.jpg', '78_Nutritions_160.jpg', '79_Nutritions_146.jpg', '2_Nutritions_39.jpg', '74_Nutritions_20.jpg', '74_Nutritions_18.jpg', '79_Nutritions_142.jpg', '76_Nutritions_4.jpg', '82_Nutritions_140.jpg', '78_Nutritions_158.jpg', '10_Nutritions_90.jpg', '11_Nutritions_96.jpg', '10_Nutritions_91.jpg', '78_Nutritions_159.jpg', '11_Nutritions_97.jpg', '76_Nutritions_5.jpg', '79_Nutritions_143.jpg', '74_Nutritions_19.jpg', '79_Nutritions_141.jpg', '11_Nutritions_95.jpg', '11_Nutritions_94.jpg', '76_Nutritions_6.jpg', '74_Nutritions_17.jpg', '75_Nutritions_11.jpg', '4_Nutritions_83.jpg', '78_Nutritions_157.jpg', '11_Nutritions_98.jpg', '78_Nutritions_156.jpg', '4_Nutritions_82.jpg', '75_Nutritions_10.jpg', '75_Nutritions_12.jpg', '4_Nutritions_80.jpg', '78_Nutritions_154.jpg', '10_Nutritions_88.jpg', '10_Nutritions_89.jpg', '78_Nutritions_155.jpg', '4_Nutritions_81.jpg', '75_Nutritions_13.jpg', '75_Nutritions_7.jpg', '4_Nutritions_85.jpg', '4_Nutritions_84.jpg', '75_Nutritions_16.jpg', '75_Nutritions_14.jpg', '79_Nutritions_148.jpg', '4_Nutritions_86.jpg', '78_Nutritions_152.jpg', '78_Nutritions_153.jpg', '4_Nutritions_87.jpg', '79_Nutritions_149.jpg', '75_Nutritions_15.jpg', '1_Nutritions_34.jpg', '82_Nutritions_138.jpg', '7_Nutritions_52.jpg', '5_Nutritions_108.jpg', '83_Nutritions_136.jpg', '5_Nutritions_109.jpg', '7_Nutritions_53.jpg', '82_Nutritions_139.jpg', '80_Nutritions_127.jpg', '1_Nutritions_35.jpg', '1_Nutritions_37.jpg', '7_Nutritions_51.jpg', '83_Nutritions_135.jpg', '13_Nutritions_65.jpg', '13_Nutritions_59.jpg', '13_Nutritions_58.jpg', '13_Nutritions_64.jpg', '7_Nutritions_50.jpg', '1_Nutritions_36.jpg', '1_Nutritions_32.jpg', '2_Nutritions_43.jpg', '3_Nutritions_45.jpg', '7_Nutritions_54.jpg', '84_Nutritions_164.jpg', '12_Nutritions_66.jpg', '13_Nutritions_60.jpg', '12_Nutritions_67.jpg', '13_Nutritions_61.jpg', '84_Nutritions_165.jpg', '7_Nutritions_55.jpg', '2_Nutritions_42.jpg', '3_Nutritions_44.jpg', '1_Nutritions_33.jpg', '1_Nutritions_31.jpg', '3_Nutritions_46.jpg', '2_Nutritions_40.jpg', '6_Nutritions_79.jpg', '13_Nutritions_63.jpg', '12_Nutritions_71.jpg', '84_Nutritions_167.jpg', '84_Nutritions_166.jpg', '12_Nutritions_70.jpg', '13_Nutritions_62.jpg', '8_Nutritions_118.jpg', '6_Nutritions_78.jpg', '7_Nutritions_56.jpg', '3_Nutritions_47.jpg', '2_Nutritions_41.jpg', '1_Nutritions_30.jpg']\n",
      "[]\n",
      "img_result/\n",
      "Proccessing 29.jpg\n",
      "[]\n",
      "\n",
      "\n",
      "\n",
      "[]\n",
      "\n",
      "\n",
      "\n",
      "[]\n",
      "\n",
      "\n",
      "\n",
      "[]\n",
      "\n",
      "\n",
      "\n",
      "[]\n",
      "\n",
      "\n",
      "\n",
      "\n",
      " Completed Labels for: \n",
      " 29.jpg \n",
      " \n",
      "Proccessing 75.jpg\n",
      "[('6\\'\"253501 Ill)', 'Ill)', 0)]\n",
      "\n",
      "\n",
      "\n",
      "[]\n",
      "\n",
      "\n",
      "\n",
      "[]\n",
      "\n",
      "\n",
      "\n",
      "[]\n",
      "\n",
      "\n",
      "\n",
      "[]\n",
      "\n",
      "\n",
      "\n",
      "\n",
      " Completed Labels for: \n",
      " 75.jpg \n",
      " 6'\"253501 Ill)\n",
      "Proccessing 101.jpg\n",
      "[('Nutrition per', '100 mL sys) aestc} aij fele', 0), ('Information', '1 Can (330 mL', 1), ('Energy —', '71 kJ 235 k', 2), ('Enera ui as', '6 e', 3)]\n",
      "\n",
      "\n",
      "\n",
      "[('Energy —', '71 kJ 235 k', 2), ('Enera ui as', '6 e', 3)]\n",
      "\n",
      "\n",
      "\n",
      "[('Energy —', '71 kJ 235 k', 2), ('Enera ui as', '6 e', 3)]\n",
      "\n",
      "\n",
      "\n",
      "[('Energy', '71 kJ 235 k', 1)]\n",
      "\n",
      "\n",
      "\n",
      "[('Energy', '71 kJ 235 k', 1)]\n",
      "\n",
      "\n",
      "\n",
      "\n",
      " Completed Labels for: \n",
      " 101.jpg \n",
      " Nutrition per 100 mL sys) aestc} aij fele!\n",
      "Information 1 Can (330 mL)\n",
      "\n",
      "Energy — 71 kJ 235 kJ\n",
      "\n",
      "Enera ui as 6 ea\n",
      "\n",
      "Carbohydrate\n",
      "of which :\n",
      "Proccessing 115.jpg\n",
      "[('Serving Size ', '28g', 0), ('Serving per container ', '1', 1), ('Calories', '15', 2), ('Saturated Fat', '1', 3), ('Sodium', '210', 4), ('Tata! Carbohydrate', '16', 5), ('Dietary Fiber', '1', 6), ('Protein', '', 7), ('Vitamin', '4% | VitaminG o', 8), ('Calcium', '4% - Iron 25', 9), ('“Percent Dally Values are based on a', '2,00', 10), ('‘Calories:', '2,000 2,50', 11), ('‘Taka Feat Leesthan', '68g og', 12), ('Fai', '9). Carbohydrate 4. Prokein', 13)]\n",
      "\n",
      "\n",
      "\n",
      "[('Serving Size ', '28g', 0), ('Serving per container ', '1', 1), ('Calories', '15', 2), ('Saturated Fat', '1', 3), ('Sodium', '210', 4), ('Tata! Carbohydrate', '16', 5), ('Dietary Fiber', '1', 6), ('Protein', '', 7), ('Calcium', '4% - Iron 25', 9), ('‘Calories:', '2,000 2,50', 11)]\n",
      "\n",
      "\n",
      "\n",
      "[('Serving Size ', '28g', 0), ('Serving per container ', '1', 1), ('Calories', '15', 2), ('Saturated Fat', '1', 3), ('Sugars', '210', 4), ('Tata! Carbohydrate', '16', 5), ('Dietary Fiber', '1', 6), ('Protein', '', 7), ('Calcium', '4% - Iron 25', 9), ('‘Calories:', '2,000 2,50', 11)]\n",
      "\n",
      "\n",
      "\n",
      "[('Serving Size', '28g', 1), ('Calories', '15', 3), ('Saturated Fat', '1', 4), ('Total Carbohydrate', '16', 6), ('Dietary Fiber', '1', 7), ('Sugars', '210', 5), ('Protein', '', 8)]\n",
      "\n",
      "\n",
      "\n",
      "[('Serving Size', '28g', 1), ('Calories', '15', 3), ('Saturated Fat', '1', 4), ('Total Carbohydrate', '16', 6), ('Dietary Fiber', '1', 7), ('Sugars', '210', 5)]\n",
      "\n",
      "\n",
      "\n",
      "\n",
      " Completed Labels for: \n",
      " 115.jpg \n",
      " Nutrition Facts\n",
      "\n",
      "Serving Size (28g)\n",
      "Serving per container (1)\n",
      "\n",
      "Amount Per Serving\n",
      "Calories 150\n",
      "\n",
      "Total Fat\n",
      "Saturated Fat 1g\n",
      "Cholesterol omy\n",
      "\n",
      "Sodium 210m\n",
      "Tata! Carbohydrate 16g\n",
      "Dietary Fiber 1g\n",
      "\n",
      "Sug\n",
      "\n",
      "Protein 2\n",
      "\n",
      "VitaminA4% | VitaminG o%\n",
      "Calcium 4% - Iron 256\n",
      "\n",
      "“Percent Dally Values are based on a 2,000\n",
      "em@lorie diet Your daily valees may be higher\n",
      "or lower depending on your calorie needs,\n",
      "\n",
      "‘Calories: 2,000 2,500\n",
      "\n",
      "‘Taka Feat Leesthan 68g og,\n",
      "Loss than\n",
      "Lesa than\n",
      "Less than\n",
      "\n",
      "Saturated Fat\n",
      "Ghalesterot\n",
      "Sedum\n",
      "Total Carbohydrabe\n",
      "Dietary Fiber\n",
      "\n",
      "aa\n",
      "\n",
      "‘Calories par gram;\n",
      "Fai 9). Carbohydrate 4. Prokein 4\n",
      "Proccessing 69.jpg\n",
      "[('Serving Size', '15', 0), ('Serving Per Container', '4', 1), ('Omg(0%DV)', '', 2), ('Daily Values(DV) are based on a', '2,000 calorie die', 3)]\n",
      "\n",
      "\n",
      "\n",
      "[('Serving Size', '15', 0), ('Serving Per Container', '4', 1)]\n",
      "\n",
      "\n",
      "\n",
      "[('Serving Size', '15', 0), ('Serving Per Container', '4', 1)]\n",
      "\n",
      "\n",
      "\n",
      "[('Serving Size', '15', 1)]\n",
      "\n",
      "\n",
      "\n",
      "[('Serving Size', '15', 1)]\n",
      "\n",
      "\n",
      "\n",
      "\n",
      " Completed Labels for: \n",
      " 69.jpg \n",
      " NUTRITION FACTS\n",
      "Serving Size:15g\n",
      "Serving Per Container:48\n",
      "\n",
      "Amount Per Serving\n",
      "\n",
      "Omg(0%DV)\n",
      "\n",
      "Not a significant source of calories from\n",
      "fat,saturated fat,trans fat,cholesterol,dietary\n",
      "fiber,vitamin A vitamin C calcium and iron.Percent\n",
      "Daily Values(DV) are based on a 2,000 calorie diet\n",
      "Proccessing 68.jpg\n",
      "[]\n",
      "\n",
      "\n",
      "\n",
      "[]\n",
      "\n",
      "\n",
      "\n",
      "[]\n",
      "\n",
      "\n",
      "\n",
      "[]\n",
      "\n",
      "\n",
      "\n",
      "[]\n",
      "\n",
      "\n",
      "\n",
      "\n",
      " Completed Labels for: \n",
      " 68.jpg \n",
      " \n",
      "Proccessing 134.jpg\n",
      "[('Butter', '250', 0), ('£250 Jebel) cule Ce Gaal!', '414 54,5 |', 1), ('C5 YSZ (JeLal) Guba cya) jobs', '55 rill phal', 2), ('Asie Cui g MS Lins ry gh', '6% 1 che cobs cull 19 94', 3), ('£100/E', '39.5 :4xpceall 2 ga', 4), ('L Saatall', '4SLaal} ey', 5)]\n",
      "\n",
      "\n",
      "\n",
      "[]\n",
      "\n",
      "\n",
      "\n",
      "[]\n",
      "\n",
      "\n",
      "\n",
      "[]\n",
      "\n",
      "\n",
      "\n",
      "[]\n",
      "\n",
      "\n",
      "\n",
      "\n",
      " Completed Labels for: \n",
      " 134.jpg \n",
      " (— Delamere Dairy Lightly Spreadable Goats N\n",
      "Butter 250g\n",
      "\n",
      "£250 Jebel) cule Ce Gaal! 414 54,5 |S\n",
      "C5 YSZ (JeLal) Guba cya) jobs 55 rill phall\n",
      "\n",
      "Asie Cui g MS Lins ry gh 6% 1 che cobs cull 19 943\n",
      "£100/E 39.5 :4xpceall 2 ga!\n",
      "\n",
      "L Saatall 4SLaal} ey]\n",
      "Proccessing 114.jpg\n",
      "[('Serving Size ', '28g', 0), ('Serving per container ', '1', 1), ('Calories', '15', 2), ('Total Carbohydrate', '16', 3), ('Dintary Fiber', '4', 4), ('Protein', '', 5), ('Vitamin ', '4™% | Vitaminc O', 6), ('Calcium', '4% _- Iron 2', 7), ('“Parcent Daily Values are based on a', '2,00', 8), ('Calories:', '2,000 2,50', 9), ('‘Total Fat Leesthan', '65g an', 10), ('‘Saturated Fat Lessthan', '20g m', 11), ('Cholesterol Less than omg =', '00m', 12), ('Dietary Fiber', '2', 13), ('Fat', '0. Carbahydrabe 4. Protein', 14)]\n",
      "\n",
      "\n",
      "\n",
      "[('Serving Size ', '28g', 0), ('Serving per container ', '1', 1), ('Calories', '15', 2), ('Total Carbohydrate', '16', 3), ('Dintary Fiber', '4', 4), ('Protein', '', 5), ('Calcium', '4% _- Iron 2', 7), ('Calories:', '2,000 2,50', 9), ('‘Total Fat Leesthan', '65g an', 10), ('‘Saturated Fat Lessthan', '20g m', 11), ('Cholesterol Less than omg =', '00m', 12), ('Dietary Fiber', '2', 13)]\n",
      "\n",
      "\n",
      "\n",
      "[('Serving Size ', '28g', 0), ('Serving per container ', '1', 1), ('Calories', '15', 2), ('Total Carbohydrate', '16', 3), ('Dintary Fiber', '4', 4), ('Protein', '', 5), ('Sugars', '4% _- Iron 2', 7), ('Calories:', '2,000 2,50', 9), ('‘Total Fat Leesthan', '65g an', 10), ('‘Saturated Fat Lessthan', '20g m', 11), ('Cholesterol Less than omg =', '00m', 12), ('Dietary Fiber', '2', 13)]\n",
      "\n",
      "\n",
      "\n",
      "[('Serving Size', '28g', 1), ('Calories', '15', 3), ('Total Carbohydrate', '16', 4), ('Dietary Fiber', '2', 12), ('Sugars', '4% _- Iron 2', 7), ('Protein', '', 6)]\n",
      "\n",
      "\n",
      "\n",
      "[('Serving Size', '28g', 1), ('Calories', '15', 3), ('Total Carbohydrate', '16', 4), ('Dietary Fiber', '4', 5), ('Protein', '', 6)]\n",
      "\n",
      "\n",
      "\n",
      "\n",
      " Completed Labels for: \n",
      " 114.jpg \n",
      " Nutrition Facts\n",
      "\n",
      "Serving Size (28g)\n",
      "Serving per container (1)\n",
      "\n",
      "Amount Per Serving\n",
      "Calories 150\n",
      "\n",
      "Total Fat sy\n",
      "Saturated Fat ig\n",
      "\n",
      "Cholesterol omg\n",
      "\n",
      "Sodium zitmg\n",
      "Total Carbohydrate 16g\n",
      "Dintary Fiber 4q\n",
      "\n",
      "Sug\n",
      "\n",
      "Protein z9\n",
      "\n",
      "Vitamin A4™% | Vitaminc Of\n",
      "Calcium 4% _- Iron 2%\n",
      "\n",
      "“Parcent Daily Values are based on a 2,000\n",
      "calorie diet Your daily values may be higher\n",
      "or lower depending on your calorie neds,\n",
      "\n",
      "Calories: 2,000 2,500\n",
      "\n",
      "‘Total Fat Leesthan 65g ang\n",
      "‘Saturated Fat Lessthan 20g me\n",
      "Cholesterol Less than omg = 00mg\n",
      "‘Soci Lesa than\n",
      "Total Carbohydrate\n",
      "Dietary Fiber 2a\n",
      "\n",
      "(Calorins par gram:\n",
      "Fat 0. Carbahydrabe 4. Protein 4\n"
     ]
    },
    {
     "name": "stdout",
     "output_type": "stream",
     "text": [
      "Proccessing 100.jpg\n",
      "[]\n",
      "\n",
      "\n",
      "\n",
      "[]\n",
      "\n",
      "\n",
      "\n",
      "[]\n",
      "\n",
      "\n",
      "\n",
      "[]\n",
      "\n",
      "\n",
      "\n",
      "[]\n",
      "\n",
      "\n",
      "\n",
      "\n",
      " Completed Labels for: \n",
      " 100.jpg \n",
      " \n",
      "Proccessing 74.jpg\n",
      "[]\n",
      "\n",
      "\n",
      "\n",
      "[]\n",
      "\n",
      "\n",
      "\n",
      "[]\n",
      "\n",
      "\n",
      "\n",
      "[]\n",
      "\n",
      "\n",
      "\n",
      "[]\n",
      "\n",
      "\n",
      "\n",
      "\n",
      " Completed Labels for: \n",
      " 74.jpg \n",
      " \n",
      "Proccessing 126.jpg\n",
      "[('CholesterolOmg ss', '0', 0), ('SCE A ONG a ee siwaced eed', '0', 1), ('Total Carbohydrat', '7g 3', 2), ('eee FIO FOG es ne bec', '0', 3), ('_jotalSugar', '7', 4), ('__Includes', '0gAdded Sugars 0', 5), ('Protein', '09 | 0', 6), ('VitaminAQmg  VitaminC Omg', '0', 7), ('CTE ON ane na', '0', 8), ('lronOmg ee', '0', 9), ('Potassium Omg', '0', 10)]\n",
      "\n",
      "\n",
      "\n",
      "[('CholesterolOmg ss', '0', 0), ('Total Carbohydrat', '7g 3', 2), ('_jotalSugar', '7', 4), ('Protein', '09 | 0', 6), ('Potassium Omg', '0', 10)]\n",
      "\n",
      "\n",
      "\n",
      "[('CholesterolOmg ss', '0', 0), ('Total Carbohydrat', '7g 3', 2), ('_jotalSugar', '7', 4), ('Protein', '09 | 0', 6), ('Potassium Omg', '0', 10)]\n",
      "\n",
      "\n",
      "\n",
      "[('Potassium', '0', 5), ('Total Carbohydrate', '7g 3', 2), ('Protein', '09 | 0', 4)]\n",
      "\n",
      "\n",
      "\n",
      "[('Total Carbohydrate', '7g 3', 2)]\n",
      "\n",
      "\n",
      "\n",
      "\n",
      " Completed Labels for: \n",
      " 126.jpg \n",
      " IfanS Fat ug\n",
      "\n",
      "<_< ee eee eee eee eee eee eee ee ee ee\n",
      "\n",
      "CholesterolOmg ss 0%\n",
      "SCE A ONG a ee siwaced eed 0%\n",
      "Total Carbohydrate7g 3%\n",
      "eee FIO FOG es ne bec 0%\n",
      "_jotalSugars7g\n",
      "__Includes 0gAdded Sugars 0%\n",
      "Protein 09 | 0%\n",
      "VitaminAQmg  VitaminC Omg 0%\n",
      "CTE ON ane na 0%\n",
      "lronOmg ee 0%\n",
      "\n",
      "Potassium Omg 0%\n",
      "Proccessing 28.jpg\n",
      "[('sop ok oe sea (dsl sl gj) Yau lle Gaus |O@o AMA! O', '198', 0), ('Not WL MEG Rain, Rest Raforn, Raton No &', '987004, Your cally intakos ma', 1), ('ab iroby', '8 : F ; .', 2), ('Anas brett gist ', '0', 3), ('AAS YORATNEN', '2 Sk AMS. 3 M', 4), ('Net Wt.:', '80', 5)]\n",
      "\n",
      "\n",
      "\n",
      "[('Not WL MEG Rain, Rest Raforn, Raton No &', '987004, Your cally intakos ma', 1)]\n",
      "\n",
      "\n",
      "\n",
      "[('Not WL MEG Rain, Rest Raforn, Raton No &', '987004, Your cally intakos ma', 1)]\n",
      "\n",
      "\n",
      "\n",
      "[]\n",
      "\n",
      "\n",
      "\n",
      "[]\n",
      "\n",
      "\n",
      "\n",
      "\n",
      " Completed Labels for: \n",
      " 28.jpg \n",
      " Allergen Waring: May Contain Tree\n",
      "Nuts, Wheat Gluten and Mustard\n",
      "\n",
      "Ingredients: Cumin Seed, Black\n",
      "Pepper, Cinnamon, Cardamom,\n",
      "\n",
      "Nemnag nn lames GARAM MASALA POWDER\n",
      "\n",
      "Ingré nts: graines de cumin, r \"\n",
      "\n",
      "hace, Gos efi, alos ce Epices chaudes Poudre\n",
      "\n",
      "laurier et noix de muscace\n",
      "\n",
      "sop ok oe sea (dsl sl gj) Yau lle Gaus |O@o AMA! Oa1981\n",
      "ectebell Som ft ee LS\n",
      "\n",
      "abl Soe al, did\n",
      "\n",
      " \n",
      "\n",
      " \n",
      "\n",
      " \n",
      "\n",
      " \n",
      "\n",
      " \n",
      "\n",
      " \n",
      "\n",
      " \n",
      "\n",
      " \n",
      "\n",
      " \n",
      "\n",
      "Not WL MEG Rain, Rest Raforn, Raton No & 987004, Your cally intakos may\n",
      "MRP (Incl. ol taxes) Coded on she jaabel nate or lower copending on Yeu\n",
      "\n",
      "Ab A ST GUBIERY Goss a LP\n",
      "Taal ob pl gs)\n",
      "\n",
      "Store ina cool and dry place\n",
      "\n",
      " \n",
      "\n",
      " \n",
      "\n",
      " \n",
      "\n",
      "ab iroby 8 : F ; . a\n",
      "Anas brett gist V0 F\n",
      "65! 3009\n",
      "\n",
      "AAS YORATNEN 2 Sk AMS. 3 Ma\n",
      "\n",
      "Net Wt.: 80g\n",
      "Pane ae ee oon ET)\n",
      "Proccessing 124.jpg\n",
      "[]\n",
      "\n",
      "\n",
      "\n",
      "[]\n",
      "\n",
      "\n",
      "\n",
      "[]\n",
      "\n",
      "\n",
      "\n",
      "[]\n",
      "\n",
      "\n",
      "\n",
      "[]\n",
      "\n",
      "\n",
      "\n",
      "\n",
      " Completed Labels for: \n",
      " 124.jpg \n",
      " \n",
      "Proccessing 76.jpg\n",
      "[]\n",
      "\n",
      "\n",
      "\n",
      "[]\n",
      "\n",
      "\n",
      "\n",
      "[]\n",
      "\n",
      "\n",
      "\n",
      "[]\n",
      "\n",
      "\n",
      "\n",
      "[]\n",
      "\n",
      "\n",
      "\n",
      "\n",
      " Completed Labels for: \n",
      " 76.jpg \n",
      " Tne\n",
      "=a\n",
      "\n",
      "ig\n",
      "41g\n",
      "21g\n",
      "Omg\n",
      "3,99\n",
      "270mg\n",
      "Proccessing 102.jpg\n",
      "[('Aull Ligll', '39> el', 0)]\n",
      "\n",
      "\n",
      "\n",
      "[]\n",
      "\n",
      "\n",
      "\n",
      "[]\n",
      "\n",
      "\n",
      "\n",
      "[]\n",
      "\n",
      "\n",
      "\n",
      "[]\n",
      "\n",
      "\n",
      "\n",
      "\n",
      " Completed Labels for: \n",
      " 102.jpg \n",
      " Aull Ligll 39> ele\n",
      "(AU sigll jg> elo : DligSoll\n",
      "\n",
      "Jo YY: glial Ojgll\n",
      "\n",
      "sub Lazo! wb\n",
      "\n",
      "se\\e\\ee clayl guy\n",
      "\n",
      "v\\se\\ee: algal aay\n",
      "\n",
      "produced by thai coconut pcl\n",
      "Proccessing 116.jpg\n",
      "[('Sodium', '210mg a', 0), ('Total Carbohydrate', '14g 5', 1)]\n",
      "\n",
      "\n",
      "\n",
      "[('Sodium', '210mg a', 0), ('Total Carbohydrate', '14g 5', 1)]\n",
      "\n",
      "\n",
      "\n",
      "[('Sodium', '210mg a', 0), ('Total Carbohydrate', '14g 5', 1)]\n",
      "\n",
      "\n",
      "\n",
      "[('Sodium', '210mg a', 1), ('Total Carbohydrate', '14g 5', 2)]\n",
      "\n",
      "\n",
      "\n",
      "[('Sodium', '210mg a', 1), ('Total Carbohydrate', '14g 5', 2)]\n",
      "\n",
      "\n",
      "\n",
      "\n",
      " Completed Labels for: \n",
      " 116.jpg \n",
      " 7\n",
      "\n",
      "wd ed\n",
      "\n",
      " \n",
      "\n",
      "Sodium 210mg an\n",
      "Total Carbohydrate 14g 5%\n",
      "Olotary Fiber ig Er\n",
      "SLagArs Oe\n",
      "\n",
      "Protein zg\n",
      "Proccessing 117.jpg\n",
      "[]\n",
      "\n",
      "\n",
      "\n",
      "[]\n",
      "\n",
      "\n",
      "\n",
      "[]\n",
      "\n",
      "\n",
      "\n",
      "[]\n",
      "\n",
      "\n",
      "\n",
      "[]\n",
      "\n",
      "\n",
      "\n",
      "\n",
      " Completed Labels for: \n",
      " 117.jpg \n",
      " \n",
      "Proccessing 103.jpg\n",
      "[('Ail rigll', '59> e', 0), ('o\\\\r\\\\e', '1 elgadl guy', 1)]\n",
      "\n",
      "\n",
      "\n",
      "[]\n",
      "\n",
      "\n",
      "\n",
      "[]\n",
      "\n",
      "\n",
      "\n",
      "[]\n",
      "\n",
      "\n",
      "\n",
      "[]\n",
      "\n",
      "\n",
      "\n",
      "\n",
      " Completed Labels for: \n",
      " 103.jpg \n",
      " Ail rigll 59> el\n",
      "LAU! aigll jg> elo : ObgSall\n",
      "do Yt: Bball vjgll\n",
      "Jub clase! ab\n",
      "ee\\eclees a ab\n",
      "o\\r\\e 1 elgadl guy\n",
      "\n",
      "produced by thai coconut pcl\n",
      "Proccessing 77.jpg\n",
      "[]\n",
      "\n",
      "\n",
      "\n",
      "[]\n",
      "\n",
      "\n",
      "\n",
      "[]\n",
      "\n",
      "\n",
      "\n",
      "[]\n",
      "\n",
      "\n",
      "\n",
      "[]\n",
      "\n",
      "\n",
      "\n",
      "\n",
      " Completed Labels for: \n",
      " 77.jpg \n",
      " \n",
      "Proccessing 23.jpg\n",
      "[('Net Wt.', '200g {7.05 02) S', 0)]\n",
      "\n",
      "\n",
      "\n",
      "[]\n",
      "\n",
      "\n",
      "\n",
      "[]\n",
      "\n",
      "\n",
      "\n",
      "[]\n",
      "\n",
      "\n",
      "\n",
      "[]\n",
      "\n",
      "\n",
      "\n",
      "\n",
      " Completed Labels for: \n",
      " 23.jpg \n",
      " Nutrition Facts\n",
      "\n",
      " \n",
      "\n",
      "PRODUCT OF THE PHILIPPINES\n",
      "\n",
      "nn\n",
      "\n",
      "LA\n",
      "c\\A\n",
      "\n",
      "eee 2\n",
      "Net Wt. 200g {7.05 02) SS\n",
      "Proccessing 119.jpg\n",
      "[('12cm x', '12cm', 0)]\n",
      "\n",
      "\n",
      "\n",
      "[]\n",
      "\n",
      "\n",
      "\n",
      "[]\n",
      "\n",
      "\n",
      "\n",
      "[]\n",
      "\n",
      "\n",
      "\n",
      "[]\n",
      "\n",
      "\n",
      "\n",
      "\n",
      " Completed Labels for: \n",
      " 119.jpg \n",
      " 12cm x 12cm\n",
      "Proccessing 125.jpg\n",
      "[('Serving Size', '1 Piece (8g', 0), ('Calories', '3', 1), ('anpasepeend', '0', 2), ('cee eusaee!', '0', 3), ('Protein', '09 0', 4), ('VitaminA Omg __ VitaminC Omg______', '0', 5), ('Caleium Omg', '2. epee. cee cieesee! 0', 6), ('HOMME) ee ee', '0', 7), ('Potassium Omg', '0', 8), ('serving of food contributes to a daily diet.', '2.000 calories', 9)]\n",
      "\n",
      "\n",
      "\n",
      "[('Serving Size', '1 Piece (8g', 0), ('Calories', '3', 1), ('Protein', '09 0', 4), ('Caleium Omg', '2. epee. cee cieesee! 0', 6), ('Potassium Omg', '0', 8), ('serving of food contributes to a daily diet.', '2.000 calories', 9)]\n",
      "\n",
      "\n",
      "\n",
      "[('Serving Size', '1 Piece (8g', 0), ('Calories', '3', 1), ('Protein', '09 0', 4), ('Caleium Omg', '2. epee. cee cieesee! 0', 6), ('Potassium Omg', '0', 8), ('serving of food contributes to a daily diet.', '2.000 calories', 9)]\n",
      "\n",
      "\n",
      "\n",
      "[('Serving Size', '1 Piece (8g', 1), ('Calories', '3', 2), ('Potassium', '0', 5), ('Protein', '09 0', 3)]\n",
      "\n",
      "\n",
      "\n",
      "[('Serving Size', '1 Piece (8g', 1), ('Calories', '3', 2), ('Protein', '09 0', 3)]\n",
      "\n",
      "\n",
      "\n",
      "\n",
      " Completed Labels for: \n",
      " 125.jpg \n",
      " Nutrition Facts\n",
      "\n",
      "  \n",
      " \n",
      " \n",
      "  \n",
      "\n",
      "Serving Size 1 Piece (8g)\n",
      "_ EE —_—E—_—S~L__ SAA\n",
      "Amount Per Serving\n",
      "Calories 30\n",
      "naigere cite aeterarieectielebemtnas eee See\n",
      "anpasepeend 0%\n",
      "cee eusaee! 0%\n",
      "Sosa me\n",
      "\n",
      "Protein 09 0%\n",
      "ee\n",
      "VitaminA Omg __ VitaminC Omg______ 0%\n",
      "Caleium Omg 2. epee. cee cieesee! 0%\n",
      "HOMME) ee ee 0%\n",
      "Potassium Omg 0%\n",
      "\n",
      "The % Daily Value (DV) Tells you how much am nutrient ina\n",
      "serving of food contributes to a daily diet. 2.000 calories a\n",
      "day is used for general nutrition advice.\n",
      "Proccessing 121.jpg\n",
      "[]\n",
      "\n",
      "\n",
      "\n",
      "[]\n",
      "\n",
      "\n",
      "\n",
      "[]\n",
      "\n",
      "\n",
      "\n",
      "[]\n",
      "\n",
      "\n",
      "\n",
      "[]\n",
      "\n",
      "\n",
      "\n",
      "\n",
      " Completed Labels for: \n",
      " 121.jpg \n",
      " \n",
      "Proccessing 129.jpg\n",
      "[]\n",
      "\n",
      "\n",
      "\n",
      "[]\n",
      "\n",
      "\n",
      "\n",
      "[]\n",
      "\n",
      "\n",
      "\n",
      "[]\n",
      "\n",
      "\n",
      "\n",
      "[]\n",
      "\n",
      "\n",
      "\n",
      "\n",
      " Completed Labels for: \n",
      " 129.jpg \n",
      " \n",
      "Proccessing 137.jpg\n",
      "[('Siew CAigSyirsplaio lp sga', 'CAigSyirsplaio lp sga', 0), ('ey big agh Ml a', '1', 1), ('SNTAYEEAGG a poglS', '9 Bd', 2), ('www.', '4matrade.com:', 3), ('NDUGyl Cagle i pe', '2S ph! Hay', 4), ('slo sgui ', '9in', 5), ('Serving Size', '3-5 olves! 16g', 6), ('‘Servings per container About:', '2', 7), ('Calories', '30 Calories from fat 2', 8), ('‘Monmiansaturated Fat', '5', 9), ('eer', '700gme', 10), ('sete.', '350gm', 11), ('723 ge Product of Faynt', 'ge Product of Faynt', 12)]\n",
      "\n",
      "\n",
      "\n",
      "[('Siew CAigSyirsplaio lp sga', 'CAigSyirsplaio lp sga', 0), ('Serving Size', '3-5 olves! 16g', 6), ('‘Servings per container About:', '2', 7), ('Calories', '30 Calories from fat 2', 8), ('‘Monmiansaturated Fat', '5', 9), ('723 ge Product of Faynt', 'ge Product of Faynt', 12)]\n",
      "\n",
      "\n",
      "\n",
      "[('Siew CAigSyirsplaio lp sga', 'CAigSyirsplaio lp sga', 0), ('Serving Size', '3-5 olves! 16g', 6), ('‘Servings per container About:', '2', 7), ('Calories', '30 Calories from fat 2', 8), ('‘Monmiansaturated Fat', '5', 9), ('723 ge Product of Faynt', 'ge Product of Faynt', 12)]\n",
      "\n",
      "\n",
      "\n",
      "[('Serving Size', '3-5 olves! 16g', 2), ('Calories', '30 Calories from fat 2', 4), ('Monounsaturated Fat', '5', 5)]\n",
      "\n",
      "\n",
      "\n",
      "[('Serving Size', '3-5 olves! 16g', 2)]\n",
      "\n",
      "\n",
      "\n",
      "\n",
      " Completed Labels for: \n",
      " 137.jpg \n",
      " So\n",
      "\n",
      "spite apa Geis)\n",
      "ee\n",
      "bogs\n",
      "Siew CAigSyirsplaio lp sga a5\n",
      "SN Giese lS ada\n",
      "$i hc TUL nk\n",
      "stil] Job Stapinal pak Jail\n",
      "el pa glad ge pal Marat gd\n",
      "siagiie\n",
      "Salat gt anal physi\n",
      "ey big agh Ml a 1D\n",
      "gh Mb ype ea ga\n",
      "SNTAYEEAGG a poglSI9 Bde\n",
      "www. 4matrade.com:\n",
      "NDUGyl Cagle i pe 2S ph! Hayy\n",
      "ii Blas Ag gcad\n",
      "ayaa dapat jy\n",
      "\n",
      "Pilate ae by |\n",
      "\n",
      "JNM i\n",
      "\n",
      "4009\n",
      "\n",
      "Pitted\n",
      "Black Olives\n",
      "\n",
      "slo sgui Y9inj\n",
      "\n",
      "PLTTED BLACK OLIVES\n",
      "Spanish Style\n",
      "Nutrition Facts\n",
      "Serving Size 3-5 olves! 16g)\n",
      "‘Servings per container About: 22\n",
      "mount per serving:\n",
      "Calories 30 Calories from fat 25\n",
      "\n",
      "“Dall vate ty\n",
      "\n",
      "‘Torarret zag\n",
      "\n",
      "‘Monmiansaturated Fat 55\n",
      "\n",
      "Potuneatatedtat OE\n",
      "\n",
      "‘ans Fatomg_—\n",
      "\n",
      "Cholesterol ony\n",
      "7H\n",
      "\n",
      "inartaoonae eT os\n",
      "\n",
      "Sugars, Vitamin A, Vitamin C, Calum\n",
      "and iron.\n",
      "\n",
      "retbay nas we ben\n",
      "azn\n",
      "\n",
      "cei iewdea ea\n",
      "aera Netwe\n",
      "eer 700gme\n",
      "wyitomt ut Drained We\n",
      "sete. 350gme\n",
      "723 ge Product of Faynt\n",
      "Proccessing 27.jpg\n",
      "[]\n",
      "\n",
      "\n",
      "\n",
      "[]\n",
      "\n",
      "\n",
      "\n",
      "[]\n",
      "\n",
      "\n",
      "\n",
      "[]\n",
      "\n",
      "\n",
      "\n",
      "[]\n",
      "\n",
      "\n",
      "\n",
      "\n",
      " Completed Labels for: \n",
      " 27.jpg \n",
      " \n",
      "Proccessing 73.jpg\n",
      "[]\n",
      "\n",
      "\n",
      "\n",
      "[]\n",
      "\n",
      "\n",
      "\n",
      "[]\n",
      "\n",
      "\n",
      "\n",
      "[]\n",
      "\n",
      "\n",
      "\n",
      "[]\n",
      "\n",
      "\n",
      "\n",
      "\n",
      " Completed Labels for: \n",
      " 73.jpg \n",
      " \n"
     ]
    },
    {
     "name": "stdout",
     "output_type": "stream",
     "text": [
      "Proccessing 49.jpg\n",
      "[]\n",
      "\n",
      "\n",
      "\n",
      "[]\n",
      "\n",
      "\n",
      "\n",
      "[]\n",
      "\n",
      "\n",
      "\n",
      "[]\n",
      "\n",
      "\n",
      "\n",
      "[]\n",
      "\n",
      "\n",
      "\n",
      "\n",
      " Completed Labels for: \n",
      " 49.jpg \n",
      " \n",
      "Proccessing 107.jpg\n",
      "[]\n",
      "\n",
      "\n",
      "\n",
      "[]\n",
      "\n",
      "\n",
      "\n",
      "[]\n",
      "\n",
      "\n",
      "\n",
      "[]\n",
      "\n",
      "\n",
      "\n",
      "[]\n",
      "\n",
      "\n",
      "\n",
      "\n",
      " Completed Labels for: \n",
      " 107.jpg \n",
      " \n",
      "Proccessing 113.jpg\n",
      "[]\n",
      "\n",
      "\n",
      "\n",
      "[]\n",
      "\n",
      "\n",
      "\n",
      "[]\n",
      "\n",
      "\n",
      "\n",
      "[]\n",
      "\n",
      "\n",
      "\n",
      "[]\n",
      "\n",
      "\n",
      "\n",
      "\n",
      " Completed Labels for: \n",
      " 113.jpg \n",
      " \n",
      "Proccessing 133.jpg\n",
      "[('Butter', '250', 0), ('£250 Jota) quls Ce Gaal! AL', '8 $55 |jast', 1), ('M5 %', '62 (Jebel) qua Cpa) Jobe 5135 iti Sal', 2), ('Arnie Ch g US Lis rr gl ', '1 be cole cual %19 94', 3), ('£100/F39.5:Axsciall ¢ gd all', '¢ gd all', 4)]\n",
      "\n",
      "\n",
      "\n",
      "[]\n",
      "\n",
      "\n",
      "\n",
      "[]\n",
      "\n",
      "\n",
      "\n",
      "[]\n",
      "\n",
      "\n",
      "\n",
      "[]\n",
      "\n",
      "\n",
      "\n",
      "\n",
      " Completed Labels for: \n",
      " 133.jpg \n",
      " Delamere Dairy Lightly Spreadable Goats\n",
      "Butter 250g\n",
      "£250 Jota) quls Ce Gaal! ALt8 $55 |jasts\n",
      "\n",
      "M5 % 62 (Jebel) qua Cpa) Jobe 5135 iti Sal]\n",
      "Arnie Ch g US Lis rr gl %1 be cole cual %19 94)\n",
      "£100/F39.5:Axsciall ¢ gd all\n",
      "\n",
      "Stated) Astea!) ¢ Lis}\n",
      "Proccessing 132.jpg\n",
      "[]\n",
      "\n",
      "\n",
      "\n",
      "[]\n",
      "\n",
      "\n",
      "\n",
      "[]\n",
      "\n",
      "\n",
      "\n",
      "[]\n",
      "\n",
      "\n",
      "\n",
      "[]\n",
      "\n",
      "\n",
      "\n",
      "\n",
      " Completed Labels for: \n",
      " 132.jpg \n",
      " Ezz)\n",
      "Z\\O[OjOOS OS\n",
      "s100b\n",
      "Proccessing 112.jpg\n",
      "[]\n",
      "\n",
      "\n",
      "\n",
      "[]\n",
      "\n",
      "\n",
      "\n",
      "[]\n",
      "\n",
      "\n",
      "\n",
      "[]\n",
      "\n",
      "\n",
      "\n",
      "[]\n",
      "\n",
      "\n",
      "\n",
      "\n",
      " Completed Labels for: \n",
      " 112.jpg \n",
      " \n",
      "Proccessing 106.jpg\n",
      "[]\n",
      "\n",
      "\n",
      "\n",
      "[]\n",
      "\n",
      "\n",
      "\n",
      "[]\n",
      "\n",
      "\n",
      "\n",
      "[]\n",
      "\n",
      "\n",
      "\n",
      "[]\n",
      "\n",
      "\n",
      "\n",
      "\n",
      " Completed Labels for: \n",
      " 106.jpg \n",
      " \n",
      "Proccessing 48.jpg\n",
      "[]\n",
      "\n",
      "\n",
      "\n",
      "[]\n",
      "\n",
      "\n",
      "\n",
      "[]\n",
      "\n",
      "\n",
      "\n",
      "[]\n",
      "\n",
      "\n",
      "\n",
      "[]\n",
      "\n",
      "\n",
      "\n",
      "\n",
      " Completed Labels for: \n",
      " 48.jpg \n",
      " \n",
      "Proccessing 72.jpg\n",
      "[]\n",
      "\n",
      "\n",
      "\n",
      "[]\n",
      "\n",
      "\n",
      "\n",
      "[]\n",
      "\n",
      "\n",
      "\n",
      "[]\n",
      "\n",
      "\n",
      "\n",
      "[]\n",
      "\n",
      "\n",
      "\n",
      "\n",
      " Completed Labels for: \n",
      " 72.jpg \n",
      " \n",
      "Proccessing 26.jpg\n",
      "[]\n",
      "\n",
      "\n",
      "\n",
      "[]\n",
      "\n",
      "\n",
      "\n",
      "[]\n",
      "\n",
      "\n",
      "\n",
      "[]\n",
      "\n",
      "\n",
      "\n",
      "[]\n",
      "\n",
      "\n",
      "\n",
      "\n",
      " Completed Labels for: \n",
      " 26.jpg \n",
      " \n",
      "Proccessing 128.jpg\n",
      "[]\n",
      "\n",
      "\n",
      "\n",
      "[]\n",
      "\n",
      "\n",
      "\n",
      "[]\n",
      "\n",
      "\n",
      "\n",
      "[]\n",
      "\n",
      "\n",
      "\n",
      "[]\n",
      "\n",
      "\n",
      "\n",
      "\n",
      " Completed Labels for: \n",
      " 128.jpg \n",
      " \n",
      "Proccessing 120.jpg\n",
      "[('12cm x', '12 cm', 0)]\n",
      "\n",
      "\n",
      "\n",
      "[]\n",
      "\n",
      "\n",
      "\n",
      "[]\n",
      "\n",
      "\n",
      "\n",
      "[]\n",
      "\n",
      "\n",
      "\n",
      "[]\n",
      "\n",
      "\n",
      "\n",
      "\n",
      " Completed Labels for: \n",
      " 120.jpg \n",
      " 12cm x 12 cm\n",
      "Proccessing 122.jpg\n",
      "[]\n",
      "\n",
      "\n",
      "\n",
      "[]\n",
      "\n",
      "\n",
      "\n",
      "[]\n",
      "\n",
      "\n",
      "\n",
      "[]\n",
      "\n",
      "\n",
      "\n",
      "[]\n",
      "\n",
      "\n",
      "\n",
      "\n",
      " Completed Labels for: \n",
      " 122.jpg \n",
      " \n",
      "Proccessing 24.jpg\n",
      "[('Serving Size', '22g (about 4 pieces', 0), ('Number of Servings Per Pack', 'of Servings Per Pack', 1), ('Calories', '100 4', 2), ('Calories from Fat', '3', 3), ('Total Fat ', '9) 3.', 4), ('Saturated Fat (g)', 'Fat (g)', 5), ('Sugars ', '9', 6), ('Total Protein (q)', '3', 7), ('Vitamin A (IU)', '13', 8), ('Calcium (mg)', '52% REN', 9), ('Iron (mg)', '1 6', 10), ('Male adult requirement of', '19-29 years old', 11)]\n",
      "\n",
      "\n",
      "\n",
      "[('Serving Size', '22g (about 4 pieces', 0), ('Number of Servings Per Pack', 'of Servings Per Pack', 1), ('Calories', '100 4', 2), ('Calories from Fat', '3', 3), ('Total Fat ', '9) 3.', 4), ('Saturated Fat (g)', 'Fat (g)', 5), ('Sugars ', '9', 6), ('Total Protein (q)', '3', 7), ('Calcium (mg)', '52% REN', 9)]\n",
      "\n",
      "\n",
      "\n",
      "[('Serving Size', '22g (about 4 pieces', 0), ('Number of Servings Per Pack', 'of Servings Per Pack', 1), ('Calories', '100 4', 2), ('Calories from Fat', '3', 3), ('Total Fat ', '9) 3.', 4), ('Saturated Fat (g)', 'Fat (g)', 5), ('Sugars', '9', 6), ('Total Protein (q)', '3', 7), ('Calcium (mg)', '52% REN', 9)]\n",
      "\n",
      "\n",
      "\n",
      "[('Serving Size', '22g (about 4 pieces', 1), ('Calories', '100 4', 3), ('Total Fat', '9) 3.', 5), ('Saturated Fat', 'Fat (g)', 6), ('Sugars', '9', 7)]\n",
      "\n",
      "\n",
      "\n",
      "[('Serving Size', '22g (about 4 pieces', 1), ('Calories', '100 4', 3), ('Total Fat', '9) 3.', 5)]\n",
      "\n",
      "\n",
      "\n",
      "\n",
      " Completed Labels for: \n",
      " 24.jpg \n",
      " Nutrition Facts\n",
      "\n",
      "Serving Size 22g (about 4 pieces)\n",
      "Number of Servings Per Pack 9\n",
      "\n",
      "Amount Per Serving %RENI*\n",
      "\n",
      "Calories 100 4%\n",
      "\n",
      "Calories from Fat 30\n",
      "Total Fat (9) 3.5\n",
      "\n",
      "Saturated Fat (g) 0\n",
      "\n",
      "Trans Fat (g)\n",
      "Cholesterol (mg)\n",
      "Sodium (mg)\n",
      "Total Carbohydrates (g)\n",
      "\n",
      "Dietary Fiber (g)\n",
      "\n",
      "Sugars (9)\n",
      "Total Protein (q) 3%\n",
      "Vitamin A (IU) 13%\n",
      "Calcium (mg) 52% RENT\n",
      "\n",
      "Iron (mg) 1 6%\n",
      "\n",
      "“Percent Philippine REN values are based on FNRI referance\n",
      "Male adult requirement of 19-29 years old.\n",
      "Proccessing 110.jpg\n",
      "[]\n",
      "\n",
      "\n",
      "\n",
      "[]\n",
      "\n",
      "\n",
      "\n",
      "[]\n",
      "\n",
      "\n",
      "\n",
      "[]\n",
      "\n",
      "\n",
      "\n",
      "[]\n",
      "\n",
      "\n",
      "\n",
      "\n",
      " Completed Labels for: \n",
      " 110.jpg \n",
      " \n",
      "Proccessing 104.jpg\n",
      "[]\n",
      "\n",
      "\n",
      "\n",
      "[]\n",
      "\n",
      "\n",
      "\n",
      "[]\n",
      "\n",
      "\n",
      "\n",
      "[]\n",
      "\n",
      "\n",
      "\n",
      "[]\n",
      "\n",
      "\n",
      "\n",
      "\n",
      " Completed Labels for: \n",
      " 104.jpg \n",
      " zoltassium “No aadead's\n",
      "Proccessing 130.jpg\n",
      "[('i a, tasty goats’ butter blended with rapeseed of', 'a, tasty goats’ butter blended with rapeseed of', 0), ('|', '110 peasedoy ya pepueig saying 4005 Aso} ED.', 1), ('| axa) io}', 'axa) io}', 2)]\n",
      "\n",
      "\n",
      "\n",
      "[]\n",
      "\n",
      "\n",
      "\n",
      "[]\n",
      "\n",
      "\n",
      "\n",
      "[]\n",
      "\n",
      "\n",
      "\n",
      "[]\n",
      "\n",
      "\n",
      "\n",
      "\n",
      " Completed Labels for: \n",
      " 130.jpg \n",
      " delarrere\n",
      "\n",
      " \n",
      "\n",
      "\\ yorecielolals\n",
      "\n",
      "i a, tasty goats’ butter blended with rapeseed of 1\n",
      "\n",
      "   \n",
      "\n",
      " \n",
      "\n",
      "Were eae eum a ents\n",
      "Rie emer Laois\n",
      "\n",
      "Tinaninnn\n",
      "| 110 peasedoy ya pepueig saying 4005 Aso} ED. {\n",
      "Elcjojoloeulal\n",
      "\n",
      "| axa) io}a0\n",
      "Proccessing 57.jpg\n",
      "[('ssty omaty eee', '2 (SFR ) UIP omaty ee 2 Hh OST', 0), ('Pro. Date', '2018-02-05 :c a', 1), ('Exp. Date', '2020-02-04 : 1 G', 2)]\n",
      "\n",
      "\n",
      "\n",
      "[]\n",
      "\n",
      "\n",
      "\n",
      "[]\n",
      "\n",
      "\n",
      "\n",
      "[]\n",
      "\n",
      "\n",
      "\n",
      "[]\n",
      "\n",
      "\n",
      "\n",
      "\n",
      " Completed Labels for: \n",
      " 57.jpg \n",
      " oe ET em - (ED ene OT HI\n",
      "\n",
      "HP oD TEFL Some Fa INTER IES ote\n",
      "\n",
      "ST <a orm KE? CED MO EEE ID ~\n",
      "\n",
      "ssty omaty eee 2 (SFR ) UIP omaty ee 2 Hh OSTI\n",
      "esr pCa ECP ig = IR maT (mem ip TY )\n",
      "reel fey erp - oe imp)\n",
      "\n",
      "west est eC ireesee\n",
      "\n",
      "SEP Feohy IDR RP FY,\n",
      "\n",
      "£ 26) 9\n",
      "\n",
      " \n",
      "\n",
      " \n",
      "\n",
      "Manufacturer: Shantou YiWang Foodstuff Co.,Ltd [=\n",
      "(Guangdong,China)\n",
      "Importer :Baitrama For Trading Est.\n",
      "\n",
      " \n",
      "\n",
      " \n",
      "\n",
      " \n",
      "\n",
      " \n",
      "\n",
      " \n",
      "\n",
      "Pro. Date:2018-02-05 :c a5\n",
      "Exp. Date:2020-02-04 : 1 Gs\n",
      "Proccessing 131.jpg\n",
      "[]\n",
      "\n",
      "\n",
      "\n",
      "[]\n",
      "\n",
      "\n",
      "\n",
      "[]\n",
      "\n",
      "\n",
      "\n",
      "[]\n",
      "\n",
      "\n",
      "\n",
      "[]\n",
      "\n",
      "\n",
      "\n",
      "\n",
      " Completed Labels for: \n",
      " 131.jpg \n",
      " \n",
      "Proccessing 111.jpg\n",
      "[]\n",
      "\n",
      "\n",
      "\n",
      "[]\n",
      "\n",
      "\n",
      "\n",
      "[]\n",
      "\n",
      "\n",
      "\n",
      "[]\n",
      "\n",
      "\n",
      "\n",
      "[]\n",
      "\n",
      "\n",
      "\n",
      "\n",
      " Completed Labels for: \n",
      " 111.jpg \n",
      " \n",
      "Proccessing 105.jpg\n",
      "[('0000 Thailand’ ‘Cc', 'Thailand’ ‘Cc', 0)]\n",
      "\n",
      "\n",
      "\n",
      "[]\n",
      "\n",
      "\n",
      "\n",
      "[]\n",
      "\n",
      "\n",
      "\n",
      "[]\n",
      "\n",
      "\n",
      "\n",
      "[]\n",
      "\n",
      "\n",
      "\n",
      "\n",
      " Completed Labels for: \n",
      " 105.jpg \n",
      " i THAI.COCONUT PCL.\n",
      "Tumbol Nongkiangna\n",
      "e Muang, Ratchaburi-.\n",
      "\n",
      "0000 Thailand’ ‘Cc\n",
      "Coen oconut:com\n",
      "\n",
      "tha ae\n",
      "Proccessing 25.jpg\n",
      "[('Serving Size', '229 (about 4 pieces', 0), ('Number of Servings Per Pack', 'of Servings Per Pack', 1), ('Calories', '100 4', 2), ('Calories from Fat', '3', 3), ('Total Fat ', '9) 3.', 4), ('Saturated Fat (g)', 'Fat (g)', 5), ('Trans Fat (g)', 'Fat (g)', 6), ('Cholesterol (mg)', '2', 7), ('Sodium (mg)', '1', 8), ('Total Carbohydrates (g)', '1', 9), ('Dietary Fiber (g)', 'Fiber (g)', 10), ('Sugers ', '9) 1', 11), ('Total Protein (g)', '2 3', 12), ('Vitamin A (IU)', '240 13', 13), ('Calcium (mg)', '5 <2% REN', 14), ('Iron (mg)', '1 6', 15), ('Male adult requirement of', '19-29 years old', 16)]\n",
      "\n",
      "\n",
      "\n",
      "[('Serving Size', '229 (about 4 pieces', 0), ('Number of Servings Per Pack', 'of Servings Per Pack', 1), ('Calories', '100 4', 2), ('Calories from Fat', '3', 3), ('Total Fat ', '9) 3.', 4), ('Saturated Fat (g)', 'Fat (g)', 5), ('Trans Fat (g)', 'Fat (g)', 6), ('Cholesterol (mg)', '2', 7), ('Sodium (mg)', '1', 8), ('Total Carbohydrates (g)', '1', 9), ('Dietary Fiber (g)', 'Fiber (g)', 10), ('Sugers ', '9) 1', 11), ('Total Protein (g)', '2 3', 12), ('Calcium (mg)', '5 <2% REN', 14)]\n",
      "\n",
      "\n",
      "\n",
      "[('Serving Size', '229 (about 4 pieces', 0), ('Number of Servings Per Pack', 'of Servings Per Pack', 1), ('Calories', '100 4', 2), ('Calories from Fat', '3', 3), ('Total Fat ', '9) 3.', 4), ('Saturated Fat (g)', 'Fat (g)', 5), ('Trans Fat (g)', 'Fat (g)', 6), ('Cholesterol (mg)', '2', 7), ('Sodium (mg)', '1', 8), ('Total Carbohydrates (g)', '1', 9), ('Dietary Fiber (g)', 'Fiber (g)', 10), ('Sugars', '9) 1', 11), ('Total Protein (g)', '2 3', 12), ('Calcium (mg)', '5 <2% REN', 14)]\n",
      "\n",
      "\n",
      "\n",
      "[('Serving Size', '229 (about 4 pieces', 1), ('Calories', '100 4', 3), ('Total Fat', '9) 3.', 5), ('Saturated Fat', 'Fat (g)', 6), ('Trans Fat', 'Fat (g)', 7), ('Cholesterol', '2', 8), ('Total Carbohydrate', '1', 10), ('Dietary Fiber', 'Fiber (g)', 11), ('Sugars', '9) 1', 12)]\n",
      "\n",
      "\n",
      "\n",
      "[('Serving Size', '229 (about 4 pieces', 1), ('Calories', '100 4', 3), ('Total Fat', '9) 3.', 5), ('Saturated Fat', 'Fat (g)', 6), ('Trans Fat', 'Fat (g)', 7), ('Cholesterol', '2', 8)]\n",
      "\n",
      "\n",
      "\n",
      "\n",
      " Completed Labels for: \n",
      " 25.jpg \n",
      " Nutrition Facts\n",
      "\n",
      "Serving Size 229 (about 4 pieces)\n",
      "Number of Servings Per Pack 9\n",
      "\n",
      "Amount Per Serving S%¢RENI*\n",
      "\n",
      " \n",
      "\n",
      " \n",
      "\n",
      " \n",
      "\n",
      " \n",
      "\n",
      " \n",
      "\n",
      " \n",
      "\n",
      " \n",
      "\n",
      " \n",
      "\n",
      "Calories 100 4%\n",
      "Calories from Fat 30\n",
      "Total Fat (9) 3.6\n",
      "Saturated Fat (g) 0\n",
      "Trans Fat (g) 0\n",
      "Cholesterol (mg) 20\n",
      "Sodium (mg) 10\n",
      "Total Carbohydrates (g) 15\n",
      "Dietary Fiber (g) 0\n",
      "Sugers (9) 10\n",
      "Total Protein (g) 2 3%\n",
      "Vitamin A (IU) 240 13%\n",
      "Calcium (mg) 5 <2% RENI\n",
      "Iron (mg) 1 6%\n",
      "\n",
      "\"Percent Philippine REN! values are based on FNRI reference\n",
      "Male adult requirement of 19-29 years old.\n",
      "Proccessing 123.jpg\n",
      "[]\n",
      "\n",
      "\n",
      "\n",
      "[]\n",
      "\n",
      "\n",
      "\n",
      "[]\n",
      "\n",
      "\n",
      "\n",
      "[]\n",
      "\n",
      "\n",
      "\n",
      "[]\n",
      "\n",
      "\n",
      "\n",
      "\n",
      " Completed Labels for: \n",
      " 123.jpg \n",
      " \n",
      "Proccessing 8.jpg\n",
      "[('and keeps in the cupboard serves', '4 petrol aR Ne CT a', 0), ('Peel', '33 Take a look at our lovely website..', 1), ('5 Reference Intake (RI) (adult)', 'Reference Intake (RI) (adult)', 2), ('Store in a cool dry place. eyed', '2/9 Je', 3), ('CLT R UR (ob n portion ', '250ml). 300mg is 37.5% of an adult', 4), ('of which saturates | ', '0.1g f follow us On |# F', 5)]\n",
      "\n",
      "\n",
      "\n",
      "[('of which saturates | ', '0.1g f follow us On |# F', 5)]\n",
      "\n",
      "\n",
      "\n",
      "[('of which saturates | ', '0.1g f follow us On |# F', 5)]\n",
      "\n",
      "\n",
      "\n",
      "[]\n",
      "\n",
      "\n",
      "\n",
      "[]\n",
      "\n",
      "\n",
      "\n",
      "\n",
      " Completed Labels for: \n",
      " 8.jpg \n",
      " Delamere Dairy\n",
      "\n",
      "A i For recipes, information and\n",
      "i sterilised, homogenised milk\n",
      "Semen where to buy, contact us.\n",
      "\n",
      "Our milk is carefully heat\n",
      "treated to give you a long-life\n",
      "cows’ milk that's extra delicious.\n",
      "MPM UU eLearn ig emi NuirTiTonal information:\n",
      "and keeps in the cupboard serves 4 petrol aR Ne CT ae\n",
      "\n",
      "until you need it. fees eed\n",
      "Peel 33 Take a look at our lovely website...\n",
      "\n",
      "Send us an email\n",
      "\n",
      "Did you know Delamere milk has\n",
      "a brilliant flavour and it’s fat\n",
      "free! It's ideal for cooking and\n",
      "baking. Plus it's also great in your\n",
      "tea or coffee. Visit our website\n",
      "for delicious recipe tdeas.\n",
      "\n",
      "5 Reference Intake (RI) (adult)\n",
      "siersge PY Tape oe\n",
      "Store in a cool dry place. eyed 2/9 Je]\n",
      "Once opened keep refrigerated Pn Ran em RU ath iad\n",
      "\n",
      "CLT R UR (ob n portion (250ml). 300mg is 37.5% of an adults\n",
      "Best before see boitle neck. Nutrient Reference Intake (NRI)\n",
      "\n",
      "of which saturates | <0.1g f follow us On |# Ff\n",
      "carbohydrate\n",
      "of which sugars\n"
     ]
    },
    {
     "name": "stdout",
     "output_type": "stream",
     "text": [
      "Proccessing 22.jpg\n",
      "[('Total Fat', '1.639 2.50', 0), ('Saturated Fat', '0. 24g 1.2', 1), ('Trans Fat Og', '0%', 2), ('Cholesterol', '10mg a V', 3), ('Sodium', '190mg 7.91%', 4), ('Total Carbohydrate', '25.129 G&£37', 5), ('Sugars', '11.51', 6), ('Protein', '1.2', 7), ('*Perent Daily Valued are basedon', '42,000 calorie die', 8)]\n",
      "\n",
      "\n",
      "\n",
      "[('Total Fat', '1.639 2.50', 0), ('Saturated Fat', '0. 24g 1.2', 1), ('Trans Fat Og', '0%', 2), ('Cholesterol', '10mg a V', 3), ('Sodium', '190mg 7.91%', 4), ('Total Carbohydrate', '25.129 G&£37', 5), ('Sugars', '11.51', 6), ('Protein', '1.2', 7)]\n",
      "\n",
      "\n",
      "\n",
      "[('Total Fat', '1.639 2.50', 0), ('Saturated Fat', '0. 24g 1.2', 1), ('Trans Fat Og', '0%', 2), ('Cholesterol', '10mg a V', 3), ('Sodium', '190mg 7.91%', 4), ('Total Carbohydrate', '25.129 G&£37', 5), ('Sugars', '11.51', 6), ('Protein', '1.2', 7)]\n",
      "\n",
      "\n",
      "\n",
      "[('Total Fat', '1.639 2.50', 1), ('Saturated Fat', '0. 24g 1.2', 2), ('Trans Fat', '0%', 3), ('Cholesterol', '10mg a V', 4), ('Sodium', '190mg 7.91%', 5), ('Total Carbohydrate', '25.129 G&£37', 6), ('Sugars', '11.51', 7), ('Protein', '1.2', 8)]\n",
      "\n",
      "\n",
      "\n",
      "[('Total Fat', '1.639 2.50', 1), ('Saturated Fat', '0. 24g 1.2', 2), ('Trans Fat', '0%', 3), ('Cholesterol', '10mg a V', 4), ('Sodium', '190mg 7.91%', 5), ('Total Carbohydrate', '25.129 G&£37', 6), ('Sugars', '11.51', 7), ('Protein', '1.2', 8)]\n",
      "\n",
      "\n",
      "\n",
      "\n",
      " Completed Labels for: \n",
      " 22.jpg \n",
      " Yo Daily Values™\n",
      "\n",
      "Total Fat 1.639 2.50%\n",
      "Saturated Fat 0. 24g 1.2%\n",
      "Trans Fat Og 0%.\n",
      "\n",
      "Cholesterol 10mg a Vo\n",
      "\n",
      "Sodium 190mg 7.91%.\n",
      "\n",
      "Total Carbohydrate 25.129 G&£37%\n",
      "Dietary Fiber Og\n",
      "Sugars 11.519\n",
      "\n",
      "Protein 1.23\n",
      "\n",
      "*Perent Daily Valued are basedon 42,000 calorie diet\n",
      "Proccessing 144.jpg\n",
      "[]\n",
      "\n",
      "\n",
      "\n",
      "[]\n",
      "\n",
      "\n",
      "\n",
      "[]\n",
      "\n",
      "\n",
      "\n",
      "[]\n",
      "\n",
      "\n",
      "\n",
      "[]\n",
      "\n",
      "\n",
      "\n",
      "\n",
      " Completed Labels for: \n",
      " 144.jpg \n",
      " \n",
      "Proccessing 150.jpg\n",
      "[]\n",
      "\n",
      "\n",
      "\n",
      "[]\n",
      "\n",
      "\n",
      "\n",
      "[]\n",
      "\n",
      "\n",
      "\n",
      "[]\n",
      "\n",
      "\n",
      "\n",
      "[]\n",
      "\n",
      "\n",
      "\n",
      "\n",
      " Completed Labels for: \n",
      " 150.jpg \n",
      " \n",
      "Proccessing 2.jpg\n",
      "[('PIpU] “B[eJay ‘Z/GE', '9-UIYIO', 0), ('‘Qe :XOg ‘Od ', '89N}0 ayesodi0', 1), ('“G11 “LAd SHSTUdaALNA', '“LAd SHSTUdaALNA', 2), ('(SOxE} Ife ', '0 JOU', 3), ('\"a0rdd TIWLaY “Xv', 'TIWLaY “Xv', 4), ('3/6', 'L02/p0:Aulaxa 20 av', 5), ('oC? \\\\k', '\\\\k', 6), ('B/V\\\\ek', '8L02/r0 “94W 40 av', 7), ('v0OSO -onHolva', '-onHolva', 8), ('Ge', '001 been', 9)]\n",
      "\n",
      "\n",
      "\n",
      "[]\n",
      "\n",
      "\n",
      "\n",
      "[]\n",
      "\n",
      "\n",
      "\n",
      "[]\n",
      "\n",
      "\n",
      "\n",
      "[]\n",
      "\n",
      "\n",
      "\n",
      "\n",
      " Completed Labels for: \n",
      " 2.jpg \n",
      " PIpU] “B[eJay ‘Z/GEB9-UIYIO)\n",
      "‘AjeweGuy “ur se ‘anueay suBjooW,\n",
      "‘Qe :XOg ‘Od :89N}0 ayesodi04\n",
      "“G11 “LAd SHSTUdaALNA\n",
      "\n",
      " \n",
      "\n",
      " \n",
      "\n",
      " (SOxE} Ife $0 JOU)\n",
      "\"a0rdd TIWLaY “Xv\n",
      "OCF (Rech\n",
      "3/6 L02/p0:Aulaxa 20 ava\n",
      "oC? \\km2\n",
      "B/V\\ek 8L02/r0 “94W 40 ava\n",
      "Cr rer\n",
      "v0OSO -onHolva\n",
      "\n",
      " \n",
      "\n",
      " \n",
      "\n",
      " \n",
      "\n",
      "Ge 001 been\n",
      "Gack Joann | sap\n",
      "SC (Ptr OSeiar\n",
      "Proccessing 162.jpg\n",
      "[]\n",
      "\n",
      "\n",
      "\n",
      "[]\n",
      "\n",
      "\n",
      "\n",
      "[]\n",
      "\n",
      "\n",
      "\n",
      "[]\n",
      "\n",
      "\n",
      "\n",
      "[]\n",
      "\n",
      "\n",
      "\n",
      "\n",
      " Completed Labels for: \n",
      " 162.jpg \n",
      " \n",
      "Proccessing 163.jpg\n",
      "[]\n",
      "\n",
      "\n",
      "\n",
      "[]\n",
      "\n",
      "\n",
      "\n",
      "[]\n",
      "\n",
      "\n",
      "\n",
      "[]\n",
      "\n",
      "\n",
      "\n",
      "[]\n",
      "\n",
      "\n",
      "\n",
      "\n",
      " Completed Labels for: \n",
      " 163.jpg \n",
      " \n",
      "Proccessing 99.jpg\n",
      "[('fresh scent in every sip aS', '221m', 0), (': f wo', '‘67 Moo 4;Tumbol Nongkiangn', 1), ('E BOR:', '70000 aland', 2), (\"38!'g50227 '\", '022406 | — whet', 3), ('THAI COCONUT PCL | it vw ‘PRINTING COLOURS > | sraphic | Osteo |', '6 n', 4), ('‘PURE COCONUT WATER', '330 rr Eta: #1 / JUNE 05,2018 aa je] Prepress OR i te frmerve n', 5), ('Brianna | dabei Zi] wf Artworkienai)_', '1 Samet: Cen sample || Remark Color printing i for guideline only. Pease use metal prof fr reference} Cisne Cremorn', 6), ('nsafi', '1¢(VD. uli 05/06/18 : wily Wording Wawa AI File Mail anf) (CANNED COCONUT WATER SIZE 330 MLai', 7)]\n",
      "\n",
      "\n",
      "\n",
      "[('fresh scent in every sip aS', '221m', 0)]\n",
      "\n",
      "\n",
      "\n",
      "[('fresh scent in every sip aS', '221m', 0)]\n",
      "\n",
      "\n",
      "\n",
      "[]\n",
      "\n",
      "\n",
      "\n",
      "[]\n",
      "\n",
      "\n",
      "\n",
      "\n",
      " Completed Labels for: \n",
      " 99.jpg \n",
      " CRAFTED\n",
      "\n",
      "WITH HEART\n",
      "\n",
      "Meticulousness is our most vital\n",
      "ingredient. We put our heart and\n",
      "‘soul In every step taken,\n",
      "‘assuring the finest quality\n",
      "and true satisfaction,\n",
      "\n",
      " \n",
      "\n",
      "‘Our coconut water comes from\n",
      "Groen Coconuts which are\n",
      "‘grown in Thailand with delicately\n",
      "hand-picked selection for\n",
      "highest quality to deliver\n",
      "its natural taste and é\n",
      "fresh scent in every sip aS 221m,\n",
      "\n",
      "that keep you coming for more. Best Before:\n",
      "\n",
      " \n",
      "\n",
      " \n",
      "\n",
      " \n",
      "\n",
      " \n",
      "\n",
      " \n",
      "\n",
      "Best Served Chilled PURE\n",
      "\n",
      "Ingredient\n",
      "COCONUT eee et\n",
      "\n",
      "  \n",
      "\n",
      "Source of Potassium -No added sugar Product of Thailand\n",
      "\n",
      "  \n",
      "        \n",
      "\n",
      "     \n",
      "\n",
      "Produced by THAI COCONUT PCL.\n",
      ": f wo ‘67 Moo 4;Tumbol Nongkiangna\n",
      "oF hoe Muang, Ratchaburi .\n",
      "E BOR: 70000 aland .\n",
      "/ | ‘ Emaisg Sxportathaicoconteom\n",
      "38!'g50227 ' 022406 | — whet\n",
      "\n",
      " \n",
      "\n",
      " \n",
      "\n",
      "   \n",
      "\n",
      " \n",
      "\n",
      " \n",
      "\n",
      " \n",
      "\n",
      " \n",
      "\n",
      " \n",
      "\n",
      " \n",
      "\n",
      " \n",
      "\n",
      " \n",
      "\n",
      " \n",
      "\n",
      "  \n",
      "\n",
      " \n",
      "\n",
      " \n",
      "\n",
      " \n",
      "\n",
      " \n",
      "\n",
      " \n",
      "\n",
      " \n",
      "\n",
      " \n",
      "\n",
      "aes EY aue Epi te\n",
      "SWAN, INDUSTRIES (THAILAND) LIMITED: a Else (Sens\n",
      "l OG Aur Sz Paver & Tet\n",
      "THAI COCONUT PCL | it vw ‘PRINTING COLOURS > | sraphic | Osteo | 6 na\n",
      "‘PURE COCONUT WATER 330 rr Eta: #1 / JUNE 05,2018 aa je] Prepress OR i te frmerve ne\n",
      "MK No: k | beta Proot “Hi | can NTA | YELLOW ck Supervisor] (SC\n",
      "pe | oa Gner .\n",
      "Brianna | dabei Zi] wf Artworkienai)_C1 Samet: Cen sample || Remark Color printing i for guideline only. Pease use metal prof fr reference} Cisne Cremorne\n",
      "\n",
      " \n",
      "\n",
      " \n",
      "\n",
      " \n",
      "\n",
      " \n",
      "\n",
      " \n",
      "\n",
      " \n",
      "\n",
      " \n",
      "\n",
      " \n",
      "\n",
      " \n",
      "\n",
      " \n",
      "\n",
      " \n",
      "\n",
      " \n",
      "\n",
      " \n",
      "\n",
      " \n",
      "\n",
      " \n",
      "\n",
      " \n",
      "\n",
      "nsafi 1¢(VD. uli 05/06/18 : wily Wording Wawa AI File Mail anf) (CANNED COCONUT WATER SIZE 330 MLai)\n",
      "Proccessing 3.jpg\n",
      "[('Serve Size', '5 tsp. 2gm (.072 oz', 0), ('Serving per container', '20', 1), ('Calories', '67 Fat Cal 5.', 2), ('Total Fat', '1', 3), ('Sodium', '48', 4), ('Total Carbohydrates', '11 3.6', 5), ('Distary', '1.39 4.8', 6), ('Calcium', '25', 7), ('Iron', '4', 8), ('Sugar', '', 9), ('Protein', '4', 10), ('Vitamin A Lass than', '1', 11), ('Vitamin G Less than', '1', 12), ('*Parcent values are based on a', '2,000 calories', 13)]\n",
      "\n",
      "\n",
      "\n",
      "[('Serve Size', '5 tsp. 2gm (.072 oz', 0), ('Serving per container', '20', 1), ('Calories', '67 Fat Cal 5.', 2), ('Total Fat', '1', 3), ('Sodium', '48', 4), ('Total Carbohydrates', '11 3.6', 5), ('Calcium', '25', 7), ('Sugar', '', 9), ('Protein', '4', 10)]\n",
      "\n",
      "\n",
      "\n",
      "[('Serve Size', '5 tsp. 2gm (.072 oz', 0), ('Serving per container', '20', 1), ('Calories', '67 Fat Cal 5.', 2), ('Total Fat', '1', 3), ('Sodium', '48', 4), ('Total Carbohydrates', '11 3.6', 5), ('Calcium', '25', 7), ('Sugars', '', 9), ('Protein', '4', 10)]\n",
      "\n",
      "\n",
      "\n",
      "[('Serving Size', '5 tsp. 2gm (.072 oz', 1), ('Calories', '67 Fat Cal 5.', 3), ('Total Fat', '1', 4), ('Sodium', '48', 5), ('Total Carbohydrate', '11 3.6', 6), ('Sugars', '', 8), ('Protein', '4', 9)]\n",
      "\n",
      "\n",
      "\n",
      "[('Serving Size', '5 tsp. 2gm (.072 oz', 1), ('Calories', '67 Fat Cal 5.', 3), ('Total Fat', '1', 4), ('Sodium', '48', 5), ('Total Carbohydrate', '11 3.6', 6)]\n",
      "\n",
      "\n",
      "\n",
      "\n",
      " Completed Labels for: \n",
      " 3.jpg \n",
      " Siar tH\n",
      "\n",
      "Serve Size 5 tsp. 2gm (.072 oz)\n",
      "Serving per container 200\n",
      "\n",
      "Amount per serving % DY\n",
      "Calories 67 Fat Cal 5.5\n",
      "\n",
      "Total Fat 1g\n",
      "Saturated Fat Og\n",
      "Cholestral img\n",
      "Sodium 480\n",
      "\n",
      "Total Carbohydrates 11 3.6%\n",
      "\n",
      "Distary 1.39 4.8%\n",
      "Calcium 25%\n",
      "Iron 4%\n",
      "Sugar 1\n",
      "\n",
      "Protein 49\n",
      "Vitamin A Lass than 1%\n",
      "Vitamin G Less than 1%\n",
      "*Parcent values are based on a 2,000 calories:\n",
      "diet, Your daily values may be higher or lower\n",
      "depending on your calaria neads,\n",
      "Proccessing 151.jpg\n",
      "[]\n",
      "\n",
      "\n",
      "\n",
      "[]\n",
      "\n",
      "\n",
      "\n",
      "[]\n",
      "\n",
      "\n",
      "\n",
      "[]\n",
      "\n",
      "\n",
      "\n",
      "[]\n",
      "\n",
      "\n",
      "\n",
      "\n",
      " Completed Labels for: \n",
      " 151.jpg \n",
      " \n",
      "Proccessing 145.jpg\n",
      "[]\n",
      "\n",
      "\n",
      "\n",
      "[]\n",
      "\n",
      "\n",
      "\n",
      "[]\n",
      "\n",
      "\n",
      "\n",
      "[]\n",
      "\n",
      "\n",
      "\n",
      "[]\n",
      "\n",
      "\n",
      "\n",
      "\n",
      " Completed Labels for: \n",
      " 145.jpg \n",
      " \n",
      "Proccessing 9.jpg\n",
      "[('eed', '-1 5', 0)]\n",
      "\n",
      "\n",
      "\n",
      "[]\n",
      "\n",
      "\n",
      "\n",
      "[]\n",
      "\n",
      "\n",
      "\n",
      "[]\n",
      "\n",
      "\n",
      "\n",
      "[]\n",
      "\n",
      "\n",
      "\n",
      "\n",
      " Completed Labels for: \n",
      " 9.jpg \n",
      " get in touch:\n",
      "For recipes, information and\n",
      "where to buy, contact us.\n",
      "\n",
      "Delamere Dairy, Yew Tree Farm,\n",
      "Bexton Lane, Knutsford, Cheshire\n",
      "\n",
      "eed -1 5\n",
      "\n",
      "Send us an email\n",
      "info@delameredairy.co.uk\n",
      "Speak to us on the phone...\n",
      "\n",
      "1 01565 750528\n",
      "\n",
      "Take a look at our lovely website...\n",
      "\n",
      "  \n",
      "\n",
      "www.delameredairy.co.uk\n",
      "follow us On wf\n",
      "Proccessing 21.jpg\n",
      "[('Serving Size', '1 (40g', 0), ('Calories', '120 Calories from Fat 1', 1), ('Total Fat', '1.639 2.50', 2), ('Saturated Fat', '0.24 1.2', 3), ('Trans Fat', '0g Go', 4), ('Cholesterol', '10mg 3.32', 5), ('Sodium', '190mg 7.81', 6), ('Total Carbohydrate', '25.129 8.37', 7), ('Sugars', '11.51', 8), ('Protein', '1.2', 9), ('*Percent Daily Valued are basedon a', '2,000 calorie die', 10)]\n",
      "\n",
      "\n",
      "\n",
      "[('Serving Size', '1 (40g', 0), ('Calories', '120 Calories from Fat 1', 1), ('Total Fat', '1.639 2.50', 2), ('Saturated Fat', '0.24 1.2', 3), ('Trans Fat', '0g Go', 4), ('Cholesterol', '10mg 3.32', 5), ('Sodium', '190mg 7.81', 6), ('Total Carbohydrate', '25.129 8.37', 7), ('Sugars', '11.51', 8), ('Protein', '1.2', 9)]\n",
      "\n",
      "\n",
      "\n",
      "[('Serving Size', '1 (40g', 0), ('Calories', '120 Calories from Fat 1', 1), ('Total Fat', '1.639 2.50', 2), ('Saturated Fat', '0.24 1.2', 3), ('Trans Fat', '0g Go', 4), ('Cholesterol', '10mg 3.32', 5), ('Sodium', '190mg 7.81', 6), ('Total Carbohydrate', '25.129 8.37', 7), ('Sugars', '11.51', 8), ('Protein', '1.2', 9)]\n",
      "\n",
      "\n",
      "\n",
      "[('Serving Size', '1 (40g', 1), ('Calories', '120 Calories from Fat 1', 2), ('Total Fat', '1.639 2.50', 3), ('Saturated Fat', '0.24 1.2', 4), ('Trans Fat', '0g Go', 5), ('Cholesterol', '10mg 3.32', 6), ('Sodium', '190mg 7.81', 7), ('Total Carbohydrate', '25.129 8.37', 8), ('Sugars', '11.51', 9), ('Protein', '1.2', 10)]\n",
      "\n",
      "\n",
      "\n",
      "[('Serving Size', '1 (40g', 1), ('Calories', '120 Calories from Fat 1', 2), ('Total Fat', '1.639 2.50', 3), ('Saturated Fat', '0.24 1.2', 4), ('Trans Fat', '0g Go', 5), ('Cholesterol', '10mg 3.32', 6), ('Sodium', '190mg 7.81', 7), ('Total Carbohydrate', '25.129 8.37', 8), ('Sugars', '11.51', 9), ('Protein', '1.2', 10)]\n",
      "\n",
      "\n",
      "\n",
      "\n",
      " Completed Labels for: \n",
      " 21.jpg \n",
      " Nutrition Facts\n",
      "Serving Size 1 (40g)\n",
      "\n",
      "Anount Per Serving\n",
      "Calories 120 Calories from Fat 15\n",
      "% Daily Values *\n",
      "\n",
      "Total Fat 1.639 2.50%\n",
      "Saturated Fat 0.24 1.2%\n",
      "Trans Fat 0g Go.\n",
      "\n",
      "Cholesterol 10mg 3.32%\n",
      "\n",
      "Sodium 190mg 7.81%\n",
      "\n",
      "Total Carbohydrate 25.129 8.37%\n",
      "Dietary Fiber Og\n",
      "\n",
      "Sugars 11.519\n",
      "Protein 1.23\n",
      "\n",
      "*Percent Daily Valued are basedon a 2,000 calorie diet\n"
     ]
    },
    {
     "name": "stdout",
     "output_type": "stream",
     "text": [
      "Proccessing 38.jpg\n",
      "[]\n",
      "\n",
      "\n",
      "\n",
      "[]\n",
      "\n",
      "\n",
      "\n",
      "[]\n",
      "\n",
      "\n",
      "\n",
      "[]\n",
      "\n",
      "\n",
      "\n",
      "[]\n",
      "\n",
      "\n",
      "\n",
      "\n",
      " Completed Labels for: \n",
      " 38.jpg \n",
      " \n",
      "Proccessing 147.jpg\n",
      "[('serving size', '1 oz (28g! About 21 pieces', 0), ('Calories', '160 Calories from fat 100', 1), ('Saturated Fatl', '6g9 | Ov', 2), ('Cholesterol Omg', '0', 3), ('Sodium', '250g 10', 4), ('Total Carbohydrate', '13g «6', 5), ('Dietray Fiber less than ig', '2', 6), ('Sugars', '0', 7)]\n",
      "\n",
      "\n",
      "\n",
      "[('serving size', '1 oz (28g! About 21 pieces', 0), ('Calories', '160 Calories from fat 100', 1), ('Saturated Fatl', '6g9 | Ov', 2), ('Cholesterol Omg', '0', 3), ('Sodium', '250g 10', 4), ('Total Carbohydrate', '13g «6', 5), ('Dietray Fiber less than ig', '2', 6), ('Sugars', '0', 7)]\n",
      "\n",
      "\n",
      "\n",
      "[('serving size', '1 oz (28g! About 21 pieces', 0), ('Calories', '160 Calories from fat 100', 1), ('Saturated Fatl', '6g9 | Ov', 2), ('Cholesterol Omg', '0', 3), ('Sodium', '250g 10', 4), ('Total Carbohydrate', '13g «6', 5), ('Dietray Fiber less than ig', '2', 6), ('Sugars', '0', 7)]\n",
      "\n",
      "\n",
      "\n",
      "[('Serving Size', '1 oz (28g! About 21 pieces', 1), ('Calories', '160 Calories from fat 100', 2), ('Saturated Fat', '6g9 | Ov', 3), ('Cholesterol', '0', 4), ('Sodium', '250g 10', 5), ('Total Carbohydrate', '13g «6', 6), ('Sugars', '0', 8)]\n",
      "\n",
      "\n",
      "\n",
      "[('Serving Size', '1 oz (28g! About 21 pieces', 1), ('Calories', '160 Calories from fat 100', 2), ('Saturated Fat', '6g9 | Ov', 3), ('Cholesterol', '0', 4), ('Sodium', '250g 10', 5), ('Total Carbohydrate', '13g «6', 6)]\n",
      "\n",
      "\n",
      "\n",
      "\n",
      " Completed Labels for: \n",
      " 147.jpg \n",
      " Nutrition Facts\n",
      "\n",
      "serving size 1 oz (28g! About 21 pieces)\n",
      "\n",
      "Amount per serving\n",
      "\n",
      "Calories 160 Calories from fat 100%\n",
      "otal Fat tig\n",
      "Saturated Fatl.6g9 | Ovo\n",
      "Trans Fat Og\n",
      "\n",
      "Cholesterol Omg 0%\n",
      "\n",
      "Sodium 250g 10%\n",
      "\n",
      "Total Carbohydrate 13g «6k\n",
      "Dietray Fiber less than ig 2%\n",
      "\n",
      "Sugars 0g\n",
      "\n",
      "Protein ig\n",
      "Proccessing 1.jpg\n",
      "[('= ¥iQNI', '40 Longowdy “Aq payiodxg 9 payoe', 0), ('Zl', '6LOZ 7O:Adldxd 40 div', 1), ('Buh', '8102/ 0 “oan 30 iv', 2), ('p0S0 <on nova', '<on nova', 3), ('a6 ——— ___ sn', '——— ___ sn', 4)]\n",
      "\n",
      "\n",
      "\n",
      "[]\n",
      "\n",
      "\n",
      "\n",
      "[]\n",
      "\n",
      "\n",
      "\n",
      "[]\n",
      "\n",
      "\n",
      "\n",
      "[]\n",
      "\n",
      "\n",
      "\n",
      "\n",
      " Completed Labels for: \n",
      " 1.jpg \n",
      " hess\n",
      "\n",
      "=\n",
      "a\n",
      "=\n",
      "Py\n",
      "g\n",
      "€\n",
      "z\n",
      "A\n",
      "z\n",
      "3S\n",
      "=\n",
      "\n",
      "‘AyeweBuy “ur yse ‘anuaay suejooy\n",
      "“ge :xog IQ ayesodioy\n",
      "“GIT “\\LAd SASTadadsa.LNa\n",
      "\n",
      "SNV'TOOW\n",
      "\n",
      "= ¥iQNI 40 Longowdy “Aq payiodxg 9 payoed\n",
      "\n",
      "*dOldd TIVLAY “XVI\n",
      "OR (ache\n",
      "Zl 6LOZ/7O:Adldxd 40 diva\n",
      "A? a2\n",
      "Buh 8102/P0 “oan 30 iva\n",
      "\n",
      "Ce im\n",
      "p0S0 <on nova\n",
      "\n",
      "HIPS WSOP ene\n",
      "a6 ——— ___ sn\n",
      "\n",
      "SC (rv oSrereiigiy\n",
      "\n",
      "(Wddid\n",
      "Proccessing 161.jpg\n",
      "[]\n",
      "\n",
      "\n",
      "\n",
      "[]\n",
      "\n",
      "\n",
      "\n",
      "[]\n",
      "\n",
      "\n",
      "\n",
      "[]\n",
      "\n",
      "\n",
      "\n",
      "[]\n",
      "\n",
      "\n",
      "\n",
      "\n",
      " Completed Labels for: \n",
      " 161.jpg \n",
      " F\n",
      "Cts Eat-S £\n",
      "\n",
      "EE NUTRITION INFORMAT\n",
      "FOR SATURATED FAT AN\n",
      "SODIUM CONTENT\n",
      "Proccessing 93.jpg\n",
      "[('40 Ml PPS', '8WUpjap MM', 0), ('““HSIA SUOHS®', '6 ng 5¢)55) o', 1), ('gysp', '2048 204 PUP! HUI StOMD OIG Talyjo 10) 4n0 40', 2), ('. eters) With TEN Toyo', '125', 3), ('-', '7 Slices Per Pack', 4)]\n",
      "\n",
      "\n",
      "\n",
      "[]\n",
      "\n",
      "\n",
      "\n",
      "[]\n",
      "\n",
      "\n",
      "\n",
      "[]\n",
      "\n",
      "\n",
      "\n",
      "[]\n",
      "\n",
      "\n",
      "\n",
      "\n",
      " Completed Labels for: \n",
      " 93.jpg \n",
      " Co ahodddy >)\n",
      "Ea Za nr CA)\n",
      "\n",
      "ag uo\n",
      "\n",
      "40 Ml PPSJ8WUpjap MMM\n",
      "““HSIA SUOHS®B6 ng 5¢)55) op\n",
      "\n",
      "Nn:\n",
      "gyspi2048 204 PUP! HUI StOMD OIG Talyjo 10) 4n0 401\n",
      "\n",
      ".\n",
      "delamere ™.\n",
      "\n",
      "ats cheese\n",
      "ge Chum?\n",
      "\n",
      ". eters) With TEN Toyo 125g\n",
      "\n",
      "   \n",
      " \n",
      "     \n",
      "\n",
      " \n",
      "\n",
      " \n",
      "\n",
      "  \n",
      "\n",
      "- 7 Slices Per Pack\n",
      "\n",
      "wee\"\n",
      "Proccessing 92.jpg\n",
      "[('gro MOPED', '50: mMM', 0), ('foapeb us oot Ut Sonpela “aqy}o', '10} 20 400', 1), ('sysp', '20', 2), ('Spats Mii) eS ,', '125', 3), ('PA lef', '8 vol', 4), ('nau) Fro\\\\(ol- i Reel', '19 ee 12', 5)]\n",
      "\n",
      "\n",
      "\n",
      "[('Spats Mii) eS ,', '125', 3)]\n",
      "\n",
      "\n",
      "\n",
      "[('Spats Mii) eS ,', '125', 3)]\n",
      "\n",
      "\n",
      "\n",
      "[]\n",
      "\n",
      "\n",
      "\n",
      "[]\n",
      "\n",
      "\n",
      "\n",
      "\n",
      " Completed Labels for: \n",
      " 92.jpg \n",
      " (i yeu\n",
      "Ey Ey ors el ev\n",
      "\n",
      "gro MOPED 50: mMMM\n",
      "sHYSIA SUOISOBGp, Sdisei\n",
      "foapeb us oot Ut Sonpela “aqy}o 10} 20 4001\n",
      "\n",
      "  \n",
      "   \n",
      "  \n",
      "  \n",
      "\n",
      "syspl208\n",
      "\n",
      "dele amere, ¥\n",
      "\n",
      "DAIRY\n",
      "\n",
      "goats ches?\n",
      "\n",
      "     \n",
      "\n",
      "   \n",
      "\n",
      "A\n",
      "\n",
      "Spats Mii) eS , 125g\n",
      "PA lef 8 volo\n",
      "\n",
      "nau) Fro\\(ol- i Reel 19 ee 125\n",
      "\n",
      "or as part of a m,\n",
      "LSM ase\n",
      "Proccessing 160.jpg\n",
      "[]\n",
      "\n",
      "\n",
      "\n",
      "[]\n",
      "\n",
      "\n",
      "\n",
      "[]\n",
      "\n",
      "\n",
      "\n",
      "[]\n",
      "\n",
      "\n",
      "\n",
      "[]\n",
      "\n",
      "\n",
      "\n",
      "\n",
      " Completed Labels for: \n",
      " 160.jpg \n",
      " \n",
      "Proccessing 146.jpg\n",
      "[]\n",
      "\n",
      "\n",
      "\n",
      "[]\n",
      "\n",
      "\n",
      "\n",
      "[]\n",
      "\n",
      "\n",
      "\n",
      "[]\n",
      "\n",
      "\n",
      "\n",
      "[]\n",
      "\n",
      "\n",
      "\n",
      "\n",
      " Completed Labels for: \n",
      " 146.jpg \n",
      " \n",
      "Proccessing 39.jpg\n",
      "[]\n",
      "\n",
      "\n",
      "\n",
      "[]\n",
      "\n",
      "\n",
      "\n",
      "[]\n",
      "\n",
      "\n",
      "\n",
      "[]\n",
      "\n",
      "\n",
      "\n",
      "[]\n",
      "\n",
      "\n",
      "\n",
      "\n",
      " Completed Labels for: \n",
      " 39.jpg \n",
      " \n",
      "Proccessing 20.jpg\n",
      "[]\n",
      "\n",
      "\n",
      "\n",
      "[]\n",
      "\n",
      "\n",
      "\n",
      "[]\n",
      "\n",
      "\n",
      "\n",
      "[]\n",
      "\n",
      "\n",
      "\n",
      "[]\n",
      "\n",
      "\n",
      "\n",
      "\n",
      " Completed Labels for: \n",
      " 20.jpg \n",
      " \n",
      "Proccessing 18.jpg\n",
      "[('BEE tsp siptl eBel mee Por oor By aQR otUd ch rey porque orate: chi', '6p yoy ETE yreTeCO', 0), ('800 prope? erytze: ', '5', 1), ('Noweties emmenty: Hots wo?) nbn', '6 e', 2), ('ob item gored nt (Bara)', '1S HA sents GAL) SpPe ote ooniee T', 3), ('Brey CoE owes ppp oer Free eee Fy (HAM Cro NA ', '6p pOXET): Hye Keew [FprE_> orscT6e FH —- oy FSemrED QowH jrorbcTé', 4), ('apm of', '6pp prrereh rcerSo prety Spe erie', 5), ('(6988 ry ove rewsere [eww rate ', '8 antec', 6), ('aso roe ro +', '5 5 5 5p', 7), ('SWILONDIVE IV', '50% ‘LM LAN SNICIACYd OL GELIIWW OD SI SYANVO', 8)]\n",
      "\n",
      "\n",
      "\n",
      "[('800 prope? erytze: ', '5', 1)]\n",
      "\n",
      "\n",
      "\n",
      "[('800 prope? erytze: ', '5', 1)]\n",
      "\n",
      "\n",
      "\n",
      "[]\n",
      "\n",
      "\n",
      "\n",
      "[]\n",
      "\n",
      "\n",
      "\n",
      "\n",
      " Completed Labels for: \n",
      " 18.jpg \n",
      " ------4\n",
      "\n",
      "{eg ee: eR oO ys é\n",
      "BEE tsp siptl eBel mee Por oor By aQR otUd ch rey porque orate: chi 6p yoy ETE yreTeCO A\n",
      "\n",
      "800 prope? erytze: «5 =\n",
      "Noweties emmenty: Hots wo?) nbn 6 eT\n",
      "\n",
      "ie y\n",
      "ob item gored nt (Bara) 1S HA sents GAL) SpPe ote ooniee Te\n",
      "Irearte Paz) (many) oe Se [ose\n",
      "\n",
      "1\n",
      "1\n",
      "1\n",
      "I\n",
      "1\n",
      "'\n",
      "|\n",
      "ee eer ee | a er ae ee ae ee yee ey\n",
      "'\n",
      "|\n",
      "1\n",
      "'\n",
      "\n",
      " \n",
      "\n",
      "rts ( [Sap ee ste an pet sror\n",
      "\n",
      " \n",
      "\n",
      " \n",
      "\n",
      "[iS ony) cot rete yer: ste ureest Sse ei an of owes ope: Be emery eer eo ewrreTe fe mph epeigy > oD pee\n",
      "Brey CoE owes ppp oer Free eee Fy (HAM Cro NA (6p pOXET): Hye Keew [FprE_> orscT6e FH —- oy FSemrED QowH jrorbcTée\n",
      "\n",
      "apm ofh6pp prrereh rcerSo prety Spe erie:\n",
      "\n",
      " \n",
      "\n",
      "|\n",
      "I\n",
      "\\\n",
      "(6988 ry ove rewsere [eww rate (8 antec!\n",
      "'\n",
      "I\n",
      "\\\n",
      "\n",
      "aso roe ro + 5 5 5 5p 4\n",
      "1 1\n",
      "WOO'Sd OOd SUANVS SHAWOLSND SLI OL SIONAOYd AMINVE ALTVNO:\n",
      "SWILONDIVE IV 50% ‘LM LAN SNICIACYd OL GELIIWW OD SI SYANVOL\n",
      "\n",
      "CAKERS\n",
      "Proccessing 142.jpg\n",
      "[]\n",
      "\n",
      "\n",
      "\n",
      "[]\n",
      "\n",
      "\n",
      "\n",
      "[]\n",
      "\n",
      "\n",
      "\n",
      "[]\n",
      "\n",
      "\n",
      "\n",
      "[]\n",
      "\n",
      "\n",
      "\n",
      "\n",
      " Completed Labels for: \n",
      " 142.jpg \n",
      " \n",
      "Proccessing 4.jpg\n",
      "[('Serve Size', '5 tsp. 29m (072 oz', 0), ('Serving per container', '20', 1), ('Calories', '67 Fat Cal 5.', 2), ('Total Fat', '1', 3), ('Sodium', '480mg 20', 4), ('Total Carbohydrates', '11 o.6', 5), ('Digiary', '1.39 4.8', 6), ('Calcium', '255', 7), ('[ron', '4', 8), ('Sugar', '', 9), ('Pratein', '4', 10), ('Vitamin A Lass than', '1', 11), ('Vitamin C Less than', '1', 12), ('*Parcent values are based on a', '2,000 calorie', 13)]\n",
      "\n",
      "\n",
      "\n",
      "[('Serve Size', '5 tsp. 29m (072 oz', 0), ('Serving per container', '20', 1), ('Calories', '67 Fat Cal 5.', 2), ('Total Fat', '1', 3), ('Sodium', '480mg 20', 4), ('Total Carbohydrates', '11 o.6', 5), ('Calcium', '255', 7), ('Sugar', '', 9), ('Pratein', '4', 10)]\n",
      "\n",
      "\n",
      "\n",
      "[('Serve Size', '5 tsp. 29m (072 oz', 0), ('Serving per container', '20', 1), ('Calories', '67 Fat Cal 5.', 2), ('Total Fat', '1', 3), ('Sodium', '480mg 20', 4), ('Total Carbohydrates', '11 o.6', 5), ('Calcium', '255', 7), ('Sugars', '', 9), ('Pratein', '4', 10)]\n",
      "\n",
      "\n",
      "\n",
      "[('Serving Size', '5 tsp. 29m (072 oz', 1), ('Calories', '67 Fat Cal 5.', 3), ('Total Fat', '1', 4), ('Sodium', '480mg 20', 5), ('Total Carbohydrate', '11 o.6', 6), ('Sugars', '', 8), ('Protein', '4', 9)]\n",
      "\n",
      "\n",
      "\n",
      "[('Serving Size', '5 tsp. 29m (072 oz', 1), ('Calories', '67 Fat Cal 5.', 3), ('Total Fat', '1', 4), ('Sodium', '480mg 20', 5), ('Total Carbohydrate', '11 o.6', 6)]\n",
      "\n",
      "\n",
      "\n",
      "\n",
      " Completed Labels for: \n",
      " 4.jpg \n",
      " Serve Size 5 tsp. 29m (072 oz)\n",
      "Serving per container 200\n",
      "\n",
      "Amount per serving DV\n",
      "Calories 67 Fat Cal 5.5\n",
      "Total Fat 1g\n",
      "\n",
      "Saturated Fat Og\n",
      "\n",
      "Cholestral Omg\n",
      "\n",
      "Sodium 480mg 20%\n",
      "Total Carbohydrates 11 o.6%\n",
      "\n",
      " \n",
      "\n",
      "Digiary 1.39 4.8%\n",
      "Calcium 255,\n",
      "[ron 4\n",
      "Sugar 1\n",
      "\n",
      "Pratein 4g\n",
      "Vitamin A Lass than 1%\n",
      "Vitamin C Less than 1%\n",
      "\n",
      "*Parcent values are based on a 2,000 calories\n",
      "diet. Your deily values mey be higher or bower\n",
      "Gapending on your calona needs.\n",
      "Proccessing 140.jpg\n",
      "[]\n",
      "\n",
      "\n",
      "\n",
      "[]\n",
      "\n",
      "\n",
      "\n",
      "[]\n",
      "\n",
      "\n",
      "\n",
      "[]\n",
      "\n",
      "\n",
      "\n",
      "[]\n",
      "\n",
      "\n",
      "\n",
      "\n",
      " Completed Labels for: \n",
      " 140.jpg \n",
      " \n",
      "Proccessing 158.jpg\n",
      "[('Sat Fat', '3.5', 0), ('Trans Fat', '0', 1), ('Cholest', '20m', 2), ('Sodium', '340m', 3), ('Total Carb ', '1', 4), ('Fiber', '0', 5), ('Sugars', '0', 6), ('Protein', '5', 7), ('Vitamin A', '4% *', 8), ('Calcium', '6%', 9)]\n",
      "\n",
      "\n",
      "\n",
      "[('Sat Fat', '3.5', 0), ('Trans Fat', '0', 1), ('Cholest', '20m', 2), ('Sodium', '340m', 3), ('Total Carb ', '1', 4), ('Sugars', '0', 6), ('Protein', '5', 7), ('Calcium', '6%', 9)]\n",
      "\n",
      "\n",
      "\n",
      "[('Sat Fat', '3.5', 0), ('Trans Fat', '0', 1), ('Cholest', '20m', 2), ('Sodium', '340m', 3), ('Total Carb ', '1', 4), ('Sugars', '0', 6), ('Protein', '5', 7), ('Calcium', '6%', 9)]\n",
      "\n",
      "\n",
      "\n",
      "[('Calories', '6%', 8), ('Total Fat', '1', 5), ('Saturated Fat', '3.5', 1), ('Trans Fat', '0', 2), ('Cholesterol', '20m', 3), ('Sodium', '340m', 4), ('Sugars', '0', 6), ('Protein', '5', 7)]\n",
      "\n",
      "\n",
      "\n",
      "[('Calories', '6%', 8), ('Total Fat', '1', 5), ('Saturated Fat', '3.5', 1), ('Trans Fat', '0', 2), ('Cholesterol', '20m', 3), ('Sodium', '340m', 4), ('Sugars', '0', 6), ('Protein', '5', 7)]\n",
      "\n",
      "\n",
      "\n",
      "\n",
      " Completed Labels for: \n",
      " 158.jpg \n",
      " Sat Fat 3.59\n",
      "Trans Fat 0g\n",
      "Cholest 20mg\n",
      "Sodium 340mg\n",
      "Total Carb <1g\n",
      "Fiber 0g\n",
      "Sugars 0g\n",
      "Protein 5g\n",
      "Vitamin A 4% * \\\n",
      "\n",
      "Calcium 6% *\n",
      "Percent Daily Values are base\n"
     ]
    },
    {
     "name": "stdout",
     "output_type": "stream",
     "text": [
      "Proccessing 90.jpg\n",
      "[('preeeel rare = sl = Jay', '2 SiligSal', 0), ('Chalories', '0 PRE ep ie Pear RUS eRe ren [Peary', 1), ('are Ly:', '0% 012 69 89 500 - 05018 12 53', 2), ('Ree ure} re . me es UT ey el mee', '1 eel ee ete e', 3), ('Total Carb.', '0g ey ee eee ee eee Le eet eee ee ee', 4), ('Berit or nears aan', '2007/1636 Pac) Gross Wt : 14 K', 5), ('Aer Netwt ', '12K', 6), ('O28', '(78 Bua ep eA an i', 7)]\n",
      "\n",
      "\n",
      "\n",
      "[('Chalories', '0 PRE ep ie Pear RUS eRe ren [Peary', 1), ('Total Carb.', '0g ey ee eee ee eee Le eet eee ee ee', 4), ('Berit or nears aan', '2007/1636 Pac) Gross Wt : 14 K', 5)]\n",
      "\n",
      "\n",
      "\n",
      "[('Chalories', '0 PRE ep ie Pear RUS eRe ren [Peary', 1), ('Total Carb.', '0g ey ee eee ee eee Le eet eee ee ee', 4), ('Berit or nears aan', '2007/1636 Pac) Gross Wt : 14 K', 5)]\n",
      "\n",
      "\n",
      "\n",
      "[('Calories', '0 PRE ep ie Pear RUS eRe ren [Peary', 1), ('Total Fat', '0g ey ee eee ee eee Le eet eee ee ee', 2)]\n",
      "\n",
      "\n",
      "\n",
      "[('Calories', '0 PRE ep ie Pear RUS eRe ren [Peary', 1), ('Total Fat', '0g ey ee eee ee eee Le eet eee ee ee', 2)]\n",
      "\n",
      "\n",
      "\n",
      "\n",
      " Completed Labels for: \n",
      " 90.jpg \n",
      " THEMAR\n",
      "\n",
      "preeeel rare = sl = Jay 2 SiligSall\n",
      "\n",
      "Fs PH. chee : FSFE: Ee a |=\n",
      "\n",
      "er Ute] Beg EM lo al cl] UD lt er FOREN earn .\n",
      "aM ay ae Se Se cee ey\n",
      "Amount per serving cay eet ren eren.v any very)\n",
      "\n",
      "Chalories 0 PRE ep ie Pear RUS eRe ren [Peary |\n",
      "are Ly: 0% 012 69 89 500 - 05018 12 538\n",
      "\n",
      "Ree ure} re . me es UT ey el mee 1 eel ee ete el\n",
      "Total Carb. 0g ey ee eee ee eee Le eet eee ee eer\n",
      "Percent Daily Val Cer]\n",
      "Berit or nears aan 2007/1636 Pac) Gross Wt : 14 Kg\n",
      "\n",
      "Aer Netwt :12Kg\n",
      "O28 (78 Bua ep eA an i\n",
      "\n",
      "care Feet ree FRY ene er ce] Pn CeCe)\n",
      "Ba ae” a y Product by :Al Badawy Factory for\n",
      "\n",
      "I ML fee SS ee ere eal olives, pickles, import & export\n",
      "772504 490918\n",
      "\n",
      "   \n",
      "\n",
      "Onions\n",
      "\n",
      "S ey sein ees Storage and handling in a cool dry place\n",
      "Cee Re Sei a eb tarde] Refrigerate Afteropening\n",
      "VEC Rel mee CUmiln cers We emer LCs\n",
      "Proccessing 96.jpg\n",
      "[('Honey', '125', 0), ('£125 jus Res jks Gils Cys Ade og sd raha', 'jus Res jks Gils Cys Ade og sd raha', 1), ('6Pebe', '112 Sue «(Jobe ule (ya) Adaa =i Sal', 2), ('IE', '14 0 g 4 Agaud p ganili gs ily gun ALLS 5.tL', 3)]\n",
      "\n",
      "\n",
      "\n",
      "[]\n",
      "\n",
      "\n",
      "\n",
      "[]\n",
      "\n",
      "\n",
      "\n",
      "[]\n",
      "\n",
      "\n",
      "\n",
      "[]\n",
      "\n",
      "\n",
      "\n",
      "\n",
      " Completed Labels for: \n",
      " 96.jpg \n",
      " f— Delamere Dairy Goats Cheese With\n",
      "Honey 125g\n",
      "£125 jus Res jks Gils Cys Ade og sd raha\n",
      "\n",
      "6Pebe 112 Sue «(Jobe ule (ya) Adaa =i Sal}\n",
      "\n",
      "IE 14 0 gh4 Agaud p ganili gs ily gun ALLS 5.tLs\n",
      "£100\n",
      "\n",
      "Ne lage gti) /\n",
      "Proccessing 91.jpg\n",
      "[('772504 ml ls :', 'ml ls :', 0)]\n",
      "\n",
      "\n",
      "\n",
      "[]\n",
      "\n",
      "\n",
      "\n",
      "[]\n",
      "\n",
      "\n",
      "\n",
      "[]\n",
      "\n",
      "\n",
      "\n",
      "[]\n",
      "\n",
      "\n",
      "\n",
      "\n",
      " Completed Labels for: \n",
      " 91.jpg \n",
      " 772504 ml ls :\n",
      "Proccessing 159.jpg\n",
      "[]\n",
      "\n",
      "\n",
      "\n",
      "[]\n",
      "\n",
      "\n",
      "\n",
      "[]\n",
      "\n",
      "\n",
      "\n",
      "[]\n",
      "\n",
      "\n",
      "\n",
      "[]\n",
      "\n",
      "\n",
      "\n",
      "\n",
      " Completed Labels for: \n",
      " 159.jpg \n",
      " INGREDIEN\n",
      "PASTEURIZED PA\n",
      "MILK, CHEESE\n",
      "SALT, ENZYMES\n",
      "Proccessing 97.jpg\n",
      "[]\n",
      "\n",
      "\n",
      "\n",
      "[]\n",
      "\n",
      "\n",
      "\n",
      "[]\n",
      "\n",
      "\n",
      "\n",
      "[]\n",
      "\n",
      "\n",
      "\n",
      "[]\n",
      "\n",
      "\n",
      "\n",
      "\n",
      " Completed Labels for: \n",
      " 97.jpg \n",
      " TS. GUS\n",
      "rm Tyan)\n",
      "Proccessing 5.jpg\n",
      "[]\n",
      "\n",
      "\n",
      "\n",
      "[]\n",
      "\n",
      "\n",
      "\n",
      "[]\n",
      "\n",
      "\n",
      "\n",
      "[]\n",
      "\n",
      "\n",
      "\n",
      "[]\n",
      "\n",
      "\n",
      "\n",
      "\n",
      " Completed Labels for: \n",
      " 5.jpg \n",
      " \n",
      "Proccessing 143.jpg\n",
      "[]\n",
      "\n",
      "\n",
      "\n",
      "[]\n",
      "\n",
      "\n",
      "\n",
      "[]\n",
      "\n",
      "\n",
      "\n",
      "[]\n",
      "\n",
      "\n",
      "\n",
      "[]\n",
      "\n",
      "\n",
      "\n",
      "\n",
      " Completed Labels for: \n",
      " 143.jpg \n",
      " \n",
      "Proccessing 19.jpg\n",
      "[]\n",
      "\n",
      "\n",
      "\n",
      "[]\n",
      "\n",
      "\n",
      "\n",
      "[]\n",
      "\n",
      "\n",
      "\n",
      "[]\n",
      "\n",
      "\n",
      "\n",
      "[]\n",
      "\n",
      "\n",
      "\n",
      "\n",
      " Completed Labels for: \n",
      " 19.jpg \n",
      " \n",
      "Proccessing 141.jpg\n",
      "[('Saturated Fat', '5g 8', 0), ('|Sodium', '2', 1), ('6S pas duusudo', 'pas duusudo', 2), ('Nes rfl Color ', '008 roe', 3)]\n",
      "\n",
      "\n",
      "\n",
      "[('Saturated Fat', '5g 8', 0), ('|Sodium', '2', 1), ('6S pas duusudo', 'pas duusudo', 2)]\n",
      "\n",
      "\n",
      "\n",
      "[('Saturated Fat', '5g 8', 0), ('|Sodium', '2', 1), ('6S pas duusudo', 'pas duusudo', 2)]\n",
      "\n",
      "\n",
      "\n",
      "[('Saturated Fat', '5g 8', 1), ('Sodium', '2', 2)]\n",
      "\n",
      "\n",
      "\n",
      "[('Saturated Fat', '5g 8', 1), ('Sodium', '2', 2)]\n",
      "\n",
      "\n",
      "\n",
      "\n",
      " Completed Labels for: \n",
      " 141.jpg \n",
      " Nutrition Facts\n",
      "\n",
      "TotalFat tig ———=«AT|\n",
      "Saturated Fat 5g 8%\n",
      "\n",
      "|_trans Fat Og\n",
      "\n",
      "Cholesterol oma\n",
      "\n",
      "|Sodium 2:\n",
      "\n",
      "FFotal Carb\n",
      "\n",
      "ERA\n",
      "\n",
      "INTELLIGENCE\n",
      "\n",
      "Qe OUNDATION\n",
      "6S pas duusudo\n",
      "\n",
      "ull algal aigig La\n",
      "\n",
      "sila = Glae f\n",
      "—— P renee vont totais |\n",
      "\n",
      "PaO ee\n",
      "Nes rfl Color (008 roe)\n",
      "\n",
      "af eure pas\n",
      "Lee\n",
      "Proccessing 95.jpg\n",
      "[('Honey', '125', 0), ('E125 dae ce jobs cul Ce die ct pele', 'dae ce jobs cul Ce die ct pele', 1), ('Cebe', '6%1Z Sue «(Jobs Gaba Cpa) Aisa 2 Gili gSal', 2), ('IEA :Cg', '4 Ages a gyal gn Ciby y gus :ALaBLa 5.4', 3)]\n",
      "\n",
      "\n",
      "\n",
      "[]\n",
      "\n",
      "\n",
      "\n",
      "[]\n",
      "\n",
      "\n",
      "\n",
      "[]\n",
      "\n",
      "\n",
      "\n",
      "[]\n",
      "\n",
      "\n",
      "\n",
      "\n",
      " Completed Labels for: \n",
      " 95.jpg \n",
      " Delamere Dairy Goats Cheese With\n",
      "Honey 125g\n",
      "E125 dae ce jobs cul Ce die ct pele\n",
      "\n",
      "Cebe 6%1Z Sue «(Jobs Gaba Cpa) Aisa 2 Gili gSall\n",
      "\n",
      "IEA :Cgh4 Ages a gyal gn Ciby y gus :ALaBLa 5.4L\n",
      "£100\n",
      "\n",
      " \n",
      "\n",
      "Jail ga eLiil\n",
      "Proccessing 94.jpg\n",
      "[('typical values', '100g (17.99', 0), ('energy kJ/kcal', '1212/291|217/5', 1), ('fat', '19.19 [3.4g', 2), ('of which saturates ', '14g_ —s_ |2.5', 3), ('carbohydrate', '12.3g  |2.2', 4), ('of which sugars ', '12.3g |2.2', 5), ('protein', '3.1', 6), ('salt', '0.8g 0.1', 7), ('ference intake (RI) (Adult): Enerav', '8400kJ/200', 8)]\n",
      "\n",
      "\n",
      "\n",
      "[('energy kJ/kcal', '1212/291|217/5', 1), ('carbohydrate', '12.3g  |2.2', 4), ('of which sugars ', '12.3g |2.2', 5), ('protein', '3.1', 6), ('ference intake (RI) (Adult): Enerav', '8400kJ/200', 8)]\n",
      "\n",
      "\n",
      "\n",
      "[('energy kJ/kcal', '1212/291|217/5', 1), ('carbohydrate', '12.3g  |2.2', 4), ('Sugars', '12.3g |2.2', 5), ('protein', '3.1', 6), ('ference intake (RI) (Adult): Enerav', '8400kJ/200', 8)]\n",
      "\n",
      "\n",
      "\n",
      "[('Total Carbohydrate', '12.3g  |2.2', 2), ('Sugars', '12.3g |2.2', 3), ('Protein', '3.1', 4)]\n",
      "\n",
      "\n",
      "\n",
      "[('Total Carbohydrate', '12.3g  |2.2', 2), ('Sugars', '12.3g |2.2', 3)]\n",
      "\n",
      "\n",
      "\n",
      "\n",
      " Completed Labels for: \n",
      " 94.jpg \n",
      " serves / per per slice\n",
      "typical values 100g (17.99)\n",
      "\n",
      "energy kJ/kcal 1212/291|217/52\n",
      "\n",
      "fat 19.19 [3.4g\n",
      "of which saturates |14g_ —s_ |2.5g\n",
      "\n",
      "carbohydrate 12.3g  |2.2g\n",
      "of which sugars |12.3g |2.2g\n",
      "\n",
      "protein 3.1g\n",
      "salt 0.8g 0.1g\n",
      "\n",
      "ference intake (RI) (Adult): Enerav 8400kJ/200)\n",
      "Proccessing 6.jpg\n",
      "[('Calories', '67 Fat Cal 5.', 0), ('Total Fat', '1g 2', 1), ('Saturated Fat Og', '0', 2), ('Cholestrol Omg', '0', 3), ('sodium', '460mg 20', 4), ('Total Carbohydrates lg', '3.6', 5), ('Dietary', '1-49 4.85', 6), ('Calcium', '25', 7), ('Iron', '45', 8), ('sugar', '', 9), ('Protein ', '4', 10), ('Vitamin A Lass than', '1', 11), ('Vitamin C Less than', '1', 12), ('*Percent values are based on a', '2,000 calone', 13)]\n",
      "\n",
      "\n",
      "\n",
      "[('Calories', '67 Fat Cal 5.', 0), ('Total Fat', '1g 2', 1), ('Saturated Fat Og', '0', 2), ('Cholestrol Omg', '0', 3), ('sodium', '460mg 20', 4), ('Total Carbohydrates lg', '3.6', 5), ('Dietary', '1-49 4.85', 6), ('Calcium', '25', 7), ('sugar', '', 9), ('Protein ', '4', 10)]\n",
      "\n",
      "\n",
      "\n",
      "[('Calories', '67 Fat Cal 5.', 0), ('Total Fat', '1g 2', 1), ('Saturated Fat Og', '0', 2), ('Cholestrol Omg', '0', 3), ('sodium', '460mg 20', 4), ('Total Carbohydrates lg', '3.6', 5), ('Dietary', '1-49 4.85', 6), ('Calcium', '25', 7), ('Sugars', '', 9), ('Protein ', '4', 10)]\n",
      "\n",
      "\n",
      "\n",
      "[('Calories', '67 Fat Cal 5.', 1), ('Total Fat', '1g 2', 2), ('Saturated Fat', '0', 3), ('Cholesterol', '0', 4), ('Sodium', '460mg 20', 5), ('Total Carbohydrate', '3.6', 6), ('Sugars', '', 9), ('Protein', '4', 10)]\n",
      "\n",
      "\n",
      "\n",
      "[('Calories', '67 Fat Cal 5.', 1), ('Total Fat', '1g 2', 2), ('Saturated Fat', '0', 3), ('Cholesterol', '0', 4), ('Sodium', '460mg 20', 5), ('Total Carbohydrate', '3.6', 6)]\n",
      "\n",
      "\n",
      "\n",
      "\n",
      " Completed Labels for: \n",
      " 6.jpg \n",
      " Calories 67 Fat Cal 5.5\n",
      "\n",
      "Total Fat 1g 2%\n",
      "Saturated Fat Og 0%\n",
      "Cholestrol Omg 0%\n",
      "sodium 460mg 20%\n",
      "Total Carbohydrates lg 3.6%\n",
      "Dietary 1-49 4.854\n",
      "Calcium 25%\n",
      "Iron 455\n",
      "sugar 1\n",
      "\n",
      "Protein .4g\n",
      "\n",
      "Vitamin A Lass than 1%\n",
      "Vitamin C Less than 1%\n",
      "\n",
      "*Percent values are based on a 2,000 calones\n",
      "et. Your deily values mey be higher or lower\n",
      "@apending on your calorie neads,\n",
      "Proccessing 17.jpg\n",
      "[('seuremcerteinnemen', '48 SO', 0), (\"Wor'sIOOI HRY SWOT STO SIL OLS\", '1DACIONA RAW AIT', 1), ('IWLLDNDAVE LY SOP LAIN DRIGAGM CLUALLINWO ', '1 1280', 2)]\n",
      "\n",
      "\n",
      "\n",
      "[('seuremcerteinnemen', '48 SO', 0)]\n",
      "\n",
      "\n",
      "\n",
      "[('seuremcerteinnemen', '48 SO', 0)]\n",
      "\n",
      "\n",
      "\n",
      "[]\n",
      "\n",
      "\n",
      "\n",
      "[]\n",
      "\n",
      "\n",
      "\n",
      "\n",
      " Completed Labels for: \n",
      " 17.jpg \n",
      " seuremcerteinnemen 48 SO}\n",
      "\n",
      "      \n",
      "\n",
      "1\n",
      "icnemsuopninatatntantatn tie |\n",
      "eine rae men ern ene tomes eters ee eget |\n",
      "\n",
      "1\n",
      "\n",
      " \n",
      "\n",
      "eae paige eae\n",
      "SF etre rere Forte etre ie\n",
      "\n",
      "eae es\n",
      "\n",
      "     \n",
      "\n",
      "Wor'sIOOI HRY SWOT STO SIL OLS 1DACIONA RAW AIT,\n",
      "IWLLDNDAVE LY SOP LAIN DRIGAGM CLUALLINWO $1 12801\n",
      "Proccessing 11.jpg\n",
      "[]\n",
      "\n",
      "\n",
      "\n",
      "[]\n",
      "\n",
      "\n",
      "\n",
      "[]\n",
      "\n",
      "\n",
      "\n",
      "[]\n",
      "\n",
      "\n",
      "\n",
      "[]\n",
      "\n",
      "\n",
      "\n",
      "\n",
      " Completed Labels for: \n",
      " 11.jpg \n",
      " \n",
      "Proccessing 83.jpg\n",
      "[]\n",
      "\n",
      "\n",
      "\n",
      "[]\n",
      "\n",
      "\n",
      "\n",
      "[]\n",
      "\n",
      "\n",
      "\n",
      "[]\n",
      "\n",
      "\n",
      "\n",
      "[]\n",
      "\n",
      "\n",
      "\n",
      "\n",
      " Completed Labels for: \n",
      " 83.jpg \n",
      " \n",
      "Proccessing 157.jpg\n",
      "[('(28g / about', '1\" cube', 0), ('pout', '', 1), ('| Fat Cal', '5', 2), ('4% « Vitamin C', '0', 3), ('Y% * lro', '0', 4), ('are based on a', '2,000 calorie diet', 5)]\n",
      "\n",
      "\n",
      "\n",
      "[]\n",
      "\n",
      "\n",
      "\n",
      "[]\n",
      "\n",
      "\n",
      "\n",
      "[]\n",
      "\n",
      "\n",
      "\n",
      "[]\n",
      "\n",
      "\n",
      "\n",
      "\n",
      " Completed Labels for: \n",
      " 157.jpg \n",
      " ion Facts\n",
      "(28g / about 1\" cube)\n",
      "pout 8\n",
      "\n",
      "ling\n",
      "\n",
      "| Fat Cal 50\n",
      "__% Daily Value*\n",
      "\n",
      "  \n",
      "    \n",
      "    \n",
      "\n",
      "_ |\n",
      "4% « Vitamin C 0%\n",
      "Y% * lron0%\n",
      "are based on a 2,000 calorie diet.\n"
     ]
    },
    {
     "name": "stdout",
     "output_type": "stream",
     "text": [
      "Proccessing 98.jpg\n",
      "[('or as part of q cel', '125', 0), ('inmeal!', '7 sices Per “o', 1)]\n",
      "\n",
      "\n",
      "\n",
      "[]\n",
      "\n",
      "\n",
      "\n",
      "[]\n",
      "\n",
      "\n",
      "\n",
      "[]\n",
      "\n",
      "\n",
      "\n",
      "[]\n",
      "\n",
      "\n",
      "\n",
      "\n",
      " Completed Labels for: \n",
      " 98.jpg \n",
      " alad, on o cheese !\n",
      "or as part of q cel 125g\n",
      "\n",
      "inmeal! 7 sices Per “oh\n",
      "\n",
      "nae\n",
      "Proccessing 156.jpg\n",
      "[('Serv Size', '1 ty aa ats PASTEURIZED P', 0)]\n",
      "\n",
      "\n",
      "\n",
      "[('Serv Size', '1 ty aa ats PASTEURIZED P', 0)]\n",
      "\n",
      "\n",
      "\n",
      "[('Serv Size', '1 ty aa ats PASTEURIZED P', 0)]\n",
      "\n",
      "\n",
      "\n",
      "[('Serving Size', '1 ty aa ats PASTEURIZED P', 1)]\n",
      "\n",
      "\n",
      "\n",
      "[('Serving Size', '1 ty aa ats PASTEURIZED P', 1)]\n",
      "\n",
      "\n",
      "\n",
      "\n",
      " Completed Labels for: \n",
      " 156.jpg \n",
      " Nutrition Fa is] MOREDIENT So\n",
      "Serv Size 1 ty aa ats PASTEURIZED PA\n",
      "\n",
      "MILK, CHEESE CUIURE,\n",
      "SALT, ENZYMES\n",
      "Proccessing 82.jpg\n",
      "[]\n",
      "\n",
      "\n",
      "\n",
      "[]\n",
      "\n",
      "\n",
      "\n",
      "[]\n",
      "\n",
      "\n",
      "\n",
      "[]\n",
      "\n",
      "\n",
      "\n",
      "[]\n",
      "\n",
      "\n",
      "\n",
      "\n",
      " Completed Labels for: \n",
      " 82.jpg \n",
      " \n",
      "Proccessing 10.jpg\n",
      "[]\n",
      "\n",
      "\n",
      "\n",
      "[]\n",
      "\n",
      "\n",
      "\n",
      "[]\n",
      "\n",
      "\n",
      "\n",
      "[]\n",
      "\n",
      "\n",
      "\n",
      "[]\n",
      "\n",
      "\n",
      "\n",
      "\n",
      " Completed Labels for: \n",
      " 10.jpg \n",
      " Nutritional information:\n",
      "\n",
      "ak\n",
      "Proccessing 12.jpg\n",
      "[]\n",
      "\n",
      "\n",
      "\n",
      "[]\n",
      "\n",
      "\n",
      "\n",
      "[]\n",
      "\n",
      "\n",
      "\n",
      "[]\n",
      "\n",
      "\n",
      "\n",
      "[]\n",
      "\n",
      "\n",
      "\n",
      "\n",
      " Completed Labels for: \n",
      " 12.jpg \n",
      " \n",
      "Proccessing 80.jpg\n",
      "[]\n",
      "\n",
      "\n",
      "\n",
      "[]\n",
      "\n",
      "\n",
      "\n",
      "[]\n",
      "\n",
      "\n",
      "\n",
      "[]\n",
      "\n",
      "\n",
      "\n",
      "[]\n",
      "\n",
      "\n",
      "\n",
      "\n",
      " Completed Labels for: \n",
      " 80.jpg \n",
      " 304182\n",
      "Proccessing 154.jpg\n",
      "[]\n",
      "\n",
      "\n",
      "\n",
      "[]\n",
      "\n",
      "\n",
      "\n",
      "[]\n",
      "\n",
      "\n",
      "\n",
      "[]\n",
      "\n",
      "\n",
      "\n",
      "[]\n",
      "\n",
      "\n",
      "\n",
      "\n",
      " Completed Labels for: \n",
      " 154.jpg \n",
      " ———S SSS\n",
      "\n",
      "ATHENOS\n",
      "\n",
      "FETA\n",
      "\n",
      "Cte Eve-S FE\n",
      "\n",
      "SEE NUTRITION INFORMATION\n",
      "FOR SATURATED FAT AND\n",
      "SODIUM CONTENT\n",
      "\n",
      " \n",
      "\n",
      " \n",
      "\n",
      " \n",
      "\n",
      "fd\n",
      "Proccessing 88.jpg\n",
      "[]\n",
      "\n",
      "\n",
      "\n",
      "[]\n",
      "\n",
      "\n",
      "\n",
      "[]\n",
      "\n",
      "\n",
      "\n",
      "[]\n",
      "\n",
      "\n",
      "\n",
      "[]\n",
      "\n",
      "\n",
      "\n",
      "\n",
      " Completed Labels for: \n",
      " 88.jpg \n",
      " \n",
      "Proccessing 89.jpg\n",
      "[]\n",
      "\n",
      "\n",
      "\n",
      "[]\n",
      "\n",
      "\n",
      "\n",
      "[]\n",
      "\n",
      "\n",
      "\n",
      "[]\n",
      "\n",
      "\n",
      "\n",
      "[]\n",
      "\n",
      "\n",
      "\n",
      "\n",
      " Completed Labels for: \n",
      " 89.jpg \n",
      " \n",
      "Proccessing 155.jpg\n",
      "[('Serv Size', '1 02 (28g if about 1\"', 0), ('Servings about', 'about', 1), ('Calories', '70 Fat Cal 50 | 6', 2), ('Total Fat', '69 9% | C', 3), ('Sat Fat', '3.59 18% | W', 4), ('Trans Fat', '0', 5), ('Cholest', '20mg 71', 6), ('Sodium', '340mg 14', 7), ('Total Carb ', '1g 0', 8), ('Fiber Og', '0', 9), ('Protein', '5', 10), ('Vitamin A', '4% © Vitamin C 0', 11), ('Calcium', '6% © tron0%', 12), ('Perceal Daly Values are based on a', '2,000 calorie diet. | F', 13)]\n",
      "\n",
      "\n",
      "\n",
      "[('Serv Size', '1 02 (28g if about 1\"', 0), ('Servings about', 'about', 1), ('Calories', '70 Fat Cal 50 | 6', 2), ('Total Fat', '69 9% | C', 3), ('Sat Fat', '3.59 18% | W', 4), ('Trans Fat', '0', 5), ('Cholest', '20mg 71', 6), ('Sodium', '340mg 14', 7), ('Total Carb ', '1g 0', 8), ('Protein', '5', 10), ('Calcium', '6% © tron0%', 12)]\n",
      "\n",
      "\n",
      "\n",
      "[('Serv Size', '1 02 (28g if about 1\"', 0), ('Sugars', 'about', 1), ('Calories', '70 Fat Cal 50 | 6', 2), ('Total Fat', '69 9% | C', 3), ('Sat Fat', '3.59 18% | W', 4), ('Trans Fat', '0', 5), ('Cholest', '20mg 71', 6), ('Sodium', '340mg 14', 7), ('Total Carb ', '1g 0', 8), ('Protein', '5', 10), ('Calcium', '6% © tron0%', 12)]\n",
      "\n",
      "\n",
      "\n",
      "[('Serving Size', '1 02 (28g if about 1\"', 1), ('Calories', '70 Fat Cal 50 | 6', 3), ('Total Fat', '69 9% | C', 4), ('Saturated Fat', '3.59 18% | W', 5), ('Trans Fat', '0', 6), ('Cholesterol', '20mg 71', 7), ('Sodium', '340mg 14', 8), ('Total Carbohydrate', '1g 0', 9), ('Sugars', 'about', 2), ('Protein', '5', 10)]\n",
      "\n",
      "\n",
      "\n",
      "[('Serving Size', '1 02 (28g if about 1\"', 1), ('Calories', '70 Fat Cal 50 | 6', 3), ('Total Fat', '69 9% | C', 4), ('Saturated Fat', '3.59 18% | W', 5), ('Trans Fat', '0', 6), ('Cholesterol', '20mg 71', 7), ('Sodium', '340mg 14', 8), ('Total Carbohydrate', '1g 0', 9), ('Sugars', 'about', 2), ('Protein', '5', 10)]\n",
      "\n",
      "\n",
      "\n",
      "\n",
      " Completed Labels for: \n",
      " 155.jpg \n",
      " Nutrition Facts\n",
      "Serv Size 1 02 (28g if about 1\" =\n",
      "Servings about 8\n",
      "\n",
      "Amount / Serving\n",
      "\n",
      " \n",
      "       \n",
      "   \n",
      " \n",
      "    \n",
      "\n",
      " \n",
      "\n",
      " \n",
      "\n",
      " \n",
      "\n",
      "    \n",
      "      \n",
      "     \n",
      "   \n",
      "   \n",
      "     \n",
      " \n",
      "\n",
      "Calories 70 Fat Cal 50 | 60\n",
      "\n",
      "% Daily Value* | Di!\n",
      "\n",
      "Total Fat 69 9% | CH\n",
      "\n",
      "Sat Fat 3.59 18% | WI\n",
      "Trans Fat 0g\n",
      "\n",
      " \n",
      "\n",
      "Cholest 20mg 71%\n",
      "Sodium 340mg 14%\n",
      "Total Carb <1g 0%\n",
      "Fiber Og 0%\n",
      "ugars Og\n",
      "Protein 5g\n",
      "\n",
      "a a\n",
      "Vitamin A 4% © Vitamin C 0%\n",
      "Calcium 6% © tron0% _\n",
      "\n",
      "Perceal Daly Values are based on a 2,000 calorie diet. | FF\n",
      "\n",
      "MU\n",
      "\n",
      "0° 70277\n",
      "Proccessing 81.jpg\n",
      "[]\n",
      "\n",
      "\n",
      "\n",
      "[]\n",
      "\n",
      "\n",
      "\n",
      "[]\n",
      "\n",
      "\n",
      "\n",
      "[]\n",
      "\n",
      "\n",
      "\n",
      "[]\n",
      "\n",
      "\n",
      "\n",
      "\n",
      " Completed Labels for: \n",
      " 81.jpg \n",
      " \n",
      "Proccessing 13.jpg\n",
      "[]\n",
      "\n",
      "\n",
      "\n",
      "[]\n",
      "\n",
      "\n",
      "\n",
      "[]\n",
      "\n",
      "\n",
      "\n",
      "[]\n",
      "\n",
      "\n",
      "\n",
      "[]\n",
      "\n",
      "\n",
      "\n",
      "\n",
      " Completed Labels for: \n",
      " 13.jpg \n",
      " ' Did you know Delamere milk has\n",
      "Q brilliant flavour and it's fat\n",
      "free! It's ideal for cooking and\n",
      "\n",
      "baking. Plus it’s also great in your\n",
      "tea or coffee. Visit our website\n",
      "for delicious recipe ideas.\n",
      "\n",
      "’ Sorage)\n",
      "Proccessing 7.jpg\n",
      "[('Did you know Delamere milk has', '20.1', 0), ('a brilliant flavour and it’s fat', '5 ; i o', 1), ('Store in a cool dry place. rie ble}', '6', 2), ('Once opened keep refrigerated', '120mg (15%) per 100mI/300mg pe', 3), ('CUTE A Tal re lob in portion ', '250ml). 300mg is 37.5% of an adult', 4)]\n",
      "\n",
      "\n",
      "\n",
      "[('CUTE A Tal re lob in portion ', '250ml). 300mg is 37.5% of an adult', 4)]\n",
      "\n",
      "\n",
      "\n",
      "[('CUTE A Tal re lob in portion ', '250ml). 300mg is 37.5% of an adult', 4)]\n",
      "\n",
      "\n",
      "\n",
      "[]\n",
      "\n",
      "\n",
      "\n",
      "[]\n",
      "\n",
      "\n",
      "\n",
      "\n",
      " Completed Labels for: \n",
      " 7.jpg \n",
      " Delamere Dairy\n",
      "\n",
      "an is i For recipes, information and\n",
      "Re eee A etrer  R ;\n",
      "Essidbaseteoiae Paice panel lclo k sy\n",
      "\n",
      "Our milk is carefully heat\n",
      "treated to give you a long-life\n",
      "cows’ milk that's extra delicious.\n",
      "It’s as nutritious as fresh milk Nutritional information:\n",
      "and keeps in the cupboard Rae Nee) seh Re Se\n",
      "until you need it. EN elexe Nees\n",
      "\n",
      "Send us an email\n",
      "\n",
      "iC VE*} Take a look at our lovely website...\n",
      "Did you know Delamere milk has 20.19\n",
      "\n",
      "a brilliant flavour and it’s fat 5 ; i on\n",
      "che a és PAM irene i follow us id\n",
      "freel It's ideal for cooking and Se\n",
      "\n",
      "baking. Plus it’s also great in your Aiea ele z J ae\n",
      "tea or coffee. Visit our website . >\n",
      "for delicious recipe ideas.\n",
      "\n",
      ": SSI ret Moe CA) Corel]\n",
      "Storage Py apr ee Rene eR\n",
      "Store in a cool dry place. rie ble} 6g\n",
      "Once opened keep refrigerated 120mg (15%) per 100mI/300mg per\n",
      "5 \"010825\"003945\n",
      "\n",
      "CUTE A Tal re lob in portion (250ml). 300mg is 37.5% of an adults\n",
      "Best before see boitle neck. Nutrient Reference Intake (NRI)\n",
      "Proccessing 85.jpg\n",
      "[('Serving Size', '30g 554k', 0), ('(132kcal)', '', 1)]\n",
      "\n",
      "\n",
      "\n",
      "[('Serving Size', '30g 554k', 0)]\n",
      "\n",
      "\n",
      "\n",
      "[('Serving Size', '30g 554k', 0)]\n",
      "\n",
      "\n",
      "\n",
      "[('Serving Size', '30g 554k', 1)]\n",
      "\n",
      "\n",
      "\n",
      "[('Serving Size', '30g 554k', 1)]\n",
      "\n",
      "\n",
      "\n",
      "\n",
      " Completed Labels for: \n",
      " 85.jpg \n",
      " NUTRITION INFORMATION\n",
      "\n",
      "Serving Size 30g 554k)\n",
      "(132kcal)\n",
      "\n",
      "3g\n",
      "\n",
      "4.19\n",
      "Zig\n",
      "img\n",
      "3.99\n",
      "270mg\n",
      "Proccessing 84.jpg\n",
      "[]\n",
      "\n",
      "\n",
      "\n",
      "[]\n",
      "\n",
      "\n",
      "\n",
      "[]\n",
      "\n",
      "\n",
      "\n",
      "[]\n",
      "\n",
      "\n",
      "\n",
      "[]\n",
      "\n",
      "\n",
      "\n",
      "\n",
      " Completed Labels for: \n",
      " 84.jpg \n",
      " Il |\n",
      "\n",
      "By bese\n",
      "Proccessing 16.jpg\n",
      "[('S41 (arid colt) anual &', '9 5h hs Gul cg ygd Saa', 0), ('posal €', '5s ple fay Guile 2 Sa', 1)]\n",
      "\n",
      "\n",
      "\n",
      "[]\n",
      "\n",
      "\n",
      "\n",
      "[]\n",
      "\n",
      "\n",
      "\n",
      "[]\n",
      "\n",
      "\n",
      "\n",
      "[]\n",
      "\n",
      "\n",
      "\n",
      "\n",
      " Completed Labels for: \n",
      " 16.jpg \n",
      " Delamere Dairy Sterilized Skimmed Cow's\n",
      "Milk Alt\n",
      "S41 (arid colt) anual & 9 5h hs Gul cg ygd Saal\n",
      "\n",
      "posal € 5s ple fay Guile 2 Sal\n",
      "\n",
      " \n",
      "\n",
      " \n",
      "\n",
      "Saas gu)\n",
      "\n",
      "\\ /\n",
      "Proccessing 14.jpg\n",
      "[]\n",
      "\n",
      "\n",
      "\n",
      "[]\n",
      "\n",
      "\n",
      "\n",
      "[]\n",
      "\n",
      "\n",
      "\n",
      "[]\n",
      "\n",
      "\n",
      "\n",
      "[]\n",
      "\n",
      "\n",
      "\n",
      "\n",
      " Completed Labels for: \n",
      " 14.jpg \n",
      " \n",
      "Proccessing 148.jpg\n",
      "[('Sodium', '250g 10', 0), ('Total Carbohydrate', '13g 4', 1), ('Dietray Fiberlessthanig', '2', 2)]\n",
      "\n",
      "\n",
      "\n",
      "[('Sodium', '250g 10', 0), ('Total Carbohydrate', '13g 4', 1), ('Dietray Fiberlessthanig', '2', 2)]\n",
      "\n",
      "\n",
      "\n",
      "[('Sodium', '250g 10', 0), ('Total Carbohydrate', '13g 4', 1), ('Dietray Fiberlessthanig', '2', 2)]\n",
      "\n",
      "\n",
      "\n",
      "[('Sodium', '250g 10', 1), ('Total Carbohydrate', '13g 4', 2)]\n",
      "\n",
      "\n",
      "\n",
      "[('Sodium', '250g 10', 1), ('Total Carbohydrate', '13g 4', 2)]\n",
      "\n",
      "\n",
      "\n",
      "\n",
      " Completed Labels for: \n",
      " 148.jpg \n",
      " Trans Fat Ug\n",
      "Cholesterol Omg O%\n",
      "Sodium 250g 10%\n",
      "Total Carbohydrate 13g 4%\n",
      "Dietray Fiberlessthanig 2%\n",
      "\n",
      "sugars Og\n",
      "Proccessing 86.jpg\n",
      "[]\n",
      "\n",
      "\n",
      "\n",
      "[]\n",
      "\n",
      "\n",
      "\n",
      "[]\n",
      "\n",
      "\n",
      "\n",
      "[]\n",
      "\n",
      "\n",
      "\n",
      "[]\n",
      "\n",
      "\n",
      "\n",
      "\n",
      " Completed Labels for: \n",
      " 86.jpg \n",
      " \n",
      "Proccessing 152.jpg\n",
      "[]\n",
      "\n",
      "\n",
      "\n",
      "[]\n",
      "\n",
      "\n",
      "\n",
      "[]\n",
      "\n",
      "\n",
      "\n",
      "[]\n",
      "\n",
      "\n",
      "\n",
      "[]\n",
      "\n",
      "\n",
      "\n",
      "\n",
      " Completed Labels for: \n",
      " 152.jpg \n",
      " \n",
      "Proccessing 153.jpg\n",
      "[]\n",
      "\n",
      "\n",
      "\n",
      "[]\n",
      "\n",
      "\n",
      "\n",
      "[]\n",
      "\n",
      "\n",
      "\n",
      "[]\n",
      "\n",
      "\n",
      "\n",
      "[]\n",
      "\n",
      "\n",
      "\n",
      "\n",
      " Completed Labels for: \n",
      " 153.jpg \n",
      " \n",
      "Proccessing 87.jpg\n",
      "[]\n",
      "\n",
      "\n",
      "\n",
      "[]\n",
      "\n",
      "\n",
      "\n",
      "[]\n",
      "\n",
      "\n",
      "\n",
      "[]\n",
      "\n",
      "\n",
      "\n",
      "[]\n",
      "\n",
      "\n",
      "\n",
      "\n",
      " Completed Labels for: \n",
      " 87.jpg \n",
      " olga fy JG\n",
      "ExP date\n",
      "Proccessing 149.jpg\n",
      "[('OFS6', '7922759 - 0798901798 : itl', 0)]\n",
      "\n",
      "\n",
      "\n",
      "[]\n",
      "\n",
      "\n",
      "\n",
      "[]\n",
      "\n",
      "\n",
      "\n",
      "[]\n",
      "\n",
      "\n",
      "\n",
      "[]\n",
      "\n",
      "\n",
      "\n",
      "\n",
      " Completed Labels for: \n",
      " 149.jpg \n",
      " : all\n",
      "\n",
      "| ERA\n",
      "INTELLIGENCE\n",
      ") FOUNDATION\n",
      "\n",
      "Ne oe ais\n",
      "\n",
      " \n",
      "  \n",
      "\n",
      "dufliell sigall guigig dylail\n",
      "tla = gyloue\n",
      "OFS6 7922759 - 0798901798 : itl\n",
      "Proccessing 15.jpg\n",
      "[('O17 (ad lS) aewall &', '9 jie GR Gul Cpt Je', 0), ('puslll & gis alae iy Guile', '1cU gal', 1)]\n",
      "\n",
      "\n",
      "\n",
      "[]\n",
      "\n",
      "\n",
      "\n",
      "[]\n",
      "\n",
      "\n",
      "\n",
      "[]\n",
      "\n",
      "\n",
      "\n",
      "[]\n",
      "\n",
      "\n",
      "\n",
      "\n",
      " Completed Labels for: \n",
      " 15.jpg \n",
      " Delamere Dairy Sterilized Skimmed Cow's\n",
      "Milk It\n",
      "O17 (ad lS) aewall & 9 jie GR Gul Cpt Jee\n",
      "\n",
      "puslll & gis alae iy Guile 1cU gall\n",
      "\n",
      "Saas ¢ Ll\n",
      "Proccessing 34.jpg\n",
      "[('Serving Size:', '8 g (1tbsp', 0), ('Servings per package:', '1', 1), ('adult diet of ', '7OOKJ, Your daily intakes ma', 2), ('0.', '1émg', 3)]\n",
      "\n",
      "\n",
      "\n",
      "[('Serving Size:', '8 g (1tbsp', 0), ('Servings per package:', '1', 1)]\n",
      "\n",
      "\n",
      "\n",
      "[('Serving Size:', '8 g (1tbsp', 0), ('Servings per package:', '1', 1)]\n",
      "\n",
      "\n",
      "\n",
      "[('Serving Size', '8 g (1tbsp', 1)]\n",
      "\n",
      "\n",
      "\n",
      "[('Serving Size', '8 g (1tbsp', 1)]\n",
      "\n",
      "\n",
      "\n",
      "\n",
      " Completed Labels for: \n",
      " 34.jpg \n",
      " | NUTRITION INFORMATION\n",
      "Serving Size: 8 g (1tbsp)\n",
      "Servings per package: 12\n",
      "\n",
      "Energy\n",
      "\n",
      "Protein\n",
      "\n",
      "Fat — Total\n",
      "= Saturated\n",
      "— Trans\n",
      "Carbohydrate\n",
      "— Sugars\n",
      "Sodium\n",
      "Dietary Fiber\n",
      "Vitamin A\n",
      "Vilamin\n",
      "Calcium\n",
      "\n",
      "iron\n",
      "\n",
      "*% Daily Intakes are based on an average\n",
      "adult diet of B7OOKJ, Your daily intakes may\n",
      "be higher or lower depending on your\n",
      "enengy needs.\n",
      "\n",
      "Bkeasl\n",
      "33k)\n",
      "\n",
      "29\n",
      "\n",
      "Og\n",
      "\n",
      "og\n",
      "\n",
      "Dg\n",
      "\n",
      "Og\n",
      "\n",
      "Dg\n",
      "dmg\n",
      "Og\n",
      "\n",
      "0. 1émg\n",
      "omg\n",
      "64mg\n",
      "O.2mg\n"
     ]
    },
    {
     "name": "stdout",
     "output_type": "stream",
     "text": [
      "Proccessing 138.jpg\n",
      "[]\n",
      "\n",
      "\n",
      "\n",
      "[]\n",
      "\n",
      "\n",
      "\n",
      "[]\n",
      "\n",
      "\n",
      "\n",
      "[]\n",
      "\n",
      "\n",
      "\n",
      "[]\n",
      "\n",
      "\n",
      "\n",
      "\n",
      " Completed Labels for: \n",
      " 138.jpg \n",
      " \n",
      "Proccessing 52.jpg\n",
      "[('Serving Size ', '2', 0), ('Serving Per Container:', '24pc', 1), ('‘item —~—s~Pe', '100g.~2=~=*é“‘«‘“‘NSRRVMGSC™', 2), ('“Energy .', '365KJ 18', 3), ('Protein Og', '0', 4), ('Fat Og', '0', 5), ('Carbohydrate', '92.29 31', 6), ('Sodium', '24mq 0', 7)]\n",
      "\n",
      "\n",
      "\n",
      "[('Serving Size ', '2', 0), ('Serving Per Container:', '24pc', 1), ('“Energy .', '365KJ 18', 3), ('Protein Og', '0', 4), ('Carbohydrate', '92.29 31', 6), ('Sodium', '24mq 0', 7)]\n",
      "\n",
      "\n",
      "\n",
      "[('Sugars', '2', 0), ('Serving Per Container:', '24pc', 1), ('“Energy .', '365KJ 18', 3), ('Protein Og', '0', 4), ('Carbohydrate', '92.29 31', 6), ('Sodium', '24mq 0', 7)]\n",
      "\n",
      "\n",
      "\n",
      "[('Energy', '365KJ 18', 3), ('Sodium', '24mq 0', 6), ('Total Carbohydrate', '92.29 31', 5), ('Sugars', '2', 1), ('Protein', '0', 4)]\n",
      "\n",
      "\n",
      "\n",
      "[('Energy', '365KJ 18', 3), ('Total Carbohydrate', '92.29 31', 5), ('Sugars', '2', 1), ('Protein', '0', 4)]\n",
      "\n",
      "\n",
      "\n",
      "\n",
      " Completed Labels for: \n",
      " 52.jpg \n",
      " Nutrition Facts\n",
      "Serving Size :2g\n",
      "Serving Per Container: 24pcs\n",
      "\n",
      "‘item —~—s~Per100g.~2=~=*é“‘«‘“‘NSRRVMGSC™”\n",
      "“Energy . 365KJ 18%\n",
      "Protein Og 0%\n",
      "Fat Og 0%\n",
      "Carbohydrate 92.29 31%\n",
      "\n",
      "Sodium 24mq 0%\n",
      "Proccessing 108.jpg\n",
      "[]\n",
      "\n",
      "\n",
      "\n",
      "[]\n",
      "\n",
      "\n",
      "\n",
      "[]\n",
      "\n",
      "\n",
      "\n",
      "[]\n",
      "\n",
      "\n",
      "\n",
      "[]\n",
      "\n",
      "\n",
      "\n",
      "\n",
      " Completed Labels for: \n",
      " 108.jpg \n",
      " \n",
      "Proccessing 136.jpg\n",
      "[('Serving aize ] piece ', '232', 0), ('Total Fat', 'Fat', 1), ('Sodium', '290', 2), ('etal Carbohydrates', '1', 3), ('- Dietary Fiber', 'Dietary Fiber', 4), ('20M) calories diet.', 'calories diet.', 5)]\n",
      "\n",
      "\n",
      "\n",
      "[('Serving aize ] piece ', '232', 0), ('Total Fat', 'Fat', 1), ('Sodium', '290', 2), ('etal Carbohydrates', '1', 3), ('- Dietary Fiber', 'Dietary Fiber', 4), ('20M) calories diet.', 'calories diet.', 5)]\n",
      "\n",
      "\n",
      "\n",
      "[('Serving aize ] piece ', '232', 0), ('Total Fat', 'Fat', 1), ('Sodium', '290', 2), ('etal Carbohydrates', '1', 3), ('- Dietary Fiber', 'Dietary Fiber', 4), ('20M) calories diet.', 'calories diet.', 5)]\n",
      "\n",
      "\n",
      "\n",
      "[('Total Fat', 'Fat', 2), ('Sodium', '290', 3), ('Total Carbohydrate', '1', 4), ('Dietary Fiber', 'Dietary Fiber', 5)]\n",
      "\n",
      "\n",
      "\n",
      "[('Total Fat', 'Fat', 2), ('Sodium', '290', 3), ('Total Carbohydrate', '1', 4)]\n",
      "\n",
      "\n",
      "\n",
      "\n",
      " Completed Labels for: \n",
      " 136.jpg \n",
      " Nutrition Facts\n",
      "\n",
      "Serving aize ] piece (232)\n",
      "Servings per\n",
      "\n",
      "LT iv\n",
      "\n",
      "Total Fat 0\n",
      "\n",
      "Saterated Fat\n",
      "\n",
      "Cholesterol Omg\n",
      "\n",
      "Sodium 2900\n",
      "\n",
      "etal Carbohydrates 1g\n",
      "- Dietary Fiber 0\n",
      "* Percent Daily Valoes are based on a\n",
      "20M) calories diet.\n",
      "Proccessing 109.jpg\n",
      "[]\n",
      "\n",
      "\n",
      "\n",
      "[]\n",
      "\n",
      "\n",
      "\n",
      "[]\n",
      "\n",
      "\n",
      "\n",
      "[]\n",
      "\n",
      "\n",
      "\n",
      "[]\n",
      "\n",
      "\n",
      "\n",
      "\n",
      " Completed Labels for: \n",
      " 109.jpg \n",
      " ay as\n",
      "\n",
      "TYPE i va\n",
      "\n",
      "————— :\n",
      "Proccessing 53.jpg\n",
      "[]\n",
      "\n",
      "\n",
      "\n",
      "[]\n",
      "\n",
      "\n",
      "\n",
      "[]\n",
      "\n",
      "\n",
      "\n",
      "[]\n",
      "\n",
      "\n",
      "\n",
      "[]\n",
      "\n",
      "\n",
      "\n",
      "\n",
      " Completed Labels for: \n",
      " 53.jpg \n",
      " \n",
      "Proccessing 139.jpg\n",
      "[]\n",
      "\n",
      "\n",
      "\n",
      "[]\n",
      "\n",
      "\n",
      "\n",
      "[]\n",
      "\n",
      "\n",
      "\n",
      "[]\n",
      "\n",
      "\n",
      "\n",
      "[]\n",
      "\n",
      "\n",
      "\n",
      "\n",
      " Completed Labels for: \n",
      " 139.jpg \n",
      " \n",
      "Proccessing 127.jpg\n",
      "[('ollsss', '1', 0)]\n",
      "\n",
      "\n",
      "\n",
      "[]\n",
      "\n",
      "\n",
      "\n",
      "[]\n",
      "\n",
      "\n",
      "\n",
      "[]\n",
      "\n",
      "\n",
      "\n",
      "[]\n",
      "\n",
      "\n",
      "\n",
      "\n",
      " Completed Labels for: \n",
      " 127.jpg \n",
      " ollsssi15\n",
      "\n",
      "2\n",
      "\n",
      "2)\n",
      "\n",
      "| lh\n",
      "Proccessing 35.jpg\n",
      "[('(cht sil aja) Vals allo Ga |C@o AMA! @', '198', 0)]\n",
      "\n",
      "\n",
      "\n",
      "[]\n",
      "\n",
      "\n",
      "\n",
      "[]\n",
      "\n",
      "\n",
      "\n",
      "[]\n",
      "\n",
      "\n",
      "\n",
      "[]\n",
      "\n",
      "\n",
      "\n",
      "\n",
      " Completed Labels for: \n",
      " 35.jpg \n",
      " | GARAM MASALA POWDER\n",
      "\n",
      "Epices chaudes Poudre\n",
      "(cht sil aja) Vals allo Ga |C@o AMA! @a198)\n",
      "Proccessing 37.jpg\n",
      "[('Phone :', '88096013/73/7/7', 0)]\n",
      "\n",
      "\n",
      "\n",
      "[]\n",
      "\n",
      "\n",
      "\n",
      "[]\n",
      "\n",
      "\n",
      "\n",
      "[]\n",
      "\n",
      "\n",
      "\n",
      "[]\n",
      "\n",
      "\n",
      "\n",
      "\n",
      " Completed Labels for: \n",
      " 37.jpg \n",
      " Customer Relations Dept\n",
      "Phone :+88096013/73/7/77\n",
      "\n",
      "Toll Free: een if\n",
      "E-mail: crd@@re\n",
      "\n",
      "Product of Rancladonl\n",
      "\n",
      "Produit de Bangladesh\n",
      "lead all\n",
      "Proccessing 51.jpg\n",
      "[('Serving Size ', '2', 0), ('Serving Per Container:', '24pc', 1), ('Item Per', '100', 2), ('Energy', '365K', 3), ('Carbohydrate', '92.2', 4), ('Sodium', '24m', 5)]\n",
      "\n",
      "\n",
      "\n",
      "[('Serving Size ', '2', 0), ('Serving Per Container:', '24pc', 1), ('Energy', '365K', 3), ('Carbohydrate', '92.2', 4), ('Sodium', '24m', 5)]\n",
      "\n",
      "\n",
      "\n",
      "[('Sugars', '2', 0), ('Serving Per Container:', '24pc', 1), ('Energy', '365K', 3), ('Carbohydrate', '92.2', 4), ('Sodium', '24m', 5)]\n",
      "\n",
      "\n",
      "\n",
      "[('Energy', '365K', 3), ('Sodium', '24m', 5), ('Total Carbohydrate', '92.2', 4), ('Sugars', '2', 1)]\n",
      "\n",
      "\n",
      "\n",
      "[('Energy', '365K', 3), ('Total Carbohydrate', '92.2', 4), ('Sugars', '2', 1)]\n",
      "\n",
      "\n",
      "\n",
      "\n",
      " Completed Labels for: \n",
      " 51.jpg \n",
      " Nutrition Facts\n",
      "Serving Size :2g\n",
      "\n",
      "Serving Per Container: 24pcs\n",
      "Item Per 100g\n",
      "\n",
      "Energy 365KJ\n",
      "\n",
      "Protein Og\n",
      "Fat Og\n",
      "Carbohydrate 92.2g\n",
      "Sodium 24mg\n",
      "Proccessing 135.jpg\n",
      "[]\n",
      "\n",
      "\n",
      "\n",
      "[]\n",
      "\n",
      "\n",
      "\n",
      "[]\n",
      "\n",
      "\n",
      "\n",
      "[]\n",
      "\n",
      "\n",
      "\n",
      "[]\n",
      "\n",
      "\n",
      "\n",
      "\n",
      " Completed Labels for: \n",
      " 135.jpg \n",
      " \n",
      "Proccessing 65.jpg\n",
      "[('Serving Size', '40g', 0), ('Serving Per Container:', '2', 1), ('fitamin AO% |Vitamin C', '0', 2), ('Calcium', '0% |lron 0', 3)]\n",
      "\n",
      "\n",
      "\n",
      "[('Serving Size', '40g', 0), ('Serving Per Container:', '2', 1), ('Calcium', '0% |lron 0', 3)]\n",
      "\n",
      "\n",
      "\n",
      "[('Serving Size', '40g', 0), ('Sugars', '2', 1), ('Calcium', '0% |lron 0', 3)]\n",
      "\n",
      "\n",
      "\n",
      "[('Serving Size', '40g', 1), ('Calories', '0% |lron 0', 3), ('Sugars', '2', 2)]\n",
      "\n",
      "\n",
      "\n",
      "[('Serving Size', '40g', 1), ('Calories', '0% |lron 0', 3), ('Sugars', '2', 2)]\n",
      "\n",
      "\n",
      "\n",
      "\n",
      " Completed Labels for: \n",
      " 65.jpg \n",
      " NUTRITION FACTS\n",
      "Serving Size:40g9\n",
      "Serving Per Container: 24\n",
      "\n",
      " \n",
      "\n",
      "fitamin AO% |Vitamin C 0%\n",
      "Calcium 0% |lron 0%\n",
      "Proccessing 59.jpg\n",
      "[]\n",
      "\n",
      "\n",
      "\n",
      "[]\n",
      "\n",
      "\n",
      "\n",
      "[]\n",
      "\n",
      "\n",
      "\n",
      "[]\n",
      "\n",
      "\n",
      "\n",
      "[]\n",
      "\n",
      "\n",
      "\n",
      "\n",
      " Completed Labels for: \n",
      " 59.jpg \n",
      " \n",
      "Proccessing 58.jpg\n",
      "[('PSTAC - FT eT NCAP ', '68 MO E meh im', 0), ('ryhy om sty ree', '2 Ah ( (sha) 10 em sty eee 2 HH OST', 1)]\n",
      "\n",
      "\n",
      "\n",
      "[]\n",
      "\n",
      "\n",
      "\n",
      "[]\n",
      "\n",
      "\n",
      "\n",
      "[]\n",
      "\n",
      "\n",
      "\n",
      "[]\n",
      "\n",
      "\n",
      "\n",
      "\n",
      " Completed Labels for: \n",
      " 58.jpg \n",
      " ed BP (AD - OOD (ome OT He\n",
      "SP? DP (PSSED Comper ew? (perl (F(T oor rey OO\n",
      "\n",
      "£GZ\n",
      "PSTAC - FT eT NCAP O68 MO E meh im -\n",
      "ryhy om sty ree 2 Ah ( (sha) 10 em sty eee 2 HH OSTA\n",
      "PSAP (EOE = I Ee = OT Ie HEY (METAR PET )\n",
      "\n",
      "repl wef ery ee ete - ee imp )\n",
      "(PSE eso rh (Pee SEC\n",
      "STEP ASP SER ROI FY\n",
      "Proccessing 64.jpg\n",
      "[]\n",
      "\n",
      "\n",
      "\n",
      "[]\n",
      "\n",
      "\n",
      "\n",
      "[]\n",
      "\n",
      "\n",
      "\n",
      "[]\n",
      "\n",
      "\n",
      "\n",
      "[]\n",
      "\n",
      "\n",
      "\n",
      "\n",
      " Completed Labels for: \n",
      " 64.jpg \n",
      " \n",
      "Proccessing 50.jpg\n",
      "[]\n",
      "\n",
      "\n",
      "\n",
      "[]\n",
      "\n",
      "\n",
      "\n",
      "[]\n",
      "\n",
      "\n",
      "\n",
      "[]\n",
      "\n",
      "\n",
      "\n",
      "[]\n",
      "\n",
      "\n",
      "\n",
      "\n",
      " Completed Labels for: \n",
      " 50.jpg \n",
      " \n",
      "Proccessing 36.jpg\n",
      "[]\n",
      "\n",
      "\n",
      "\n",
      "[]\n",
      "\n",
      "\n",
      "\n",
      "[]\n",
      "\n",
      "\n",
      "\n",
      "[]\n",
      "\n",
      "\n",
      "\n",
      "[]\n",
      "\n",
      "\n",
      "\n",
      "\n",
      " Completed Labels for: \n",
      " 36.jpg \n",
      " \n",
      "Proccessing 32.jpg\n",
      "[('cule Sym', '3 508 ee da', 0), ('Carb', '5 35a 5 lb) 4555 a', 1)]\n",
      "\n",
      "\n",
      "\n",
      "[]\n",
      "\n",
      "\n",
      "\n",
      "[]\n",
      "\n",
      "\n",
      "\n",
      "[]\n",
      "\n",
      "\n",
      "\n",
      "[]\n",
      "\n",
      "\n",
      "\n",
      "\n",
      " Completed Labels for: \n",
      " 32.jpg \n",
      " Nuts, Wheat Gluten and Mustard\n",
      "Ingredients: Cumin Seed, Black\n",
      "Pepper, Cinnamon, Cardamom,\n",
      "Mace, Cloves, Bay Leaves &\n",
      "Nutmeg\n",
      "Ingrédients: graines de cumin,\n",
      "poivre noir, cannelle, cardamome,\n",
      "mace, clous de girofle, feuilles de\n",
      "laurier et noix de muscade\n",
      "\n",
      "gual Sid ec eS ge UL gall\n",
      "cule Sym 3 508 ee da 8\n",
      "Carb 5 35a 5 lb) 4555 ae\n",
      "Net Wi, MFG Date, Best Before, Batch No &\n",
      "MRP (Incl. of all taxes) Coded on the jar/label\n",
      "Rb By GSN) ByyE eM) aye all ail\n",
      "ya gk phe (al pales) jal\n",
      "\n",
      "Store in a cool and dry place\n",
      "Proccessing 43.jpg\n",
      "[]\n",
      "\n",
      "\n",
      "\n",
      "[]\n",
      "\n",
      "\n",
      "\n",
      "[]\n",
      "\n",
      "\n",
      "\n",
      "[]\n",
      "\n",
      "\n",
      "\n",
      "[]\n",
      "\n",
      "\n",
      "\n",
      "\n",
      " Completed Labels for: \n",
      " 43.jpg \n",
      " \n",
      "Proccessing 45.jpg\n",
      "[]\n",
      "\n",
      "\n",
      "\n",
      "[]\n",
      "\n",
      "\n",
      "\n",
      "[]\n",
      "\n",
      "\n",
      "\n",
      "[]\n",
      "\n",
      "\n",
      "\n",
      "[]\n",
      "\n",
      "\n",
      "\n",
      "\n",
      " Completed Labels for: \n",
      " 45.jpg \n",
      " \n",
      "Proccessing 54.jpg\n",
      "[]\n",
      "\n",
      "\n",
      "\n",
      "[]\n",
      "\n",
      "\n",
      "\n",
      "[]\n",
      "\n",
      "\n",
      "\n",
      "[]\n",
      "\n",
      "\n",
      "\n",
      "[]\n",
      "\n",
      "\n",
      "\n",
      "\n",
      " Completed Labels for: \n",
      " 54.jpg \n",
      " \n",
      "Proccessing 164.jpg\n",
      "[('Serving Size leaf', '8g', 0), ('Serving Per Container', '5', 1), ('Calones', '', 2), ('Total Fat Og', '0 “Y', 3), ('Sodium', '100 mg 4', 4), ('Less than', '1g 0', 5), ('Based on a', '2,000 calorie diel', 6)]\n",
      "\n",
      "\n",
      "\n",
      "[('Serving Size leaf', '8g', 0), ('Serving Per Container', '5', 1), ('Calones', '', 2), ('Total Fat Og', '0 “Y', 3), ('Sodium', '100 mg 4', 4)]\n",
      "\n",
      "\n",
      "\n",
      "[('Sugars', '8g', 0), ('Serving Per Container', '5', 1), ('Calones', '', 2), ('Total Fat Og', '0 “Y', 3), ('Sodium', '100 mg 4', 4)]\n",
      "\n",
      "\n",
      "\n",
      "[('Calories', '', 3), ('Total Fat', '0 “Y', 4), ('Sodium', '100 mg 4', 5), ('Sugars', '8g', 1)]\n",
      "\n",
      "\n",
      "\n",
      "[('Calories', '', 3), ('Total Fat', '0 “Y', 4), ('Sugars', '8g', 1)]\n",
      "\n",
      "\n",
      "\n",
      "\n",
      " Completed Labels for: \n",
      " 164.jpg \n",
      " Nutrition Facts\n",
      "Serving Size leaf(8g)\n",
      "Serving Per Container 56\n",
      "\n",
      "Amount Per Serving\n",
      "Calones 5\n",
      "\n",
      "% Daily Value\n",
      "\n",
      "Total Fat Og 0 “Yo\n",
      "Sodium 100 mg 4%\n",
      "Total Carbohydrate\n",
      "\n",
      "Less than 1g 0 %\n",
      "Protein Og\n",
      "\n",
      "Based on a 2,000 calorie diel.\n",
      "Proccessing 66.jpg\n",
      "[]\n",
      "\n",
      "\n",
      "\n",
      "[]\n",
      "\n",
      "\n",
      "\n",
      "[]\n",
      "\n",
      "\n",
      "\n",
      "[]\n",
      "\n",
      "\n",
      "\n",
      "[]\n",
      "\n",
      "\n",
      "\n",
      "\n",
      " Completed Labels for: \n",
      " 66.jpg \n",
      " \n",
      "Proccessing 60.jpg\n",
      "[]\n",
      "\n",
      "\n",
      "\n",
      "[]\n",
      "\n",
      "\n",
      "\n",
      "[]\n",
      "\n",
      "\n",
      "\n",
      "[]\n",
      "\n",
      "\n",
      "\n",
      "[]\n",
      "\n",
      "\n",
      "\n",
      "\n",
      " Completed Labels for: \n",
      " 60.jpg \n",
      " \n",
      "Proccessing 67.jpg\n",
      "[]\n",
      "\n",
      "\n",
      "\n",
      "[]\n",
      "\n",
      "\n",
      "\n",
      "[]\n",
      "\n",
      "\n",
      "\n",
      "[]\n",
      "\n",
      "\n",
      "\n",
      "[]\n",
      "\n",
      "\n",
      "\n",
      "\n",
      " Completed Labels for: \n",
      " 67.jpg \n",
      " \n",
      "Proccessing 61.jpg\n",
      "[]\n",
      "\n",
      "\n",
      "\n",
      "[]\n",
      "\n",
      "\n",
      "\n",
      "[]\n",
      "\n",
      "\n",
      "\n",
      "[]\n",
      "\n",
      "\n",
      "\n",
      "[]\n",
      "\n",
      "\n",
      "\n",
      "\n",
      " Completed Labels for: \n",
      " 61.jpg \n",
      " \n",
      "Proccessing 165.jpg\n",
      "[('(Spall gD aor Oe + pguagen cit gps', '7 T', 0), ('acid', '2% and Sodium Benz Sh0po', 1), ('Tone alt | allie eal', 'alt | allie eal', 2), ('Net Weaght ', '00gi appece', 3), ('Drained Weight:', '44g(appros', 4)]\n",
      "\n",
      "\n",
      "\n",
      "[('Tone alt | allie eal', 'alt | allie eal', 2)]\n",
      "\n",
      "\n",
      "\n",
      "[('Tone alt | allie eal', 'alt | allie eal', 2)]\n",
      "\n",
      "\n",
      "\n",
      "[]\n",
      "\n",
      "\n",
      "\n",
      "[]\n",
      "\n",
      "\n",
      "\n",
      "\n",
      " Completed Labels for: \n",
      " 165.jpg \n",
      " fh ple pues ples gill ale yy CE\n",
      "(Spall gD aor Oe + pguagen cit gps 7 Tt\n",
      "Ingretiarts: jee\n",
      "acid 2% and Sodium Benz Sh0pom\n",
      "Tone alt | allie eal a3\n",
      "Net Weaght S00gi appece)\n",
      "( bat pple Lek: plea Oy yl\n",
      "Drained Weight: 44g(appros)\n",
      "Store int cool place, Dye Se oh lading\n",
      ": i hte | uy ple\n",
      "PND Bad Theater! ball oh ale i eg et\n",
      "«am gly aT yl ce lt pee\n",
      "Sis recomenended lo bel the Inne\n",
      "before atufling for tendemess & Best Color\n",
      "\n",
      "YONA heed pel PLY! AG\n"
     ]
    },
    {
     "name": "stdout",
     "output_type": "stream",
     "text": [
      "Proccessing 55.jpg\n",
      "[]\n",
      "\n",
      "\n",
      "\n",
      "[]\n",
      "\n",
      "\n",
      "\n",
      "[]\n",
      "\n",
      "\n",
      "\n",
      "[]\n",
      "\n",
      "\n",
      "\n",
      "[]\n",
      "\n",
      "\n",
      "\n",
      "\n",
      " Completed Labels for: \n",
      " 55.jpg \n",
      " \n",
      "Proccessing 42.jpg\n",
      "[]\n",
      "\n",
      "\n",
      "\n",
      "[]\n",
      "\n",
      "\n",
      "\n",
      "[]\n",
      "\n",
      "\n",
      "\n",
      "[]\n",
      "\n",
      "\n",
      "\n",
      "[]\n",
      "\n",
      "\n",
      "\n",
      "\n",
      " Completed Labels for: \n",
      " 42.jpg \n",
      " \n",
      "Proccessing 44.jpg\n",
      "[('Siew CAigSyirsplaio lp sga', 'CAigSyirsplaio lp sga', 0), ('ey big agh Ml a', '1', 1), ('SNTAYEEAGG a poglS', '9 Bd', 2), ('www.', '4matrade.com:', 3), ('NDUGyl Cagle i pe', '2S ph! Hay', 4), ('slo sgui ', '9in', 5), ('Serving Size', '3-5 olves! 16g', 6), ('‘Servings per container About:', '2', 7), ('Calories', '30 Calories from fat 2', 8), ('‘Monmiansaturated Fat', '5', 9), ('eer', '700gme', 10), ('sete.', '350gm', 11), ('723 ge Product of Faynt', 'ge Product of Faynt', 12)]\n",
      "\n",
      "\n",
      "\n",
      "[('Siew CAigSyirsplaio lp sga', 'CAigSyirsplaio lp sga', 0), ('Serving Size', '3-5 olves! 16g', 6), ('‘Servings per container About:', '2', 7), ('Calories', '30 Calories from fat 2', 8), ('‘Monmiansaturated Fat', '5', 9), ('723 ge Product of Faynt', 'ge Product of Faynt', 12)]\n",
      "\n",
      "\n",
      "\n",
      "[('Siew CAigSyirsplaio lp sga', 'CAigSyirsplaio lp sga', 0), ('Serving Size', '3-5 olves! 16g', 6), ('‘Servings per container About:', '2', 7), ('Calories', '30 Calories from fat 2', 8), ('‘Monmiansaturated Fat', '5', 9), ('723 ge Product of Faynt', 'ge Product of Faynt', 12)]\n",
      "\n",
      "\n",
      "\n",
      "[('Serving Size', '3-5 olves! 16g', 2), ('Calories', '30 Calories from fat 2', 4), ('Monounsaturated Fat', '5', 5)]\n",
      "\n",
      "\n",
      "\n",
      "[('Serving Size', '3-5 olves! 16g', 2)]\n",
      "\n",
      "\n",
      "\n",
      "\n",
      " Completed Labels for: \n",
      " 44.jpg \n",
      " So\n",
      "\n",
      "spite apa Geis)\n",
      "ee\n",
      "bogs\n",
      "Siew CAigSyirsplaio lp sga a5\n",
      "SN Giese lS ada\n",
      "$i hc TUL nk\n",
      "stil] Job Stapinal pak Jail\n",
      "el pa glad ge pal Marat gd\n",
      "siagiie\n",
      "Salat gt anal physi\n",
      "ey big agh Ml a 1D\n",
      "gh Mb ype ea ga\n",
      "SNTAYEEAGG a poglSI9 Bde\n",
      "www. 4matrade.com:\n",
      "NDUGyl Cagle i pe 2S ph! Hayy\n",
      "ii Blas Ag gcad\n",
      "ayaa dapat jy\n",
      "\n",
      "Pilate ae by |\n",
      "\n",
      "JNM i\n",
      "\n",
      "4009\n",
      "\n",
      "Pitted\n",
      "Black Olives\n",
      "\n",
      "slo sgui Y9inj\n",
      "\n",
      "PLTTED BLACK OLIVES\n",
      "Spanish Style\n",
      "Nutrition Facts\n",
      "Serving Size 3-5 olves! 16g)\n",
      "‘Servings per container About: 22\n",
      "mount per serving:\n",
      "Calories 30 Calories from fat 25\n",
      "\n",
      "“Dall vate ty\n",
      "\n",
      "‘Torarret zag\n",
      "\n",
      "‘Monmiansaturated Fat 55\n",
      "\n",
      "Potuneatatedtat OE\n",
      "\n",
      "‘ans Fatomg_—\n",
      "\n",
      "Cholesterol ony\n",
      "7H\n",
      "\n",
      "inartaoonae eT os\n",
      "\n",
      "Sugars, Vitamin A, Vitamin C, Calum\n",
      "and iron.\n",
      "\n",
      "retbay nas we ben\n",
      "azn\n",
      "\n",
      "cei iewdea ea\n",
      "aera Netwe\n",
      "eer 700gme\n",
      "wyitomt ut Drained We\n",
      "sete. 350gme\n",
      "723 ge Product of Faynt\n",
      "Proccessing 33.jpg\n",
      "[('Serving Size:', '8g (itbsp', 0), ('Servings per package:', '1', 1), ('adult dint of', '87 OOKJ. Your dally intakes ma', 2)]\n",
      "\n",
      "\n",
      "\n",
      "[('Serving Size:', '8g (itbsp', 0), ('Servings per package:', '1', 1)]\n",
      "\n",
      "\n",
      "\n",
      "[('Serving Size:', '8g (itbsp', 0), ('Servings per package:', '1', 1)]\n",
      "\n",
      "\n",
      "\n",
      "[('Serving Size', '8g (itbsp', 1)]\n",
      "\n",
      "\n",
      "\n",
      "[('Serving Size', '8g (itbsp', 1)]\n",
      "\n",
      "\n",
      "\n",
      "\n",
      " Completed Labels for: \n",
      " 33.jpg \n",
      " NUTRITION INFORMATION\n",
      "Serving Size: 8g (itbsp)\n",
      "Servings per package: 12\n",
      "\n",
      " \n",
      "\n",
      "Energy\n",
      "\n",
      "Proiein\n",
      "Fat — Total\n",
      "- Saturated\n",
      "— Trans\n",
      "Carbohydrate\n",
      "— Sugars\n",
      "Sadium\n",
      "Dietary Fiber\n",
      "Vitamin A,\n",
      "Vitamin C\n",
      "Calcium\n",
      "\n",
      "tran\n",
      "\n",
      "5B\n",
      "\n",
      " \n",
      "\n",
      "*% Daily Intakes are based on an average\n",
      "adult dint of 87 OOKJ. Your dally intakes may\n",
      "be higher or lower depending on your\n",
      "Proccessing 31.jpg\n",
      "[('Serving Size:', '8 g (1tbsp', 0), ('Servings per package:', '1', 1)]\n",
      "\n",
      "\n",
      "\n",
      "[('Serving Size:', '8 g (1tbsp', 0), ('Servings per package:', '1', 1)]\n",
      "\n",
      "\n",
      "\n",
      "[('Serving Size:', '8 g (1tbsp', 0), ('Servings per package:', '1', 1)]\n",
      "\n",
      "\n",
      "\n",
      "[('Serving Size', '8 g (1tbsp', 1)]\n",
      "\n",
      "\n",
      "\n",
      "[('Serving Size', '8 g (1tbsp', 1)]\n",
      "\n",
      "\n",
      "\n",
      "\n",
      " Completed Labels for: \n",
      " 31.jpg \n",
      " NUTRITION INFORMA\n",
      "Serving Size: 8 g (1tbsp)\n",
      "Servings per package: 12\n",
      "\n",
      "13009!\n",
      "\n",
      "41165\n",
      "Proccessing 46.jpg\n",
      "[]\n",
      "\n",
      "\n",
      "\n",
      "[]\n",
      "\n",
      "\n",
      "\n",
      "[]\n",
      "\n",
      "\n",
      "\n",
      "[]\n",
      "\n",
      "\n",
      "\n",
      "[]\n",
      "\n",
      "\n",
      "\n",
      "\n",
      " Completed Labels for: \n",
      " 46.jpg \n",
      " \n",
      "Proccessing 40.jpg\n",
      "[]\n",
      "\n",
      "\n",
      "\n",
      "[]\n",
      "\n",
      "\n",
      "\n",
      "[]\n",
      "\n",
      "\n",
      "\n",
      "[]\n",
      "\n",
      "\n",
      "\n",
      "[]\n",
      "\n",
      "\n",
      "\n",
      "\n",
      " Completed Labels for: \n",
      " 40.jpg \n",
      " \n",
      "Proccessing 79.jpg\n",
      "[]\n",
      "\n",
      "\n",
      "\n",
      "[]\n",
      "\n",
      "\n",
      "\n",
      "[]\n",
      "\n",
      "\n",
      "\n",
      "[]\n",
      "\n",
      "\n",
      "\n",
      "[]\n",
      "\n",
      "\n",
      "\n",
      "\n",
      " Completed Labels for: \n",
      " 79.jpg \n",
      " \n",
      "Proccessing 63.jpg\n",
      "[]\n",
      "\n",
      "\n",
      "\n",
      "[]\n",
      "\n",
      "\n",
      "\n",
      "[]\n",
      "\n",
      "\n",
      "\n",
      "[]\n",
      "\n",
      "\n",
      "\n",
      "[]\n",
      "\n",
      "\n",
      "\n",
      "\n",
      " Completed Labels for: \n",
      " 63.jpg \n",
      " \n",
      "Proccessing 71.jpg\n",
      "[]\n",
      "\n",
      "\n",
      "\n",
      "[]\n",
      "\n",
      "\n",
      "\n",
      "[]\n",
      "\n",
      "\n",
      "\n",
      "[]\n",
      "\n",
      "\n",
      "\n",
      "[]\n",
      "\n",
      "\n",
      "\n",
      "\n",
      " Completed Labels for: \n",
      " 71.jpg \n",
      " \n",
      "Proccessing 167.jpg\n",
      "[]\n",
      "\n",
      "\n",
      "\n",
      "[]\n",
      "\n",
      "\n",
      "\n",
      "[]\n",
      "\n",
      "\n",
      "\n",
      "[]\n",
      "\n",
      "\n",
      "\n",
      "[]\n",
      "\n",
      "\n",
      "\n",
      "\n",
      " Completed Labels for: \n",
      " 167.jpg \n",
      " \n",
      "Proccessing 166.jpg\n",
      "[('Serving Size leaf', '8g', 0), ('Serving Per Container', '5', 1), ('Calories', '', 2), ('Total Fat Og', '0 e', 3), ('Sodium', '100 mg 4', 4), ('Less than', '1g 0', 5)]\n",
      "\n",
      "\n",
      "\n",
      "[('Serving Size leaf', '8g', 0), ('Serving Per Container', '5', 1), ('Calories', '', 2), ('Total Fat Og', '0 e', 3), ('Sodium', '100 mg 4', 4)]\n",
      "\n",
      "\n",
      "\n",
      "[('Sugars', '8g', 0), ('Serving Per Container', '5', 1), ('Calories', '', 2), ('Total Fat Og', '0 e', 3), ('Sodium', '100 mg 4', 4)]\n",
      "\n",
      "\n",
      "\n",
      "[('Calories', '', 3), ('Total Fat', '0 e', 4), ('Sodium', '100 mg 4', 5), ('Sugars', '8g', 1)]\n",
      "\n",
      "\n",
      "\n",
      "[('Calories', '', 3), ('Total Fat', '0 e', 4), ('Sugars', '8g', 1)]\n",
      "\n",
      "\n",
      "\n",
      "\n",
      " Completed Labels for: \n",
      " 166.jpg \n",
      " NUTrITION Facts\n",
      "Serving Size leaf(8g)\n",
      "Serving Per Container 56\n",
      "\n",
      "Amount Per Serving\n",
      "\n",
      "Calories 5\n",
      "\"% Daily Value\n",
      "Total Fat Og 0 eo\n",
      "\n",
      "Sodium 100 mg 4%\n",
      "Total Carbohydrate\n",
      "\n",
      "Less than 1g 0%\n",
      "Protein Og\n",
      "Proccessing 70.jpg\n",
      "[]\n",
      "\n",
      "\n",
      "\n",
      "[]\n",
      "\n",
      "\n",
      "\n",
      "[]\n",
      "\n",
      "\n",
      "\n",
      "[]\n",
      "\n",
      "\n",
      "\n",
      "[]\n",
      "\n",
      "\n",
      "\n",
      "\n",
      " Completed Labels for: \n",
      " 70.jpg \n",
      " Amount Per Serving\n",
      "Proccessing 62.jpg\n",
      "[]\n",
      "\n",
      "\n",
      "\n",
      "[]\n",
      "\n",
      "\n",
      "\n",
      "[]\n",
      "\n",
      "\n",
      "\n",
      "[]\n",
      "\n",
      "\n",
      "\n",
      "[]\n",
      "\n",
      "\n",
      "\n",
      "\n",
      " Completed Labels for: \n",
      " 62.jpg \n",
      " \n",
      "Proccessing 118.jpg\n",
      "[]\n",
      "\n",
      "\n",
      "\n",
      "[]\n",
      "\n",
      "\n",
      "\n",
      "[]\n",
      "\n",
      "\n",
      "\n",
      "[]\n",
      "\n",
      "\n",
      "\n",
      "[]\n",
      "\n",
      "\n",
      "\n",
      "\n",
      " Completed Labels for: \n",
      " 118.jpg \n",
      " \n",
      "Proccessing 78.jpg\n",
      "[]\n",
      "\n",
      "\n",
      "\n",
      "[]\n",
      "\n",
      "\n",
      "\n",
      "[]\n",
      "\n",
      "\n",
      "\n",
      "[]\n",
      "\n",
      "\n",
      "\n",
      "[]\n",
      "\n",
      "\n",
      "\n",
      "\n",
      " Completed Labels for: \n",
      " 78.jpg \n",
      " cay) fa\n",
      "Sa\n",
      "\n",
      "alga) Fy\n",
      "EXP date\n",
      "Proccessing 56.jpg\n",
      "[]\n",
      "\n",
      "\n",
      "\n",
      "[]\n",
      "\n",
      "\n",
      "\n",
      "[]\n",
      "\n",
      "\n",
      "\n",
      "[]\n",
      "\n",
      "\n",
      "\n",
      "[]\n",
      "\n",
      "\n",
      "\n",
      "\n",
      " Completed Labels for: \n",
      " 56.jpg \n",
      " \n",
      "Proccessing 47.jpg\n",
      "[]\n",
      "\n",
      "\n",
      "\n",
      "[]\n",
      "\n",
      "\n",
      "\n",
      "[]\n",
      "\n",
      "\n",
      "\n",
      "[]\n",
      "\n",
      "\n",
      "\n",
      "[]\n",
      "\n",
      "\n",
      "\n",
      "\n",
      " Completed Labels for: \n",
      " 47.jpg \n",
      " \n",
      "Proccessing 41.jpg\n",
      "[]\n",
      "\n",
      "\n",
      "\n",
      "[]\n",
      "\n",
      "\n",
      "\n",
      "[]\n",
      "\n",
      "\n",
      "\n",
      "[]\n",
      "\n",
      "\n",
      "\n",
      "[]\n",
      "\n",
      "\n",
      "\n",
      "\n",
      " Completed Labels for: \n",
      " 41.jpg \n",
      " \n",
      "Proccessing 30.jpg\n",
      "[]\n",
      "\n",
      "\n",
      "\n",
      "[]\n",
      "\n",
      "\n",
      "\n",
      "[]\n",
      "\n",
      "\n",
      "\n",
      "[]\n",
      "\n",
      "\n",
      "\n",
      "[]\n",
      "\n",
      "\n",
      "\n",
      "\n",
      " Completed Labels for: \n",
      " 30.jpg \n",
      " \n"
     ]
    }
   ],
   "source": [
    "n = label_Recognizer('img_result/')"
   ]
  },
  {
   "cell_type": "code",
   "execution_count": 10,
   "metadata": {
    "scrolled": true
   },
   "outputs": [
    {
     "data": {
      "text/plain": [
       "167"
      ]
     },
     "execution_count": 10,
     "metadata": {},
     "output_type": "execute_result"
    }
   ],
   "source": [
    "len(n)"
   ]
  },
  {
   "cell_type": "markdown",
   "metadata": {},
   "source": [
    "### DataFrame Creation from Raw Text"
   ]
  },
  {
   "cell_type": "code",
   "execution_count": 11,
   "metadata": {},
   "outputs": [],
   "source": [
    "dx = pd.DataFrame(n)"
   ]
  },
  {
   "cell_type": "code",
   "execution_count": 12,
   "metadata": {},
   "outputs": [
    {
     "data": {
      "text/plain": [
       "array(['img_result/1_Nutritions_29.jpg', 'img_result/6_Nutritions_75.jpg',\n",
       "       'img_result/5_Nutritions_101.jpg',\n",
       "       'img_result/8_Nutritions_115.jpg',\n",
       "       'img_result/12_Nutritions_69.jpg',\n",
       "       'img_result/12_Nutritions_68.jpg',\n",
       "       'img_result/81_Nutritions_134.jpg',\n",
       "       'img_result/8_Nutritions_114.jpg',\n",
       "       'img_result/5_Nutritions_100.jpg',\n",
       "       'img_result/6_Nutritions_74.jpg',\n",
       "       'img_result/9_Nutritions_126.jpg',\n",
       "       'img_result/1_Nutritions_28.jpg',\n",
       "       'img_result/9_Nutritions_124.jpg',\n",
       "       'img_result/6_Nutritions_76.jpg',\n",
       "       'img_result/5_Nutritions_102.jpg',\n",
       "       'img_result/8_Nutritions_116.jpg',\n",
       "       'img_result/8_Nutritions_117.jpg',\n",
       "       'img_result/5_Nutritions_103.jpg',\n",
       "       'img_result/6_Nutritions_77.jpg',\n",
       "       'img_result/73_Nutritions_23.jpg',\n",
       "       'img_result/9_Nutritions_119.jpg',\n",
       "       'img_result/9_Nutritions_125.jpg',\n",
       "       'img_result/9_Nutritions_121.jpg',\n",
       "       'img_result/80_Nutritions_129.jpg',\n",
       "       'img_result/82_Nutritions_137.jpg',\n",
       "       'img_result/73_Nutritions_27.jpg',\n",
       "       'img_result/6_Nutritions_73.jpg', 'img_result/7_Nutritions_49.jpg',\n",
       "       'img_result/5_Nutritions_107.jpg',\n",
       "       'img_result/8_Nutritions_113.jpg',\n",
       "       'img_result/81_Nutritions_133.jpg',\n",
       "       'img_result/81_Nutritions_132.jpg',\n",
       "       'img_result/8_Nutritions_112.jpg',\n",
       "       'img_result/5_Nutritions_106.jpg',\n",
       "       'img_result/7_Nutritions_48.jpg', 'img_result/6_Nutritions_72.jpg',\n",
       "       'img_result/73_Nutritions_26.jpg',\n",
       "       'img_result/80_Nutritions_128.jpg',\n",
       "       'img_result/9_Nutritions_120.jpg',\n",
       "       'img_result/9_Nutritions_122.jpg',\n",
       "       'img_result/73_Nutritions_24.jpg',\n",
       "       'img_result/5_Nutritions_110.jpg',\n",
       "       'img_result/5_Nutritions_104.jpg',\n",
       "       'img_result/81_Nutritions_130.jpg',\n",
       "       'img_result/13_Nutritions_57.jpg',\n",
       "       'img_result/81_Nutritions_131.jpg',\n",
       "       'img_result/8_Nutritions_111.jpg',\n",
       "       'img_result/5_Nutritions_105.jpg',\n",
       "       'img_result/73_Nutritions_25.jpg',\n",
       "       'img_result/9_Nutritions_123.jpg',\n",
       "       'img_result/75_Nutritions_8.jpg',\n",
       "       'img_result/74_Nutritions_22.jpg',\n",
       "       'img_result/79_Nutritions_144.jpg',\n",
       "       'img_result/79_Nutritions_150.jpg',\n",
       "       'img_result/76_Nutritions_2.jpg',\n",
       "       'img_result/78_Nutritions_162.jpg',\n",
       "       'img_result/78_Nutritions_163.jpg',\n",
       "       'img_result/5_Nutritions_99.jpg', 'img_result/76_Nutritions_3.jpg',\n",
       "       'img_result/79_Nutritions_151.jpg',\n",
       "       'img_result/79_Nutritions_145.jpg',\n",
       "       'img_result/75_Nutritions_9.jpg',\n",
       "       'img_result/74_Nutritions_21.jpg',\n",
       "       'img_result/2_Nutritions_38.jpg',\n",
       "       'img_result/79_Nutritions_147.jpg',\n",
       "       'img_result/76_Nutritions_1.jpg',\n",
       "       'img_result/78_Nutritions_161.jpg',\n",
       "       'img_result/11_Nutritions_93.jpg',\n",
       "       'img_result/11_Nutritions_92.jpg',\n",
       "       'img_result/78_Nutritions_160.jpg',\n",
       "       'img_result/79_Nutritions_146.jpg',\n",
       "       'img_result/2_Nutritions_39.jpg',\n",
       "       'img_result/74_Nutritions_20.jpg',\n",
       "       'img_result/74_Nutritions_18.jpg',\n",
       "       'img_result/79_Nutritions_142.jpg',\n",
       "       'img_result/76_Nutritions_4.jpg',\n",
       "       'img_result/82_Nutritions_140.jpg',\n",
       "       'img_result/78_Nutritions_158.jpg',\n",
       "       'img_result/10_Nutritions_90.jpg',\n",
       "       'img_result/11_Nutritions_96.jpg',\n",
       "       'img_result/10_Nutritions_91.jpg',\n",
       "       'img_result/78_Nutritions_159.jpg',\n",
       "       'img_result/11_Nutritions_97.jpg',\n",
       "       'img_result/76_Nutritions_5.jpg',\n",
       "       'img_result/79_Nutritions_143.jpg',\n",
       "       'img_result/74_Nutritions_19.jpg',\n",
       "       'img_result/79_Nutritions_141.jpg',\n",
       "       'img_result/11_Nutritions_95.jpg',\n",
       "       'img_result/11_Nutritions_94.jpg',\n",
       "       'img_result/76_Nutritions_6.jpg',\n",
       "       'img_result/74_Nutritions_17.jpg',\n",
       "       'img_result/75_Nutritions_11.jpg',\n",
       "       'img_result/4_Nutritions_83.jpg',\n",
       "       'img_result/78_Nutritions_157.jpg',\n",
       "       'img_result/11_Nutritions_98.jpg',\n",
       "       'img_result/78_Nutritions_156.jpg',\n",
       "       'img_result/4_Nutritions_82.jpg',\n",
       "       'img_result/75_Nutritions_10.jpg',\n",
       "       'img_result/75_Nutritions_12.jpg',\n",
       "       'img_result/4_Nutritions_80.jpg',\n",
       "       'img_result/78_Nutritions_154.jpg',\n",
       "       'img_result/10_Nutritions_88.jpg',\n",
       "       'img_result/10_Nutritions_89.jpg',\n",
       "       'img_result/78_Nutritions_155.jpg',\n",
       "       'img_result/4_Nutritions_81.jpg',\n",
       "       'img_result/75_Nutritions_13.jpg',\n",
       "       'img_result/75_Nutritions_7.jpg', 'img_result/4_Nutritions_85.jpg',\n",
       "       'img_result/4_Nutritions_84.jpg',\n",
       "       'img_result/75_Nutritions_16.jpg',\n",
       "       'img_result/75_Nutritions_14.jpg',\n",
       "       'img_result/79_Nutritions_148.jpg',\n",
       "       'img_result/4_Nutritions_86.jpg',\n",
       "       'img_result/78_Nutritions_152.jpg',\n",
       "       'img_result/78_Nutritions_153.jpg',\n",
       "       'img_result/4_Nutritions_87.jpg',\n",
       "       'img_result/79_Nutritions_149.jpg',\n",
       "       'img_result/75_Nutritions_15.jpg',\n",
       "       'img_result/1_Nutritions_34.jpg',\n",
       "       'img_result/82_Nutritions_138.jpg',\n",
       "       'img_result/7_Nutritions_52.jpg',\n",
       "       'img_result/5_Nutritions_108.jpg',\n",
       "       'img_result/83_Nutritions_136.jpg',\n",
       "       'img_result/5_Nutritions_109.jpg',\n",
       "       'img_result/7_Nutritions_53.jpg',\n",
       "       'img_result/82_Nutritions_139.jpg',\n",
       "       'img_result/80_Nutritions_127.jpg',\n",
       "       'img_result/1_Nutritions_35.jpg', 'img_result/1_Nutritions_37.jpg',\n",
       "       'img_result/7_Nutritions_51.jpg',\n",
       "       'img_result/83_Nutritions_135.jpg',\n",
       "       'img_result/13_Nutritions_65.jpg',\n",
       "       'img_result/13_Nutritions_59.jpg',\n",
       "       'img_result/13_Nutritions_58.jpg',\n",
       "       'img_result/13_Nutritions_64.jpg',\n",
       "       'img_result/7_Nutritions_50.jpg', 'img_result/1_Nutritions_36.jpg',\n",
       "       'img_result/1_Nutritions_32.jpg', 'img_result/2_Nutritions_43.jpg',\n",
       "       'img_result/3_Nutritions_45.jpg', 'img_result/7_Nutritions_54.jpg',\n",
       "       'img_result/84_Nutritions_164.jpg',\n",
       "       'img_result/12_Nutritions_66.jpg',\n",
       "       'img_result/13_Nutritions_60.jpg',\n",
       "       'img_result/12_Nutritions_67.jpg',\n",
       "       'img_result/13_Nutritions_61.jpg',\n",
       "       'img_result/84_Nutritions_165.jpg',\n",
       "       'img_result/7_Nutritions_55.jpg', 'img_result/2_Nutritions_42.jpg',\n",
       "       'img_result/3_Nutritions_44.jpg', 'img_result/1_Nutritions_33.jpg',\n",
       "       'img_result/1_Nutritions_31.jpg', 'img_result/3_Nutritions_46.jpg',\n",
       "       'img_result/2_Nutritions_40.jpg', 'img_result/6_Nutritions_79.jpg',\n",
       "       'img_result/13_Nutritions_63.jpg',\n",
       "       'img_result/12_Nutritions_71.jpg',\n",
       "       'img_result/84_Nutritions_167.jpg',\n",
       "       'img_result/84_Nutritions_166.jpg',\n",
       "       'img_result/12_Nutritions_70.jpg',\n",
       "       'img_result/13_Nutritions_62.jpg',\n",
       "       'img_result/8_Nutritions_118.jpg',\n",
       "       'img_result/6_Nutritions_78.jpg', 'img_result/7_Nutritions_56.jpg',\n",
       "       'img_result/3_Nutritions_47.jpg', 'img_result/2_Nutritions_41.jpg',\n",
       "       'img_result/1_Nutritions_30.jpg'], dtype=object)"
      ]
     },
     "execution_count": 12,
     "metadata": {},
     "output_type": "execute_result"
    }
   ],
   "source": [
    "dx.product_id.unique()"
   ]
  },
  {
   "cell_type": "code",
   "execution_count": 13,
   "metadata": {},
   "outputs": [],
   "source": [
    "dx.product_id = dx.product_id.apply(lambda x:x.replace('img_result/',''))"
   ]
  },
  {
   "cell_type": "code",
   "execution_count": 14,
   "metadata": {},
   "outputs": [
    {
     "data": {
      "text/html": [
       "<div>\n",
       "<style scoped>\n",
       "    .dataframe tbody tr th:only-of-type {\n",
       "        vertical-align: middle;\n",
       "    }\n",
       "\n",
       "    .dataframe tbody tr th {\n",
       "        vertical-align: top;\n",
       "    }\n",
       "\n",
       "    .dataframe thead th {\n",
       "        text-align: right;\n",
       "    }\n",
       "</style>\n",
       "<table border=\"1\" class=\"dataframe\">\n",
       "  <thead>\n",
       "    <tr style=\"text-align: right;\">\n",
       "      <th></th>\n",
       "      <th>product_id</th>\n",
       "      <th>Energy</th>\n",
       "      <th>Serving Size</th>\n",
       "      <th>Calories</th>\n",
       "      <th>Saturated Fat</th>\n",
       "      <th>Total Carbohydrate</th>\n",
       "      <th>Dietary Fiber</th>\n",
       "      <th>Sugars</th>\n",
       "      <th>Protein</th>\n",
       "      <th>Sodium</th>\n",
       "      <th>Total Fat</th>\n",
       "      <th>Trans Fat</th>\n",
       "      <th>Cholesterol</th>\n",
       "    </tr>\n",
       "  </thead>\n",
       "  <tbody>\n",
       "    <tr>\n",
       "      <th>0</th>\n",
       "      <td>1_Nutritions_29.jpg</td>\n",
       "      <td>NaN</td>\n",
       "      <td>NaN</td>\n",
       "      <td>NaN</td>\n",
       "      <td>NaN</td>\n",
       "      <td>NaN</td>\n",
       "      <td>NaN</td>\n",
       "      <td>NaN</td>\n",
       "      <td>NaN</td>\n",
       "      <td>NaN</td>\n",
       "      <td>NaN</td>\n",
       "      <td>NaN</td>\n",
       "      <td>NaN</td>\n",
       "    </tr>\n",
       "    <tr>\n",
       "      <th>1</th>\n",
       "      <td>6_Nutritions_75.jpg</td>\n",
       "      <td>NaN</td>\n",
       "      <td>NaN</td>\n",
       "      <td>NaN</td>\n",
       "      <td>NaN</td>\n",
       "      <td>NaN</td>\n",
       "      <td>NaN</td>\n",
       "      <td>NaN</td>\n",
       "      <td>NaN</td>\n",
       "      <td>NaN</td>\n",
       "      <td>NaN</td>\n",
       "      <td>NaN</td>\n",
       "      <td>NaN</td>\n",
       "    </tr>\n",
       "    <tr>\n",
       "      <th>2</th>\n",
       "      <td>5_Nutritions_101.jpg</td>\n",
       "      <td>71</td>\n",
       "      <td>NaN</td>\n",
       "      <td>NaN</td>\n",
       "      <td>NaN</td>\n",
       "      <td>NaN</td>\n",
       "      <td>NaN</td>\n",
       "      <td>NaN</td>\n",
       "      <td>NaN</td>\n",
       "      <td>NaN</td>\n",
       "      <td>NaN</td>\n",
       "      <td>NaN</td>\n",
       "      <td>NaN</td>\n",
       "    </tr>\n",
       "    <tr>\n",
       "      <th>3</th>\n",
       "      <td>8_Nutritions_115.jpg</td>\n",
       "      <td>NaN</td>\n",
       "      <td>28</td>\n",
       "      <td>15</td>\n",
       "      <td>1</td>\n",
       "      <td>16</td>\n",
       "      <td>1</td>\n",
       "      <td>210</td>\n",
       "      <td>NaN</td>\n",
       "      <td>NaN</td>\n",
       "      <td>NaN</td>\n",
       "      <td>NaN</td>\n",
       "      <td>NaN</td>\n",
       "    </tr>\n",
       "    <tr>\n",
       "      <th>4</th>\n",
       "      <td>12_Nutritions_69.jpg</td>\n",
       "      <td>NaN</td>\n",
       "      <td>15</td>\n",
       "      <td>NaN</td>\n",
       "      <td>NaN</td>\n",
       "      <td>NaN</td>\n",
       "      <td>NaN</td>\n",
       "      <td>NaN</td>\n",
       "      <td>NaN</td>\n",
       "      <td>NaN</td>\n",
       "      <td>NaN</td>\n",
       "      <td>NaN</td>\n",
       "      <td>NaN</td>\n",
       "    </tr>\n",
       "  </tbody>\n",
       "</table>\n",
       "</div>"
      ],
      "text/plain": [
       "             product_id Energy Serving Size Calories Saturated Fat  \\\n",
       "0   1_Nutritions_29.jpg    NaN          NaN      NaN           NaN   \n",
       "1   6_Nutritions_75.jpg    NaN          NaN      NaN           NaN   \n",
       "2  5_Nutritions_101.jpg     71          NaN      NaN           NaN   \n",
       "3  8_Nutritions_115.jpg    NaN           28       15             1   \n",
       "4  12_Nutritions_69.jpg    NaN           15      NaN           NaN   \n",
       "\n",
       "  Total Carbohydrate Dietary Fiber Sugars Protein Sodium Total Fat Trans Fat  \\\n",
       "0                NaN           NaN    NaN     NaN    NaN       NaN       NaN   \n",
       "1                NaN           NaN    NaN     NaN    NaN       NaN       NaN   \n",
       "2                NaN           NaN    NaN     NaN    NaN       NaN       NaN   \n",
       "3                 16             1    210     NaN    NaN       NaN       NaN   \n",
       "4                NaN           NaN    NaN     NaN    NaN       NaN       NaN   \n",
       "\n",
       "  Cholesterol  \n",
       "0         NaN  \n",
       "1         NaN  \n",
       "2         NaN  \n",
       "3         NaN  \n",
       "4         NaN  "
      ]
     },
     "execution_count": 14,
     "metadata": {},
     "output_type": "execute_result"
    }
   ],
   "source": [
    "dx.head()"
   ]
  },
  {
   "cell_type": "code",
   "execution_count": 15,
   "metadata": {},
   "outputs": [
    {
     "data": {
      "text/html": [
       "<div>\n",
       "<style scoped>\n",
       "    .dataframe tbody tr th:only-of-type {\n",
       "        vertical-align: middle;\n",
       "    }\n",
       "\n",
       "    .dataframe tbody tr th {\n",
       "        vertical-align: top;\n",
       "    }\n",
       "\n",
       "    .dataframe thead th {\n",
       "        text-align: right;\n",
       "    }\n",
       "</style>\n",
       "<table border=\"1\" class=\"dataframe\">\n",
       "  <thead>\n",
       "    <tr style=\"text-align: right;\">\n",
       "      <th></th>\n",
       "      <th>Energy</th>\n",
       "      <th>Serving Size</th>\n",
       "      <th>Calories</th>\n",
       "      <th>Saturated Fat</th>\n",
       "      <th>Total Carbohydrate</th>\n",
       "      <th>Dietary Fiber</th>\n",
       "      <th>Sugars</th>\n",
       "      <th>Protein</th>\n",
       "      <th>Sodium</th>\n",
       "      <th>Total Fat</th>\n",
       "      <th>Trans Fat</th>\n",
       "      <th>Cholesterol</th>\n",
       "    </tr>\n",
       "    <tr>\n",
       "      <th>product_id</th>\n",
       "      <th></th>\n",
       "      <th></th>\n",
       "      <th></th>\n",
       "      <th></th>\n",
       "      <th></th>\n",
       "      <th></th>\n",
       "      <th></th>\n",
       "      <th></th>\n",
       "      <th></th>\n",
       "      <th></th>\n",
       "      <th></th>\n",
       "      <th></th>\n",
       "    </tr>\n",
       "  </thead>\n",
       "  <tbody>\n",
       "    <tr>\n",
       "      <th>5_Nutritions_101.jpg</th>\n",
       "      <td>71</td>\n",
       "      <td>NaN</td>\n",
       "      <td>NaN</td>\n",
       "      <td>NaN</td>\n",
       "      <td>NaN</td>\n",
       "      <td>NaN</td>\n",
       "      <td>NaN</td>\n",
       "      <td>NaN</td>\n",
       "      <td>NaN</td>\n",
       "      <td>NaN</td>\n",
       "      <td>NaN</td>\n",
       "      <td>NaN</td>\n",
       "    </tr>\n",
       "    <tr>\n",
       "      <th>8_Nutritions_115.jpg</th>\n",
       "      <td>NaN</td>\n",
       "      <td>28</td>\n",
       "      <td>15</td>\n",
       "      <td>1</td>\n",
       "      <td>16</td>\n",
       "      <td>1</td>\n",
       "      <td>210</td>\n",
       "      <td>NaN</td>\n",
       "      <td>NaN</td>\n",
       "      <td>NaN</td>\n",
       "      <td>NaN</td>\n",
       "      <td>NaN</td>\n",
       "    </tr>\n",
       "    <tr>\n",
       "      <th>12_Nutritions_69.jpg</th>\n",
       "      <td>NaN</td>\n",
       "      <td>15</td>\n",
       "      <td>NaN</td>\n",
       "      <td>NaN</td>\n",
       "      <td>NaN</td>\n",
       "      <td>NaN</td>\n",
       "      <td>NaN</td>\n",
       "      <td>NaN</td>\n",
       "      <td>NaN</td>\n",
       "      <td>NaN</td>\n",
       "      <td>NaN</td>\n",
       "      <td>NaN</td>\n",
       "    </tr>\n",
       "    <tr>\n",
       "      <th>8_Nutritions_114.jpg</th>\n",
       "      <td>NaN</td>\n",
       "      <td>28</td>\n",
       "      <td>15</td>\n",
       "      <td>NaN</td>\n",
       "      <td>16</td>\n",
       "      <td>4</td>\n",
       "      <td>NaN</td>\n",
       "      <td></td>\n",
       "      <td>NaN</td>\n",
       "      <td>NaN</td>\n",
       "      <td>NaN</td>\n",
       "      <td>NaN</td>\n",
       "    </tr>\n",
       "    <tr>\n",
       "      <th>9_Nutritions_126.jpg</th>\n",
       "      <td>NaN</td>\n",
       "      <td>NaN</td>\n",
       "      <td>NaN</td>\n",
       "      <td>NaN</td>\n",
       "      <td>7</td>\n",
       "      <td>NaN</td>\n",
       "      <td>NaN</td>\n",
       "      <td>NaN</td>\n",
       "      <td>NaN</td>\n",
       "      <td>NaN</td>\n",
       "      <td>NaN</td>\n",
       "      <td>NaN</td>\n",
       "    </tr>\n",
       "    <tr>\n",
       "      <th>8_Nutritions_116.jpg</th>\n",
       "      <td>NaN</td>\n",
       "      <td>NaN</td>\n",
       "      <td>NaN</td>\n",
       "      <td>NaN</td>\n",
       "      <td>14</td>\n",
       "      <td>NaN</td>\n",
       "      <td>NaN</td>\n",
       "      <td>NaN</td>\n",
       "      <td>210</td>\n",
       "      <td>NaN</td>\n",
       "      <td>NaN</td>\n",
       "      <td>NaN</td>\n",
       "    </tr>\n",
       "    <tr>\n",
       "      <th>9_Nutritions_125.jpg</th>\n",
       "      <td>NaN</td>\n",
       "      <td>1</td>\n",
       "      <td>3</td>\n",
       "      <td>NaN</td>\n",
       "      <td>NaN</td>\n",
       "      <td>NaN</td>\n",
       "      <td>NaN</td>\n",
       "      <td>0</td>\n",
       "      <td>NaN</td>\n",
       "      <td>NaN</td>\n",
       "      <td>NaN</td>\n",
       "      <td>NaN</td>\n",
       "    </tr>\n",
       "    <tr>\n",
       "      <th>82_Nutritions_137.jpg</th>\n",
       "      <td>NaN</td>\n",
       "      <td>35</td>\n",
       "      <td>NaN</td>\n",
       "      <td>NaN</td>\n",
       "      <td>NaN</td>\n",
       "      <td>NaN</td>\n",
       "      <td>NaN</td>\n",
       "      <td>NaN</td>\n",
       "      <td>NaN</td>\n",
       "      <td>NaN</td>\n",
       "      <td>NaN</td>\n",
       "      <td>NaN</td>\n",
       "    </tr>\n",
       "    <tr>\n",
       "      <th>73_Nutritions_24.jpg</th>\n",
       "      <td>NaN</td>\n",
       "      <td>22</td>\n",
       "      <td>100</td>\n",
       "      <td>NaN</td>\n",
       "      <td>NaN</td>\n",
       "      <td>NaN</td>\n",
       "      <td>NaN</td>\n",
       "      <td>NaN</td>\n",
       "      <td>NaN</td>\n",
       "      <td></td>\n",
       "      <td>NaN</td>\n",
       "      <td>NaN</td>\n",
       "    </tr>\n",
       "    <tr>\n",
       "      <th>73_Nutritions_25.jpg</th>\n",
       "      <td>NaN</td>\n",
       "      <td>22</td>\n",
       "      <td>100</td>\n",
       "      <td></td>\n",
       "      <td>NaN</td>\n",
       "      <td>NaN</td>\n",
       "      <td>NaN</td>\n",
       "      <td>NaN</td>\n",
       "      <td>NaN</td>\n",
       "      <td></td>\n",
       "      <td></td>\n",
       "      <td>2</td>\n",
       "    </tr>\n",
       "    <tr>\n",
       "      <th>74_Nutritions_22.jpg</th>\n",
       "      <td>NaN</td>\n",
       "      <td>NaN</td>\n",
       "      <td>NaN</td>\n",
       "      <td>0.</td>\n",
       "      <td>25.12</td>\n",
       "      <td>NaN</td>\n",
       "      <td>11.51</td>\n",
       "      <td>1.2</td>\n",
       "      <td>190</td>\n",
       "      <td>1.63</td>\n",
       "      <td>0</td>\n",
       "      <td>10</td>\n",
       "    </tr>\n",
       "    <tr>\n",
       "      <th>76_Nutritions_3.jpg</th>\n",
       "      <td>NaN</td>\n",
       "      <td>5</td>\n",
       "      <td>67</td>\n",
       "      <td>NaN</td>\n",
       "      <td>11</td>\n",
       "      <td>NaN</td>\n",
       "      <td>NaN</td>\n",
       "      <td>NaN</td>\n",
       "      <td>48</td>\n",
       "      <td>1</td>\n",
       "      <td>NaN</td>\n",
       "      <td>NaN</td>\n",
       "    </tr>\n",
       "    <tr>\n",
       "      <th>74_Nutritions_21.jpg</th>\n",
       "      <td>NaN</td>\n",
       "      <td>1</td>\n",
       "      <td>120</td>\n",
       "      <td>0.24</td>\n",
       "      <td>25.12</td>\n",
       "      <td>NaN</td>\n",
       "      <td>11.51</td>\n",
       "      <td>1.2</td>\n",
       "      <td>190</td>\n",
       "      <td>1.63</td>\n",
       "      <td>0</td>\n",
       "      <td>10</td>\n",
       "    </tr>\n",
       "    <tr>\n",
       "      <th>79_Nutritions_147.jpg</th>\n",
       "      <td>NaN</td>\n",
       "      <td>1</td>\n",
       "      <td>160</td>\n",
       "      <td>6</td>\n",
       "      <td>13</td>\n",
       "      <td>NaN</td>\n",
       "      <td>NaN</td>\n",
       "      <td>NaN</td>\n",
       "      <td>250</td>\n",
       "      <td>NaN</td>\n",
       "      <td>NaN</td>\n",
       "      <td>0</td>\n",
       "    </tr>\n",
       "    <tr>\n",
       "      <th>76_Nutritions_4.jpg</th>\n",
       "      <td>NaN</td>\n",
       "      <td>5</td>\n",
       "      <td>67</td>\n",
       "      <td>NaN</td>\n",
       "      <td>11</td>\n",
       "      <td>NaN</td>\n",
       "      <td>NaN</td>\n",
       "      <td>NaN</td>\n",
       "      <td>480</td>\n",
       "      <td>1</td>\n",
       "      <td>NaN</td>\n",
       "      <td>NaN</td>\n",
       "    </tr>\n",
       "    <tr>\n",
       "      <th>78_Nutritions_158.jpg</th>\n",
       "      <td>NaN</td>\n",
       "      <td>NaN</td>\n",
       "      <td>6</td>\n",
       "      <td>3.5</td>\n",
       "      <td>NaN</td>\n",
       "      <td>NaN</td>\n",
       "      <td>0</td>\n",
       "      <td>5</td>\n",
       "      <td>340</td>\n",
       "      <td>1</td>\n",
       "      <td>0</td>\n",
       "      <td>20</td>\n",
       "    </tr>\n",
       "    <tr>\n",
       "      <th>10_Nutritions_90.jpg</th>\n",
       "      <td>NaN</td>\n",
       "      <td>NaN</td>\n",
       "      <td>0</td>\n",
       "      <td>NaN</td>\n",
       "      <td>NaN</td>\n",
       "      <td>NaN</td>\n",
       "      <td>NaN</td>\n",
       "      <td>NaN</td>\n",
       "      <td>NaN</td>\n",
       "      <td>0</td>\n",
       "      <td>NaN</td>\n",
       "      <td>NaN</td>\n",
       "    </tr>\n",
       "    <tr>\n",
       "      <th>79_Nutritions_141.jpg</th>\n",
       "      <td>NaN</td>\n",
       "      <td>NaN</td>\n",
       "      <td>NaN</td>\n",
       "      <td>5</td>\n",
       "      <td>NaN</td>\n",
       "      <td>NaN</td>\n",
       "      <td>NaN</td>\n",
       "      <td>NaN</td>\n",
       "      <td>2</td>\n",
       "      <td>NaN</td>\n",
       "      <td>NaN</td>\n",
       "      <td>NaN</td>\n",
       "    </tr>\n",
       "    <tr>\n",
       "      <th>11_Nutritions_94.jpg</th>\n",
       "      <td>NaN</td>\n",
       "      <td>NaN</td>\n",
       "      <td>NaN</td>\n",
       "      <td>NaN</td>\n",
       "      <td>12.3</td>\n",
       "      <td>NaN</td>\n",
       "      <td>12.3</td>\n",
       "      <td>NaN</td>\n",
       "      <td>NaN</td>\n",
       "      <td>NaN</td>\n",
       "      <td>NaN</td>\n",
       "      <td>NaN</td>\n",
       "    </tr>\n",
       "    <tr>\n",
       "      <th>76_Nutritions_6.jpg</th>\n",
       "      <td>NaN</td>\n",
       "      <td>NaN</td>\n",
       "      <td>67</td>\n",
       "      <td>0</td>\n",
       "      <td>3.6</td>\n",
       "      <td>NaN</td>\n",
       "      <td>NaN</td>\n",
       "      <td>NaN</td>\n",
       "      <td>460</td>\n",
       "      <td>1</td>\n",
       "      <td>NaN</td>\n",
       "      <td>0</td>\n",
       "    </tr>\n",
       "    <tr>\n",
       "      <th>78_Nutritions_156.jpg</th>\n",
       "      <td>NaN</td>\n",
       "      <td>1</td>\n",
       "      <td>NaN</td>\n",
       "      <td>NaN</td>\n",
       "      <td>NaN</td>\n",
       "      <td>NaN</td>\n",
       "      <td>NaN</td>\n",
       "      <td>NaN</td>\n",
       "      <td>NaN</td>\n",
       "      <td>NaN</td>\n",
       "      <td>NaN</td>\n",
       "      <td>NaN</td>\n",
       "    </tr>\n",
       "    <tr>\n",
       "      <th>78_Nutritions_155.jpg</th>\n",
       "      <td>NaN</td>\n",
       "      <td>1</td>\n",
       "      <td>70</td>\n",
       "      <td>3.5</td>\n",
       "      <td>1</td>\n",
       "      <td>NaN</td>\n",
       "      <td></td>\n",
       "      <td>5</td>\n",
       "      <td>340</td>\n",
       "      <td>6</td>\n",
       "      <td>0</td>\n",
       "      <td>20</td>\n",
       "    </tr>\n",
       "    <tr>\n",
       "      <th>4_Nutritions_85.jpg</th>\n",
       "      <td>NaN</td>\n",
       "      <td>30</td>\n",
       "      <td>NaN</td>\n",
       "      <td>NaN</td>\n",
       "      <td>NaN</td>\n",
       "      <td>NaN</td>\n",
       "      <td>NaN</td>\n",
       "      <td>NaN</td>\n",
       "      <td>NaN</td>\n",
       "      <td>NaN</td>\n",
       "      <td>NaN</td>\n",
       "      <td>NaN</td>\n",
       "    </tr>\n",
       "    <tr>\n",
       "      <th>79_Nutritions_148.jpg</th>\n",
       "      <td>NaN</td>\n",
       "      <td>NaN</td>\n",
       "      <td>NaN</td>\n",
       "      <td>NaN</td>\n",
       "      <td>13</td>\n",
       "      <td>NaN</td>\n",
       "      <td>NaN</td>\n",
       "      <td>NaN</td>\n",
       "      <td>250</td>\n",
       "      <td>NaN</td>\n",
       "      <td>NaN</td>\n",
       "      <td>NaN</td>\n",
       "    </tr>\n",
       "    <tr>\n",
       "      <th>1_Nutritions_34.jpg</th>\n",
       "      <td>NaN</td>\n",
       "      <td>8</td>\n",
       "      <td>NaN</td>\n",
       "      <td>NaN</td>\n",
       "      <td>NaN</td>\n",
       "      <td>NaN</td>\n",
       "      <td>NaN</td>\n",
       "      <td>NaN</td>\n",
       "      <td>NaN</td>\n",
       "      <td>NaN</td>\n",
       "      <td>NaN</td>\n",
       "      <td>NaN</td>\n",
       "    </tr>\n",
       "    <tr>\n",
       "      <th>7_Nutritions_52.jpg</th>\n",
       "      <td>365</td>\n",
       "      <td>NaN</td>\n",
       "      <td>NaN</td>\n",
       "      <td>NaN</td>\n",
       "      <td>92.2</td>\n",
       "      <td>NaN</td>\n",
       "      <td>2</td>\n",
       "      <td>0</td>\n",
       "      <td>NaN</td>\n",
       "      <td>NaN</td>\n",
       "      <td>NaN</td>\n",
       "      <td>NaN</td>\n",
       "    </tr>\n",
       "    <tr>\n",
       "      <th>83_Nutritions_136.jpg</th>\n",
       "      <td>NaN</td>\n",
       "      <td>NaN</td>\n",
       "      <td>NaN</td>\n",
       "      <td>NaN</td>\n",
       "      <td>1</td>\n",
       "      <td>NaN</td>\n",
       "      <td>NaN</td>\n",
       "      <td>NaN</td>\n",
       "      <td>290</td>\n",
       "      <td></td>\n",
       "      <td>NaN</td>\n",
       "      <td>NaN</td>\n",
       "    </tr>\n",
       "    <tr>\n",
       "      <th>7_Nutritions_51.jpg</th>\n",
       "      <td>365</td>\n",
       "      <td>NaN</td>\n",
       "      <td>NaN</td>\n",
       "      <td>NaN</td>\n",
       "      <td>92.2</td>\n",
       "      <td>NaN</td>\n",
       "      <td>2</td>\n",
       "      <td>NaN</td>\n",
       "      <td>NaN</td>\n",
       "      <td>NaN</td>\n",
       "      <td>NaN</td>\n",
       "      <td>NaN</td>\n",
       "    </tr>\n",
       "    <tr>\n",
       "      <th>13_Nutritions_65.jpg</th>\n",
       "      <td>NaN</td>\n",
       "      <td>40</td>\n",
       "      <td>0</td>\n",
       "      <td>NaN</td>\n",
       "      <td>NaN</td>\n",
       "      <td>NaN</td>\n",
       "      <td>2</td>\n",
       "      <td>NaN</td>\n",
       "      <td>NaN</td>\n",
       "      <td>NaN</td>\n",
       "      <td>NaN</td>\n",
       "      <td>NaN</td>\n",
       "    </tr>\n",
       "    <tr>\n",
       "      <th>84_Nutritions_164.jpg</th>\n",
       "      <td>NaN</td>\n",
       "      <td>NaN</td>\n",
       "      <td></td>\n",
       "      <td>NaN</td>\n",
       "      <td>NaN</td>\n",
       "      <td>NaN</td>\n",
       "      <td>8</td>\n",
       "      <td>NaN</td>\n",
       "      <td>NaN</td>\n",
       "      <td>0</td>\n",
       "      <td>NaN</td>\n",
       "      <td>NaN</td>\n",
       "    </tr>\n",
       "    <tr>\n",
       "      <th>3_Nutritions_44.jpg</th>\n",
       "      <td>NaN</td>\n",
       "      <td>35</td>\n",
       "      <td>NaN</td>\n",
       "      <td>NaN</td>\n",
       "      <td>NaN</td>\n",
       "      <td>NaN</td>\n",
       "      <td>NaN</td>\n",
       "      <td>NaN</td>\n",
       "      <td>NaN</td>\n",
       "      <td>NaN</td>\n",
       "      <td>NaN</td>\n",
       "      <td>NaN</td>\n",
       "    </tr>\n",
       "    <tr>\n",
       "      <th>1_Nutritions_33.jpg</th>\n",
       "      <td>NaN</td>\n",
       "      <td>8</td>\n",
       "      <td>NaN</td>\n",
       "      <td>NaN</td>\n",
       "      <td>NaN</td>\n",
       "      <td>NaN</td>\n",
       "      <td>NaN</td>\n",
       "      <td>NaN</td>\n",
       "      <td>NaN</td>\n",
       "      <td>NaN</td>\n",
       "      <td>NaN</td>\n",
       "      <td>NaN</td>\n",
       "    </tr>\n",
       "    <tr>\n",
       "      <th>1_Nutritions_31.jpg</th>\n",
       "      <td>NaN</td>\n",
       "      <td>8</td>\n",
       "      <td>NaN</td>\n",
       "      <td>NaN</td>\n",
       "      <td>NaN</td>\n",
       "      <td>NaN</td>\n",
       "      <td>NaN</td>\n",
       "      <td>NaN</td>\n",
       "      <td>NaN</td>\n",
       "      <td>NaN</td>\n",
       "      <td>NaN</td>\n",
       "      <td>NaN</td>\n",
       "    </tr>\n",
       "    <tr>\n",
       "      <th>84_Nutritions_166.jpg</th>\n",
       "      <td>NaN</td>\n",
       "      <td>NaN</td>\n",
       "      <td></td>\n",
       "      <td>NaN</td>\n",
       "      <td>NaN</td>\n",
       "      <td>NaN</td>\n",
       "      <td>8</td>\n",
       "      <td>NaN</td>\n",
       "      <td>NaN</td>\n",
       "      <td>0</td>\n",
       "      <td>NaN</td>\n",
       "      <td>NaN</td>\n",
       "    </tr>\n",
       "  </tbody>\n",
       "</table>\n",
       "</div>"
      ],
      "text/plain": [
       "                      Energy Serving Size Calories Saturated Fat  \\\n",
       "product_id                                                         \n",
       "5_Nutritions_101.jpg      71          NaN      NaN           NaN   \n",
       "8_Nutritions_115.jpg     NaN           28       15             1   \n",
       "12_Nutritions_69.jpg     NaN           15      NaN           NaN   \n",
       "8_Nutritions_114.jpg     NaN           28       15           NaN   \n",
       "9_Nutritions_126.jpg     NaN          NaN      NaN           NaN   \n",
       "8_Nutritions_116.jpg     NaN          NaN      NaN           NaN   \n",
       "9_Nutritions_125.jpg     NaN            1        3           NaN   \n",
       "82_Nutritions_137.jpg    NaN           35      NaN           NaN   \n",
       "73_Nutritions_24.jpg     NaN           22      100           NaN   \n",
       "73_Nutritions_25.jpg     NaN           22      100                 \n",
       "74_Nutritions_22.jpg     NaN          NaN      NaN            0.   \n",
       "76_Nutritions_3.jpg      NaN            5       67           NaN   \n",
       "74_Nutritions_21.jpg     NaN            1      120          0.24   \n",
       "79_Nutritions_147.jpg    NaN            1      160             6   \n",
       "76_Nutritions_4.jpg      NaN            5       67           NaN   \n",
       "78_Nutritions_158.jpg    NaN          NaN        6           3.5   \n",
       "10_Nutritions_90.jpg     NaN          NaN        0           NaN   \n",
       "79_Nutritions_141.jpg    NaN          NaN      NaN             5   \n",
       "11_Nutritions_94.jpg     NaN          NaN      NaN           NaN   \n",
       "76_Nutritions_6.jpg      NaN          NaN       67             0   \n",
       "78_Nutritions_156.jpg    NaN            1      NaN           NaN   \n",
       "78_Nutritions_155.jpg    NaN            1       70           3.5   \n",
       "4_Nutritions_85.jpg      NaN           30      NaN           NaN   \n",
       "79_Nutritions_148.jpg    NaN          NaN      NaN           NaN   \n",
       "1_Nutritions_34.jpg      NaN            8      NaN           NaN   \n",
       "7_Nutritions_52.jpg      365          NaN      NaN           NaN   \n",
       "83_Nutritions_136.jpg    NaN          NaN      NaN           NaN   \n",
       "7_Nutritions_51.jpg      365          NaN      NaN           NaN   \n",
       "13_Nutritions_65.jpg     NaN           40        0           NaN   \n",
       "84_Nutritions_164.jpg    NaN          NaN                    NaN   \n",
       "3_Nutritions_44.jpg      NaN           35      NaN           NaN   \n",
       "1_Nutritions_33.jpg      NaN            8      NaN           NaN   \n",
       "1_Nutritions_31.jpg      NaN            8      NaN           NaN   \n",
       "84_Nutritions_166.jpg    NaN          NaN                    NaN   \n",
       "\n",
       "                      Total Carbohydrate Dietary Fiber Sugars Protein Sodium  \\\n",
       "product_id                                                                     \n",
       "5_Nutritions_101.jpg                 NaN           NaN    NaN     NaN    NaN   \n",
       "8_Nutritions_115.jpg                  16             1    210     NaN    NaN   \n",
       "12_Nutritions_69.jpg                 NaN           NaN    NaN     NaN    NaN   \n",
       "8_Nutritions_114.jpg                  16             4    NaN            NaN   \n",
       "9_Nutritions_126.jpg                   7           NaN    NaN     NaN    NaN   \n",
       "8_Nutritions_116.jpg                  14           NaN    NaN     NaN    210   \n",
       "9_Nutritions_125.jpg                 NaN           NaN    NaN       0    NaN   \n",
       "82_Nutritions_137.jpg                NaN           NaN    NaN     NaN    NaN   \n",
       "73_Nutritions_24.jpg                 NaN           NaN    NaN     NaN    NaN   \n",
       "73_Nutritions_25.jpg                 NaN           NaN    NaN     NaN    NaN   \n",
       "74_Nutritions_22.jpg               25.12           NaN  11.51     1.2    190   \n",
       "76_Nutritions_3.jpg                   11           NaN    NaN     NaN     48   \n",
       "74_Nutritions_21.jpg               25.12           NaN  11.51     1.2    190   \n",
       "79_Nutritions_147.jpg                 13           NaN    NaN     NaN    250   \n",
       "76_Nutritions_4.jpg                   11           NaN    NaN     NaN    480   \n",
       "78_Nutritions_158.jpg                NaN           NaN      0       5    340   \n",
       "10_Nutritions_90.jpg                 NaN           NaN    NaN     NaN    NaN   \n",
       "79_Nutritions_141.jpg                NaN           NaN    NaN     NaN      2   \n",
       "11_Nutritions_94.jpg                12.3           NaN   12.3     NaN    NaN   \n",
       "76_Nutritions_6.jpg                  3.6           NaN    NaN     NaN    460   \n",
       "78_Nutritions_156.jpg                NaN           NaN    NaN     NaN    NaN   \n",
       "78_Nutritions_155.jpg                  1           NaN              5    340   \n",
       "4_Nutritions_85.jpg                  NaN           NaN    NaN     NaN    NaN   \n",
       "79_Nutritions_148.jpg                 13           NaN    NaN     NaN    250   \n",
       "1_Nutritions_34.jpg                  NaN           NaN    NaN     NaN    NaN   \n",
       "7_Nutritions_52.jpg                 92.2           NaN      2       0    NaN   \n",
       "83_Nutritions_136.jpg                  1           NaN    NaN     NaN    290   \n",
       "7_Nutritions_51.jpg                 92.2           NaN      2     NaN    NaN   \n",
       "13_Nutritions_65.jpg                 NaN           NaN      2     NaN    NaN   \n",
       "84_Nutritions_164.jpg                NaN           NaN      8     NaN    NaN   \n",
       "3_Nutritions_44.jpg                  NaN           NaN    NaN     NaN    NaN   \n",
       "1_Nutritions_33.jpg                  NaN           NaN    NaN     NaN    NaN   \n",
       "1_Nutritions_31.jpg                  NaN           NaN    NaN     NaN    NaN   \n",
       "84_Nutritions_166.jpg                NaN           NaN      8     NaN    NaN   \n",
       "\n",
       "                      Total Fat Trans Fat Cholesterol  \n",
       "product_id                                             \n",
       "5_Nutritions_101.jpg        NaN       NaN         NaN  \n",
       "8_Nutritions_115.jpg        NaN       NaN         NaN  \n",
       "12_Nutritions_69.jpg        NaN       NaN         NaN  \n",
       "8_Nutritions_114.jpg        NaN       NaN         NaN  \n",
       "9_Nutritions_126.jpg        NaN       NaN         NaN  \n",
       "8_Nutritions_116.jpg        NaN       NaN         NaN  \n",
       "9_Nutritions_125.jpg        NaN       NaN         NaN  \n",
       "82_Nutritions_137.jpg       NaN       NaN         NaN  \n",
       "73_Nutritions_24.jpg                  NaN         NaN  \n",
       "73_Nutritions_25.jpg                                2  \n",
       "74_Nutritions_22.jpg       1.63         0          10  \n",
       "76_Nutritions_3.jpg           1       NaN         NaN  \n",
       "74_Nutritions_21.jpg       1.63         0          10  \n",
       "79_Nutritions_147.jpg       NaN       NaN           0  \n",
       "76_Nutritions_4.jpg           1       NaN         NaN  \n",
       "78_Nutritions_158.jpg         1         0          20  \n",
       "10_Nutritions_90.jpg          0       NaN         NaN  \n",
       "79_Nutritions_141.jpg       NaN       NaN         NaN  \n",
       "11_Nutritions_94.jpg        NaN       NaN         NaN  \n",
       "76_Nutritions_6.jpg           1       NaN           0  \n",
       "78_Nutritions_156.jpg       NaN       NaN         NaN  \n",
       "78_Nutritions_155.jpg         6         0          20  \n",
       "4_Nutritions_85.jpg         NaN       NaN         NaN  \n",
       "79_Nutritions_148.jpg       NaN       NaN         NaN  \n",
       "1_Nutritions_34.jpg         NaN       NaN         NaN  \n",
       "7_Nutritions_52.jpg         NaN       NaN         NaN  \n",
       "83_Nutritions_136.jpg                 NaN         NaN  \n",
       "7_Nutritions_51.jpg         NaN       NaN         NaN  \n",
       "13_Nutritions_65.jpg        NaN       NaN         NaN  \n",
       "84_Nutritions_164.jpg         0       NaN         NaN  \n",
       "3_Nutritions_44.jpg         NaN       NaN         NaN  \n",
       "1_Nutritions_33.jpg         NaN       NaN         NaN  \n",
       "1_Nutritions_31.jpg         NaN       NaN         NaN  \n",
       "84_Nutritions_166.jpg         0       NaN         NaN  "
      ]
     },
     "execution_count": 15,
     "metadata": {},
     "output_type": "execute_result"
    }
   ],
   "source": [
    "dx.set_index(keys='product_id').dropna(how='all')"
   ]
  },
  {
   "cell_type": "code",
   "execution_count": 16,
   "metadata": {},
   "outputs": [],
   "source": [
    "dx.to_csv('nut_facts')"
   ]
  },
  {
   "cell_type": "code",
   "execution_count": 17,
   "metadata": {},
   "outputs": [
    {
     "data": {
      "text/plain": [
       "array(['1_Nutritions_29.jpg', '6_Nutritions_75.jpg',\n",
       "       '5_Nutritions_101.jpg', '8_Nutritions_115.jpg',\n",
       "       '12_Nutritions_69.jpg', '12_Nutritions_68.jpg',\n",
       "       '81_Nutritions_134.jpg', '8_Nutritions_114.jpg',\n",
       "       '5_Nutritions_100.jpg', '6_Nutritions_74.jpg',\n",
       "       '9_Nutritions_126.jpg', '1_Nutritions_28.jpg',\n",
       "       '9_Nutritions_124.jpg', '6_Nutritions_76.jpg',\n",
       "       '5_Nutritions_102.jpg', '8_Nutritions_116.jpg',\n",
       "       '8_Nutritions_117.jpg', '5_Nutritions_103.jpg',\n",
       "       '6_Nutritions_77.jpg', '73_Nutritions_23.jpg',\n",
       "       '9_Nutritions_119.jpg', '9_Nutritions_125.jpg',\n",
       "       '9_Nutritions_121.jpg', '80_Nutritions_129.jpg',\n",
       "       '82_Nutritions_137.jpg', '73_Nutritions_27.jpg',\n",
       "       '6_Nutritions_73.jpg', '7_Nutritions_49.jpg',\n",
       "       '5_Nutritions_107.jpg', '8_Nutritions_113.jpg',\n",
       "       '81_Nutritions_133.jpg', '81_Nutritions_132.jpg',\n",
       "       '8_Nutritions_112.jpg', '5_Nutritions_106.jpg',\n",
       "       '7_Nutritions_48.jpg', '6_Nutritions_72.jpg',\n",
       "       '73_Nutritions_26.jpg', '80_Nutritions_128.jpg',\n",
       "       '9_Nutritions_120.jpg', '9_Nutritions_122.jpg',\n",
       "       '73_Nutritions_24.jpg', '5_Nutritions_110.jpg',\n",
       "       '5_Nutritions_104.jpg', '81_Nutritions_130.jpg',\n",
       "       '13_Nutritions_57.jpg', '81_Nutritions_131.jpg',\n",
       "       '8_Nutritions_111.jpg', '5_Nutritions_105.jpg',\n",
       "       '73_Nutritions_25.jpg', '9_Nutritions_123.jpg',\n",
       "       '75_Nutritions_8.jpg', '74_Nutritions_22.jpg',\n",
       "       '79_Nutritions_144.jpg', '79_Nutritions_150.jpg',\n",
       "       '76_Nutritions_2.jpg', '78_Nutritions_162.jpg',\n",
       "       '78_Nutritions_163.jpg', '5_Nutritions_99.jpg',\n",
       "       '76_Nutritions_3.jpg', '79_Nutritions_151.jpg',\n",
       "       '79_Nutritions_145.jpg', '75_Nutritions_9.jpg',\n",
       "       '74_Nutritions_21.jpg', '2_Nutritions_38.jpg',\n",
       "       '79_Nutritions_147.jpg', '76_Nutritions_1.jpg',\n",
       "       '78_Nutritions_161.jpg', '11_Nutritions_93.jpg',\n",
       "       '11_Nutritions_92.jpg', '78_Nutritions_160.jpg',\n",
       "       '79_Nutritions_146.jpg', '2_Nutritions_39.jpg',\n",
       "       '74_Nutritions_20.jpg', '74_Nutritions_18.jpg',\n",
       "       '79_Nutritions_142.jpg', '76_Nutritions_4.jpg',\n",
       "       '82_Nutritions_140.jpg', '78_Nutritions_158.jpg',\n",
       "       '10_Nutritions_90.jpg', '11_Nutritions_96.jpg',\n",
       "       '10_Nutritions_91.jpg', '78_Nutritions_159.jpg',\n",
       "       '11_Nutritions_97.jpg', '76_Nutritions_5.jpg',\n",
       "       '79_Nutritions_143.jpg', '74_Nutritions_19.jpg',\n",
       "       '79_Nutritions_141.jpg', '11_Nutritions_95.jpg',\n",
       "       '11_Nutritions_94.jpg', '76_Nutritions_6.jpg',\n",
       "       '74_Nutritions_17.jpg', '75_Nutritions_11.jpg',\n",
       "       '4_Nutritions_83.jpg', '78_Nutritions_157.jpg',\n",
       "       '11_Nutritions_98.jpg', '78_Nutritions_156.jpg',\n",
       "       '4_Nutritions_82.jpg', '75_Nutritions_10.jpg',\n",
       "       '75_Nutritions_12.jpg', '4_Nutritions_80.jpg',\n",
       "       '78_Nutritions_154.jpg', '10_Nutritions_88.jpg',\n",
       "       '10_Nutritions_89.jpg', '78_Nutritions_155.jpg',\n",
       "       '4_Nutritions_81.jpg', '75_Nutritions_13.jpg',\n",
       "       '75_Nutritions_7.jpg', '4_Nutritions_85.jpg',\n",
       "       '4_Nutritions_84.jpg', '75_Nutritions_16.jpg',\n",
       "       '75_Nutritions_14.jpg', '79_Nutritions_148.jpg',\n",
       "       '4_Nutritions_86.jpg', '78_Nutritions_152.jpg',\n",
       "       '78_Nutritions_153.jpg', '4_Nutritions_87.jpg',\n",
       "       '79_Nutritions_149.jpg', '75_Nutritions_15.jpg',\n",
       "       '1_Nutritions_34.jpg', '82_Nutritions_138.jpg',\n",
       "       '7_Nutritions_52.jpg', '5_Nutritions_108.jpg',\n",
       "       '83_Nutritions_136.jpg', '5_Nutritions_109.jpg',\n",
       "       '7_Nutritions_53.jpg', '82_Nutritions_139.jpg',\n",
       "       '80_Nutritions_127.jpg', '1_Nutritions_35.jpg',\n",
       "       '1_Nutritions_37.jpg', '7_Nutritions_51.jpg',\n",
       "       '83_Nutritions_135.jpg', '13_Nutritions_65.jpg',\n",
       "       '13_Nutritions_59.jpg', '13_Nutritions_58.jpg',\n",
       "       '13_Nutritions_64.jpg', '7_Nutritions_50.jpg',\n",
       "       '1_Nutritions_36.jpg', '1_Nutritions_32.jpg',\n",
       "       '2_Nutritions_43.jpg', '3_Nutritions_45.jpg',\n",
       "       '7_Nutritions_54.jpg', '84_Nutritions_164.jpg',\n",
       "       '12_Nutritions_66.jpg', '13_Nutritions_60.jpg',\n",
       "       '12_Nutritions_67.jpg', '13_Nutritions_61.jpg',\n",
       "       '84_Nutritions_165.jpg', '7_Nutritions_55.jpg',\n",
       "       '2_Nutritions_42.jpg', '3_Nutritions_44.jpg',\n",
       "       '1_Nutritions_33.jpg', '1_Nutritions_31.jpg',\n",
       "       '3_Nutritions_46.jpg', '2_Nutritions_40.jpg',\n",
       "       '6_Nutritions_79.jpg', '13_Nutritions_63.jpg',\n",
       "       '12_Nutritions_71.jpg', '84_Nutritions_167.jpg',\n",
       "       '84_Nutritions_166.jpg', '12_Nutritions_70.jpg',\n",
       "       '13_Nutritions_62.jpg', '8_Nutritions_118.jpg',\n",
       "       '6_Nutritions_78.jpg', '7_Nutritions_56.jpg',\n",
       "       '3_Nutritions_47.jpg', '2_Nutritions_41.jpg',\n",
       "       '1_Nutritions_30.jpg'], dtype=object)"
      ]
     },
     "execution_count": 17,
     "metadata": {},
     "output_type": "execute_result"
    }
   ],
   "source": [
    "dx.product_id.unique()"
   ]
  },
  {
   "cell_type": "code",
   "execution_count": 18,
   "metadata": {
    "scrolled": true
   },
   "outputs": [
    {
     "data": {
      "text/plain": [
       "(167, 13)"
      ]
     },
     "execution_count": 18,
     "metadata": {},
     "output_type": "execute_result"
    }
   ],
   "source": [
    "dx.shape"
   ]
  },
  {
   "cell_type": "markdown",
   "metadata": {},
   "source": [
    "#### Creating A Dataframe from Raw Text (Try 1)"
   ]
  },
  {
   "cell_type": "code",
   "execution_count": null,
   "metadata": {
    "scrolled": true
   },
   "outputs": [],
   "source": [
    "test = n[0].split('\\n')"
   ]
  },
  {
   "cell_type": "code",
   "execution_count": null,
   "metadata": {},
   "outputs": [],
   "source": [
    "#df_test = pd.DataFrame(test)"
   ]
  },
  {
   "cell_type": "code",
   "execution_count": null,
   "metadata": {},
   "outputs": [],
   "source": [
    "#df_test[0][19]"
   ]
  },
  {
   "cell_type": "code",
   "execution_count": null,
   "metadata": {},
   "outputs": [],
   "source": [
    "df_test"
   ]
  },
  {
   "cell_type": "code",
   "execution_count": null,
   "metadata": {},
   "outputs": [],
   "source": [
    "df_test = df_test.rename(columns={0:'data'})"
   ]
  },
  {
   "cell_type": "code",
   "execution_count": null,
   "metadata": {},
   "outputs": [],
   "source": [
    "df_test[df_test['data'].str.contains('Serving')]"
   ]
  },
  {
   "cell_type": "code",
   "execution_count": null,
   "metadata": {},
   "outputs": [],
   "source": [
    "df_test['data'].str.extract('(\\d+?[Aa-zZ]+)')"
   ]
  },
  {
   "cell_type": "markdown",
   "metadata": {},
   "source": [
    "# Visualization of Nutrition facts "
   ]
  },
  {
   "cell_type": "code",
   "execution_count": 34,
   "metadata": {},
   "outputs": [],
   "source": [
    "import pandas as pd\n",
    "import matplotlib.pyplot as plt\n",
    "from plotly.subplots import make_subplots\n",
    "import seaborn as sns\n",
    "import plotly "
   ]
  },
  {
   "cell_type": "code",
   "execution_count": 35,
   "metadata": {},
   "outputs": [],
   "source": [
    "df = pd.read_csv('nut_facts')"
   ]
  },
  {
   "cell_type": "code",
   "execution_count": 36,
   "metadata": {},
   "outputs": [
    {
     "data": {
      "text/html": [
       "<div>\n",
       "<style scoped>\n",
       "    .dataframe tbody tr th:only-of-type {\n",
       "        vertical-align: middle;\n",
       "    }\n",
       "\n",
       "    .dataframe tbody tr th {\n",
       "        vertical-align: top;\n",
       "    }\n",
       "\n",
       "    .dataframe thead th {\n",
       "        text-align: right;\n",
       "    }\n",
       "</style>\n",
       "<table border=\"1\" class=\"dataframe\">\n",
       "  <thead>\n",
       "    <tr style=\"text-align: right;\">\n",
       "      <th></th>\n",
       "      <th>product_id</th>\n",
       "      <th>Energy</th>\n",
       "      <th>Serving Size</th>\n",
       "      <th>Calories</th>\n",
       "      <th>Saturated Fat</th>\n",
       "      <th>Total Carbohydrate</th>\n",
       "      <th>Dietary Fiber</th>\n",
       "      <th>Sugars</th>\n",
       "      <th>Protein</th>\n",
       "      <th>Sodium</th>\n",
       "      <th>Total Fat</th>\n",
       "      <th>Trans Fat</th>\n",
       "      <th>Cholesterol</th>\n",
       "    </tr>\n",
       "  </thead>\n",
       "  <tbody>\n",
       "    <tr>\n",
       "      <th>0</th>\n",
       "      <td>1_Nutritions_29.jpg</td>\n",
       "      <td>0.0</td>\n",
       "      <td>0.0</td>\n",
       "      <td>0.0</td>\n",
       "      <td>0.0</td>\n",
       "      <td>0.0</td>\n",
       "      <td>0.0</td>\n",
       "      <td>0.0</td>\n",
       "      <td>0.0</td>\n",
       "      <td>0.0</td>\n",
       "      <td>0.0</td>\n",
       "      <td>0.0</td>\n",
       "      <td>0.0</td>\n",
       "    </tr>\n",
       "    <tr>\n",
       "      <th>1</th>\n",
       "      <td>6_Nutritions_75.jpg</td>\n",
       "      <td>0.0</td>\n",
       "      <td>0.0</td>\n",
       "      <td>0.0</td>\n",
       "      <td>0.0</td>\n",
       "      <td>0.0</td>\n",
       "      <td>0.0</td>\n",
       "      <td>0.0</td>\n",
       "      <td>0.0</td>\n",
       "      <td>0.0</td>\n",
       "      <td>0.0</td>\n",
       "      <td>0.0</td>\n",
       "      <td>0.0</td>\n",
       "    </tr>\n",
       "    <tr>\n",
       "      <th>2</th>\n",
       "      <td>5_Nutritions_101.jpg</td>\n",
       "      <td>71.0</td>\n",
       "      <td>0.0</td>\n",
       "      <td>0.0</td>\n",
       "      <td>0.0</td>\n",
       "      <td>0.0</td>\n",
       "      <td>0.0</td>\n",
       "      <td>0.0</td>\n",
       "      <td>0.0</td>\n",
       "      <td>0.0</td>\n",
       "      <td>0.0</td>\n",
       "      <td>0.0</td>\n",
       "      <td>0.0</td>\n",
       "    </tr>\n",
       "    <tr>\n",
       "      <th>3</th>\n",
       "      <td>8_Nutritions_115.jpg</td>\n",
       "      <td>0.0</td>\n",
       "      <td>28.0</td>\n",
       "      <td>15.0</td>\n",
       "      <td>1.0</td>\n",
       "      <td>16.0</td>\n",
       "      <td>1.0</td>\n",
       "      <td>210.0</td>\n",
       "      <td>0.0</td>\n",
       "      <td>0.0</td>\n",
       "      <td>0.0</td>\n",
       "      <td>0.0</td>\n",
       "      <td>0.0</td>\n",
       "    </tr>\n",
       "    <tr>\n",
       "      <th>4</th>\n",
       "      <td>12_Nutritions_69.jpg</td>\n",
       "      <td>0.0</td>\n",
       "      <td>15.0</td>\n",
       "      <td>0.0</td>\n",
       "      <td>0.0</td>\n",
       "      <td>0.0</td>\n",
       "      <td>0.0</td>\n",
       "      <td>0.0</td>\n",
       "      <td>0.0</td>\n",
       "      <td>0.0</td>\n",
       "      <td>0.0</td>\n",
       "      <td>0.0</td>\n",
       "      <td>0.0</td>\n",
       "    </tr>\n",
       "    <tr>\n",
       "      <th>...</th>\n",
       "      <td>...</td>\n",
       "      <td>...</td>\n",
       "      <td>...</td>\n",
       "      <td>...</td>\n",
       "      <td>...</td>\n",
       "      <td>...</td>\n",
       "      <td>...</td>\n",
       "      <td>...</td>\n",
       "      <td>...</td>\n",
       "      <td>...</td>\n",
       "      <td>...</td>\n",
       "      <td>...</td>\n",
       "      <td>...</td>\n",
       "    </tr>\n",
       "    <tr>\n",
       "      <th>162</th>\n",
       "      <td>6_Nutritions_78.jpg</td>\n",
       "      <td>0.0</td>\n",
       "      <td>0.0</td>\n",
       "      <td>0.0</td>\n",
       "      <td>0.0</td>\n",
       "      <td>0.0</td>\n",
       "      <td>0.0</td>\n",
       "      <td>0.0</td>\n",
       "      <td>0.0</td>\n",
       "      <td>0.0</td>\n",
       "      <td>0.0</td>\n",
       "      <td>0.0</td>\n",
       "      <td>0.0</td>\n",
       "    </tr>\n",
       "    <tr>\n",
       "      <th>163</th>\n",
       "      <td>7_Nutritions_56.jpg</td>\n",
       "      <td>0.0</td>\n",
       "      <td>0.0</td>\n",
       "      <td>0.0</td>\n",
       "      <td>0.0</td>\n",
       "      <td>0.0</td>\n",
       "      <td>0.0</td>\n",
       "      <td>0.0</td>\n",
       "      <td>0.0</td>\n",
       "      <td>0.0</td>\n",
       "      <td>0.0</td>\n",
       "      <td>0.0</td>\n",
       "      <td>0.0</td>\n",
       "    </tr>\n",
       "    <tr>\n",
       "      <th>164</th>\n",
       "      <td>3_Nutritions_47.jpg</td>\n",
       "      <td>0.0</td>\n",
       "      <td>0.0</td>\n",
       "      <td>0.0</td>\n",
       "      <td>0.0</td>\n",
       "      <td>0.0</td>\n",
       "      <td>0.0</td>\n",
       "      <td>0.0</td>\n",
       "      <td>0.0</td>\n",
       "      <td>0.0</td>\n",
       "      <td>0.0</td>\n",
       "      <td>0.0</td>\n",
       "      <td>0.0</td>\n",
       "    </tr>\n",
       "    <tr>\n",
       "      <th>165</th>\n",
       "      <td>2_Nutritions_41.jpg</td>\n",
       "      <td>0.0</td>\n",
       "      <td>0.0</td>\n",
       "      <td>0.0</td>\n",
       "      <td>0.0</td>\n",
       "      <td>0.0</td>\n",
       "      <td>0.0</td>\n",
       "      <td>0.0</td>\n",
       "      <td>0.0</td>\n",
       "      <td>0.0</td>\n",
       "      <td>0.0</td>\n",
       "      <td>0.0</td>\n",
       "      <td>0.0</td>\n",
       "    </tr>\n",
       "    <tr>\n",
       "      <th>166</th>\n",
       "      <td>1_Nutritions_30.jpg</td>\n",
       "      <td>0.0</td>\n",
       "      <td>0.0</td>\n",
       "      <td>0.0</td>\n",
       "      <td>0.0</td>\n",
       "      <td>0.0</td>\n",
       "      <td>0.0</td>\n",
       "      <td>0.0</td>\n",
       "      <td>0.0</td>\n",
       "      <td>0.0</td>\n",
       "      <td>0.0</td>\n",
       "      <td>0.0</td>\n",
       "      <td>0.0</td>\n",
       "    </tr>\n",
       "  </tbody>\n",
       "</table>\n",
       "<p>167 rows × 13 columns</p>\n",
       "</div>"
      ],
      "text/plain": [
       "               product_id  Energy  Serving Size  Calories  Saturated Fat  \\\n",
       "0     1_Nutritions_29.jpg     0.0           0.0       0.0            0.0   \n",
       "1     6_Nutritions_75.jpg     0.0           0.0       0.0            0.0   \n",
       "2    5_Nutritions_101.jpg    71.0           0.0       0.0            0.0   \n",
       "3    8_Nutritions_115.jpg     0.0          28.0      15.0            1.0   \n",
       "4    12_Nutritions_69.jpg     0.0          15.0       0.0            0.0   \n",
       "..                    ...     ...           ...       ...            ...   \n",
       "162   6_Nutritions_78.jpg     0.0           0.0       0.0            0.0   \n",
       "163   7_Nutritions_56.jpg     0.0           0.0       0.0            0.0   \n",
       "164   3_Nutritions_47.jpg     0.0           0.0       0.0            0.0   \n",
       "165   2_Nutritions_41.jpg     0.0           0.0       0.0            0.0   \n",
       "166   1_Nutritions_30.jpg     0.0           0.0       0.0            0.0   \n",
       "\n",
       "     Total Carbohydrate  Dietary Fiber  Sugars  Protein  Sodium  Total Fat  \\\n",
       "0                   0.0            0.0     0.0      0.0     0.0        0.0   \n",
       "1                   0.0            0.0     0.0      0.0     0.0        0.0   \n",
       "2                   0.0            0.0     0.0      0.0     0.0        0.0   \n",
       "3                  16.0            1.0   210.0      0.0     0.0        0.0   \n",
       "4                   0.0            0.0     0.0      0.0     0.0        0.0   \n",
       "..                  ...            ...     ...      ...     ...        ...   \n",
       "162                 0.0            0.0     0.0      0.0     0.0        0.0   \n",
       "163                 0.0            0.0     0.0      0.0     0.0        0.0   \n",
       "164                 0.0            0.0     0.0      0.0     0.0        0.0   \n",
       "165                 0.0            0.0     0.0      0.0     0.0        0.0   \n",
       "166                 0.0            0.0     0.0      0.0     0.0        0.0   \n",
       "\n",
       "     Trans Fat  Cholesterol  \n",
       "0          0.0          0.0  \n",
       "1          0.0          0.0  \n",
       "2          0.0          0.0  \n",
       "3          0.0          0.0  \n",
       "4          0.0          0.0  \n",
       "..         ...          ...  \n",
       "162        0.0          0.0  \n",
       "163        0.0          0.0  \n",
       "164        0.0          0.0  \n",
       "165        0.0          0.0  \n",
       "166        0.0          0.0  \n",
       "\n",
       "[167 rows x 13 columns]"
      ]
     },
     "execution_count": 36,
     "metadata": {},
     "output_type": "execute_result"
    }
   ],
   "source": [
    "data=df.fillna(0).drop(columns='Unnamed: 0')\n",
    "data"
   ]
  },
  {
   "cell_type": "code",
   "execution_count": 37,
   "metadata": {},
   "outputs": [
    {
     "name": "stdout",
     "output_type": "stream",
     "text": [
      "Enter what Sugars like to look data at:\n",
      "\n"
     ]
    }
   ],
   "source": [
    "value_for_filter = input('Enter what Sugars like to look data at:\\n')\n",
    "\n"
   ]
  },
  {
   "cell_type": "code",
   "execution_count": 38,
   "metadata": {
    "scrolled": true
   },
   "outputs": [
    {
     "data": {
      "text/html": [
       "<div>\n",
       "<style scoped>\n",
       "    .dataframe tbody tr th:only-of-type {\n",
       "        vertical-align: middle;\n",
       "    }\n",
       "\n",
       "    .dataframe tbody tr th {\n",
       "        vertical-align: top;\n",
       "    }\n",
       "\n",
       "    .dataframe thead th {\n",
       "        text-align: right;\n",
       "    }\n",
       "</style>\n",
       "<table border=\"1\" class=\"dataframe\">\n",
       "  <thead>\n",
       "    <tr style=\"text-align: right;\">\n",
       "      <th></th>\n",
       "      <th>product_id</th>\n",
       "      <th>Energy</th>\n",
       "      <th>Serving Size</th>\n",
       "      <th>Calories</th>\n",
       "      <th>Saturated Fat</th>\n",
       "      <th>Total Carbohydrate</th>\n",
       "      <th>Dietary Fiber</th>\n",
       "      <th>Sugars</th>\n",
       "      <th>Protein</th>\n",
       "      <th>Sodium</th>\n",
       "      <th>Total Fat</th>\n",
       "      <th>Trans Fat</th>\n",
       "      <th>Cholesterol</th>\n",
       "    </tr>\n",
       "  </thead>\n",
       "  <tbody>\n",
       "  </tbody>\n",
       "</table>\n",
       "</div>"
      ],
      "text/plain": [
       "Empty DataFrame\n",
       "Columns: [product_id, Energy, Serving Size, Calories, Saturated Fat, Total Carbohydrate, Dietary Fiber, Sugars, Protein, Sodium, Total Fat, Trans Fat, Cholesterol]\n",
       "Index: []"
      ]
     },
     "execution_count": 38,
     "metadata": {},
     "output_type": "execute_result"
    }
   ],
   "source": [
    "data[data['product_id'].isin([value_for_filter])]"
   ]
  },
  {
   "cell_type": "code",
   "execution_count": 39,
   "metadata": {},
   "outputs": [],
   "source": [
    "data.set_index('product_id',inplace=True)\n"
   ]
  },
  {
   "cell_type": "code",
   "execution_count": 40,
   "metadata": {
    "scrolled": false
   },
   "outputs": [],
   "source": [
    "#df.index.get_loc(result.iloc[0].name)"
   ]
  },
  {
   "cell_type": "code",
   "execution_count": 41,
   "metadata": {
    "scrolled": true
   },
   "outputs": [
    {
     "data": {
      "text/plain": [
       "210.0"
      ]
     },
     "execution_count": 41,
     "metadata": {},
     "output_type": "execute_result"
    }
   ],
   "source": [
    "data.loc['8_Nutritions_115.jpg','Sugars']"
   ]
  },
  {
   "cell_type": "code",
   "execution_count": 88,
   "metadata": {},
   "outputs": [
    {
     "data": {
      "application/vnd.plotly.v1+json": {
       "config": {
        "plotlyServerURL": "https://plot.ly"
       },
       "data": [
        {
         "delta": {
          "decreasing": {
           "color": "green"
          },
          "increasing": {
           "color": "red"
          },
          "reference": 15
         },
         "domain": {
          "x": [
           0,
           1
          ],
          "y": [
           0,
           1
          ]
         },
         "gauge": {
          "axis": {
           "range": [
            null,
            20
           ],
           "tickwidth": 2
          },
          "bar": {
           "color": "black"
          },
          "steps": [
           {
            "color": "green",
            "range": [
             0,
             5
            ]
           },
           {
            "color": "orange",
            "range": [
             5,
             15
            ]
           },
           {
            "color": "red",
            "range": [
             15,
             20
            ]
           }
          ],
          "threshold": {
           "line": {
            "color": "white",
            "width": 10
           },
           "thickness": 0.25,
           "value": 20
          }
         },
         "mode": "gauge+number+delta",
         "title": {
          "font": {
           "size": 20
          },
          "text": "Sugars g"
         },
         "type": "indicator",
         "value": 16
        }
       ],
       "layout": {
        "template": {
         "data": {
          "bar": [
           {
            "error_x": {
             "color": "#2a3f5f"
            },
            "error_y": {
             "color": "#2a3f5f"
            },
            "marker": {
             "line": {
              "color": "#E5ECF6",
              "width": 0.5
             }
            },
            "type": "bar"
           }
          ],
          "barpolar": [
           {
            "marker": {
             "line": {
              "color": "#E5ECF6",
              "width": 0.5
             }
            },
            "type": "barpolar"
           }
          ],
          "carpet": [
           {
            "aaxis": {
             "endlinecolor": "#2a3f5f",
             "gridcolor": "white",
             "linecolor": "white",
             "minorgridcolor": "white",
             "startlinecolor": "#2a3f5f"
            },
            "baxis": {
             "endlinecolor": "#2a3f5f",
             "gridcolor": "white",
             "linecolor": "white",
             "minorgridcolor": "white",
             "startlinecolor": "#2a3f5f"
            },
            "type": "carpet"
           }
          ],
          "choropleth": [
           {
            "colorbar": {
             "outlinewidth": 0,
             "ticks": ""
            },
            "type": "choropleth"
           }
          ],
          "contour": [
           {
            "colorbar": {
             "outlinewidth": 0,
             "ticks": ""
            },
            "colorscale": [
             [
              0,
              "#0d0887"
             ],
             [
              0.1111111111111111,
              "#46039f"
             ],
             [
              0.2222222222222222,
              "#7201a8"
             ],
             [
              0.3333333333333333,
              "#9c179e"
             ],
             [
              0.4444444444444444,
              "#bd3786"
             ],
             [
              0.5555555555555556,
              "#d8576b"
             ],
             [
              0.6666666666666666,
              "#ed7953"
             ],
             [
              0.7777777777777778,
              "#fb9f3a"
             ],
             [
              0.8888888888888888,
              "#fdca26"
             ],
             [
              1,
              "#f0f921"
             ]
            ],
            "type": "contour"
           }
          ],
          "contourcarpet": [
           {
            "colorbar": {
             "outlinewidth": 0,
             "ticks": ""
            },
            "type": "contourcarpet"
           }
          ],
          "heatmap": [
           {
            "colorbar": {
             "outlinewidth": 0,
             "ticks": ""
            },
            "colorscale": [
             [
              0,
              "#0d0887"
             ],
             [
              0.1111111111111111,
              "#46039f"
             ],
             [
              0.2222222222222222,
              "#7201a8"
             ],
             [
              0.3333333333333333,
              "#9c179e"
             ],
             [
              0.4444444444444444,
              "#bd3786"
             ],
             [
              0.5555555555555556,
              "#d8576b"
             ],
             [
              0.6666666666666666,
              "#ed7953"
             ],
             [
              0.7777777777777778,
              "#fb9f3a"
             ],
             [
              0.8888888888888888,
              "#fdca26"
             ],
             [
              1,
              "#f0f921"
             ]
            ],
            "type": "heatmap"
           }
          ],
          "heatmapgl": [
           {
            "colorbar": {
             "outlinewidth": 0,
             "ticks": ""
            },
            "colorscale": [
             [
              0,
              "#0d0887"
             ],
             [
              0.1111111111111111,
              "#46039f"
             ],
             [
              0.2222222222222222,
              "#7201a8"
             ],
             [
              0.3333333333333333,
              "#9c179e"
             ],
             [
              0.4444444444444444,
              "#bd3786"
             ],
             [
              0.5555555555555556,
              "#d8576b"
             ],
             [
              0.6666666666666666,
              "#ed7953"
             ],
             [
              0.7777777777777778,
              "#fb9f3a"
             ],
             [
              0.8888888888888888,
              "#fdca26"
             ],
             [
              1,
              "#f0f921"
             ]
            ],
            "type": "heatmapgl"
           }
          ],
          "histogram": [
           {
            "marker": {
             "colorbar": {
              "outlinewidth": 0,
              "ticks": ""
             }
            },
            "type": "histogram"
           }
          ],
          "histogram2d": [
           {
            "colorbar": {
             "outlinewidth": 0,
             "ticks": ""
            },
            "colorscale": [
             [
              0,
              "#0d0887"
             ],
             [
              0.1111111111111111,
              "#46039f"
             ],
             [
              0.2222222222222222,
              "#7201a8"
             ],
             [
              0.3333333333333333,
              "#9c179e"
             ],
             [
              0.4444444444444444,
              "#bd3786"
             ],
             [
              0.5555555555555556,
              "#d8576b"
             ],
             [
              0.6666666666666666,
              "#ed7953"
             ],
             [
              0.7777777777777778,
              "#fb9f3a"
             ],
             [
              0.8888888888888888,
              "#fdca26"
             ],
             [
              1,
              "#f0f921"
             ]
            ],
            "type": "histogram2d"
           }
          ],
          "histogram2dcontour": [
           {
            "colorbar": {
             "outlinewidth": 0,
             "ticks": ""
            },
            "colorscale": [
             [
              0,
              "#0d0887"
             ],
             [
              0.1111111111111111,
              "#46039f"
             ],
             [
              0.2222222222222222,
              "#7201a8"
             ],
             [
              0.3333333333333333,
              "#9c179e"
             ],
             [
              0.4444444444444444,
              "#bd3786"
             ],
             [
              0.5555555555555556,
              "#d8576b"
             ],
             [
              0.6666666666666666,
              "#ed7953"
             ],
             [
              0.7777777777777778,
              "#fb9f3a"
             ],
             [
              0.8888888888888888,
              "#fdca26"
             ],
             [
              1,
              "#f0f921"
             ]
            ],
            "type": "histogram2dcontour"
           }
          ],
          "mesh3d": [
           {
            "colorbar": {
             "outlinewidth": 0,
             "ticks": ""
            },
            "type": "mesh3d"
           }
          ],
          "parcoords": [
           {
            "line": {
             "colorbar": {
              "outlinewidth": 0,
              "ticks": ""
             }
            },
            "type": "parcoords"
           }
          ],
          "pie": [
           {
            "automargin": true,
            "type": "pie"
           }
          ],
          "scatter": [
           {
            "marker": {
             "colorbar": {
              "outlinewidth": 0,
              "ticks": ""
             }
            },
            "type": "scatter"
           }
          ],
          "scatter3d": [
           {
            "line": {
             "colorbar": {
              "outlinewidth": 0,
              "ticks": ""
             }
            },
            "marker": {
             "colorbar": {
              "outlinewidth": 0,
              "ticks": ""
             }
            },
            "type": "scatter3d"
           }
          ],
          "scattercarpet": [
           {
            "marker": {
             "colorbar": {
              "outlinewidth": 0,
              "ticks": ""
             }
            },
            "type": "scattercarpet"
           }
          ],
          "scattergeo": [
           {
            "marker": {
             "colorbar": {
              "outlinewidth": 0,
              "ticks": ""
             }
            },
            "type": "scattergeo"
           }
          ],
          "scattergl": [
           {
            "marker": {
             "colorbar": {
              "outlinewidth": 0,
              "ticks": ""
             }
            },
            "type": "scattergl"
           }
          ],
          "scattermapbox": [
           {
            "marker": {
             "colorbar": {
              "outlinewidth": 0,
              "ticks": ""
             }
            },
            "type": "scattermapbox"
           }
          ],
          "scatterpolar": [
           {
            "marker": {
             "colorbar": {
              "outlinewidth": 0,
              "ticks": ""
             }
            },
            "type": "scatterpolar"
           }
          ],
          "scatterpolargl": [
           {
            "marker": {
             "colorbar": {
              "outlinewidth": 0,
              "ticks": ""
             }
            },
            "type": "scatterpolargl"
           }
          ],
          "scatterternary": [
           {
            "marker": {
             "colorbar": {
              "outlinewidth": 0,
              "ticks": ""
             }
            },
            "type": "scatterternary"
           }
          ],
          "surface": [
           {
            "colorbar": {
             "outlinewidth": 0,
             "ticks": ""
            },
            "colorscale": [
             [
              0,
              "#0d0887"
             ],
             [
              0.1111111111111111,
              "#46039f"
             ],
             [
              0.2222222222222222,
              "#7201a8"
             ],
             [
              0.3333333333333333,
              "#9c179e"
             ],
             [
              0.4444444444444444,
              "#bd3786"
             ],
             [
              0.5555555555555556,
              "#d8576b"
             ],
             [
              0.6666666666666666,
              "#ed7953"
             ],
             [
              0.7777777777777778,
              "#fb9f3a"
             ],
             [
              0.8888888888888888,
              "#fdca26"
             ],
             [
              1,
              "#f0f921"
             ]
            ],
            "type": "surface"
           }
          ],
          "table": [
           {
            "cells": {
             "fill": {
              "color": "#EBF0F8"
             },
             "line": {
              "color": "white"
             }
            },
            "header": {
             "fill": {
              "color": "#C8D4E3"
             },
             "line": {
              "color": "white"
             }
            },
            "type": "table"
           }
          ]
         },
         "layout": {
          "annotationdefaults": {
           "arrowcolor": "#2a3f5f",
           "arrowhead": 0,
           "arrowwidth": 1
          },
          "coloraxis": {
           "colorbar": {
            "outlinewidth": 0,
            "ticks": ""
           }
          },
          "colorscale": {
           "diverging": [
            [
             0,
             "#8e0152"
            ],
            [
             0.1,
             "#c51b7d"
            ],
            [
             0.2,
             "#de77ae"
            ],
            [
             0.3,
             "#f1b6da"
            ],
            [
             0.4,
             "#fde0ef"
            ],
            [
             0.5,
             "#f7f7f7"
            ],
            [
             0.6,
             "#e6f5d0"
            ],
            [
             0.7,
             "#b8e186"
            ],
            [
             0.8,
             "#7fbc41"
            ],
            [
             0.9,
             "#4d9221"
            ],
            [
             1,
             "#276419"
            ]
           ],
           "sequential": [
            [
             0,
             "#0d0887"
            ],
            [
             0.1111111111111111,
             "#46039f"
            ],
            [
             0.2222222222222222,
             "#7201a8"
            ],
            [
             0.3333333333333333,
             "#9c179e"
            ],
            [
             0.4444444444444444,
             "#bd3786"
            ],
            [
             0.5555555555555556,
             "#d8576b"
            ],
            [
             0.6666666666666666,
             "#ed7953"
            ],
            [
             0.7777777777777778,
             "#fb9f3a"
            ],
            [
             0.8888888888888888,
             "#fdca26"
            ],
            [
             1,
             "#f0f921"
            ]
           ],
           "sequentialminus": [
            [
             0,
             "#0d0887"
            ],
            [
             0.1111111111111111,
             "#46039f"
            ],
            [
             0.2222222222222222,
             "#7201a8"
            ],
            [
             0.3333333333333333,
             "#9c179e"
            ],
            [
             0.4444444444444444,
             "#bd3786"
            ],
            [
             0.5555555555555556,
             "#d8576b"
            ],
            [
             0.6666666666666666,
             "#ed7953"
            ],
            [
             0.7777777777777778,
             "#fb9f3a"
            ],
            [
             0.8888888888888888,
             "#fdca26"
            ],
            [
             1,
             "#f0f921"
            ]
           ]
          },
          "colorway": [
           "#636efa",
           "#EF553B",
           "#00cc96",
           "#ab63fa",
           "#FFA15A",
           "#19d3f3",
           "#FF6692",
           "#B6E880",
           "#FF97FF",
           "#FECB52"
          ],
          "font": {
           "color": "#2a3f5f"
          },
          "geo": {
           "bgcolor": "white",
           "lakecolor": "white",
           "landcolor": "#E5ECF6",
           "showlakes": true,
           "showland": true,
           "subunitcolor": "white"
          },
          "hoverlabel": {
           "align": "left"
          },
          "hovermode": "closest",
          "mapbox": {
           "style": "light"
          },
          "paper_bgcolor": "white",
          "plot_bgcolor": "#E5ECF6",
          "polar": {
           "angularaxis": {
            "gridcolor": "white",
            "linecolor": "white",
            "ticks": ""
           },
           "bgcolor": "#E5ECF6",
           "radialaxis": {
            "gridcolor": "white",
            "linecolor": "white",
            "ticks": ""
           }
          },
          "scene": {
           "xaxis": {
            "backgroundcolor": "#E5ECF6",
            "gridcolor": "white",
            "gridwidth": 2,
            "linecolor": "white",
            "showbackground": true,
            "ticks": "",
            "zerolinecolor": "white"
           },
           "yaxis": {
            "backgroundcolor": "#E5ECF6",
            "gridcolor": "white",
            "gridwidth": 2,
            "linecolor": "white",
            "showbackground": true,
            "ticks": "",
            "zerolinecolor": "white"
           },
           "zaxis": {
            "backgroundcolor": "#E5ECF6",
            "gridcolor": "white",
            "gridwidth": 2,
            "linecolor": "white",
            "showbackground": true,
            "ticks": "",
            "zerolinecolor": "white"
           }
          },
          "shapedefaults": {
           "line": {
            "color": "#2a3f5f"
           }
          },
          "ternary": {
           "aaxis": {
            "gridcolor": "white",
            "linecolor": "white",
            "ticks": ""
           },
           "baxis": {
            "gridcolor": "white",
            "linecolor": "white",
            "ticks": ""
           },
           "bgcolor": "#E5ECF6",
           "caxis": {
            "gridcolor": "white",
            "linecolor": "white",
            "ticks": ""
           }
          },
          "title": {
           "x": 0.05
          },
          "xaxis": {
           "automargin": true,
           "gridcolor": "white",
           "linecolor": "white",
           "ticks": "",
           "title": {
            "standoff": 15
           },
           "zerolinecolor": "white",
           "zerolinewidth": 2
          },
          "yaxis": {
           "automargin": true,
           "gridcolor": "white",
           "linecolor": "white",
           "ticks": "",
           "title": {
            "standoff": 15
           },
           "zerolinecolor": "white",
           "zerolinewidth": 2
          }
         }
        }
       }
      },
      "text/html": [
       "<div>\n",
       "        \n",
       "        \n",
       "            <div id=\"0af4919b-a5f2-486a-85d3-4bde17bf27dd\" class=\"plotly-graph-div\" style=\"height:525px; width:100%;\"></div>\n",
       "            <script type=\"text/javascript\">\n",
       "                require([\"plotly\"], function(Plotly) {\n",
       "                    window.PLOTLYENV=window.PLOTLYENV || {};\n",
       "                    \n",
       "                if (document.getElementById(\"0af4919b-a5f2-486a-85d3-4bde17bf27dd\")) {\n",
       "                    Plotly.newPlot(\n",
       "                        '0af4919b-a5f2-486a-85d3-4bde17bf27dd',\n",
       "                        [{\"delta\": {\"decreasing\": {\"color\": \"green\"}, \"increasing\": {\"color\": \"red\"}, \"reference\": 15}, \"domain\": {\"x\": [0, 1], \"y\": [0, 1]}, \"gauge\": {\"axis\": {\"range\": [null, 20], \"tickwidth\": 2}, \"bar\": {\"color\": \"black\"}, \"steps\": [{\"color\": \"green\", \"range\": [0, 5]}, {\"color\": \"orange\", \"range\": [5, 15]}, {\"color\": \"red\", \"range\": [15, 20]}], \"threshold\": {\"line\": {\"color\": \"white\", \"width\": 10}, \"thickness\": 0.25, \"value\": 20}}, \"mode\": \"gauge+number+delta\", \"title\": {\"font\": {\"size\": 20}, \"text\": \"Sugars g\"}, \"type\": \"indicator\", \"value\": 16}],\n",
       "                        {\"template\": {\"data\": {\"bar\": [{\"error_x\": {\"color\": \"#2a3f5f\"}, \"error_y\": {\"color\": \"#2a3f5f\"}, \"marker\": {\"line\": {\"color\": \"#E5ECF6\", \"width\": 0.5}}, \"type\": \"bar\"}], \"barpolar\": [{\"marker\": {\"line\": {\"color\": \"#E5ECF6\", \"width\": 0.5}}, \"type\": \"barpolar\"}], \"carpet\": [{\"aaxis\": {\"endlinecolor\": \"#2a3f5f\", \"gridcolor\": \"white\", \"linecolor\": \"white\", \"minorgridcolor\": \"white\", \"startlinecolor\": \"#2a3f5f\"}, \"baxis\": {\"endlinecolor\": \"#2a3f5f\", \"gridcolor\": \"white\", \"linecolor\": \"white\", \"minorgridcolor\": \"white\", \"startlinecolor\": \"#2a3f5f\"}, \"type\": \"carpet\"}], \"choropleth\": [{\"colorbar\": {\"outlinewidth\": 0, \"ticks\": \"\"}, \"type\": \"choropleth\"}], \"contour\": [{\"colorbar\": {\"outlinewidth\": 0, \"ticks\": \"\"}, \"colorscale\": [[0.0, \"#0d0887\"], [0.1111111111111111, \"#46039f\"], [0.2222222222222222, \"#7201a8\"], [0.3333333333333333, \"#9c179e\"], [0.4444444444444444, \"#bd3786\"], [0.5555555555555556, \"#d8576b\"], [0.6666666666666666, \"#ed7953\"], [0.7777777777777778, \"#fb9f3a\"], [0.8888888888888888, \"#fdca26\"], [1.0, \"#f0f921\"]], \"type\": \"contour\"}], \"contourcarpet\": [{\"colorbar\": {\"outlinewidth\": 0, \"ticks\": \"\"}, \"type\": \"contourcarpet\"}], \"heatmap\": [{\"colorbar\": {\"outlinewidth\": 0, \"ticks\": \"\"}, \"colorscale\": [[0.0, \"#0d0887\"], [0.1111111111111111, \"#46039f\"], [0.2222222222222222, \"#7201a8\"], [0.3333333333333333, \"#9c179e\"], [0.4444444444444444, \"#bd3786\"], [0.5555555555555556, \"#d8576b\"], [0.6666666666666666, \"#ed7953\"], [0.7777777777777778, \"#fb9f3a\"], [0.8888888888888888, \"#fdca26\"], [1.0, \"#f0f921\"]], \"type\": \"heatmap\"}], \"heatmapgl\": [{\"colorbar\": {\"outlinewidth\": 0, \"ticks\": \"\"}, \"colorscale\": [[0.0, \"#0d0887\"], [0.1111111111111111, \"#46039f\"], [0.2222222222222222, \"#7201a8\"], [0.3333333333333333, \"#9c179e\"], [0.4444444444444444, \"#bd3786\"], [0.5555555555555556, \"#d8576b\"], [0.6666666666666666, \"#ed7953\"], [0.7777777777777778, \"#fb9f3a\"], [0.8888888888888888, \"#fdca26\"], [1.0, \"#f0f921\"]], \"type\": \"heatmapgl\"}], \"histogram\": [{\"marker\": {\"colorbar\": {\"outlinewidth\": 0, \"ticks\": \"\"}}, \"type\": \"histogram\"}], \"histogram2d\": [{\"colorbar\": {\"outlinewidth\": 0, \"ticks\": \"\"}, \"colorscale\": [[0.0, \"#0d0887\"], [0.1111111111111111, \"#46039f\"], [0.2222222222222222, \"#7201a8\"], [0.3333333333333333, \"#9c179e\"], [0.4444444444444444, \"#bd3786\"], [0.5555555555555556, \"#d8576b\"], [0.6666666666666666, \"#ed7953\"], [0.7777777777777778, \"#fb9f3a\"], [0.8888888888888888, \"#fdca26\"], [1.0, \"#f0f921\"]], \"type\": \"histogram2d\"}], \"histogram2dcontour\": [{\"colorbar\": {\"outlinewidth\": 0, \"ticks\": \"\"}, \"colorscale\": [[0.0, \"#0d0887\"], [0.1111111111111111, \"#46039f\"], [0.2222222222222222, \"#7201a8\"], [0.3333333333333333, \"#9c179e\"], [0.4444444444444444, \"#bd3786\"], [0.5555555555555556, \"#d8576b\"], [0.6666666666666666, \"#ed7953\"], [0.7777777777777778, \"#fb9f3a\"], [0.8888888888888888, \"#fdca26\"], [1.0, \"#f0f921\"]], \"type\": \"histogram2dcontour\"}], \"mesh3d\": [{\"colorbar\": {\"outlinewidth\": 0, \"ticks\": \"\"}, \"type\": \"mesh3d\"}], \"parcoords\": [{\"line\": {\"colorbar\": {\"outlinewidth\": 0, \"ticks\": \"\"}}, \"type\": \"parcoords\"}], \"pie\": [{\"automargin\": true, \"type\": \"pie\"}], \"scatter\": [{\"marker\": {\"colorbar\": {\"outlinewidth\": 0, \"ticks\": \"\"}}, \"type\": \"scatter\"}], \"scatter3d\": [{\"line\": {\"colorbar\": {\"outlinewidth\": 0, \"ticks\": \"\"}}, \"marker\": {\"colorbar\": {\"outlinewidth\": 0, \"ticks\": \"\"}}, \"type\": \"scatter3d\"}], \"scattercarpet\": [{\"marker\": {\"colorbar\": {\"outlinewidth\": 0, \"ticks\": \"\"}}, \"type\": \"scattercarpet\"}], \"scattergeo\": [{\"marker\": {\"colorbar\": {\"outlinewidth\": 0, \"ticks\": \"\"}}, \"type\": \"scattergeo\"}], \"scattergl\": [{\"marker\": {\"colorbar\": {\"outlinewidth\": 0, \"ticks\": \"\"}}, \"type\": \"scattergl\"}], \"scattermapbox\": [{\"marker\": {\"colorbar\": {\"outlinewidth\": 0, \"ticks\": \"\"}}, \"type\": \"scattermapbox\"}], \"scatterpolar\": [{\"marker\": {\"colorbar\": {\"outlinewidth\": 0, \"ticks\": \"\"}}, \"type\": \"scatterpolar\"}], \"scatterpolargl\": [{\"marker\": {\"colorbar\": {\"outlinewidth\": 0, \"ticks\": \"\"}}, \"type\": \"scatterpolargl\"}], \"scatterternary\": [{\"marker\": {\"colorbar\": {\"outlinewidth\": 0, \"ticks\": \"\"}}, \"type\": \"scatterternary\"}], \"surface\": [{\"colorbar\": {\"outlinewidth\": 0, \"ticks\": \"\"}, \"colorscale\": [[0.0, \"#0d0887\"], [0.1111111111111111, \"#46039f\"], [0.2222222222222222, \"#7201a8\"], [0.3333333333333333, \"#9c179e\"], [0.4444444444444444, \"#bd3786\"], [0.5555555555555556, \"#d8576b\"], [0.6666666666666666, \"#ed7953\"], [0.7777777777777778, \"#fb9f3a\"], [0.8888888888888888, \"#fdca26\"], [1.0, \"#f0f921\"]], \"type\": \"surface\"}], \"table\": [{\"cells\": {\"fill\": {\"color\": \"#EBF0F8\"}, \"line\": {\"color\": \"white\"}}, \"header\": {\"fill\": {\"color\": \"#C8D4E3\"}, \"line\": {\"color\": \"white\"}}, \"type\": \"table\"}]}, \"layout\": {\"annotationdefaults\": {\"arrowcolor\": \"#2a3f5f\", \"arrowhead\": 0, \"arrowwidth\": 1}, \"coloraxis\": {\"colorbar\": {\"outlinewidth\": 0, \"ticks\": \"\"}}, \"colorscale\": {\"diverging\": [[0, \"#8e0152\"], [0.1, \"#c51b7d\"], [0.2, \"#de77ae\"], [0.3, \"#f1b6da\"], [0.4, \"#fde0ef\"], [0.5, \"#f7f7f7\"], [0.6, \"#e6f5d0\"], [0.7, \"#b8e186\"], [0.8, \"#7fbc41\"], [0.9, \"#4d9221\"], [1, \"#276419\"]], \"sequential\": [[0.0, \"#0d0887\"], [0.1111111111111111, \"#46039f\"], [0.2222222222222222, \"#7201a8\"], [0.3333333333333333, \"#9c179e\"], [0.4444444444444444, \"#bd3786\"], [0.5555555555555556, \"#d8576b\"], [0.6666666666666666, \"#ed7953\"], [0.7777777777777778, \"#fb9f3a\"], [0.8888888888888888, \"#fdca26\"], [1.0, \"#f0f921\"]], \"sequentialminus\": [[0.0, \"#0d0887\"], [0.1111111111111111, \"#46039f\"], [0.2222222222222222, \"#7201a8\"], [0.3333333333333333, \"#9c179e\"], [0.4444444444444444, \"#bd3786\"], [0.5555555555555556, \"#d8576b\"], [0.6666666666666666, \"#ed7953\"], [0.7777777777777778, \"#fb9f3a\"], [0.8888888888888888, \"#fdca26\"], [1.0, \"#f0f921\"]]}, \"colorway\": [\"#636efa\", \"#EF553B\", \"#00cc96\", \"#ab63fa\", \"#FFA15A\", \"#19d3f3\", \"#FF6692\", \"#B6E880\", \"#FF97FF\", \"#FECB52\"], \"font\": {\"color\": \"#2a3f5f\"}, \"geo\": {\"bgcolor\": \"white\", \"lakecolor\": \"white\", \"landcolor\": \"#E5ECF6\", \"showlakes\": true, \"showland\": true, \"subunitcolor\": \"white\"}, \"hoverlabel\": {\"align\": \"left\"}, \"hovermode\": \"closest\", \"mapbox\": {\"style\": \"light\"}, \"paper_bgcolor\": \"white\", \"plot_bgcolor\": \"#E5ECF6\", \"polar\": {\"angularaxis\": {\"gridcolor\": \"white\", \"linecolor\": \"white\", \"ticks\": \"\"}, \"bgcolor\": \"#E5ECF6\", \"radialaxis\": {\"gridcolor\": \"white\", \"linecolor\": \"white\", \"ticks\": \"\"}}, \"scene\": {\"xaxis\": {\"backgroundcolor\": \"#E5ECF6\", \"gridcolor\": \"white\", \"gridwidth\": 2, \"linecolor\": \"white\", \"showbackground\": true, \"ticks\": \"\", \"zerolinecolor\": \"white\"}, \"yaxis\": {\"backgroundcolor\": \"#E5ECF6\", \"gridcolor\": \"white\", \"gridwidth\": 2, \"linecolor\": \"white\", \"showbackground\": true, \"ticks\": \"\", \"zerolinecolor\": \"white\"}, \"zaxis\": {\"backgroundcolor\": \"#E5ECF6\", \"gridcolor\": \"white\", \"gridwidth\": 2, \"linecolor\": \"white\", \"showbackground\": true, \"ticks\": \"\", \"zerolinecolor\": \"white\"}}, \"shapedefaults\": {\"line\": {\"color\": \"#2a3f5f\"}}, \"ternary\": {\"aaxis\": {\"gridcolor\": \"white\", \"linecolor\": \"white\", \"ticks\": \"\"}, \"baxis\": {\"gridcolor\": \"white\", \"linecolor\": \"white\", \"ticks\": \"\"}, \"bgcolor\": \"#E5ECF6\", \"caxis\": {\"gridcolor\": \"white\", \"linecolor\": \"white\", \"ticks\": \"\"}}, \"title\": {\"x\": 0.05}, \"xaxis\": {\"automargin\": true, \"gridcolor\": \"white\", \"linecolor\": \"white\", \"ticks\": \"\", \"title\": {\"standoff\": 15}, \"zerolinecolor\": \"white\", \"zerolinewidth\": 2}, \"yaxis\": {\"automargin\": true, \"gridcolor\": \"white\", \"linecolor\": \"white\", \"ticks\": \"\", \"title\": {\"standoff\": 15}, \"zerolinecolor\": \"white\", \"zerolinewidth\": 2}}}},\n",
       "                        {\"responsive\": true}\n",
       "                    ).then(function(){\n",
       "                            \n",
       "var gd = document.getElementById('0af4919b-a5f2-486a-85d3-4bde17bf27dd');\n",
       "var x = new MutationObserver(function (mutations, observer) {{\n",
       "        var display = window.getComputedStyle(gd).display;\n",
       "        if (!display || display === 'none') {{\n",
       "            console.log([gd, 'removed!']);\n",
       "            Plotly.purge(gd);\n",
       "            observer.disconnect();\n",
       "        }}\n",
       "}});\n",
       "\n",
       "// Listen for the removal of the full notebook cells\n",
       "var notebookContainer = gd.closest('#notebook-container');\n",
       "if (notebookContainer) {{\n",
       "    x.observe(notebookContainer, {childList: true});\n",
       "}}\n",
       "\n",
       "// Listen for the clearing of the current output cell\n",
       "var outputEl = gd.closest('.output');\n",
       "if (outputEl) {{\n",
       "    x.observe(outputEl, {childList: true});\n",
       "}}\n",
       "\n",
       "                        })\n",
       "                };\n",
       "                });\n",
       "            </script>\n",
       "        </div>"
      ]
     },
     "metadata": {},
     "output_type": "display_data"
    }
   ],
   "source": [
    "import plotly.graph_objects as go\n",
    "\n",
    "fig = go.Figure(go.Indicator(\n",
    "    mode = \"gauge+number+delta\",\n",
    "    value = 16,\n",
    "    domain = {'x': [0, 1], 'y': [0, 1]},\n",
    "    title = {'text': \"Sugars g\", 'font': {'size': 20}},\n",
    "    delta = {'reference': 0, 'decreasing': {'color': \"green\"}\n",
    "            ,'reference': 15, 'increasing': {'color': \"red\"}},\n",
    "    gauge = {\n",
    "        'axis': {'range': [None, 20], 'tickwidth': 2},\n",
    "        'bar': {'color': \"black\"},\n",
    "        #'bgcolor': \"white\",\n",
    "#         'borderwidth': 1,\n",
    "        #'bordercolor': \"gray\",\n",
    "        'steps': [\n",
    "            {'range': [0, 5], 'color': 'green'},\n",
    "            {'range': [5, 15], 'color': 'orange'},\n",
    "            {'range': [15, 20], 'color': 'red'}],\n",
    "       'threshold': {\n",
    "            'line': {'color': \"white\", 'width': 10},\n",
    "            'thickness': 0.25,\n",
    "             'value': 20}}))\n",
    "\n",
    "fig.show()"
   ]
  },
  {
   "cell_type": "code",
   "execution_count": 85,
   "metadata": {},
   "outputs": [
    {
     "data": {
      "application/vnd.plotly.v1+json": {
       "config": {
        "plotlyServerURL": "https://plot.ly"
       },
       "data": [
        {
         "delta": {
          "decreasing": {
           "color": "green"
          },
          "increasing": {
           "color": "red"
          },
          "reference": 150
         },
         "domain": {
          "x": [
           0,
           1
          ],
          "y": [
           0,
           1
          ]
         },
         "gauge": {
          "axis": {
           "range": [
            null,
            200
           ],
           "tickwidth": 1
          },
          "bar": {
           "color": "black"
          },
          "steps": [
           {
            "color": "green",
            "range": [
             0,
             30
            ]
           },
           {
            "color": "orange",
            "range": [
             30,
             150
            ]
           },
           {
            "color": "red",
            "range": [
             150,
             200
            ]
           }
          ],
          "threshold": {
           "line": {
            "color": "white",
            "width": 10
           },
           "thickness": 0.25,
           "value": 200
          }
         },
         "mode": "gauge+number+delta",
         "title": {
          "font": {
           "size": 24
          },
          "text": "Sodium mg"
         },
         "type": "indicator",
         "value": 190
        }
       ],
       "layout": {
        "template": {
         "data": {
          "bar": [
           {
            "error_x": {
             "color": "#2a3f5f"
            },
            "error_y": {
             "color": "#2a3f5f"
            },
            "marker": {
             "line": {
              "color": "#E5ECF6",
              "width": 0.5
             }
            },
            "type": "bar"
           }
          ],
          "barpolar": [
           {
            "marker": {
             "line": {
              "color": "#E5ECF6",
              "width": 0.5
             }
            },
            "type": "barpolar"
           }
          ],
          "carpet": [
           {
            "aaxis": {
             "endlinecolor": "#2a3f5f",
             "gridcolor": "white",
             "linecolor": "white",
             "minorgridcolor": "white",
             "startlinecolor": "#2a3f5f"
            },
            "baxis": {
             "endlinecolor": "#2a3f5f",
             "gridcolor": "white",
             "linecolor": "white",
             "minorgridcolor": "white",
             "startlinecolor": "#2a3f5f"
            },
            "type": "carpet"
           }
          ],
          "choropleth": [
           {
            "colorbar": {
             "outlinewidth": 0,
             "ticks": ""
            },
            "type": "choropleth"
           }
          ],
          "contour": [
           {
            "colorbar": {
             "outlinewidth": 0,
             "ticks": ""
            },
            "colorscale": [
             [
              0,
              "#0d0887"
             ],
             [
              0.1111111111111111,
              "#46039f"
             ],
             [
              0.2222222222222222,
              "#7201a8"
             ],
             [
              0.3333333333333333,
              "#9c179e"
             ],
             [
              0.4444444444444444,
              "#bd3786"
             ],
             [
              0.5555555555555556,
              "#d8576b"
             ],
             [
              0.6666666666666666,
              "#ed7953"
             ],
             [
              0.7777777777777778,
              "#fb9f3a"
             ],
             [
              0.8888888888888888,
              "#fdca26"
             ],
             [
              1,
              "#f0f921"
             ]
            ],
            "type": "contour"
           }
          ],
          "contourcarpet": [
           {
            "colorbar": {
             "outlinewidth": 0,
             "ticks": ""
            },
            "type": "contourcarpet"
           }
          ],
          "heatmap": [
           {
            "colorbar": {
             "outlinewidth": 0,
             "ticks": ""
            },
            "colorscale": [
             [
              0,
              "#0d0887"
             ],
             [
              0.1111111111111111,
              "#46039f"
             ],
             [
              0.2222222222222222,
              "#7201a8"
             ],
             [
              0.3333333333333333,
              "#9c179e"
             ],
             [
              0.4444444444444444,
              "#bd3786"
             ],
             [
              0.5555555555555556,
              "#d8576b"
             ],
             [
              0.6666666666666666,
              "#ed7953"
             ],
             [
              0.7777777777777778,
              "#fb9f3a"
             ],
             [
              0.8888888888888888,
              "#fdca26"
             ],
             [
              1,
              "#f0f921"
             ]
            ],
            "type": "heatmap"
           }
          ],
          "heatmapgl": [
           {
            "colorbar": {
             "outlinewidth": 0,
             "ticks": ""
            },
            "colorscale": [
             [
              0,
              "#0d0887"
             ],
             [
              0.1111111111111111,
              "#46039f"
             ],
             [
              0.2222222222222222,
              "#7201a8"
             ],
             [
              0.3333333333333333,
              "#9c179e"
             ],
             [
              0.4444444444444444,
              "#bd3786"
             ],
             [
              0.5555555555555556,
              "#d8576b"
             ],
             [
              0.6666666666666666,
              "#ed7953"
             ],
             [
              0.7777777777777778,
              "#fb9f3a"
             ],
             [
              0.8888888888888888,
              "#fdca26"
             ],
             [
              1,
              "#f0f921"
             ]
            ],
            "type": "heatmapgl"
           }
          ],
          "histogram": [
           {
            "marker": {
             "colorbar": {
              "outlinewidth": 0,
              "ticks": ""
             }
            },
            "type": "histogram"
           }
          ],
          "histogram2d": [
           {
            "colorbar": {
             "outlinewidth": 0,
             "ticks": ""
            },
            "colorscale": [
             [
              0,
              "#0d0887"
             ],
             [
              0.1111111111111111,
              "#46039f"
             ],
             [
              0.2222222222222222,
              "#7201a8"
             ],
             [
              0.3333333333333333,
              "#9c179e"
             ],
             [
              0.4444444444444444,
              "#bd3786"
             ],
             [
              0.5555555555555556,
              "#d8576b"
             ],
             [
              0.6666666666666666,
              "#ed7953"
             ],
             [
              0.7777777777777778,
              "#fb9f3a"
             ],
             [
              0.8888888888888888,
              "#fdca26"
             ],
             [
              1,
              "#f0f921"
             ]
            ],
            "type": "histogram2d"
           }
          ],
          "histogram2dcontour": [
           {
            "colorbar": {
             "outlinewidth": 0,
             "ticks": ""
            },
            "colorscale": [
             [
              0,
              "#0d0887"
             ],
             [
              0.1111111111111111,
              "#46039f"
             ],
             [
              0.2222222222222222,
              "#7201a8"
             ],
             [
              0.3333333333333333,
              "#9c179e"
             ],
             [
              0.4444444444444444,
              "#bd3786"
             ],
             [
              0.5555555555555556,
              "#d8576b"
             ],
             [
              0.6666666666666666,
              "#ed7953"
             ],
             [
              0.7777777777777778,
              "#fb9f3a"
             ],
             [
              0.8888888888888888,
              "#fdca26"
             ],
             [
              1,
              "#f0f921"
             ]
            ],
            "type": "histogram2dcontour"
           }
          ],
          "mesh3d": [
           {
            "colorbar": {
             "outlinewidth": 0,
             "ticks": ""
            },
            "type": "mesh3d"
           }
          ],
          "parcoords": [
           {
            "line": {
             "colorbar": {
              "outlinewidth": 0,
              "ticks": ""
             }
            },
            "type": "parcoords"
           }
          ],
          "pie": [
           {
            "automargin": true,
            "type": "pie"
           }
          ],
          "scatter": [
           {
            "marker": {
             "colorbar": {
              "outlinewidth": 0,
              "ticks": ""
             }
            },
            "type": "scatter"
           }
          ],
          "scatter3d": [
           {
            "line": {
             "colorbar": {
              "outlinewidth": 0,
              "ticks": ""
             }
            },
            "marker": {
             "colorbar": {
              "outlinewidth": 0,
              "ticks": ""
             }
            },
            "type": "scatter3d"
           }
          ],
          "scattercarpet": [
           {
            "marker": {
             "colorbar": {
              "outlinewidth": 0,
              "ticks": ""
             }
            },
            "type": "scattercarpet"
           }
          ],
          "scattergeo": [
           {
            "marker": {
             "colorbar": {
              "outlinewidth": 0,
              "ticks": ""
             }
            },
            "type": "scattergeo"
           }
          ],
          "scattergl": [
           {
            "marker": {
             "colorbar": {
              "outlinewidth": 0,
              "ticks": ""
             }
            },
            "type": "scattergl"
           }
          ],
          "scattermapbox": [
           {
            "marker": {
             "colorbar": {
              "outlinewidth": 0,
              "ticks": ""
             }
            },
            "type": "scattermapbox"
           }
          ],
          "scatterpolar": [
           {
            "marker": {
             "colorbar": {
              "outlinewidth": 0,
              "ticks": ""
             }
            },
            "type": "scatterpolar"
           }
          ],
          "scatterpolargl": [
           {
            "marker": {
             "colorbar": {
              "outlinewidth": 0,
              "ticks": ""
             }
            },
            "type": "scatterpolargl"
           }
          ],
          "scatterternary": [
           {
            "marker": {
             "colorbar": {
              "outlinewidth": 0,
              "ticks": ""
             }
            },
            "type": "scatterternary"
           }
          ],
          "surface": [
           {
            "colorbar": {
             "outlinewidth": 0,
             "ticks": ""
            },
            "colorscale": [
             [
              0,
              "#0d0887"
             ],
             [
              0.1111111111111111,
              "#46039f"
             ],
             [
              0.2222222222222222,
              "#7201a8"
             ],
             [
              0.3333333333333333,
              "#9c179e"
             ],
             [
              0.4444444444444444,
              "#bd3786"
             ],
             [
              0.5555555555555556,
              "#d8576b"
             ],
             [
              0.6666666666666666,
              "#ed7953"
             ],
             [
              0.7777777777777778,
              "#fb9f3a"
             ],
             [
              0.8888888888888888,
              "#fdca26"
             ],
             [
              1,
              "#f0f921"
             ]
            ],
            "type": "surface"
           }
          ],
          "table": [
           {
            "cells": {
             "fill": {
              "color": "#EBF0F8"
             },
             "line": {
              "color": "white"
             }
            },
            "header": {
             "fill": {
              "color": "#C8D4E3"
             },
             "line": {
              "color": "white"
             }
            },
            "type": "table"
           }
          ]
         },
         "layout": {
          "annotationdefaults": {
           "arrowcolor": "#2a3f5f",
           "arrowhead": 0,
           "arrowwidth": 1
          },
          "coloraxis": {
           "colorbar": {
            "outlinewidth": 0,
            "ticks": ""
           }
          },
          "colorscale": {
           "diverging": [
            [
             0,
             "#8e0152"
            ],
            [
             0.1,
             "#c51b7d"
            ],
            [
             0.2,
             "#de77ae"
            ],
            [
             0.3,
             "#f1b6da"
            ],
            [
             0.4,
             "#fde0ef"
            ],
            [
             0.5,
             "#f7f7f7"
            ],
            [
             0.6,
             "#e6f5d0"
            ],
            [
             0.7,
             "#b8e186"
            ],
            [
             0.8,
             "#7fbc41"
            ],
            [
             0.9,
             "#4d9221"
            ],
            [
             1,
             "#276419"
            ]
           ],
           "sequential": [
            [
             0,
             "#0d0887"
            ],
            [
             0.1111111111111111,
             "#46039f"
            ],
            [
             0.2222222222222222,
             "#7201a8"
            ],
            [
             0.3333333333333333,
             "#9c179e"
            ],
            [
             0.4444444444444444,
             "#bd3786"
            ],
            [
             0.5555555555555556,
             "#d8576b"
            ],
            [
             0.6666666666666666,
             "#ed7953"
            ],
            [
             0.7777777777777778,
             "#fb9f3a"
            ],
            [
             0.8888888888888888,
             "#fdca26"
            ],
            [
             1,
             "#f0f921"
            ]
           ],
           "sequentialminus": [
            [
             0,
             "#0d0887"
            ],
            [
             0.1111111111111111,
             "#46039f"
            ],
            [
             0.2222222222222222,
             "#7201a8"
            ],
            [
             0.3333333333333333,
             "#9c179e"
            ],
            [
             0.4444444444444444,
             "#bd3786"
            ],
            [
             0.5555555555555556,
             "#d8576b"
            ],
            [
             0.6666666666666666,
             "#ed7953"
            ],
            [
             0.7777777777777778,
             "#fb9f3a"
            ],
            [
             0.8888888888888888,
             "#fdca26"
            ],
            [
             1,
             "#f0f921"
            ]
           ]
          },
          "colorway": [
           "#636efa",
           "#EF553B",
           "#00cc96",
           "#ab63fa",
           "#FFA15A",
           "#19d3f3",
           "#FF6692",
           "#B6E880",
           "#FF97FF",
           "#FECB52"
          ],
          "font": {
           "color": "#2a3f5f"
          },
          "geo": {
           "bgcolor": "white",
           "lakecolor": "white",
           "landcolor": "#E5ECF6",
           "showlakes": true,
           "showland": true,
           "subunitcolor": "white"
          },
          "hoverlabel": {
           "align": "left"
          },
          "hovermode": "closest",
          "mapbox": {
           "style": "light"
          },
          "paper_bgcolor": "white",
          "plot_bgcolor": "#E5ECF6",
          "polar": {
           "angularaxis": {
            "gridcolor": "white",
            "linecolor": "white",
            "ticks": ""
           },
           "bgcolor": "#E5ECF6",
           "radialaxis": {
            "gridcolor": "white",
            "linecolor": "white",
            "ticks": ""
           }
          },
          "scene": {
           "xaxis": {
            "backgroundcolor": "#E5ECF6",
            "gridcolor": "white",
            "gridwidth": 2,
            "linecolor": "white",
            "showbackground": true,
            "ticks": "",
            "zerolinecolor": "white"
           },
           "yaxis": {
            "backgroundcolor": "#E5ECF6",
            "gridcolor": "white",
            "gridwidth": 2,
            "linecolor": "white",
            "showbackground": true,
            "ticks": "",
            "zerolinecolor": "white"
           },
           "zaxis": {
            "backgroundcolor": "#E5ECF6",
            "gridcolor": "white",
            "gridwidth": 2,
            "linecolor": "white",
            "showbackground": true,
            "ticks": "",
            "zerolinecolor": "white"
           }
          },
          "shapedefaults": {
           "line": {
            "color": "#2a3f5f"
           }
          },
          "ternary": {
           "aaxis": {
            "gridcolor": "white",
            "linecolor": "white",
            "ticks": ""
           },
           "baxis": {
            "gridcolor": "white",
            "linecolor": "white",
            "ticks": ""
           },
           "bgcolor": "#E5ECF6",
           "caxis": {
            "gridcolor": "white",
            "linecolor": "white",
            "ticks": ""
           }
          },
          "title": {
           "x": 0.05
          },
          "xaxis": {
           "automargin": true,
           "gridcolor": "white",
           "linecolor": "white",
           "ticks": "",
           "title": {
            "standoff": 15
           },
           "zerolinecolor": "white",
           "zerolinewidth": 2
          },
          "yaxis": {
           "automargin": true,
           "gridcolor": "white",
           "linecolor": "white",
           "ticks": "",
           "title": {
            "standoff": 15
           },
           "zerolinecolor": "white",
           "zerolinewidth": 2
          }
         }
        }
       }
      },
      "text/html": [
       "<div>\n",
       "        \n",
       "        \n",
       "            <div id=\"fb1de630-6295-4861-a983-ee7e3d23a60d\" class=\"plotly-graph-div\" style=\"height:525px; width:100%;\"></div>\n",
       "            <script type=\"text/javascript\">\n",
       "                require([\"plotly\"], function(Plotly) {\n",
       "                    window.PLOTLYENV=window.PLOTLYENV || {};\n",
       "                    \n",
       "                if (document.getElementById(\"fb1de630-6295-4861-a983-ee7e3d23a60d\")) {\n",
       "                    Plotly.newPlot(\n",
       "                        'fb1de630-6295-4861-a983-ee7e3d23a60d',\n",
       "                        [{\"delta\": {\"decreasing\": {\"color\": \"green\"}, \"increasing\": {\"color\": \"red\"}, \"reference\": 150}, \"domain\": {\"x\": [0, 1], \"y\": [0, 1]}, \"gauge\": {\"axis\": {\"range\": [null, 200], \"tickwidth\": 1}, \"bar\": {\"color\": \"black\"}, \"steps\": [{\"color\": \"green\", \"range\": [0, 30]}, {\"color\": \"orange\", \"range\": [30, 150]}, {\"color\": \"red\", \"range\": [150, 200]}], \"threshold\": {\"line\": {\"color\": \"white\", \"width\": 10}, \"thickness\": 0.25, \"value\": 200}}, \"mode\": \"gauge+number+delta\", \"title\": {\"font\": {\"size\": 24}, \"text\": \"Sodium mg\"}, \"type\": \"indicator\", \"value\": 190}],\n",
       "                        {\"template\": {\"data\": {\"bar\": [{\"error_x\": {\"color\": \"#2a3f5f\"}, \"error_y\": {\"color\": \"#2a3f5f\"}, \"marker\": {\"line\": {\"color\": \"#E5ECF6\", \"width\": 0.5}}, \"type\": \"bar\"}], \"barpolar\": [{\"marker\": {\"line\": {\"color\": \"#E5ECF6\", \"width\": 0.5}}, \"type\": \"barpolar\"}], \"carpet\": [{\"aaxis\": {\"endlinecolor\": \"#2a3f5f\", \"gridcolor\": \"white\", \"linecolor\": \"white\", \"minorgridcolor\": \"white\", \"startlinecolor\": \"#2a3f5f\"}, \"baxis\": {\"endlinecolor\": \"#2a3f5f\", \"gridcolor\": \"white\", \"linecolor\": \"white\", \"minorgridcolor\": \"white\", \"startlinecolor\": \"#2a3f5f\"}, \"type\": \"carpet\"}], \"choropleth\": [{\"colorbar\": {\"outlinewidth\": 0, \"ticks\": \"\"}, \"type\": \"choropleth\"}], \"contour\": [{\"colorbar\": {\"outlinewidth\": 0, \"ticks\": \"\"}, \"colorscale\": [[0.0, \"#0d0887\"], [0.1111111111111111, \"#46039f\"], [0.2222222222222222, \"#7201a8\"], [0.3333333333333333, \"#9c179e\"], [0.4444444444444444, \"#bd3786\"], [0.5555555555555556, \"#d8576b\"], [0.6666666666666666, \"#ed7953\"], [0.7777777777777778, \"#fb9f3a\"], [0.8888888888888888, \"#fdca26\"], [1.0, \"#f0f921\"]], \"type\": \"contour\"}], \"contourcarpet\": [{\"colorbar\": {\"outlinewidth\": 0, \"ticks\": \"\"}, \"type\": \"contourcarpet\"}], \"heatmap\": [{\"colorbar\": {\"outlinewidth\": 0, \"ticks\": \"\"}, \"colorscale\": [[0.0, \"#0d0887\"], [0.1111111111111111, \"#46039f\"], [0.2222222222222222, \"#7201a8\"], [0.3333333333333333, \"#9c179e\"], [0.4444444444444444, \"#bd3786\"], [0.5555555555555556, \"#d8576b\"], [0.6666666666666666, \"#ed7953\"], [0.7777777777777778, \"#fb9f3a\"], [0.8888888888888888, \"#fdca26\"], [1.0, \"#f0f921\"]], \"type\": \"heatmap\"}], \"heatmapgl\": [{\"colorbar\": {\"outlinewidth\": 0, \"ticks\": \"\"}, \"colorscale\": [[0.0, \"#0d0887\"], [0.1111111111111111, \"#46039f\"], [0.2222222222222222, \"#7201a8\"], [0.3333333333333333, \"#9c179e\"], [0.4444444444444444, \"#bd3786\"], [0.5555555555555556, \"#d8576b\"], [0.6666666666666666, \"#ed7953\"], [0.7777777777777778, \"#fb9f3a\"], [0.8888888888888888, \"#fdca26\"], [1.0, \"#f0f921\"]], \"type\": \"heatmapgl\"}], \"histogram\": [{\"marker\": {\"colorbar\": {\"outlinewidth\": 0, \"ticks\": \"\"}}, \"type\": \"histogram\"}], \"histogram2d\": [{\"colorbar\": {\"outlinewidth\": 0, \"ticks\": \"\"}, \"colorscale\": [[0.0, \"#0d0887\"], [0.1111111111111111, \"#46039f\"], [0.2222222222222222, \"#7201a8\"], [0.3333333333333333, \"#9c179e\"], [0.4444444444444444, \"#bd3786\"], [0.5555555555555556, \"#d8576b\"], [0.6666666666666666, \"#ed7953\"], [0.7777777777777778, \"#fb9f3a\"], [0.8888888888888888, \"#fdca26\"], [1.0, \"#f0f921\"]], \"type\": \"histogram2d\"}], \"histogram2dcontour\": [{\"colorbar\": {\"outlinewidth\": 0, \"ticks\": \"\"}, \"colorscale\": [[0.0, \"#0d0887\"], [0.1111111111111111, \"#46039f\"], [0.2222222222222222, \"#7201a8\"], [0.3333333333333333, \"#9c179e\"], [0.4444444444444444, \"#bd3786\"], [0.5555555555555556, \"#d8576b\"], [0.6666666666666666, \"#ed7953\"], [0.7777777777777778, \"#fb9f3a\"], [0.8888888888888888, \"#fdca26\"], [1.0, \"#f0f921\"]], \"type\": \"histogram2dcontour\"}], \"mesh3d\": [{\"colorbar\": {\"outlinewidth\": 0, \"ticks\": \"\"}, \"type\": \"mesh3d\"}], \"parcoords\": [{\"line\": {\"colorbar\": {\"outlinewidth\": 0, \"ticks\": \"\"}}, \"type\": \"parcoords\"}], \"pie\": [{\"automargin\": true, \"type\": \"pie\"}], \"scatter\": [{\"marker\": {\"colorbar\": {\"outlinewidth\": 0, \"ticks\": \"\"}}, \"type\": \"scatter\"}], \"scatter3d\": [{\"line\": {\"colorbar\": {\"outlinewidth\": 0, \"ticks\": \"\"}}, \"marker\": {\"colorbar\": {\"outlinewidth\": 0, \"ticks\": \"\"}}, \"type\": \"scatter3d\"}], \"scattercarpet\": [{\"marker\": {\"colorbar\": {\"outlinewidth\": 0, \"ticks\": \"\"}}, \"type\": \"scattercarpet\"}], \"scattergeo\": [{\"marker\": {\"colorbar\": {\"outlinewidth\": 0, \"ticks\": \"\"}}, \"type\": \"scattergeo\"}], \"scattergl\": [{\"marker\": {\"colorbar\": {\"outlinewidth\": 0, \"ticks\": \"\"}}, \"type\": \"scattergl\"}], \"scattermapbox\": [{\"marker\": {\"colorbar\": {\"outlinewidth\": 0, \"ticks\": \"\"}}, \"type\": \"scattermapbox\"}], \"scatterpolar\": [{\"marker\": {\"colorbar\": {\"outlinewidth\": 0, \"ticks\": \"\"}}, \"type\": \"scatterpolar\"}], \"scatterpolargl\": [{\"marker\": {\"colorbar\": {\"outlinewidth\": 0, \"ticks\": \"\"}}, \"type\": \"scatterpolargl\"}], \"scatterternary\": [{\"marker\": {\"colorbar\": {\"outlinewidth\": 0, \"ticks\": \"\"}}, \"type\": \"scatterternary\"}], \"surface\": [{\"colorbar\": {\"outlinewidth\": 0, \"ticks\": \"\"}, \"colorscale\": [[0.0, \"#0d0887\"], [0.1111111111111111, \"#46039f\"], [0.2222222222222222, \"#7201a8\"], [0.3333333333333333, \"#9c179e\"], [0.4444444444444444, \"#bd3786\"], [0.5555555555555556, \"#d8576b\"], [0.6666666666666666, \"#ed7953\"], [0.7777777777777778, \"#fb9f3a\"], [0.8888888888888888, \"#fdca26\"], [1.0, \"#f0f921\"]], \"type\": \"surface\"}], \"table\": [{\"cells\": {\"fill\": {\"color\": \"#EBF0F8\"}, \"line\": {\"color\": \"white\"}}, \"header\": {\"fill\": {\"color\": \"#C8D4E3\"}, \"line\": {\"color\": \"white\"}}, \"type\": \"table\"}]}, \"layout\": {\"annotationdefaults\": {\"arrowcolor\": \"#2a3f5f\", \"arrowhead\": 0, \"arrowwidth\": 1}, \"coloraxis\": {\"colorbar\": {\"outlinewidth\": 0, \"ticks\": \"\"}}, \"colorscale\": {\"diverging\": [[0, \"#8e0152\"], [0.1, \"#c51b7d\"], [0.2, \"#de77ae\"], [0.3, \"#f1b6da\"], [0.4, \"#fde0ef\"], [0.5, \"#f7f7f7\"], [0.6, \"#e6f5d0\"], [0.7, \"#b8e186\"], [0.8, \"#7fbc41\"], [0.9, \"#4d9221\"], [1, \"#276419\"]], \"sequential\": [[0.0, \"#0d0887\"], [0.1111111111111111, \"#46039f\"], [0.2222222222222222, \"#7201a8\"], [0.3333333333333333, \"#9c179e\"], [0.4444444444444444, \"#bd3786\"], [0.5555555555555556, \"#d8576b\"], [0.6666666666666666, \"#ed7953\"], [0.7777777777777778, \"#fb9f3a\"], [0.8888888888888888, \"#fdca26\"], [1.0, \"#f0f921\"]], \"sequentialminus\": [[0.0, \"#0d0887\"], [0.1111111111111111, \"#46039f\"], [0.2222222222222222, \"#7201a8\"], [0.3333333333333333, \"#9c179e\"], [0.4444444444444444, \"#bd3786\"], [0.5555555555555556, \"#d8576b\"], [0.6666666666666666, \"#ed7953\"], [0.7777777777777778, \"#fb9f3a\"], [0.8888888888888888, \"#fdca26\"], [1.0, \"#f0f921\"]]}, \"colorway\": [\"#636efa\", \"#EF553B\", \"#00cc96\", \"#ab63fa\", \"#FFA15A\", \"#19d3f3\", \"#FF6692\", \"#B6E880\", \"#FF97FF\", \"#FECB52\"], \"font\": {\"color\": \"#2a3f5f\"}, \"geo\": {\"bgcolor\": \"white\", \"lakecolor\": \"white\", \"landcolor\": \"#E5ECF6\", \"showlakes\": true, \"showland\": true, \"subunitcolor\": \"white\"}, \"hoverlabel\": {\"align\": \"left\"}, \"hovermode\": \"closest\", \"mapbox\": {\"style\": \"light\"}, \"paper_bgcolor\": \"white\", \"plot_bgcolor\": \"#E5ECF6\", \"polar\": {\"angularaxis\": {\"gridcolor\": \"white\", \"linecolor\": \"white\", \"ticks\": \"\"}, \"bgcolor\": \"#E5ECF6\", \"radialaxis\": {\"gridcolor\": \"white\", \"linecolor\": \"white\", \"ticks\": \"\"}}, \"scene\": {\"xaxis\": {\"backgroundcolor\": \"#E5ECF6\", \"gridcolor\": \"white\", \"gridwidth\": 2, \"linecolor\": \"white\", \"showbackground\": true, \"ticks\": \"\", \"zerolinecolor\": \"white\"}, \"yaxis\": {\"backgroundcolor\": \"#E5ECF6\", \"gridcolor\": \"white\", \"gridwidth\": 2, \"linecolor\": \"white\", \"showbackground\": true, \"ticks\": \"\", \"zerolinecolor\": \"white\"}, \"zaxis\": {\"backgroundcolor\": \"#E5ECF6\", \"gridcolor\": \"white\", \"gridwidth\": 2, \"linecolor\": \"white\", \"showbackground\": true, \"ticks\": \"\", \"zerolinecolor\": \"white\"}}, \"shapedefaults\": {\"line\": {\"color\": \"#2a3f5f\"}}, \"ternary\": {\"aaxis\": {\"gridcolor\": \"white\", \"linecolor\": \"white\", \"ticks\": \"\"}, \"baxis\": {\"gridcolor\": \"white\", \"linecolor\": \"white\", \"ticks\": \"\"}, \"bgcolor\": \"#E5ECF6\", \"caxis\": {\"gridcolor\": \"white\", \"linecolor\": \"white\", \"ticks\": \"\"}}, \"title\": {\"x\": 0.05}, \"xaxis\": {\"automargin\": true, \"gridcolor\": \"white\", \"linecolor\": \"white\", \"ticks\": \"\", \"title\": {\"standoff\": 15}, \"zerolinecolor\": \"white\", \"zerolinewidth\": 2}, \"yaxis\": {\"automargin\": true, \"gridcolor\": \"white\", \"linecolor\": \"white\", \"ticks\": \"\", \"title\": {\"standoff\": 15}, \"zerolinecolor\": \"white\", \"zerolinewidth\": 2}}}},\n",
       "                        {\"responsive\": true}\n",
       "                    ).then(function(){\n",
       "                            \n",
       "var gd = document.getElementById('fb1de630-6295-4861-a983-ee7e3d23a60d');\n",
       "var x = new MutationObserver(function (mutations, observer) {{\n",
       "        var display = window.getComputedStyle(gd).display;\n",
       "        if (!display || display === 'none') {{\n",
       "            console.log([gd, 'removed!']);\n",
       "            Plotly.purge(gd);\n",
       "            observer.disconnect();\n",
       "        }}\n",
       "}});\n",
       "\n",
       "// Listen for the removal of the full notebook cells\n",
       "var notebookContainer = gd.closest('#notebook-container');\n",
       "if (notebookContainer) {{\n",
       "    x.observe(notebookContainer, {childList: true});\n",
       "}}\n",
       "\n",
       "// Listen for the clearing of the current output cell\n",
       "var outputEl = gd.closest('.output');\n",
       "if (outputEl) {{\n",
       "    x.observe(outputEl, {childList: true});\n",
       "}}\n",
       "\n",
       "                        })\n",
       "                };\n",
       "                });\n",
       "            </script>\n",
       "        </div>"
      ]
     },
     "metadata": {},
     "output_type": "display_data"
    }
   ],
   "source": [
    "fig = go.Figure(go.Indicator(\n",
    "    mode = \"gauge+number+delta\",\n",
    "    value = 190,\n",
    "    domain = {'x': [0, 1], 'y': [0, 1]},\n",
    "    title = {'text': \"Sodium mg\", 'font': {'size': 24}},\n",
    "    delta = {'reference': 0, 'decreasing': {'color': \"green\"}\n",
    "            ,'reference': 150, 'increasing': {'color': \"red\"}},\n",
    "    gauge = {\n",
    "        'axis': {'range': [None, 200], 'tickwidth': 1},\n",
    "        'bar': {'color': \"black\"},\n",
    "        #'bgcolor': \"white\",\n",
    "        #'borderwidth': 1,\n",
    "        #'bordercolor': \"gray\",\n",
    "        'steps': [\n",
    "            {'range': [0, 30], 'color': 'green'},\n",
    "            {'range': [30, 150], 'color': 'orange'},\n",
    "            {'range': [150, 200], 'color': 'red'}],\n",
    "         'threshold': {\n",
    "             'line': {'color': \"white\", 'width': 10},\n",
    "             'thickness': 0.25,\n",
    "             'value': 200}}))\n",
    "\n",
    "#fig.update_layout(paper_bgcolor = \"lavender\", font = {'color': \"darkblue\", 'family': \"Arial\"})\n",
    "\n",
    "fig.show()"
   ]
  },
  {
   "cell_type": "code",
   "execution_count": 89,
   "metadata": {},
   "outputs": [
    {
     "data": {
      "application/vnd.plotly.v1+json": {
       "config": {
        "plotlyServerURL": "https://plot.ly"
       },
       "data": [
        {
         "delta": {
          "decreasing": {
           "color": "green"
          },
          "increasing": {
           "color": "red"
          },
          "reference": 5
         },
         "domain": {
          "x": [
           0,
           1
          ],
          "y": [
           1,
           0
          ]
         },
         "gauge": {
          "axis": {
           "range": [
            null,
            15
           ],
           "tickwidth": 1
          },
          "bar": {
           "color": "black"
          },
          "steps": [
           {
            "color": "green",
            "range": [
             0,
             1.5
            ]
           },
           {
            "color": "orange",
            "range": [
             1.5,
             5
            ]
           },
           {
            "color": "red",
            "range": [
             5,
             15
            ]
           }
          ],
          "threshold": {
           "line": {
            "color": "white",
            "width": 10
           },
           "thickness": 0.25,
           "value": 15
          }
         },
         "mode": "gauge+number+delta",
         "title": {
          "font": {
           "size": 24
          },
          "text": "Saturated Fat g"
         },
         "type": "indicator",
         "value": 0.24
        }
       ],
       "layout": {
        "template": {
         "data": {
          "bar": [
           {
            "error_x": {
             "color": "#2a3f5f"
            },
            "error_y": {
             "color": "#2a3f5f"
            },
            "marker": {
             "line": {
              "color": "#E5ECF6",
              "width": 0.5
             }
            },
            "type": "bar"
           }
          ],
          "barpolar": [
           {
            "marker": {
             "line": {
              "color": "#E5ECF6",
              "width": 0.5
             }
            },
            "type": "barpolar"
           }
          ],
          "carpet": [
           {
            "aaxis": {
             "endlinecolor": "#2a3f5f",
             "gridcolor": "white",
             "linecolor": "white",
             "minorgridcolor": "white",
             "startlinecolor": "#2a3f5f"
            },
            "baxis": {
             "endlinecolor": "#2a3f5f",
             "gridcolor": "white",
             "linecolor": "white",
             "minorgridcolor": "white",
             "startlinecolor": "#2a3f5f"
            },
            "type": "carpet"
           }
          ],
          "choropleth": [
           {
            "colorbar": {
             "outlinewidth": 0,
             "ticks": ""
            },
            "type": "choropleth"
           }
          ],
          "contour": [
           {
            "colorbar": {
             "outlinewidth": 0,
             "ticks": ""
            },
            "colorscale": [
             [
              0,
              "#0d0887"
             ],
             [
              0.1111111111111111,
              "#46039f"
             ],
             [
              0.2222222222222222,
              "#7201a8"
             ],
             [
              0.3333333333333333,
              "#9c179e"
             ],
             [
              0.4444444444444444,
              "#bd3786"
             ],
             [
              0.5555555555555556,
              "#d8576b"
             ],
             [
              0.6666666666666666,
              "#ed7953"
             ],
             [
              0.7777777777777778,
              "#fb9f3a"
             ],
             [
              0.8888888888888888,
              "#fdca26"
             ],
             [
              1,
              "#f0f921"
             ]
            ],
            "type": "contour"
           }
          ],
          "contourcarpet": [
           {
            "colorbar": {
             "outlinewidth": 0,
             "ticks": ""
            },
            "type": "contourcarpet"
           }
          ],
          "heatmap": [
           {
            "colorbar": {
             "outlinewidth": 0,
             "ticks": ""
            },
            "colorscale": [
             [
              0,
              "#0d0887"
             ],
             [
              0.1111111111111111,
              "#46039f"
             ],
             [
              0.2222222222222222,
              "#7201a8"
             ],
             [
              0.3333333333333333,
              "#9c179e"
             ],
             [
              0.4444444444444444,
              "#bd3786"
             ],
             [
              0.5555555555555556,
              "#d8576b"
             ],
             [
              0.6666666666666666,
              "#ed7953"
             ],
             [
              0.7777777777777778,
              "#fb9f3a"
             ],
             [
              0.8888888888888888,
              "#fdca26"
             ],
             [
              1,
              "#f0f921"
             ]
            ],
            "type": "heatmap"
           }
          ],
          "heatmapgl": [
           {
            "colorbar": {
             "outlinewidth": 0,
             "ticks": ""
            },
            "colorscale": [
             [
              0,
              "#0d0887"
             ],
             [
              0.1111111111111111,
              "#46039f"
             ],
             [
              0.2222222222222222,
              "#7201a8"
             ],
             [
              0.3333333333333333,
              "#9c179e"
             ],
             [
              0.4444444444444444,
              "#bd3786"
             ],
             [
              0.5555555555555556,
              "#d8576b"
             ],
             [
              0.6666666666666666,
              "#ed7953"
             ],
             [
              0.7777777777777778,
              "#fb9f3a"
             ],
             [
              0.8888888888888888,
              "#fdca26"
             ],
             [
              1,
              "#f0f921"
             ]
            ],
            "type": "heatmapgl"
           }
          ],
          "histogram": [
           {
            "marker": {
             "colorbar": {
              "outlinewidth": 0,
              "ticks": ""
             }
            },
            "type": "histogram"
           }
          ],
          "histogram2d": [
           {
            "colorbar": {
             "outlinewidth": 0,
             "ticks": ""
            },
            "colorscale": [
             [
              0,
              "#0d0887"
             ],
             [
              0.1111111111111111,
              "#46039f"
             ],
             [
              0.2222222222222222,
              "#7201a8"
             ],
             [
              0.3333333333333333,
              "#9c179e"
             ],
             [
              0.4444444444444444,
              "#bd3786"
             ],
             [
              0.5555555555555556,
              "#d8576b"
             ],
             [
              0.6666666666666666,
              "#ed7953"
             ],
             [
              0.7777777777777778,
              "#fb9f3a"
             ],
             [
              0.8888888888888888,
              "#fdca26"
             ],
             [
              1,
              "#f0f921"
             ]
            ],
            "type": "histogram2d"
           }
          ],
          "histogram2dcontour": [
           {
            "colorbar": {
             "outlinewidth": 0,
             "ticks": ""
            },
            "colorscale": [
             [
              0,
              "#0d0887"
             ],
             [
              0.1111111111111111,
              "#46039f"
             ],
             [
              0.2222222222222222,
              "#7201a8"
             ],
             [
              0.3333333333333333,
              "#9c179e"
             ],
             [
              0.4444444444444444,
              "#bd3786"
             ],
             [
              0.5555555555555556,
              "#d8576b"
             ],
             [
              0.6666666666666666,
              "#ed7953"
             ],
             [
              0.7777777777777778,
              "#fb9f3a"
             ],
             [
              0.8888888888888888,
              "#fdca26"
             ],
             [
              1,
              "#f0f921"
             ]
            ],
            "type": "histogram2dcontour"
           }
          ],
          "mesh3d": [
           {
            "colorbar": {
             "outlinewidth": 0,
             "ticks": ""
            },
            "type": "mesh3d"
           }
          ],
          "parcoords": [
           {
            "line": {
             "colorbar": {
              "outlinewidth": 0,
              "ticks": ""
             }
            },
            "type": "parcoords"
           }
          ],
          "pie": [
           {
            "automargin": true,
            "type": "pie"
           }
          ],
          "scatter": [
           {
            "marker": {
             "colorbar": {
              "outlinewidth": 0,
              "ticks": ""
             }
            },
            "type": "scatter"
           }
          ],
          "scatter3d": [
           {
            "line": {
             "colorbar": {
              "outlinewidth": 0,
              "ticks": ""
             }
            },
            "marker": {
             "colorbar": {
              "outlinewidth": 0,
              "ticks": ""
             }
            },
            "type": "scatter3d"
           }
          ],
          "scattercarpet": [
           {
            "marker": {
             "colorbar": {
              "outlinewidth": 0,
              "ticks": ""
             }
            },
            "type": "scattercarpet"
           }
          ],
          "scattergeo": [
           {
            "marker": {
             "colorbar": {
              "outlinewidth": 0,
              "ticks": ""
             }
            },
            "type": "scattergeo"
           }
          ],
          "scattergl": [
           {
            "marker": {
             "colorbar": {
              "outlinewidth": 0,
              "ticks": ""
             }
            },
            "type": "scattergl"
           }
          ],
          "scattermapbox": [
           {
            "marker": {
             "colorbar": {
              "outlinewidth": 0,
              "ticks": ""
             }
            },
            "type": "scattermapbox"
           }
          ],
          "scatterpolar": [
           {
            "marker": {
             "colorbar": {
              "outlinewidth": 0,
              "ticks": ""
             }
            },
            "type": "scatterpolar"
           }
          ],
          "scatterpolargl": [
           {
            "marker": {
             "colorbar": {
              "outlinewidth": 0,
              "ticks": ""
             }
            },
            "type": "scatterpolargl"
           }
          ],
          "scatterternary": [
           {
            "marker": {
             "colorbar": {
              "outlinewidth": 0,
              "ticks": ""
             }
            },
            "type": "scatterternary"
           }
          ],
          "surface": [
           {
            "colorbar": {
             "outlinewidth": 0,
             "ticks": ""
            },
            "colorscale": [
             [
              0,
              "#0d0887"
             ],
             [
              0.1111111111111111,
              "#46039f"
             ],
             [
              0.2222222222222222,
              "#7201a8"
             ],
             [
              0.3333333333333333,
              "#9c179e"
             ],
             [
              0.4444444444444444,
              "#bd3786"
             ],
             [
              0.5555555555555556,
              "#d8576b"
             ],
             [
              0.6666666666666666,
              "#ed7953"
             ],
             [
              0.7777777777777778,
              "#fb9f3a"
             ],
             [
              0.8888888888888888,
              "#fdca26"
             ],
             [
              1,
              "#f0f921"
             ]
            ],
            "type": "surface"
           }
          ],
          "table": [
           {
            "cells": {
             "fill": {
              "color": "#EBF0F8"
             },
             "line": {
              "color": "white"
             }
            },
            "header": {
             "fill": {
              "color": "#C8D4E3"
             },
             "line": {
              "color": "white"
             }
            },
            "type": "table"
           }
          ]
         },
         "layout": {
          "annotationdefaults": {
           "arrowcolor": "#2a3f5f",
           "arrowhead": 0,
           "arrowwidth": 1
          },
          "coloraxis": {
           "colorbar": {
            "outlinewidth": 0,
            "ticks": ""
           }
          },
          "colorscale": {
           "diverging": [
            [
             0,
             "#8e0152"
            ],
            [
             0.1,
             "#c51b7d"
            ],
            [
             0.2,
             "#de77ae"
            ],
            [
             0.3,
             "#f1b6da"
            ],
            [
             0.4,
             "#fde0ef"
            ],
            [
             0.5,
             "#f7f7f7"
            ],
            [
             0.6,
             "#e6f5d0"
            ],
            [
             0.7,
             "#b8e186"
            ],
            [
             0.8,
             "#7fbc41"
            ],
            [
             0.9,
             "#4d9221"
            ],
            [
             1,
             "#276419"
            ]
           ],
           "sequential": [
            [
             0,
             "#0d0887"
            ],
            [
             0.1111111111111111,
             "#46039f"
            ],
            [
             0.2222222222222222,
             "#7201a8"
            ],
            [
             0.3333333333333333,
             "#9c179e"
            ],
            [
             0.4444444444444444,
             "#bd3786"
            ],
            [
             0.5555555555555556,
             "#d8576b"
            ],
            [
             0.6666666666666666,
             "#ed7953"
            ],
            [
             0.7777777777777778,
             "#fb9f3a"
            ],
            [
             0.8888888888888888,
             "#fdca26"
            ],
            [
             1,
             "#f0f921"
            ]
           ],
           "sequentialminus": [
            [
             0,
             "#0d0887"
            ],
            [
             0.1111111111111111,
             "#46039f"
            ],
            [
             0.2222222222222222,
             "#7201a8"
            ],
            [
             0.3333333333333333,
             "#9c179e"
            ],
            [
             0.4444444444444444,
             "#bd3786"
            ],
            [
             0.5555555555555556,
             "#d8576b"
            ],
            [
             0.6666666666666666,
             "#ed7953"
            ],
            [
             0.7777777777777778,
             "#fb9f3a"
            ],
            [
             0.8888888888888888,
             "#fdca26"
            ],
            [
             1,
             "#f0f921"
            ]
           ]
          },
          "colorway": [
           "#636efa",
           "#EF553B",
           "#00cc96",
           "#ab63fa",
           "#FFA15A",
           "#19d3f3",
           "#FF6692",
           "#B6E880",
           "#FF97FF",
           "#FECB52"
          ],
          "font": {
           "color": "#2a3f5f"
          },
          "geo": {
           "bgcolor": "white",
           "lakecolor": "white",
           "landcolor": "#E5ECF6",
           "showlakes": true,
           "showland": true,
           "subunitcolor": "white"
          },
          "hoverlabel": {
           "align": "left"
          },
          "hovermode": "closest",
          "mapbox": {
           "style": "light"
          },
          "paper_bgcolor": "white",
          "plot_bgcolor": "#E5ECF6",
          "polar": {
           "angularaxis": {
            "gridcolor": "white",
            "linecolor": "white",
            "ticks": ""
           },
           "bgcolor": "#E5ECF6",
           "radialaxis": {
            "gridcolor": "white",
            "linecolor": "white",
            "ticks": ""
           }
          },
          "scene": {
           "xaxis": {
            "backgroundcolor": "#E5ECF6",
            "gridcolor": "white",
            "gridwidth": 2,
            "linecolor": "white",
            "showbackground": true,
            "ticks": "",
            "zerolinecolor": "white"
           },
           "yaxis": {
            "backgroundcolor": "#E5ECF6",
            "gridcolor": "white",
            "gridwidth": 2,
            "linecolor": "white",
            "showbackground": true,
            "ticks": "",
            "zerolinecolor": "white"
           },
           "zaxis": {
            "backgroundcolor": "#E5ECF6",
            "gridcolor": "white",
            "gridwidth": 2,
            "linecolor": "white",
            "showbackground": true,
            "ticks": "",
            "zerolinecolor": "white"
           }
          },
          "shapedefaults": {
           "line": {
            "color": "#2a3f5f"
           }
          },
          "ternary": {
           "aaxis": {
            "gridcolor": "white",
            "linecolor": "white",
            "ticks": ""
           },
           "baxis": {
            "gridcolor": "white",
            "linecolor": "white",
            "ticks": ""
           },
           "bgcolor": "#E5ECF6",
           "caxis": {
            "gridcolor": "white",
            "linecolor": "white",
            "ticks": ""
           }
          },
          "title": {
           "x": 0.05
          },
          "xaxis": {
           "automargin": true,
           "gridcolor": "white",
           "linecolor": "white",
           "ticks": "",
           "title": {
            "standoff": 15
           },
           "zerolinecolor": "white",
           "zerolinewidth": 2
          },
          "yaxis": {
           "automargin": true,
           "gridcolor": "white",
           "linecolor": "white",
           "ticks": "",
           "title": {
            "standoff": 15
           },
           "zerolinecolor": "white",
           "zerolinewidth": 2
          }
         }
        }
       }
      },
      "text/html": [
       "<div>\n",
       "        \n",
       "        \n",
       "            <div id=\"a039b799-20e4-4f6a-95bd-58e498f7da1b\" class=\"plotly-graph-div\" style=\"height:525px; width:100%;\"></div>\n",
       "            <script type=\"text/javascript\">\n",
       "                require([\"plotly\"], function(Plotly) {\n",
       "                    window.PLOTLYENV=window.PLOTLYENV || {};\n",
       "                    \n",
       "                if (document.getElementById(\"a039b799-20e4-4f6a-95bd-58e498f7da1b\")) {\n",
       "                    Plotly.newPlot(\n",
       "                        'a039b799-20e4-4f6a-95bd-58e498f7da1b',\n",
       "                        [{\"delta\": {\"decreasing\": {\"color\": \"green\"}, \"increasing\": {\"color\": \"red\"}, \"reference\": 5}, \"domain\": {\"x\": [0, 1], \"y\": [1, 0]}, \"gauge\": {\"axis\": {\"range\": [null, 15], \"tickwidth\": 1}, \"bar\": {\"color\": \"black\"}, \"steps\": [{\"color\": \"green\", \"range\": [0, 1.5]}, {\"color\": \"orange\", \"range\": [1.5, 5]}, {\"color\": \"red\", \"range\": [5, 15]}], \"threshold\": {\"line\": {\"color\": \"white\", \"width\": 10}, \"thickness\": 0.25, \"value\": 15}}, \"mode\": \"gauge+number+delta\", \"title\": {\"font\": {\"size\": 24}, \"text\": \"Saturated Fat g\"}, \"type\": \"indicator\", \"value\": 0.24}],\n",
       "                        {\"template\": {\"data\": {\"bar\": [{\"error_x\": {\"color\": \"#2a3f5f\"}, \"error_y\": {\"color\": \"#2a3f5f\"}, \"marker\": {\"line\": {\"color\": \"#E5ECF6\", \"width\": 0.5}}, \"type\": \"bar\"}], \"barpolar\": [{\"marker\": {\"line\": {\"color\": \"#E5ECF6\", \"width\": 0.5}}, \"type\": \"barpolar\"}], \"carpet\": [{\"aaxis\": {\"endlinecolor\": \"#2a3f5f\", \"gridcolor\": \"white\", \"linecolor\": \"white\", \"minorgridcolor\": \"white\", \"startlinecolor\": \"#2a3f5f\"}, \"baxis\": {\"endlinecolor\": \"#2a3f5f\", \"gridcolor\": \"white\", \"linecolor\": \"white\", \"minorgridcolor\": \"white\", \"startlinecolor\": \"#2a3f5f\"}, \"type\": \"carpet\"}], \"choropleth\": [{\"colorbar\": {\"outlinewidth\": 0, \"ticks\": \"\"}, \"type\": \"choropleth\"}], \"contour\": [{\"colorbar\": {\"outlinewidth\": 0, \"ticks\": \"\"}, \"colorscale\": [[0.0, \"#0d0887\"], [0.1111111111111111, \"#46039f\"], [0.2222222222222222, \"#7201a8\"], [0.3333333333333333, \"#9c179e\"], [0.4444444444444444, \"#bd3786\"], [0.5555555555555556, \"#d8576b\"], [0.6666666666666666, \"#ed7953\"], [0.7777777777777778, \"#fb9f3a\"], [0.8888888888888888, \"#fdca26\"], [1.0, \"#f0f921\"]], \"type\": \"contour\"}], \"contourcarpet\": [{\"colorbar\": {\"outlinewidth\": 0, \"ticks\": \"\"}, \"type\": \"contourcarpet\"}], \"heatmap\": [{\"colorbar\": {\"outlinewidth\": 0, \"ticks\": \"\"}, \"colorscale\": [[0.0, \"#0d0887\"], [0.1111111111111111, \"#46039f\"], [0.2222222222222222, \"#7201a8\"], [0.3333333333333333, \"#9c179e\"], [0.4444444444444444, \"#bd3786\"], [0.5555555555555556, \"#d8576b\"], [0.6666666666666666, \"#ed7953\"], [0.7777777777777778, \"#fb9f3a\"], [0.8888888888888888, \"#fdca26\"], [1.0, \"#f0f921\"]], \"type\": \"heatmap\"}], \"heatmapgl\": [{\"colorbar\": {\"outlinewidth\": 0, \"ticks\": \"\"}, \"colorscale\": [[0.0, \"#0d0887\"], [0.1111111111111111, \"#46039f\"], [0.2222222222222222, \"#7201a8\"], [0.3333333333333333, \"#9c179e\"], [0.4444444444444444, \"#bd3786\"], [0.5555555555555556, \"#d8576b\"], [0.6666666666666666, \"#ed7953\"], [0.7777777777777778, \"#fb9f3a\"], [0.8888888888888888, \"#fdca26\"], [1.0, \"#f0f921\"]], \"type\": \"heatmapgl\"}], \"histogram\": [{\"marker\": {\"colorbar\": {\"outlinewidth\": 0, \"ticks\": \"\"}}, \"type\": \"histogram\"}], \"histogram2d\": [{\"colorbar\": {\"outlinewidth\": 0, \"ticks\": \"\"}, \"colorscale\": [[0.0, \"#0d0887\"], [0.1111111111111111, \"#46039f\"], [0.2222222222222222, \"#7201a8\"], [0.3333333333333333, \"#9c179e\"], [0.4444444444444444, \"#bd3786\"], [0.5555555555555556, \"#d8576b\"], [0.6666666666666666, \"#ed7953\"], [0.7777777777777778, \"#fb9f3a\"], [0.8888888888888888, \"#fdca26\"], [1.0, \"#f0f921\"]], \"type\": \"histogram2d\"}], \"histogram2dcontour\": [{\"colorbar\": {\"outlinewidth\": 0, \"ticks\": \"\"}, \"colorscale\": [[0.0, \"#0d0887\"], [0.1111111111111111, \"#46039f\"], [0.2222222222222222, \"#7201a8\"], [0.3333333333333333, \"#9c179e\"], [0.4444444444444444, \"#bd3786\"], [0.5555555555555556, \"#d8576b\"], [0.6666666666666666, \"#ed7953\"], [0.7777777777777778, \"#fb9f3a\"], [0.8888888888888888, \"#fdca26\"], [1.0, \"#f0f921\"]], \"type\": \"histogram2dcontour\"}], \"mesh3d\": [{\"colorbar\": {\"outlinewidth\": 0, \"ticks\": \"\"}, \"type\": \"mesh3d\"}], \"parcoords\": [{\"line\": {\"colorbar\": {\"outlinewidth\": 0, \"ticks\": \"\"}}, \"type\": \"parcoords\"}], \"pie\": [{\"automargin\": true, \"type\": \"pie\"}], \"scatter\": [{\"marker\": {\"colorbar\": {\"outlinewidth\": 0, \"ticks\": \"\"}}, \"type\": \"scatter\"}], \"scatter3d\": [{\"line\": {\"colorbar\": {\"outlinewidth\": 0, \"ticks\": \"\"}}, \"marker\": {\"colorbar\": {\"outlinewidth\": 0, \"ticks\": \"\"}}, \"type\": \"scatter3d\"}], \"scattercarpet\": [{\"marker\": {\"colorbar\": {\"outlinewidth\": 0, \"ticks\": \"\"}}, \"type\": \"scattercarpet\"}], \"scattergeo\": [{\"marker\": {\"colorbar\": {\"outlinewidth\": 0, \"ticks\": \"\"}}, \"type\": \"scattergeo\"}], \"scattergl\": [{\"marker\": {\"colorbar\": {\"outlinewidth\": 0, \"ticks\": \"\"}}, \"type\": \"scattergl\"}], \"scattermapbox\": [{\"marker\": {\"colorbar\": {\"outlinewidth\": 0, \"ticks\": \"\"}}, \"type\": \"scattermapbox\"}], \"scatterpolar\": [{\"marker\": {\"colorbar\": {\"outlinewidth\": 0, \"ticks\": \"\"}}, \"type\": \"scatterpolar\"}], \"scatterpolargl\": [{\"marker\": {\"colorbar\": {\"outlinewidth\": 0, \"ticks\": \"\"}}, \"type\": \"scatterpolargl\"}], \"scatterternary\": [{\"marker\": {\"colorbar\": {\"outlinewidth\": 0, \"ticks\": \"\"}}, \"type\": \"scatterternary\"}], \"surface\": [{\"colorbar\": {\"outlinewidth\": 0, \"ticks\": \"\"}, \"colorscale\": [[0.0, \"#0d0887\"], [0.1111111111111111, \"#46039f\"], [0.2222222222222222, \"#7201a8\"], [0.3333333333333333, \"#9c179e\"], [0.4444444444444444, \"#bd3786\"], [0.5555555555555556, \"#d8576b\"], [0.6666666666666666, \"#ed7953\"], [0.7777777777777778, \"#fb9f3a\"], [0.8888888888888888, \"#fdca26\"], [1.0, \"#f0f921\"]], \"type\": \"surface\"}], \"table\": [{\"cells\": {\"fill\": {\"color\": \"#EBF0F8\"}, \"line\": {\"color\": \"white\"}}, \"header\": {\"fill\": {\"color\": \"#C8D4E3\"}, \"line\": {\"color\": \"white\"}}, \"type\": \"table\"}]}, \"layout\": {\"annotationdefaults\": {\"arrowcolor\": \"#2a3f5f\", \"arrowhead\": 0, \"arrowwidth\": 1}, \"coloraxis\": {\"colorbar\": {\"outlinewidth\": 0, \"ticks\": \"\"}}, \"colorscale\": {\"diverging\": [[0, \"#8e0152\"], [0.1, \"#c51b7d\"], [0.2, \"#de77ae\"], [0.3, \"#f1b6da\"], [0.4, \"#fde0ef\"], [0.5, \"#f7f7f7\"], [0.6, \"#e6f5d0\"], [0.7, \"#b8e186\"], [0.8, \"#7fbc41\"], [0.9, \"#4d9221\"], [1, \"#276419\"]], \"sequential\": [[0.0, \"#0d0887\"], [0.1111111111111111, \"#46039f\"], [0.2222222222222222, \"#7201a8\"], [0.3333333333333333, \"#9c179e\"], [0.4444444444444444, \"#bd3786\"], [0.5555555555555556, \"#d8576b\"], [0.6666666666666666, \"#ed7953\"], [0.7777777777777778, \"#fb9f3a\"], [0.8888888888888888, \"#fdca26\"], [1.0, \"#f0f921\"]], \"sequentialminus\": [[0.0, \"#0d0887\"], [0.1111111111111111, \"#46039f\"], [0.2222222222222222, \"#7201a8\"], [0.3333333333333333, \"#9c179e\"], [0.4444444444444444, \"#bd3786\"], [0.5555555555555556, \"#d8576b\"], [0.6666666666666666, \"#ed7953\"], [0.7777777777777778, \"#fb9f3a\"], [0.8888888888888888, \"#fdca26\"], [1.0, \"#f0f921\"]]}, \"colorway\": [\"#636efa\", \"#EF553B\", \"#00cc96\", \"#ab63fa\", \"#FFA15A\", \"#19d3f3\", \"#FF6692\", \"#B6E880\", \"#FF97FF\", \"#FECB52\"], \"font\": {\"color\": \"#2a3f5f\"}, \"geo\": {\"bgcolor\": \"white\", \"lakecolor\": \"white\", \"landcolor\": \"#E5ECF6\", \"showlakes\": true, \"showland\": true, \"subunitcolor\": \"white\"}, \"hoverlabel\": {\"align\": \"left\"}, \"hovermode\": \"closest\", \"mapbox\": {\"style\": \"light\"}, \"paper_bgcolor\": \"white\", \"plot_bgcolor\": \"#E5ECF6\", \"polar\": {\"angularaxis\": {\"gridcolor\": \"white\", \"linecolor\": \"white\", \"ticks\": \"\"}, \"bgcolor\": \"#E5ECF6\", \"radialaxis\": {\"gridcolor\": \"white\", \"linecolor\": \"white\", \"ticks\": \"\"}}, \"scene\": {\"xaxis\": {\"backgroundcolor\": \"#E5ECF6\", \"gridcolor\": \"white\", \"gridwidth\": 2, \"linecolor\": \"white\", \"showbackground\": true, \"ticks\": \"\", \"zerolinecolor\": \"white\"}, \"yaxis\": {\"backgroundcolor\": \"#E5ECF6\", \"gridcolor\": \"white\", \"gridwidth\": 2, \"linecolor\": \"white\", \"showbackground\": true, \"ticks\": \"\", \"zerolinecolor\": \"white\"}, \"zaxis\": {\"backgroundcolor\": \"#E5ECF6\", \"gridcolor\": \"white\", \"gridwidth\": 2, \"linecolor\": \"white\", \"showbackground\": true, \"ticks\": \"\", \"zerolinecolor\": \"white\"}}, \"shapedefaults\": {\"line\": {\"color\": \"#2a3f5f\"}}, \"ternary\": {\"aaxis\": {\"gridcolor\": \"white\", \"linecolor\": \"white\", \"ticks\": \"\"}, \"baxis\": {\"gridcolor\": \"white\", \"linecolor\": \"white\", \"ticks\": \"\"}, \"bgcolor\": \"#E5ECF6\", \"caxis\": {\"gridcolor\": \"white\", \"linecolor\": \"white\", \"ticks\": \"\"}}, \"title\": {\"x\": 0.05}, \"xaxis\": {\"automargin\": true, \"gridcolor\": \"white\", \"linecolor\": \"white\", \"ticks\": \"\", \"title\": {\"standoff\": 15}, \"zerolinecolor\": \"white\", \"zerolinewidth\": 2}, \"yaxis\": {\"automargin\": true, \"gridcolor\": \"white\", \"linecolor\": \"white\", \"ticks\": \"\", \"title\": {\"standoff\": 15}, \"zerolinecolor\": \"white\", \"zerolinewidth\": 2}}}},\n",
       "                        {\"responsive\": true}\n",
       "                    ).then(function(){\n",
       "                            \n",
       "var gd = document.getElementById('a039b799-20e4-4f6a-95bd-58e498f7da1b');\n",
       "var x = new MutationObserver(function (mutations, observer) {{\n",
       "        var display = window.getComputedStyle(gd).display;\n",
       "        if (!display || display === 'none') {{\n",
       "            console.log([gd, 'removed!']);\n",
       "            Plotly.purge(gd);\n",
       "            observer.disconnect();\n",
       "        }}\n",
       "}});\n",
       "\n",
       "// Listen for the removal of the full notebook cells\n",
       "var notebookContainer = gd.closest('#notebook-container');\n",
       "if (notebookContainer) {{\n",
       "    x.observe(notebookContainer, {childList: true});\n",
       "}}\n",
       "\n",
       "// Listen for the clearing of the current output cell\n",
       "var outputEl = gd.closest('.output');\n",
       "if (outputEl) {{\n",
       "    x.observe(outputEl, {childList: true});\n",
       "}}\n",
       "\n",
       "                        })\n",
       "                };\n",
       "                });\n",
       "            </script>\n",
       "        </div>"
      ]
     },
     "metadata": {},
     "output_type": "display_data"
    }
   ],
   "source": [
    "\n",
    "fig = go.Figure(go.Indicator(\n",
    "    mode = \"gauge+number+delta\",\n",
    "    value = 0.24,\n",
    "    domain = {'x': [0, 1], 'y': [1, 0]},\n",
    "    title = {'text': \"Saturated Fat g\", 'font': {'size': 24}},\n",
    "    delta = {'reference': 0, 'decreasing': {'color': \"green\"}\n",
    "            ,'reference': 5, 'increasing': {'color': \"red\"}},\n",
    "    gauge = {\n",
    "        'axis': {'range': [None, 15], 'tickwidth': 1},\n",
    "        'bar': {'color': \"black\"},\n",
    "        #'bgcolor': \"white\",\n",
    "        #'borderwidth': 1,\n",
    "        #'bordercolor': \"black\",\n",
    "        \n",
    "        'steps': [\n",
    "            {'range': [0, 1.5], 'color': 'green'},\n",
    "            {'range': [1.5, 5], 'color': 'orange'},\n",
    "            {'range': [5, 15], 'color': 'red'}],\n",
    "         'threshold': {\n",
    "             'line': {'color': \"white\", 'width': 10},\n",
    "             'thickness': 0.25,\n",
    "             'value': 15}}))\n",
    "\n",
    "#fig.update_layout(paper_bgcolor = \"lavender\", font = {'color': \"darkblue\", 'family': \"Arial\"})\n",
    "\n",
    "fig.show()"
   ]
  },
  {
   "cell_type": "code",
   "execution_count": 94,
   "metadata": {},
   "outputs": [
    {
     "data": {
      "application/vnd.plotly.v1+json": {
       "config": {
        "plotlyServerURL": "https://plot.ly"
       },
       "data": [
        {
         "domain": {
          "x": [
           0,
           1
          ],
          "y": [
           1,
           0
          ]
         },
         "gauge": {
          "axis": {
           "range": [
            null,
            25
           ],
           "tickwidth": 1
          },
          "bar": {
           "color": "black"
          },
          "steps": [
           {
            "color": "green",
            "range": [
             0,
             3
            ]
           },
           {
            "color": "orange",
            "range": [
             3,
             20
            ]
           },
           {
            "color": "red",
            "range": [
             20,
             25
            ]
           }
          ],
          "threshold": {
           "line": {
            "color": "white",
            "width": 10
           },
           "thickness": 0.25,
           "value": 25
          }
         },
         "mode": "gauge+number+delta",
         "title": {
          "font": {
           "size": 24
          },
          "text": "Trans Fat g"
         },
         "type": "indicator",
         "value": 0
        }
       ],
       "layout": {
        "template": {
         "data": {
          "bar": [
           {
            "error_x": {
             "color": "#2a3f5f"
            },
            "error_y": {
             "color": "#2a3f5f"
            },
            "marker": {
             "line": {
              "color": "#E5ECF6",
              "width": 0.5
             }
            },
            "type": "bar"
           }
          ],
          "barpolar": [
           {
            "marker": {
             "line": {
              "color": "#E5ECF6",
              "width": 0.5
             }
            },
            "type": "barpolar"
           }
          ],
          "carpet": [
           {
            "aaxis": {
             "endlinecolor": "#2a3f5f",
             "gridcolor": "white",
             "linecolor": "white",
             "minorgridcolor": "white",
             "startlinecolor": "#2a3f5f"
            },
            "baxis": {
             "endlinecolor": "#2a3f5f",
             "gridcolor": "white",
             "linecolor": "white",
             "minorgridcolor": "white",
             "startlinecolor": "#2a3f5f"
            },
            "type": "carpet"
           }
          ],
          "choropleth": [
           {
            "colorbar": {
             "outlinewidth": 0,
             "ticks": ""
            },
            "type": "choropleth"
           }
          ],
          "contour": [
           {
            "colorbar": {
             "outlinewidth": 0,
             "ticks": ""
            },
            "colorscale": [
             [
              0,
              "#0d0887"
             ],
             [
              0.1111111111111111,
              "#46039f"
             ],
             [
              0.2222222222222222,
              "#7201a8"
             ],
             [
              0.3333333333333333,
              "#9c179e"
             ],
             [
              0.4444444444444444,
              "#bd3786"
             ],
             [
              0.5555555555555556,
              "#d8576b"
             ],
             [
              0.6666666666666666,
              "#ed7953"
             ],
             [
              0.7777777777777778,
              "#fb9f3a"
             ],
             [
              0.8888888888888888,
              "#fdca26"
             ],
             [
              1,
              "#f0f921"
             ]
            ],
            "type": "contour"
           }
          ],
          "contourcarpet": [
           {
            "colorbar": {
             "outlinewidth": 0,
             "ticks": ""
            },
            "type": "contourcarpet"
           }
          ],
          "heatmap": [
           {
            "colorbar": {
             "outlinewidth": 0,
             "ticks": ""
            },
            "colorscale": [
             [
              0,
              "#0d0887"
             ],
             [
              0.1111111111111111,
              "#46039f"
             ],
             [
              0.2222222222222222,
              "#7201a8"
             ],
             [
              0.3333333333333333,
              "#9c179e"
             ],
             [
              0.4444444444444444,
              "#bd3786"
             ],
             [
              0.5555555555555556,
              "#d8576b"
             ],
             [
              0.6666666666666666,
              "#ed7953"
             ],
             [
              0.7777777777777778,
              "#fb9f3a"
             ],
             [
              0.8888888888888888,
              "#fdca26"
             ],
             [
              1,
              "#f0f921"
             ]
            ],
            "type": "heatmap"
           }
          ],
          "heatmapgl": [
           {
            "colorbar": {
             "outlinewidth": 0,
             "ticks": ""
            },
            "colorscale": [
             [
              0,
              "#0d0887"
             ],
             [
              0.1111111111111111,
              "#46039f"
             ],
             [
              0.2222222222222222,
              "#7201a8"
             ],
             [
              0.3333333333333333,
              "#9c179e"
             ],
             [
              0.4444444444444444,
              "#bd3786"
             ],
             [
              0.5555555555555556,
              "#d8576b"
             ],
             [
              0.6666666666666666,
              "#ed7953"
             ],
             [
              0.7777777777777778,
              "#fb9f3a"
             ],
             [
              0.8888888888888888,
              "#fdca26"
             ],
             [
              1,
              "#f0f921"
             ]
            ],
            "type": "heatmapgl"
           }
          ],
          "histogram": [
           {
            "marker": {
             "colorbar": {
              "outlinewidth": 0,
              "ticks": ""
             }
            },
            "type": "histogram"
           }
          ],
          "histogram2d": [
           {
            "colorbar": {
             "outlinewidth": 0,
             "ticks": ""
            },
            "colorscale": [
             [
              0,
              "#0d0887"
             ],
             [
              0.1111111111111111,
              "#46039f"
             ],
             [
              0.2222222222222222,
              "#7201a8"
             ],
             [
              0.3333333333333333,
              "#9c179e"
             ],
             [
              0.4444444444444444,
              "#bd3786"
             ],
             [
              0.5555555555555556,
              "#d8576b"
             ],
             [
              0.6666666666666666,
              "#ed7953"
             ],
             [
              0.7777777777777778,
              "#fb9f3a"
             ],
             [
              0.8888888888888888,
              "#fdca26"
             ],
             [
              1,
              "#f0f921"
             ]
            ],
            "type": "histogram2d"
           }
          ],
          "histogram2dcontour": [
           {
            "colorbar": {
             "outlinewidth": 0,
             "ticks": ""
            },
            "colorscale": [
             [
              0,
              "#0d0887"
             ],
             [
              0.1111111111111111,
              "#46039f"
             ],
             [
              0.2222222222222222,
              "#7201a8"
             ],
             [
              0.3333333333333333,
              "#9c179e"
             ],
             [
              0.4444444444444444,
              "#bd3786"
             ],
             [
              0.5555555555555556,
              "#d8576b"
             ],
             [
              0.6666666666666666,
              "#ed7953"
             ],
             [
              0.7777777777777778,
              "#fb9f3a"
             ],
             [
              0.8888888888888888,
              "#fdca26"
             ],
             [
              1,
              "#f0f921"
             ]
            ],
            "type": "histogram2dcontour"
           }
          ],
          "mesh3d": [
           {
            "colorbar": {
             "outlinewidth": 0,
             "ticks": ""
            },
            "type": "mesh3d"
           }
          ],
          "parcoords": [
           {
            "line": {
             "colorbar": {
              "outlinewidth": 0,
              "ticks": ""
             }
            },
            "type": "parcoords"
           }
          ],
          "pie": [
           {
            "automargin": true,
            "type": "pie"
           }
          ],
          "scatter": [
           {
            "marker": {
             "colorbar": {
              "outlinewidth": 0,
              "ticks": ""
             }
            },
            "type": "scatter"
           }
          ],
          "scatter3d": [
           {
            "line": {
             "colorbar": {
              "outlinewidth": 0,
              "ticks": ""
             }
            },
            "marker": {
             "colorbar": {
              "outlinewidth": 0,
              "ticks": ""
             }
            },
            "type": "scatter3d"
           }
          ],
          "scattercarpet": [
           {
            "marker": {
             "colorbar": {
              "outlinewidth": 0,
              "ticks": ""
             }
            },
            "type": "scattercarpet"
           }
          ],
          "scattergeo": [
           {
            "marker": {
             "colorbar": {
              "outlinewidth": 0,
              "ticks": ""
             }
            },
            "type": "scattergeo"
           }
          ],
          "scattergl": [
           {
            "marker": {
             "colorbar": {
              "outlinewidth": 0,
              "ticks": ""
             }
            },
            "type": "scattergl"
           }
          ],
          "scattermapbox": [
           {
            "marker": {
             "colorbar": {
              "outlinewidth": 0,
              "ticks": ""
             }
            },
            "type": "scattermapbox"
           }
          ],
          "scatterpolar": [
           {
            "marker": {
             "colorbar": {
              "outlinewidth": 0,
              "ticks": ""
             }
            },
            "type": "scatterpolar"
           }
          ],
          "scatterpolargl": [
           {
            "marker": {
             "colorbar": {
              "outlinewidth": 0,
              "ticks": ""
             }
            },
            "type": "scatterpolargl"
           }
          ],
          "scatterternary": [
           {
            "marker": {
             "colorbar": {
              "outlinewidth": 0,
              "ticks": ""
             }
            },
            "type": "scatterternary"
           }
          ],
          "surface": [
           {
            "colorbar": {
             "outlinewidth": 0,
             "ticks": ""
            },
            "colorscale": [
             [
              0,
              "#0d0887"
             ],
             [
              0.1111111111111111,
              "#46039f"
             ],
             [
              0.2222222222222222,
              "#7201a8"
             ],
             [
              0.3333333333333333,
              "#9c179e"
             ],
             [
              0.4444444444444444,
              "#bd3786"
             ],
             [
              0.5555555555555556,
              "#d8576b"
             ],
             [
              0.6666666666666666,
              "#ed7953"
             ],
             [
              0.7777777777777778,
              "#fb9f3a"
             ],
             [
              0.8888888888888888,
              "#fdca26"
             ],
             [
              1,
              "#f0f921"
             ]
            ],
            "type": "surface"
           }
          ],
          "table": [
           {
            "cells": {
             "fill": {
              "color": "#EBF0F8"
             },
             "line": {
              "color": "white"
             }
            },
            "header": {
             "fill": {
              "color": "#C8D4E3"
             },
             "line": {
              "color": "white"
             }
            },
            "type": "table"
           }
          ]
         },
         "layout": {
          "annotationdefaults": {
           "arrowcolor": "#2a3f5f",
           "arrowhead": 0,
           "arrowwidth": 1
          },
          "coloraxis": {
           "colorbar": {
            "outlinewidth": 0,
            "ticks": ""
           }
          },
          "colorscale": {
           "diverging": [
            [
             0,
             "#8e0152"
            ],
            [
             0.1,
             "#c51b7d"
            ],
            [
             0.2,
             "#de77ae"
            ],
            [
             0.3,
             "#f1b6da"
            ],
            [
             0.4,
             "#fde0ef"
            ],
            [
             0.5,
             "#f7f7f7"
            ],
            [
             0.6,
             "#e6f5d0"
            ],
            [
             0.7,
             "#b8e186"
            ],
            [
             0.8,
             "#7fbc41"
            ],
            [
             0.9,
             "#4d9221"
            ],
            [
             1,
             "#276419"
            ]
           ],
           "sequential": [
            [
             0,
             "#0d0887"
            ],
            [
             0.1111111111111111,
             "#46039f"
            ],
            [
             0.2222222222222222,
             "#7201a8"
            ],
            [
             0.3333333333333333,
             "#9c179e"
            ],
            [
             0.4444444444444444,
             "#bd3786"
            ],
            [
             0.5555555555555556,
             "#d8576b"
            ],
            [
             0.6666666666666666,
             "#ed7953"
            ],
            [
             0.7777777777777778,
             "#fb9f3a"
            ],
            [
             0.8888888888888888,
             "#fdca26"
            ],
            [
             1,
             "#f0f921"
            ]
           ],
           "sequentialminus": [
            [
             0,
             "#0d0887"
            ],
            [
             0.1111111111111111,
             "#46039f"
            ],
            [
             0.2222222222222222,
             "#7201a8"
            ],
            [
             0.3333333333333333,
             "#9c179e"
            ],
            [
             0.4444444444444444,
             "#bd3786"
            ],
            [
             0.5555555555555556,
             "#d8576b"
            ],
            [
             0.6666666666666666,
             "#ed7953"
            ],
            [
             0.7777777777777778,
             "#fb9f3a"
            ],
            [
             0.8888888888888888,
             "#fdca26"
            ],
            [
             1,
             "#f0f921"
            ]
           ]
          },
          "colorway": [
           "#636efa",
           "#EF553B",
           "#00cc96",
           "#ab63fa",
           "#FFA15A",
           "#19d3f3",
           "#FF6692",
           "#B6E880",
           "#FF97FF",
           "#FECB52"
          ],
          "font": {
           "color": "#2a3f5f"
          },
          "geo": {
           "bgcolor": "white",
           "lakecolor": "white",
           "landcolor": "#E5ECF6",
           "showlakes": true,
           "showland": true,
           "subunitcolor": "white"
          },
          "hoverlabel": {
           "align": "left"
          },
          "hovermode": "closest",
          "mapbox": {
           "style": "light"
          },
          "paper_bgcolor": "white",
          "plot_bgcolor": "#E5ECF6",
          "polar": {
           "angularaxis": {
            "gridcolor": "white",
            "linecolor": "white",
            "ticks": ""
           },
           "bgcolor": "#E5ECF6",
           "radialaxis": {
            "gridcolor": "white",
            "linecolor": "white",
            "ticks": ""
           }
          },
          "scene": {
           "xaxis": {
            "backgroundcolor": "#E5ECF6",
            "gridcolor": "white",
            "gridwidth": 2,
            "linecolor": "white",
            "showbackground": true,
            "ticks": "",
            "zerolinecolor": "white"
           },
           "yaxis": {
            "backgroundcolor": "#E5ECF6",
            "gridcolor": "white",
            "gridwidth": 2,
            "linecolor": "white",
            "showbackground": true,
            "ticks": "",
            "zerolinecolor": "white"
           },
           "zaxis": {
            "backgroundcolor": "#E5ECF6",
            "gridcolor": "white",
            "gridwidth": 2,
            "linecolor": "white",
            "showbackground": true,
            "ticks": "",
            "zerolinecolor": "white"
           }
          },
          "shapedefaults": {
           "line": {
            "color": "#2a3f5f"
           }
          },
          "ternary": {
           "aaxis": {
            "gridcolor": "white",
            "linecolor": "white",
            "ticks": ""
           },
           "baxis": {
            "gridcolor": "white",
            "linecolor": "white",
            "ticks": ""
           },
           "bgcolor": "#E5ECF6",
           "caxis": {
            "gridcolor": "white",
            "linecolor": "white",
            "ticks": ""
           }
          },
          "title": {
           "x": 0.05
          },
          "xaxis": {
           "automargin": true,
           "gridcolor": "white",
           "linecolor": "white",
           "ticks": "",
           "title": {
            "standoff": 15
           },
           "zerolinecolor": "white",
           "zerolinewidth": 2
          },
          "yaxis": {
           "automargin": true,
           "gridcolor": "white",
           "linecolor": "white",
           "ticks": "",
           "title": {
            "standoff": 15
           },
           "zerolinecolor": "white",
           "zerolinewidth": 2
          }
         }
        }
       }
      },
      "text/html": [
       "<div>\n",
       "        \n",
       "        \n",
       "            <div id=\"a37bd0c0-c4d7-4608-a4e4-5df485c490c0\" class=\"plotly-graph-div\" style=\"height:525px; width:100%;\"></div>\n",
       "            <script type=\"text/javascript\">\n",
       "                require([\"plotly\"], function(Plotly) {\n",
       "                    window.PLOTLYENV=window.PLOTLYENV || {};\n",
       "                    \n",
       "                if (document.getElementById(\"a37bd0c0-c4d7-4608-a4e4-5df485c490c0\")) {\n",
       "                    Plotly.newPlot(\n",
       "                        'a37bd0c0-c4d7-4608-a4e4-5df485c490c0',\n",
       "                        [{\"domain\": {\"x\": [0, 1], \"y\": [1, 0]}, \"gauge\": {\"axis\": {\"range\": [null, 25], \"tickwidth\": 1}, \"bar\": {\"color\": \"black\"}, \"steps\": [{\"color\": \"green\", \"range\": [0, 3]}, {\"color\": \"orange\", \"range\": [3, 20]}, {\"color\": \"red\", \"range\": [20, 25]}], \"threshold\": {\"line\": {\"color\": \"white\", \"width\": 10}, \"thickness\": 0.25, \"value\": 25}}, \"mode\": \"gauge+number+delta\", \"title\": {\"font\": {\"size\": 24}, \"text\": \"Trans Fat g\"}, \"type\": \"indicator\", \"value\": 0}],\n",
       "                        {\"template\": {\"data\": {\"bar\": [{\"error_x\": {\"color\": \"#2a3f5f\"}, \"error_y\": {\"color\": \"#2a3f5f\"}, \"marker\": {\"line\": {\"color\": \"#E5ECF6\", \"width\": 0.5}}, \"type\": \"bar\"}], \"barpolar\": [{\"marker\": {\"line\": {\"color\": \"#E5ECF6\", \"width\": 0.5}}, \"type\": \"barpolar\"}], \"carpet\": [{\"aaxis\": {\"endlinecolor\": \"#2a3f5f\", \"gridcolor\": \"white\", \"linecolor\": \"white\", \"minorgridcolor\": \"white\", \"startlinecolor\": \"#2a3f5f\"}, \"baxis\": {\"endlinecolor\": \"#2a3f5f\", \"gridcolor\": \"white\", \"linecolor\": \"white\", \"minorgridcolor\": \"white\", \"startlinecolor\": \"#2a3f5f\"}, \"type\": \"carpet\"}], \"choropleth\": [{\"colorbar\": {\"outlinewidth\": 0, \"ticks\": \"\"}, \"type\": \"choropleth\"}], \"contour\": [{\"colorbar\": {\"outlinewidth\": 0, \"ticks\": \"\"}, \"colorscale\": [[0.0, \"#0d0887\"], [0.1111111111111111, \"#46039f\"], [0.2222222222222222, \"#7201a8\"], [0.3333333333333333, \"#9c179e\"], [0.4444444444444444, \"#bd3786\"], [0.5555555555555556, \"#d8576b\"], [0.6666666666666666, \"#ed7953\"], [0.7777777777777778, \"#fb9f3a\"], [0.8888888888888888, \"#fdca26\"], [1.0, \"#f0f921\"]], \"type\": \"contour\"}], \"contourcarpet\": [{\"colorbar\": {\"outlinewidth\": 0, \"ticks\": \"\"}, \"type\": \"contourcarpet\"}], \"heatmap\": [{\"colorbar\": {\"outlinewidth\": 0, \"ticks\": \"\"}, \"colorscale\": [[0.0, \"#0d0887\"], [0.1111111111111111, \"#46039f\"], [0.2222222222222222, \"#7201a8\"], [0.3333333333333333, \"#9c179e\"], [0.4444444444444444, \"#bd3786\"], [0.5555555555555556, \"#d8576b\"], [0.6666666666666666, \"#ed7953\"], [0.7777777777777778, \"#fb9f3a\"], [0.8888888888888888, \"#fdca26\"], [1.0, \"#f0f921\"]], \"type\": \"heatmap\"}], \"heatmapgl\": [{\"colorbar\": {\"outlinewidth\": 0, \"ticks\": \"\"}, \"colorscale\": [[0.0, \"#0d0887\"], [0.1111111111111111, \"#46039f\"], [0.2222222222222222, \"#7201a8\"], [0.3333333333333333, \"#9c179e\"], [0.4444444444444444, \"#bd3786\"], [0.5555555555555556, \"#d8576b\"], [0.6666666666666666, \"#ed7953\"], [0.7777777777777778, \"#fb9f3a\"], [0.8888888888888888, \"#fdca26\"], [1.0, \"#f0f921\"]], \"type\": \"heatmapgl\"}], \"histogram\": [{\"marker\": {\"colorbar\": {\"outlinewidth\": 0, \"ticks\": \"\"}}, \"type\": \"histogram\"}], \"histogram2d\": [{\"colorbar\": {\"outlinewidth\": 0, \"ticks\": \"\"}, \"colorscale\": [[0.0, \"#0d0887\"], [0.1111111111111111, \"#46039f\"], [0.2222222222222222, \"#7201a8\"], [0.3333333333333333, \"#9c179e\"], [0.4444444444444444, \"#bd3786\"], [0.5555555555555556, \"#d8576b\"], [0.6666666666666666, \"#ed7953\"], [0.7777777777777778, \"#fb9f3a\"], [0.8888888888888888, \"#fdca26\"], [1.0, \"#f0f921\"]], \"type\": \"histogram2d\"}], \"histogram2dcontour\": [{\"colorbar\": {\"outlinewidth\": 0, \"ticks\": \"\"}, \"colorscale\": [[0.0, \"#0d0887\"], [0.1111111111111111, \"#46039f\"], [0.2222222222222222, \"#7201a8\"], [0.3333333333333333, \"#9c179e\"], [0.4444444444444444, \"#bd3786\"], [0.5555555555555556, \"#d8576b\"], [0.6666666666666666, \"#ed7953\"], [0.7777777777777778, \"#fb9f3a\"], [0.8888888888888888, \"#fdca26\"], [1.0, \"#f0f921\"]], \"type\": \"histogram2dcontour\"}], \"mesh3d\": [{\"colorbar\": {\"outlinewidth\": 0, \"ticks\": \"\"}, \"type\": \"mesh3d\"}], \"parcoords\": [{\"line\": {\"colorbar\": {\"outlinewidth\": 0, \"ticks\": \"\"}}, \"type\": \"parcoords\"}], \"pie\": [{\"automargin\": true, \"type\": \"pie\"}], \"scatter\": [{\"marker\": {\"colorbar\": {\"outlinewidth\": 0, \"ticks\": \"\"}}, \"type\": \"scatter\"}], \"scatter3d\": [{\"line\": {\"colorbar\": {\"outlinewidth\": 0, \"ticks\": \"\"}}, \"marker\": {\"colorbar\": {\"outlinewidth\": 0, \"ticks\": \"\"}}, \"type\": \"scatter3d\"}], \"scattercarpet\": [{\"marker\": {\"colorbar\": {\"outlinewidth\": 0, \"ticks\": \"\"}}, \"type\": \"scattercarpet\"}], \"scattergeo\": [{\"marker\": {\"colorbar\": {\"outlinewidth\": 0, \"ticks\": \"\"}}, \"type\": \"scattergeo\"}], \"scattergl\": [{\"marker\": {\"colorbar\": {\"outlinewidth\": 0, \"ticks\": \"\"}}, \"type\": \"scattergl\"}], \"scattermapbox\": [{\"marker\": {\"colorbar\": {\"outlinewidth\": 0, \"ticks\": \"\"}}, \"type\": \"scattermapbox\"}], \"scatterpolar\": [{\"marker\": {\"colorbar\": {\"outlinewidth\": 0, \"ticks\": \"\"}}, \"type\": \"scatterpolar\"}], \"scatterpolargl\": [{\"marker\": {\"colorbar\": {\"outlinewidth\": 0, \"ticks\": \"\"}}, \"type\": \"scatterpolargl\"}], \"scatterternary\": [{\"marker\": {\"colorbar\": {\"outlinewidth\": 0, \"ticks\": \"\"}}, \"type\": \"scatterternary\"}], \"surface\": [{\"colorbar\": {\"outlinewidth\": 0, \"ticks\": \"\"}, \"colorscale\": [[0.0, \"#0d0887\"], [0.1111111111111111, \"#46039f\"], [0.2222222222222222, \"#7201a8\"], [0.3333333333333333, \"#9c179e\"], [0.4444444444444444, \"#bd3786\"], [0.5555555555555556, \"#d8576b\"], [0.6666666666666666, \"#ed7953\"], [0.7777777777777778, \"#fb9f3a\"], [0.8888888888888888, \"#fdca26\"], [1.0, \"#f0f921\"]], \"type\": \"surface\"}], \"table\": [{\"cells\": {\"fill\": {\"color\": \"#EBF0F8\"}, \"line\": {\"color\": \"white\"}}, \"header\": {\"fill\": {\"color\": \"#C8D4E3\"}, \"line\": {\"color\": \"white\"}}, \"type\": \"table\"}]}, \"layout\": {\"annotationdefaults\": {\"arrowcolor\": \"#2a3f5f\", \"arrowhead\": 0, \"arrowwidth\": 1}, \"coloraxis\": {\"colorbar\": {\"outlinewidth\": 0, \"ticks\": \"\"}}, \"colorscale\": {\"diverging\": [[0, \"#8e0152\"], [0.1, \"#c51b7d\"], [0.2, \"#de77ae\"], [0.3, \"#f1b6da\"], [0.4, \"#fde0ef\"], [0.5, \"#f7f7f7\"], [0.6, \"#e6f5d0\"], [0.7, \"#b8e186\"], [0.8, \"#7fbc41\"], [0.9, \"#4d9221\"], [1, \"#276419\"]], \"sequential\": [[0.0, \"#0d0887\"], [0.1111111111111111, \"#46039f\"], [0.2222222222222222, \"#7201a8\"], [0.3333333333333333, \"#9c179e\"], [0.4444444444444444, \"#bd3786\"], [0.5555555555555556, \"#d8576b\"], [0.6666666666666666, \"#ed7953\"], [0.7777777777777778, \"#fb9f3a\"], [0.8888888888888888, \"#fdca26\"], [1.0, \"#f0f921\"]], \"sequentialminus\": [[0.0, \"#0d0887\"], [0.1111111111111111, \"#46039f\"], [0.2222222222222222, \"#7201a8\"], [0.3333333333333333, \"#9c179e\"], [0.4444444444444444, \"#bd3786\"], [0.5555555555555556, \"#d8576b\"], [0.6666666666666666, \"#ed7953\"], [0.7777777777777778, \"#fb9f3a\"], [0.8888888888888888, \"#fdca26\"], [1.0, \"#f0f921\"]]}, \"colorway\": [\"#636efa\", \"#EF553B\", \"#00cc96\", \"#ab63fa\", \"#FFA15A\", \"#19d3f3\", \"#FF6692\", \"#B6E880\", \"#FF97FF\", \"#FECB52\"], \"font\": {\"color\": \"#2a3f5f\"}, \"geo\": {\"bgcolor\": \"white\", \"lakecolor\": \"white\", \"landcolor\": \"#E5ECF6\", \"showlakes\": true, \"showland\": true, \"subunitcolor\": \"white\"}, \"hoverlabel\": {\"align\": \"left\"}, \"hovermode\": \"closest\", \"mapbox\": {\"style\": \"light\"}, \"paper_bgcolor\": \"white\", \"plot_bgcolor\": \"#E5ECF6\", \"polar\": {\"angularaxis\": {\"gridcolor\": \"white\", \"linecolor\": \"white\", \"ticks\": \"\"}, \"bgcolor\": \"#E5ECF6\", \"radialaxis\": {\"gridcolor\": \"white\", \"linecolor\": \"white\", \"ticks\": \"\"}}, \"scene\": {\"xaxis\": {\"backgroundcolor\": \"#E5ECF6\", \"gridcolor\": \"white\", \"gridwidth\": 2, \"linecolor\": \"white\", \"showbackground\": true, \"ticks\": \"\", \"zerolinecolor\": \"white\"}, \"yaxis\": {\"backgroundcolor\": \"#E5ECF6\", \"gridcolor\": \"white\", \"gridwidth\": 2, \"linecolor\": \"white\", \"showbackground\": true, \"ticks\": \"\", \"zerolinecolor\": \"white\"}, \"zaxis\": {\"backgroundcolor\": \"#E5ECF6\", \"gridcolor\": \"white\", \"gridwidth\": 2, \"linecolor\": \"white\", \"showbackground\": true, \"ticks\": \"\", \"zerolinecolor\": \"white\"}}, \"shapedefaults\": {\"line\": {\"color\": \"#2a3f5f\"}}, \"ternary\": {\"aaxis\": {\"gridcolor\": \"white\", \"linecolor\": \"white\", \"ticks\": \"\"}, \"baxis\": {\"gridcolor\": \"white\", \"linecolor\": \"white\", \"ticks\": \"\"}, \"bgcolor\": \"#E5ECF6\", \"caxis\": {\"gridcolor\": \"white\", \"linecolor\": \"white\", \"ticks\": \"\"}}, \"title\": {\"x\": 0.05}, \"xaxis\": {\"automargin\": true, \"gridcolor\": \"white\", \"linecolor\": \"white\", \"ticks\": \"\", \"title\": {\"standoff\": 15}, \"zerolinecolor\": \"white\", \"zerolinewidth\": 2}, \"yaxis\": {\"automargin\": true, \"gridcolor\": \"white\", \"linecolor\": \"white\", \"ticks\": \"\", \"title\": {\"standoff\": 15}, \"zerolinecolor\": \"white\", \"zerolinewidth\": 2}}}},\n",
       "                        {\"responsive\": true}\n",
       "                    ).then(function(){\n",
       "                            \n",
       "var gd = document.getElementById('a37bd0c0-c4d7-4608-a4e4-5df485c490c0');\n",
       "var x = new MutationObserver(function (mutations, observer) {{\n",
       "        var display = window.getComputedStyle(gd).display;\n",
       "        if (!display || display === 'none') {{\n",
       "            console.log([gd, 'removed!']);\n",
       "            Plotly.purge(gd);\n",
       "            observer.disconnect();\n",
       "        }}\n",
       "}});\n",
       "\n",
       "// Listen for the removal of the full notebook cells\n",
       "var notebookContainer = gd.closest('#notebook-container');\n",
       "if (notebookContainer) {{\n",
       "    x.observe(notebookContainer, {childList: true});\n",
       "}}\n",
       "\n",
       "// Listen for the clearing of the current output cell\n",
       "var outputEl = gd.closest('.output');\n",
       "if (outputEl) {{\n",
       "    x.observe(outputEl, {childList: true});\n",
       "}}\n",
       "\n",
       "                        })\n",
       "                };\n",
       "                });\n",
       "            </script>\n",
       "        </div>"
      ]
     },
     "metadata": {},
     "output_type": "display_data"
    }
   ],
   "source": [
    "fig = go.Figure(go.Indicator(\n",
    "    mode = \"gauge+number+delta\",\n",
    "    value = 0,\n",
    "    #df.loc[3,'Trans Fat'],\n",
    "    domain = {'x': [0, 1], 'y': [1, 0]},\n",
    "    title = {'text': \"Trans Fat g\", 'font': {'size': 24}},\n",
    "#     delta = {'reference': 0, 'decreasing': {'color': \"green\"}\n",
    "#             ,'reference': 20, 'increasing': {'color': \"red\"}},\n",
    "    gauge = {\n",
    "        'axis': {'range': [None, 25], 'tickwidth': 1},\n",
    "        'bar': {'color': \"black\"},\n",
    "        #'bgcolor': \"white\",\n",
    "        #'borderwidth': 1,\n",
    "        #'bordercolor': \"gray\",\n",
    "        'steps': [\n",
    "            {'range': [0, 3], 'color': 'green'},\n",
    "            {'range': [3, 20], 'color': 'orange'},\n",
    "            {'range': [20, 25], 'color': 'red'}],\n",
    "         'threshold': {\n",
    "             'line': {'color': \"white\", 'width': 10},\n",
    "             'thickness': 0.25,\n",
    "             'value': 25}}))\n",
    "\n",
    "#fig.update_layout(paper_bgcolor = \"lavender\", font = {'color': \"darkblue\", 'family': \"Arial\"})\n",
    "\n",
    "fig.show()"
   ]
  },
  {
   "cell_type": "code",
   "execution_count": null,
   "metadata": {},
   "outputs": [],
   "source": [
    "# import plotly.graph_objects as go\n",
    "\n",
    "labels = ['Cholesterol', 'sugar', 'Protein','Sodium']\n",
    "\n",
    "# pull is given as a fraction of the pie radius\n",
    "fig = go.Figure(data=[go.Pie(labels=labels,  pull=[0, 0, 0.2, 0])])\n",
    "fig.show()"
   ]
  },
  {
   "cell_type": "code",
   "execution_count": 70,
   "metadata": {},
   "outputs": [
    {
     "data": {
      "image/png": "[encoded data removed]",
      "text/plain": [
       "<Figure size 432x288 with 1 Axes>"
      ]
     },
     "metadata": {},
     "output_type": "display_data"
    }
   ],
   "source": [
    "group_names=['Cholesterol', 'sugar', 'Protein','Sodium']\n",
    "group_size=[9,9,9,9]\n",
    "subgroup_names=['1', '2', '3', '1', '2','3', '1', '2', '3', '1', '2','3']\n",
    "subgroup_size=[3,3,3,3,3,3,3,3,3,3,3,3]\n",
    " \n",
    "# Create colors\n",
    "a, b, c, d=[plt.cm.Blues, plt.cm.Oranges, plt.cm.Greens, plt.cm.Reds]\n",
    " \n",
    "# First Ring (outside)\n",
    "fig, ax = plt.subplots()\n",
    "ax.axis('equal')\n",
    "mypie, _ = ax.pie(group_size, radius=1.3, labels=group_names, colors=[a(0.5), b(0.5), c(0.5),d(0.5)] )\n",
    "plt.setp( mypie, width=0.6, edgecolor='white')\n",
    " \n",
    "# Second Ring (Inside)\n",
    "mypie2, _ = ax.pie(subgroup_size, radius=1.3-0.3, labels=subgroup_names, labeldistance=0.7, colors=[a(0.3), a(0.6), a(0.9), b(0.3), b(0.6), b(0.9), c(0.3), c(0.6), c(0.9), d(0.3),d(0.6),d(0.9)])\n",
    "plt.setp( mypie2, width=0.4, edgecolor='white')\n",
    "plt.margins(0,0)\n",
    "ax.legend( group_names,\n",
    "          title=\"Nutrition facts\",\n",
    "          loc=\"center left\",\n",
    "          bbox_to_anchor=(1,0, 0.7, 1))\n",
    "# show it\n",
    "plt.show()"
   ]
  },
  {
   "cell_type": "markdown",
   "metadata": {},
   "source": [
    "## Reference_codes"
   ]
  },
  {
   "cell_type": "markdown",
   "metadata": {},
   "source": [
    "### All_Labels:"
   ]
  },
  {
   "cell_type": "code",
   "execution_count": null,
   "metadata": {},
   "outputs": [],
   "source": []
  },
  {
   "cell_type": "code",
   "execution_count": null,
   "metadata": {},
   "outputs": [],
   "source": [
    "\n",
    "#sys.path.append('/usr/local/lib/python2.7/site-packages')\n",
    "\n",
    "\n",
    "def writeFile(directory, fileName, content):\n",
    "    outFile = open('outputs/' + directory + '/' + fileName + '.txt', 'w')\n",
    "    outFile.write(content)\n",
    "    outFile.close()\n",
    "\n",
    "# Setup regex for stripping file names\n",
    "p = re.compile('[0-9]+.jpg')\n",
    "    \n",
    "# Use images in the labels directory\n",
    "for file in glob.glob('../labels/*.jpg'):\n",
    "    fileName = p.findall(file)[0]\n",
    "    print (\"Proccessing \" + fileName)\n",
    "    outFileName = fileName[0:len(fileName)-4]\n",
    "    # Get default text recognition \n",
    "    output = pytesseract.image_to_string(Image.open(file))\n",
    "    #print(output)\n",
    "\n",
    "    # Write default text output to 'outputs/default' directory\n",
    "    writeFile('default', outFileName, output)\n",
    "\n",
    "    # Open image as black and white\n",
    "    bw = cv2.imread(file, 0)\n",
    "\n",
    "    # Apply adaptive thresholding to images\n",
    "    thresh = cv2.adaptiveThreshold(bw, 255, cv2.ADAPTIVE_THRESH_GAUSSIAN_C,\\\n",
    "            cv2.THRESH_BINARY, 11, 2)\n",
    "\n",
    "    # Get text recognition from thresholded images\n",
    "    output = pytesseract.image_to_string(Image.fromarray(bw))\n",
    "    writeFile('bw', outFileName, output)\n",
    "\n",
    "    break"
   ]
  },
  {
   "cell_type": "code",
   "execution_count": null,
   "metadata": {},
   "outputs": [],
   "source": [
    "def label_Recognizer(path):\n",
    "    import re\n",
    "#    import end_to_end\n",
    "    import os\n",
    "    from matplotlib import pyplot \n",
    "    files = []\n",
    "    # r=root, d=directories, f = files\n",
    "    for  r,d, f in os.walk(path):\n",
    "        for file in f:\n",
    "            files.append(os.path.join(file))\n",
    "    p = re.compile('[0-9]+.jpg')\n",
    "    all_result = []\n",
    "    for f in files:\n",
    "        print(f)\n",
    "     #   out_dict = end_to_end.end_to_end(f'{path}\\{f}')\n",
    "        #-----------------\n",
    "        for file in glob.glob('./img_result/*.jpg'):\n",
    "            fileName = p.findall(file)[0]\n",
    "            print (\"Proccessing \" + fileName)\n",
    "            outFileName = fileName[0:len(fileName)-4]\n",
    "            # Get default text recognition \n",
    "            output = pytesseract.image_to_string(Image.open(file))\n",
    "            print(\"/n\", output)\n",
    "            all_result.append(output)\n",
    "\n",
    "            # Write default text output to 'outputs/default' directory\n",
    "#             writeFile('default', outFileName, output)\n",
    "\n",
    "#             # Open image as black and white\n",
    "#             bw = cv2.imread(file, 0)\n",
    "\n",
    "#             # Apply adaptive thresholding to images\n",
    "#             thresh = cv2.adaptiveThreshold(bw, 255, cv2.ADAPTIVE_THRESH_GAUSSIAN_C,\\\n",
    "#                     cv2.THRESH_BINARY, 11, 2)\n",
    "\n",
    "#             # Get text recognition from thresholded images\n",
    "#             output = pytesseract.image_to_string(Image.fromarray(bw))\n",
    "                \n",
    "\n",
    "#         #-----------------\n",
    "# #         print('This is out_dict type', type(out_dict))\n",
    "# #         print(f.replace(r'.jpg',''))\n",
    "# #         out_dict['Image_id']=f.replace(r'.jpg','')\n",
    "#             all_result.append(output)\n",
    "            \n",
    "#         break\n",
    "\n",
    "    df = pd.DataFrame(all_result)\n",
    "    df = pd.DataFrame(columns=['Image_id','Nutrient', 'Amount', 'Unit', 'Serving Size','Serving Size Unit','Language'])\n",
    "    df_long = df.melt(id_vars=['Serving Size','Image_id'])\n",
    "    Units = {'Calories': 'Kcal',\n",
    "        'Energy': 'kJ',\n",
    "        'Total Fat': 'g',\n",
    "        'Saturated Fat': 'g',\n",
    "        'Trans Fat': 'g',\n",
    "        'Poly Fat': 'g',\n",
    "        'Mono Fat': 'g',\n",
    "        'Cholesterol': 'mg',\n",
    "        'Sodium': 'mg',\n",
    "        'Potassium': 'g',\n",
    "        'Total Carbohydrate': 'g',\n",
    "        'Dietary Fiber': 'g',\n",
    "        'Sugars': 'g',\n",
    "        'Protein': 'g'}\n",
    "    df_long['Serving Size Unit']= 'g'\n",
    "    df_long.columns = ['Serving Size','Image_id','Nutrient','Amount','Serving Size Unit']\n",
    "    df_long['Unit'] = [Units [x] for x in df_long['Nutrient']]\n",
    "    df_long['Language'] = 'English'\n",
    "    Final_Outcome = df_long[['Image_id','Nutrient', 'Amount', 'Unit', 'Serving Size','Serving Size Unit','Language']]\n",
    "    Final_Outcome.to_excel('DSI-V-Abdulrahman.xlsx', index=False)\n",
    "    return Final_Outcome"
   ]
  },
  {
   "cell_type": "code",
   "execution_count": null,
   "metadata": {},
   "outputs": [],
   "source": []
  },
  {
   "cell_type": "code",
   "execution_count": null,
   "metadata": {},
   "outputs": [],
   "source": []
  },
  {
   "cell_type": "code",
   "execution_count": null,
   "metadata": {},
   "outputs": [],
   "source": [
    "basename = os.path.basename(\"./img_result\")\n",
    "label_impath = impath.replace(basename, 'tmp_' + basename)\n",
    "# label_impath = impath.lower().replace('.jpg', 'label_tmp.jpg')\n",
    "cv2.imwrite(label_impath, label_im)\n",
    "\n",
    "start = timer()\n",
    "# Apply Tesseract to image\n",
    "output = apply_tesseract(label_impath, demo=demo)\n",
    "#        print (\"\\n\")\n",
    "output = pytesseract.image_to_string(label_impath,lang='eng')\n",
    "#     print(arabic)\n",
    "\n",
    "end = timer()\n",
    "print('OCR time: %2f' % (end-start))\n",
    "os.remove(label_impath)\n",
    "\n",
    "start = timer()\n",
    "ocr_label = post_process(output, demo=demo)\n",
    "print(ocr_label)\n",
    "\n",
    "end = timer()\n",
    "print('Post process time: %2f' % (end-start))\n",
    "\n",
    "if show:\n",
    "    draw_image(label_im, 'Transformed label: %s' % impath)\n",
    "\n",
    "return ocr_label"
   ]
  },
  {
   "cell_type": "markdown",
   "metadata": {},
   "source": [
    "### image view"
   ]
  },
  {
   "cell_type": "code",
   "execution_count": null,
   "metadata": {},
   "outputs": [],
   "source": [
    "io.imshow('./test_result.png')"
   ]
  },
  {
   "cell_type": "markdown",
   "metadata": {},
   "source": [
    "### Text with Tesseract - codes:"
   ]
  },
  {
   "cell_type": "code",
   "execution_count": null,
   "metadata": {},
   "outputs": [],
   "source": [
    "\n",
    "import pytesseract\n",
    "from PIL import Image, ImageEnhance, ImageFilter\n",
    "\n",
    "im = Image.open(\"test_result.png\") # the second one \n",
    "im = im.filter(ImageFilter.MedianFilter())\n",
    "enhancer = ImageEnhance.Contrast(im)\n",
    "im = enhancer.enhance(22)\n",
    "im = im.convert('1')\n",
    "im.save('test2.jpg')\n",
    "\n",
    "text = pytesseract.image_to_string(Image.open('test2.jpg'))\n",
    "print(text)"
   ]
  },
  {
   "cell_type": "markdown",
   "metadata": {},
   "source": [
    "#### Method 2"
   ]
  },
  {
   "cell_type": "code",
   "execution_count": null,
   "metadata": {},
   "outputs": [],
   "source": [
    "# A seconde way to extract text - OCR \n",
    "import os\n",
    "import tempfile\n",
    "import subprocess\n",
    "\n",
    "def ocr(path):\n",
    "    temp = tempfile.NamedTemporaryFile(delete=False)\n",
    "\n",
    "    process = subprocess.Popen(['tesseract', path, temp.name], stdout=subprocess.PIPE, stderr=subprocess.STDOUT)\n",
    "    process.communicate()\n",
    "\n",
    "    with open(temp.name + '.txt', 'r') as handle:\n",
    "        contents = handle.read()\n",
    "\n",
    "    os.remove(temp.name + '.txt')\n",
    "    os.remove(temp.name)\n",
    "\n",
    "    return contents\n",
    "\n",
    "str = ocr('test_result.png')\n",
    "print(str)"
   ]
  },
  {
   "cell_type": "code",
   "execution_count": null,
   "metadata": {},
   "outputs": [],
   "source": [
    "img = cv2.imread('img/product_5.jpg',0)"
   ]
  },
  {
   "cell_type": "code",
   "execution_count": null,
   "metadata": {},
   "outputs": [],
   "source": [
    "idx = 0\n",
    "boxes = []\n",
    "for c in contours:\n",
    "    # Returns the location and width,height for every contour\n",
    "    x, y, w, h = cv2.boundingRect(c)\n",
    "    if (w > 80 and h > 20) and w > 3*h:\n",
    "        idx += 1\n",
    "        boxes.append(img[y:y+h, x:x+w])\n",
    "# If the box height is greater then 20, widht is >80, then only save it as a box in \"cropped/\" folder.\n",
    "    if (w > 80 and h > 20) and w > 3*h:\n",
    "        idx += 1\n",
    "        boxes.append(img[y:y+h, x:x+w])\n",
    "        idx = 0\n",
    "boxes = []\n",
    "for c in contours:\n",
    "    # Returns the location and width,height for every contour\n",
    "    x, y, w, h = cv2.boundingRect(c)\n",
    "    if (w > 80 and h > 20) and w > 3*h:\n",
    "        idx += 1\n",
    "        boxes.append(img[y:y+h, x:x+w])\n",
    "# If the box height is greater then 20, widht is >80, then only save it as a box in \"cropped/\" folder.\n",
    "    if (w > 80 and h > 20) and w > 3*h:\n",
    "        idx += 1\n",
    "        boxes.append(img[y:y+h, x:x+w])"
   ]
  },
  {
   "cell_type": "code",
   "execution_count": null,
   "metadata": {},
   "outputs": [],
   "source": [
    "boxes"
   ]
  },
  {
   "cell_type": "code",
   "execution_count": null,
   "metadata": {},
   "outputs": [],
   "source": []
  }
 ],
 "metadata": {
  "kernelspec": {
   "display_name": "Python 3",
   "language": "python",
   "name": "python3"
  },
  "language_info": {
   "codemirror_mode": {
    "name": "ipython",
    "version": 3
   },
   "file_extension": ".py",
   "mimetype": "text/x-python",
   "name": "python",
   "nbconvert_exporter": "python",
   "pygments_lexer": "ipython3",
   "version": "3.7.3"
  },
  "toc": {
   "base_numbering": 1,
   "nav_menu": {},
   "number_sections": true,
   "sideBar": true,
   "skip_h1_title": false,
   "title_cell": "Table of Contents",
   "title_sidebar": "Contents",
   "toc_cell": false,
   "toc_position": {},
   "toc_section_display": true,
   "toc_window_display": false
  }
 },
 "nbformat": 4,
 "nbformat_minor": 2
}
