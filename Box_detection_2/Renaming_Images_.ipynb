{
 "cells": [
  {
   "cell_type": "markdown",
   "metadata": {},
   "source": [
    "## Changing Images filename:"
   ]
  },
  {
   "cell_type": "code",
   "execution_count": 16,
   "metadata": {},
   "outputs": [],
   "source": [
    "import os \n",
    "  "
   ]
  },
  {
   "cell_type": "code",
   "execution_count": 17,
   "metadata": {},
   "outputs": [
    {
     "data": {
      "text/plain": [
       "'Product_img_30.jpg'"
      ]
     },
     "execution_count": 17,
     "metadata": {},
     "output_type": "execute_result"
    }
   ],
   "source": [
    "list = os.listdir(\"img/\") #Where Src is the source to be listed out.\n",
    "list[3]"
   ]
  },
  {
   "cell_type": "code",
   "execution_count": 18,
   "metadata": {},
   "outputs": [],
   "source": [
    "# Pythono3 code to rename multiple  \n",
    "# files in a directory or folder \n",
    "  \n",
    "# importing os module \n",
    "\n",
    "# Function to rename multiple files \n",
    "def main(): \n",
    "    i = 1\n",
    "      \n",
    "    for filename in os.listdir(\"img/\"): \n",
    "        dst =\"product_\" + str(i) + \".jpg\"\n",
    "        src =\"img/\"+ filename \n",
    "        dst =\"img/\"+ dst \n",
    "          \n",
    "        # rename() function will \n",
    "        # rename all the files \n",
    "        os.rename(src, dst) \n",
    "        i += 1\n",
    "  \n",
    "# Driver Code \n",
    "if __name__ == '__main__': \n",
    "      \n",
    "    # Calling main() function \n",
    "    main()"
   ]
  },
  {
   "cell_type": "code",
   "execution_count": 19,
   "metadata": {},
   "outputs": [
    {
     "data": {
      "text/plain": [
       "['product_1.jpg',\n",
       " 'product_10.jpg',\n",
       " 'product_100.jpg',\n",
       " 'product_101.jpg',\n",
       " 'product_102.jpg',\n",
       " 'product_103.jpg',\n",
       " 'product_104.jpg',\n",
       " 'product_105.jpg',\n",
       " 'product_106.jpg',\n",
       " 'product_107.jpg',\n",
       " 'product_108.jpg',\n",
       " 'product_11.jpg',\n",
       " 'product_12.jpg',\n",
       " 'product_13.jpg',\n",
       " 'product_14.jpg',\n",
       " 'product_15.jpg',\n",
       " 'product_16.jpg',\n",
       " 'product_17.jpg',\n",
       " 'product_18.jpg',\n",
       " 'product_19.jpg',\n",
       " 'product_2.jpg',\n",
       " 'product_20.jpg',\n",
       " 'product_21.jpg',\n",
       " 'product_22.jpg',\n",
       " 'product_23.jpg',\n",
       " 'product_24.jpg',\n",
       " 'product_25.jpg',\n",
       " 'product_26.jpg',\n",
       " 'product_27.jpg',\n",
       " 'product_28.jpg',\n",
       " 'product_29.jpg',\n",
       " 'product_3.jpg',\n",
       " 'product_30.jpg',\n",
       " 'product_31.jpg',\n",
       " 'product_32.jpg',\n",
       " 'product_33.jpg',\n",
       " 'product_34.jpg',\n",
       " 'product_35.jpg',\n",
       " 'product_36.jpg',\n",
       " 'product_37.jpg',\n",
       " 'product_38.jpg',\n",
       " 'product_39.jpg',\n",
       " 'product_4.jpg',\n",
       " 'product_40.jpg',\n",
       " 'product_41.jpg',\n",
       " 'product_42.jpg',\n",
       " 'product_43.jpg',\n",
       " 'product_44.jpg',\n",
       " 'product_45.jpg',\n",
       " 'product_46.jpg',\n",
       " 'product_47.jpg',\n",
       " 'product_48.jpg',\n",
       " 'product_49.jpg',\n",
       " 'product_5.jpg',\n",
       " 'product_50.jpg',\n",
       " 'product_51.jpg',\n",
       " 'product_52.jpg',\n",
       " 'product_53.jpg',\n",
       " 'product_54.jpg',\n",
       " 'product_55.jpg',\n",
       " 'product_56.jpg',\n",
       " 'product_57.jpg',\n",
       " 'product_58.jpg',\n",
       " 'product_59.jpg',\n",
       " 'product_6.jpg',\n",
       " 'product_60.jpg',\n",
       " 'product_61.jpg',\n",
       " 'product_62.jpg',\n",
       " 'product_63.jpg',\n",
       " 'product_64.jpg',\n",
       " 'product_65.jpg',\n",
       " 'product_66.jpg',\n",
       " 'product_67.jpg',\n",
       " 'product_68.jpg',\n",
       " 'product_69.jpg',\n",
       " 'product_7.jpg',\n",
       " 'product_70.jpg',\n",
       " 'product_71.jpg',\n",
       " 'product_72.jpg',\n",
       " 'product_73.jpg',\n",
       " 'product_74.jpg',\n",
       " 'product_75.jpg',\n",
       " 'product_76.jpg',\n",
       " 'product_77.jpg',\n",
       " 'product_78.jpg',\n",
       " 'product_79.jpg',\n",
       " 'product_8.jpg',\n",
       " 'product_80.jpg',\n",
       " 'product_81.jpg',\n",
       " 'product_82.jpg',\n",
       " 'product_83.jpg',\n",
       " 'product_84.jpg',\n",
       " 'product_85.jpg',\n",
       " 'product_86.jpg',\n",
       " 'product_87.jpg',\n",
       " 'product_88.jpg',\n",
       " 'product_89.jpg',\n",
       " 'product_9.jpg',\n",
       " 'product_90.jpg',\n",
       " 'product_91.jpg',\n",
       " 'product_92.jpg',\n",
       " 'product_93.jpg',\n",
       " 'product_94.jpg',\n",
       " 'product_95.jpg',\n",
       " 'product_96.jpg',\n",
       " 'product_97.jpg',\n",
       " 'product_98.jpg',\n",
       " 'product_99.jpg']"
      ]
     },
     "execution_count": 19,
     "metadata": {},
     "output_type": "execute_result"
    }
   ],
   "source": [
    "list = os.listdir(\"img/\") #Where Src is the source to be listed out.\n",
    "list.sort()\n",
    "list"
   ]
  },
  {
   "cell_type": "code",
   "execution_count": null,
   "metadata": {},
   "outputs": [],
   "source": []
  }
 ],
 "metadata": {
  "kernelspec": {
   "display_name": "Python 3",
   "language": "python",
   "name": "python3"
  },
  "language_info": {
   "codemirror_mode": {
    "name": "ipython",
    "version": 3
   },
   "file_extension": ".py",
   "mimetype": "text/x-python",
   "name": "python",
   "nbconvert_exporter": "python",
   "pygments_lexer": "ipython3",
   "version": "3.7.3"
  },
  "toc": {
   "base_numbering": 1,
   "nav_menu": {},
   "number_sections": true,
   "sideBar": true,
   "skip_h1_title": false,
   "title_cell": "Table of Contents",
   "title_sidebar": "Contents",
   "toc_cell": false,
   "toc_position": {},
   "toc_section_display": true,
   "toc_window_display": false
  }
 },
 "nbformat": 4,
 "nbformat_minor": 2
}
