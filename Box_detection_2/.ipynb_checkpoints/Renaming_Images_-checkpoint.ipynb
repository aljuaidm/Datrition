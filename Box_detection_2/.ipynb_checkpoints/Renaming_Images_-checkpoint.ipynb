{
 "cells": [
  {
   "cell_type": "markdown",
   "metadata": {},
   "source": [
    "## Changing Images filename:"
   ]
  },
  {
   "cell_type": "code",
   "execution_count": 1,
   "metadata": {},
   "outputs": [],
   "source": [
    "import os \n",
    "  "
   ]
  },
  {
   "cell_type": "code",
   "execution_count": 4,
   "metadata": {},
   "outputs": [
    {
     "data": {
      "text/plain": [
       "'796658_خلطة الكبة النية بطاقة منتج.jpg'"
      ]
     },
     "execution_count": 4,
     "metadata": {},
     "output_type": "execute_result"
    }
   ],
   "source": [
    "list = os.listdir(\"img/\") #Where Src is the source to be listed out.\n",
    "list[3]"
   ]
  },
  {
   "cell_type": "code",
   "execution_count": 14,
   "metadata": {},
   "outputs": [],
   "source": [
    "# Pythono3 code to rename multiple  \n",
    "# files in a directory or folder \n",
    "  \n",
    "# importing os module \n",
    "\n",
    "# Function to rename multiple files \n",
    "def main(): \n",
    "    i = 1\n",
    "      \n",
    "    for filename in os.listdir(\"img/\"): \n",
    "        dst =\"Product_img_\" + str(i) + \".jpg\"\n",
    "        src =\"img/\"+ filename \n",
    "        dst =\"img/\"+ dst \n",
    "          \n",
    "        # rename() function will \n",
    "        # rename all the files \n",
    "        os.rename(src, dst) \n",
    "        i += 1\n",
    "  \n",
    "# Driver Code \n",
    "if __name__ == '__main__': \n",
    "      \n",
    "    # Calling main() function \n",
    "    main()"
   ]
  },
  {
   "cell_type": "code",
   "execution_count": 15,
   "metadata": {},
   "outputs": [
    {
     "data": {
      "text/plain": [
       "['Product_img_1.jpg',\n",
       " 'Product_img_10.jpg',\n",
       " 'Product_img_100.jpg',\n",
       " 'Product_img_101.jpg',\n",
       " 'Product_img_102.jpg',\n",
       " 'Product_img_103.jpg',\n",
       " 'Product_img_104.jpg',\n",
       " 'Product_img_105.jpg',\n",
       " 'Product_img_106.jpg',\n",
       " 'Product_img_107.jpg',\n",
       " 'Product_img_108.jpg',\n",
       " 'Product_img_11.jpg',\n",
       " 'Product_img_12.jpg',\n",
       " 'Product_img_13.jpg',\n",
       " 'Product_img_14.jpg',\n",
       " 'Product_img_15.jpg',\n",
       " 'Product_img_16.jpg',\n",
       " 'Product_img_17.jpg',\n",
       " 'Product_img_18.jpg',\n",
       " 'Product_img_19.jpg',\n",
       " 'Product_img_2.jpg',\n",
       " 'Product_img_20.jpg',\n",
       " 'Product_img_21.jpg',\n",
       " 'Product_img_22.jpg',\n",
       " 'Product_img_23.jpg',\n",
       " 'Product_img_24.jpg',\n",
       " 'Product_img_25.jpg',\n",
       " 'Product_img_26.jpg',\n",
       " 'Product_img_27.jpg',\n",
       " 'Product_img_28.jpg',\n",
       " 'Product_img_29.jpg',\n",
       " 'Product_img_3.jpg',\n",
       " 'Product_img_30.jpg',\n",
       " 'Product_img_31.jpg',\n",
       " 'Product_img_32.jpg',\n",
       " 'Product_img_33.jpg',\n",
       " 'Product_img_34.jpg',\n",
       " 'Product_img_35.jpg',\n",
       " 'Product_img_36.jpg',\n",
       " 'Product_img_37.jpg',\n",
       " 'Product_img_38.jpg',\n",
       " 'Product_img_39.jpg',\n",
       " 'Product_img_4.jpg',\n",
       " 'Product_img_40.jpg',\n",
       " 'Product_img_41.jpg',\n",
       " 'Product_img_42.jpg',\n",
       " 'Product_img_43.jpg',\n",
       " 'Product_img_44.jpg',\n",
       " 'Product_img_45.jpg',\n",
       " 'Product_img_46.jpg',\n",
       " 'Product_img_47.jpg',\n",
       " 'Product_img_48.jpg',\n",
       " 'Product_img_49.jpg',\n",
       " 'Product_img_5.jpg',\n",
       " 'Product_img_50.jpg',\n",
       " 'Product_img_51.jpg',\n",
       " 'Product_img_52.jpg',\n",
       " 'Product_img_53.jpg',\n",
       " 'Product_img_54.jpg',\n",
       " 'Product_img_55.jpg',\n",
       " 'Product_img_56.jpg',\n",
       " 'Product_img_57.jpg',\n",
       " 'Product_img_58.jpg',\n",
       " 'Product_img_59.jpg',\n",
       " 'Product_img_6.jpg',\n",
       " 'Product_img_60.jpg',\n",
       " 'Product_img_61.jpg',\n",
       " 'Product_img_62.jpg',\n",
       " 'Product_img_63.jpg',\n",
       " 'Product_img_64.jpg',\n",
       " 'Product_img_65.jpg',\n",
       " 'Product_img_66.jpg',\n",
       " 'Product_img_67.jpg',\n",
       " 'Product_img_68.jpg',\n",
       " 'Product_img_69.jpg',\n",
       " 'Product_img_7.jpg',\n",
       " 'Product_img_70.jpg',\n",
       " 'Product_img_71.jpg',\n",
       " 'Product_img_72.jpg',\n",
       " 'Product_img_73.jpg',\n",
       " 'Product_img_74.jpg',\n",
       " 'Product_img_75.jpg',\n",
       " 'Product_img_76.jpg',\n",
       " 'Product_img_77.jpg',\n",
       " 'Product_img_78.jpg',\n",
       " 'Product_img_79.jpg',\n",
       " 'Product_img_8.jpg',\n",
       " 'Product_img_80.jpg',\n",
       " 'Product_img_81.jpg',\n",
       " 'Product_img_82.jpg',\n",
       " 'Product_img_83.jpg',\n",
       " 'Product_img_84.jpg',\n",
       " 'Product_img_85.jpg',\n",
       " 'Product_img_86.jpg',\n",
       " 'Product_img_87.jpg',\n",
       " 'Product_img_88.jpg',\n",
       " 'Product_img_89.jpg',\n",
       " 'Product_img_9.jpg',\n",
       " 'Product_img_90.jpg',\n",
       " 'Product_img_91.jpg',\n",
       " 'Product_img_92.jpg',\n",
       " 'Product_img_93.jpg',\n",
       " 'Product_img_94.jpg',\n",
       " 'Product_img_95.jpg',\n",
       " 'Product_img_96.jpg',\n",
       " 'Product_img_97.jpg',\n",
       " 'Product_img_98.jpg',\n",
       " 'Product_img_99.jpg']"
      ]
     },
     "execution_count": 15,
     "metadata": {},
     "output_type": "execute_result"
    }
   ],
   "source": [
    "list = os.listdir(\"img/\") #Where Src is the source to be listed out.\n",
    "list.sort()\n",
    "list"
   ]
  },
  {
   "cell_type": "code",
   "execution_count": null,
   "metadata": {},
   "outputs": [],
   "source": []
  }
 ],
 "metadata": {
  "kernelspec": {
   "display_name": "Python 3",
   "language": "python",
   "name": "python3"
  },
  "language_info": {
   "codemirror_mode": {
    "name": "ipython",
    "version": 3
   },
   "file_extension": ".py",
   "mimetype": "text/x-python",
   "name": "python",
   "nbconvert_exporter": "python",
   "pygments_lexer": "ipython3",
   "version": "3.7.3"
  },
  "toc": {
   "base_numbering": 1,
   "nav_menu": {},
   "number_sections": true,
   "sideBar": true,
   "skip_h1_title": false,
   "title_cell": "Table of Contents",
   "title_sidebar": "Contents",
   "toc_cell": false,
   "toc_position": {},
   "toc_section_display": true,
   "toc_window_display": false
  }
 },
 "nbformat": 4,
 "nbformat_minor": 2
}
