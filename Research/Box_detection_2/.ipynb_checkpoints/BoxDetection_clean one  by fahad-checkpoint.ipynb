{
 "cells": [
  {
   "cell_type": "markdown",
   "metadata": {},
   "source": [
    "## Importing Libraries¶"
   ]
  },
  {
   "cell_type": "code",
   "execution_count": 1,
   "metadata": {},
   "outputs": [],
   "source": [
    "import cv2\n",
    "import os\n",
    "from skimage import color, data, io, measure\n",
    "from skimage.filters import threshold_otsu\n",
    "import numpy as np\n",
    "import pandas as pd\n",
    "import matplotlib.pyplot as plt\n",
    "import matplotlib as mpl\n",
    "from ipywidgets import interact, interactive, fixed, interact_manual\n",
    "import ipywidgets as widgets\n",
    "mpl.rcParams['image.cmap'] = 'gray'\n",
    "plt.rcParams['figure.dpi']= 300\n",
    "plt.rc(\"savefig\", dpi=300)\n",
    "from tqdm import tqdm"
   ]
  },
  {
   "cell_type": "code",
   "execution_count": 2,
   "metadata": {},
   "outputs": [],
   "source": [
    "def sort_contours(cnts, method=\"left-to-right\"):\n",
    "    # initialize the reverse flag and sort index\n",
    "    reverse = False\n",
    "    i = 0\n",
    "\n",
    "    # handle if we need to sort in reverse\n",
    "    if method == \"right-to-left\" or method == \"bottom-to-top\":\n",
    "        reverse = False\n",
    "\n",
    "    # handle if we are sorting against the y-coordinate rather than\n",
    "    # the x-coordinate of the bounding box\n",
    "    if method == \"top-to-bottom\" or method == \"right-to-left\":\n",
    "        i = 1\n",
    "\n",
    "    # construct the list of bounding boxes and sort them from top to\n",
    "    # bottom\n",
    "    boundingBoxes = [cv2.boundingRect(c) for c in cnts]\n",
    "    (cnts, boundingBoxes) = zip(*sorted(zip(cnts, boundingBoxes),\n",
    "        key=lambda b:b[1][i], reverse=reverse))\n",
    "\n",
    "    # return the list of sorted contours and bounding boxes\n",
    "    return (cnts, boundingBoxes)\n",
    "\n",
    "# Find contours for image, which will detect all the boxes\n",
    "# contours, hierarchy = cv2.findContours(img_final_bin, cv2.RETR_TREE, cv2.CHAIN_APPROX_SIMPLE)\n",
    "\n",
    "# # Sort all the contours by top to bottom.\n",
    "# (contours, boundingBoxes) = sort_contours(contours, method=\"top-to-bottom\")"
   ]
  },
  {
   "cell_type": "code",
   "execution_count": 3,
   "metadata": {},
   "outputs": [],
   "source": [
    "def f(y):\n",
    "    # Defining a kernel length\n",
    "    global horizontal_lines_img, verticle_lines_img, kernel\n",
    "    kernel_length = np.array(img).shape[1]//y\n",
    "\n",
    "    # A verticle kernel of (1 X kernel_length), which will detect all the verticle lines from the image.\n",
    "    verticle_kernel = cv2.getStructuringElement(cv2.MORPH_RECT, (1, kernel_length))\n",
    "    # A horizontal kernel of (kernel_length X 1), which will help to detect all the horizontal line from the image.\n",
    "    hori_kernel = cv2.getStructuringElement(cv2.MORPH_RECT, (kernel_length, 1))\n",
    "    # A kernel of (3 X 3) ones.\n",
    "    ###kernel = cv2.getStructuringElement(cv2.MORPH_RECT, (3, 3))\n",
    "    # Morphological operation to detect vertical lines from an image\n",
    "    img_temp1 = cv2.erode(img_bin, verticle_kernel, iterations=1)\n",
    "    verticle_lines_img = cv2.dilate(img_temp1, verticle_kernel, iterations=1)\n",
    "    cv2.imwrite(\"verticle_lines.jpg\",verticle_lines_img)\n",
    "    # Morphological operation to detect horizontal lines from an image\n",
    "    img_temp2 = cv2.erode(img_bin, hori_kernel, iterations=1)\n",
    "    horizontal_lines_img = cv2.dilate(img_temp2, hori_kernel, iterations=1)\n",
    "    ###plt.subplot(1, 2, 1)  # 2 rows, 2 columns, 1st subplot = top left\n",
    "    ###plt.imshow(verticle_lines_img);\n",
    "    ###plt.axis('off')\n",
    "\n",
    "    ###plt.subplot(1, 2, 2)  # 2 rows, 2 columns, 2nd subplot = top right\n",
    "    plt.imshow(horizontal_lines_img);\n",
    "    plt.axis('off')"
   ]
  },
  {
   "cell_type": "markdown",
   "metadata": {},
   "source": [
    "# Numbers of Images\n"
   ]
  },
  {
   "cell_type": "code",
   "execution_count": 4,
   "metadata": {},
   "outputs": [],
   "source": [
    "import glob\n",
    "import matplotlib.image as mpimg\n",
    "%matplotlib inline\n",
    "images = []\n",
    "for img_path in glob.glob('img_2/*.jpg'):\n",
    "    images.append(mpimg.imread(img_path))"
   ]
  },
  {
   "cell_type": "code",
   "execution_count": 5,
   "metadata": {},
   "outputs": [
    {
     "data": {
      "text/plain": [
       "108"
      ]
     },
     "execution_count": 5,
     "metadata": {},
     "output_type": "execute_result"
    }
   ],
   "source": [
    "len(images)"
   ]
  },
  {
   "cell_type": "markdown",
   "metadata": {},
   "source": [
    "## The images are saved in the folder named as 'img_result'."
   ]
  },
  {
   "cell_type": "code",
   "execution_count": 6,
   "metadata": {},
   "outputs": [
    {
     "name": "stderr",
     "output_type": "stream",
     "text": [
      " 10%|█         | 11/108 [01:46<20:20, 12.58s/it]"
     ]
    },
    {
     "ename": "KeyboardInterrupt",
     "evalue": "",
     "output_type": "error",
     "traceback": [
      "\u001b[0;31m---------------------------------------------------------------------------\u001b[0m",
      "\u001b[0;31mKeyboardInterrupt\u001b[0m                         Traceback (most recent call last)",
      "\u001b[0;32m<ipython-input-6-84ead0bd39aa>\u001b[0m in \u001b[0;36m<module>\u001b[0;34m\u001b[0m\n\u001b[1;32m     41\u001b[0m             \u001b[0;31m#cv2.imwrite('./th/')\u001b[0m\u001b[0;34m\u001b[0m\u001b[0;34m\u001b[0m\u001b[0;34m\u001b[0m\u001b[0m\n\u001b[1;32m     42\u001b[0m             \u001b[0;31m#path = './th/'\u001b[0m\u001b[0;34m\u001b[0m\u001b[0;34m\u001b[0m\u001b[0;34m\u001b[0m\u001b[0m\n\u001b[0;32m---> 43\u001b[0;31m             \u001b[0mplt\u001b[0m\u001b[0;34m.\u001b[0m\u001b[0msavefig\u001b[0m\u001b[0;34m(\u001b[0m\u001b[0;34mf'./img_result/label{counter}.jpg'\u001b[0m\u001b[0;34m,\u001b[0m\u001b[0mdpi\u001b[0m\u001b[0;34m=\u001b[0m\u001b[0;36m300\u001b[0m\u001b[0;34m)\u001b[0m\u001b[0;34m\u001b[0m\u001b[0;34m\u001b[0m\u001b[0m\n\u001b[0m\u001b[1;32m     44\u001b[0m             \u001b[0;31m#cv2.imwrite(os.path.join(path , 'label'+str(num)+'.jpg'), new_img)\u001b[0m\u001b[0;34m\u001b[0m\u001b[0;34m\u001b[0m\u001b[0;34m\u001b[0m\u001b[0m\n\u001b[1;32m     45\u001b[0m             \u001b[0;31m#cv2.imwrite(os.path.join(path , 'f', new_img))\u001b[0m\u001b[0;34m\u001b[0m\u001b[0;34m\u001b[0m\u001b[0;34m\u001b[0m\u001b[0m\n",
      "\u001b[0;32m//anaconda3/envs/Datrition/lib/python3.7/site-packages/matplotlib/pyplot.py\u001b[0m in \u001b[0;36msavefig\u001b[0;34m(*args, **kwargs)\u001b[0m\n\u001b[1;32m    714\u001b[0m \u001b[0;32mdef\u001b[0m \u001b[0msavefig\u001b[0m\u001b[0;34m(\u001b[0m\u001b[0;34m*\u001b[0m\u001b[0margs\u001b[0m\u001b[0;34m,\u001b[0m \u001b[0;34m**\u001b[0m\u001b[0mkwargs\u001b[0m\u001b[0;34m)\u001b[0m\u001b[0;34m:\u001b[0m\u001b[0;34m\u001b[0m\u001b[0;34m\u001b[0m\u001b[0m\n\u001b[1;32m    715\u001b[0m     \u001b[0mfig\u001b[0m \u001b[0;34m=\u001b[0m \u001b[0mgcf\u001b[0m\u001b[0;34m(\u001b[0m\u001b[0;34m)\u001b[0m\u001b[0;34m\u001b[0m\u001b[0;34m\u001b[0m\u001b[0m\n\u001b[0;32m--> 716\u001b[0;31m     \u001b[0mres\u001b[0m \u001b[0;34m=\u001b[0m \u001b[0mfig\u001b[0m\u001b[0;34m.\u001b[0m\u001b[0msavefig\u001b[0m\u001b[0;34m(\u001b[0m\u001b[0;34m*\u001b[0m\u001b[0margs\u001b[0m\u001b[0;34m,\u001b[0m \u001b[0;34m**\u001b[0m\u001b[0mkwargs\u001b[0m\u001b[0;34m)\u001b[0m\u001b[0;34m\u001b[0m\u001b[0;34m\u001b[0m\u001b[0m\n\u001b[0m\u001b[1;32m    717\u001b[0m     \u001b[0mfig\u001b[0m\u001b[0;34m.\u001b[0m\u001b[0mcanvas\u001b[0m\u001b[0;34m.\u001b[0m\u001b[0mdraw_idle\u001b[0m\u001b[0;34m(\u001b[0m\u001b[0;34m)\u001b[0m   \u001b[0;31m# need this if 'transparent=True' to reset colors\u001b[0m\u001b[0;34m\u001b[0m\u001b[0;34m\u001b[0m\u001b[0m\n\u001b[1;32m    718\u001b[0m     \u001b[0;32mreturn\u001b[0m \u001b[0mres\u001b[0m\u001b[0;34m\u001b[0m\u001b[0;34m\u001b[0m\u001b[0m\n",
      "\u001b[0;32m//anaconda3/envs/Datrition/lib/python3.7/site-packages/matplotlib/figure.py\u001b[0m in \u001b[0;36msavefig\u001b[0;34m(self, fname, transparent, **kwargs)\u001b[0m\n\u001b[1;32m   2178\u001b[0m             \u001b[0mself\u001b[0m\u001b[0;34m.\u001b[0m\u001b[0mpatch\u001b[0m\u001b[0;34m.\u001b[0m\u001b[0mset_visible\u001b[0m\u001b[0;34m(\u001b[0m\u001b[0mframeon\u001b[0m\u001b[0;34m)\u001b[0m\u001b[0;34m\u001b[0m\u001b[0;34m\u001b[0m\u001b[0m\n\u001b[1;32m   2179\u001b[0m \u001b[0;34m\u001b[0m\u001b[0m\n\u001b[0;32m-> 2180\u001b[0;31m         \u001b[0mself\u001b[0m\u001b[0;34m.\u001b[0m\u001b[0mcanvas\u001b[0m\u001b[0;34m.\u001b[0m\u001b[0mprint_figure\u001b[0m\u001b[0;34m(\u001b[0m\u001b[0mfname\u001b[0m\u001b[0;34m,\u001b[0m \u001b[0;34m**\u001b[0m\u001b[0mkwargs\u001b[0m\u001b[0;34m)\u001b[0m\u001b[0;34m\u001b[0m\u001b[0;34m\u001b[0m\u001b[0m\n\u001b[0m\u001b[1;32m   2181\u001b[0m \u001b[0;34m\u001b[0m\u001b[0m\n\u001b[1;32m   2182\u001b[0m         \u001b[0;32mif\u001b[0m \u001b[0mframeon\u001b[0m\u001b[0;34m:\u001b[0m\u001b[0;34m\u001b[0m\u001b[0;34m\u001b[0m\u001b[0m\n",
      "\u001b[0;32m//anaconda3/envs/Datrition/lib/python3.7/site-packages/matplotlib/backend_bases.py\u001b[0m in \u001b[0;36mprint_figure\u001b[0;34m(self, filename, dpi, facecolor, edgecolor, orientation, format, bbox_inches, **kwargs)\u001b[0m\n\u001b[1;32m   2080\u001b[0m                     \u001b[0morientation\u001b[0m\u001b[0;34m=\u001b[0m\u001b[0morientation\u001b[0m\u001b[0;34m,\u001b[0m\u001b[0;34m\u001b[0m\u001b[0;34m\u001b[0m\u001b[0m\n\u001b[1;32m   2081\u001b[0m                     \u001b[0mbbox_inches_restore\u001b[0m\u001b[0;34m=\u001b[0m\u001b[0m_bbox_inches_restore\u001b[0m\u001b[0;34m,\u001b[0m\u001b[0;34m\u001b[0m\u001b[0;34m\u001b[0m\u001b[0m\n\u001b[0;32m-> 2082\u001b[0;31m                     **kwargs)\n\u001b[0m\u001b[1;32m   2083\u001b[0m             \u001b[0;32mfinally\u001b[0m\u001b[0;34m:\u001b[0m\u001b[0;34m\u001b[0m\u001b[0;34m\u001b[0m\u001b[0m\n\u001b[1;32m   2084\u001b[0m                 \u001b[0;32mif\u001b[0m \u001b[0mbbox_inches\u001b[0m \u001b[0;32mand\u001b[0m \u001b[0mrestore_bbox\u001b[0m\u001b[0;34m:\u001b[0m\u001b[0;34m\u001b[0m\u001b[0;34m\u001b[0m\u001b[0m\n",
      "\u001b[0;32m//anaconda3/envs/Datrition/lib/python3.7/site-packages/matplotlib/backends/backend_agg.py\u001b[0m in \u001b[0;36mprint_jpg\u001b[0;34m(self, filename_or_obj, dryrun, pil_kwargs, *args, **kwargs)\u001b[0m\n\u001b[1;32m    577\u001b[0m                 \u001b[0mover\u001b[0m \u001b[0;34m*\u001b[0m\u001b[0mquality\u001b[0m\u001b[0;34m*\u001b[0m\u001b[0;34m,\u001b[0m \u001b[0;34m*\u001b[0m\u001b[0moptimize\u001b[0m\u001b[0;34m*\u001b[0m \u001b[0;32mand\u001b[0m \u001b[0;34m*\u001b[0m\u001b[0mprogressive\u001b[0m\u001b[0;34m*\u001b[0m\u001b[0;34m.\u001b[0m\u001b[0;34m\u001b[0m\u001b[0;34m\u001b[0m\u001b[0m\n\u001b[1;32m    578\u001b[0m             \"\"\"\n\u001b[0;32m--> 579\u001b[0;31m             \u001b[0mbuf\u001b[0m\u001b[0;34m,\u001b[0m \u001b[0msize\u001b[0m \u001b[0;34m=\u001b[0m \u001b[0mself\u001b[0m\u001b[0;34m.\u001b[0m\u001b[0mprint_to_buffer\u001b[0m\u001b[0;34m(\u001b[0m\u001b[0;34m)\u001b[0m\u001b[0;34m\u001b[0m\u001b[0;34m\u001b[0m\u001b[0m\n\u001b[0m\u001b[1;32m    580\u001b[0m             \u001b[0;32mif\u001b[0m \u001b[0mdryrun\u001b[0m\u001b[0;34m:\u001b[0m\u001b[0;34m\u001b[0m\u001b[0;34m\u001b[0m\u001b[0m\n\u001b[1;32m    581\u001b[0m                 \u001b[0;32mreturn\u001b[0m\u001b[0;34m\u001b[0m\u001b[0;34m\u001b[0m\u001b[0m\n",
      "\u001b[0;32m//anaconda3/envs/Datrition/lib/python3.7/site-packages/matplotlib/backends/backend_agg.py\u001b[0m in \u001b[0;36mprint_to_buffer\u001b[0;34m(self)\u001b[0m\n\u001b[1;32m    533\u001b[0m \u001b[0;34m\u001b[0m\u001b[0m\n\u001b[1;32m    534\u001b[0m     \u001b[0;32mdef\u001b[0m \u001b[0mprint_to_buffer\u001b[0m\u001b[0;34m(\u001b[0m\u001b[0mself\u001b[0m\u001b[0;34m)\u001b[0m\u001b[0;34m:\u001b[0m\u001b[0;34m\u001b[0m\u001b[0;34m\u001b[0m\u001b[0m\n\u001b[0;32m--> 535\u001b[0;31m         \u001b[0mFigureCanvasAgg\u001b[0m\u001b[0;34m.\u001b[0m\u001b[0mdraw\u001b[0m\u001b[0;34m(\u001b[0m\u001b[0mself\u001b[0m\u001b[0;34m)\u001b[0m\u001b[0;34m\u001b[0m\u001b[0;34m\u001b[0m\u001b[0m\n\u001b[0m\u001b[1;32m    536\u001b[0m         \u001b[0mrenderer\u001b[0m \u001b[0;34m=\u001b[0m \u001b[0mself\u001b[0m\u001b[0;34m.\u001b[0m\u001b[0mget_renderer\u001b[0m\u001b[0;34m(\u001b[0m\u001b[0;34m)\u001b[0m\u001b[0;34m\u001b[0m\u001b[0;34m\u001b[0m\u001b[0m\n\u001b[1;32m    537\u001b[0m         \u001b[0;32mwith\u001b[0m \u001b[0mcbook\u001b[0m\u001b[0;34m.\u001b[0m\u001b[0m_setattr_cm\u001b[0m\u001b[0;34m(\u001b[0m\u001b[0mrenderer\u001b[0m\u001b[0;34m,\u001b[0m \u001b[0mdpi\u001b[0m\u001b[0;34m=\u001b[0m\u001b[0mself\u001b[0m\u001b[0;34m.\u001b[0m\u001b[0mfigure\u001b[0m\u001b[0;34m.\u001b[0m\u001b[0mdpi\u001b[0m\u001b[0;34m)\u001b[0m\u001b[0;34m:\u001b[0m\u001b[0;34m\u001b[0m\u001b[0;34m\u001b[0m\u001b[0m\n",
      "\u001b[0;32m//anaconda3/envs/Datrition/lib/python3.7/site-packages/matplotlib/backends/backend_agg.py\u001b[0m in \u001b[0;36mdraw\u001b[0;34m(self)\u001b[0m\n\u001b[1;32m    386\u001b[0m         \u001b[0mself\u001b[0m\u001b[0;34m.\u001b[0m\u001b[0mrenderer\u001b[0m \u001b[0;34m=\u001b[0m \u001b[0mself\u001b[0m\u001b[0;34m.\u001b[0m\u001b[0mget_renderer\u001b[0m\u001b[0;34m(\u001b[0m\u001b[0mcleared\u001b[0m\u001b[0;34m=\u001b[0m\u001b[0;32mTrue\u001b[0m\u001b[0;34m)\u001b[0m\u001b[0;34m\u001b[0m\u001b[0;34m\u001b[0m\u001b[0m\n\u001b[1;32m    387\u001b[0m         \u001b[0;32mwith\u001b[0m \u001b[0mRendererAgg\u001b[0m\u001b[0;34m.\u001b[0m\u001b[0mlock\u001b[0m\u001b[0;34m:\u001b[0m\u001b[0;34m\u001b[0m\u001b[0;34m\u001b[0m\u001b[0m\n\u001b[0;32m--> 388\u001b[0;31m             \u001b[0mself\u001b[0m\u001b[0;34m.\u001b[0m\u001b[0mfigure\u001b[0m\u001b[0;34m.\u001b[0m\u001b[0mdraw\u001b[0m\u001b[0;34m(\u001b[0m\u001b[0mself\u001b[0m\u001b[0;34m.\u001b[0m\u001b[0mrenderer\u001b[0m\u001b[0;34m)\u001b[0m\u001b[0;34m\u001b[0m\u001b[0;34m\u001b[0m\u001b[0m\n\u001b[0m\u001b[1;32m    389\u001b[0m             \u001b[0;31m# A GUI class may be need to update a window using this draw, so\u001b[0m\u001b[0;34m\u001b[0m\u001b[0;34m\u001b[0m\u001b[0;34m\u001b[0m\u001b[0m\n\u001b[1;32m    390\u001b[0m             \u001b[0;31m# don't forget to call the superclass.\u001b[0m\u001b[0;34m\u001b[0m\u001b[0;34m\u001b[0m\u001b[0;34m\u001b[0m\u001b[0m\n",
      "\u001b[0;32m//anaconda3/envs/Datrition/lib/python3.7/site-packages/matplotlib/artist.py\u001b[0m in \u001b[0;36mdraw_wrapper\u001b[0;34m(artist, renderer, *args, **kwargs)\u001b[0m\n\u001b[1;32m     36\u001b[0m                 \u001b[0mrenderer\u001b[0m\u001b[0;34m.\u001b[0m\u001b[0mstart_filter\u001b[0m\u001b[0;34m(\u001b[0m\u001b[0;34m)\u001b[0m\u001b[0;34m\u001b[0m\u001b[0;34m\u001b[0m\u001b[0m\n\u001b[1;32m     37\u001b[0m \u001b[0;34m\u001b[0m\u001b[0m\n\u001b[0;32m---> 38\u001b[0;31m             \u001b[0;32mreturn\u001b[0m \u001b[0mdraw\u001b[0m\u001b[0;34m(\u001b[0m\u001b[0martist\u001b[0m\u001b[0;34m,\u001b[0m \u001b[0mrenderer\u001b[0m\u001b[0;34m,\u001b[0m \u001b[0;34m*\u001b[0m\u001b[0margs\u001b[0m\u001b[0;34m,\u001b[0m \u001b[0;34m**\u001b[0m\u001b[0mkwargs\u001b[0m\u001b[0;34m)\u001b[0m\u001b[0;34m\u001b[0m\u001b[0;34m\u001b[0m\u001b[0m\n\u001b[0m\u001b[1;32m     39\u001b[0m         \u001b[0;32mfinally\u001b[0m\u001b[0;34m:\u001b[0m\u001b[0;34m\u001b[0m\u001b[0;34m\u001b[0m\u001b[0m\n\u001b[1;32m     40\u001b[0m             \u001b[0;32mif\u001b[0m \u001b[0martist\u001b[0m\u001b[0;34m.\u001b[0m\u001b[0mget_agg_filter\u001b[0m\u001b[0;34m(\u001b[0m\u001b[0;34m)\u001b[0m \u001b[0;32mis\u001b[0m \u001b[0;32mnot\u001b[0m \u001b[0;32mNone\u001b[0m\u001b[0;34m:\u001b[0m\u001b[0;34m\u001b[0m\u001b[0;34m\u001b[0m\u001b[0m\n",
      "\u001b[0;32m//anaconda3/envs/Datrition/lib/python3.7/site-packages/matplotlib/figure.py\u001b[0m in \u001b[0;36mdraw\u001b[0;34m(self, renderer)\u001b[0m\n\u001b[1;32m   1707\u001b[0m             \u001b[0mself\u001b[0m\u001b[0;34m.\u001b[0m\u001b[0mpatch\u001b[0m\u001b[0;34m.\u001b[0m\u001b[0mdraw\u001b[0m\u001b[0;34m(\u001b[0m\u001b[0mrenderer\u001b[0m\u001b[0;34m)\u001b[0m\u001b[0;34m\u001b[0m\u001b[0;34m\u001b[0m\u001b[0m\n\u001b[1;32m   1708\u001b[0m             mimage._draw_list_compositing_images(\n\u001b[0;32m-> 1709\u001b[0;31m                 renderer, self, artists, self.suppressComposite)\n\u001b[0m\u001b[1;32m   1710\u001b[0m \u001b[0;34m\u001b[0m\u001b[0m\n\u001b[1;32m   1711\u001b[0m             \u001b[0mrenderer\u001b[0m\u001b[0;34m.\u001b[0m\u001b[0mclose_group\u001b[0m\u001b[0;34m(\u001b[0m\u001b[0;34m'figure'\u001b[0m\u001b[0;34m)\u001b[0m\u001b[0;34m\u001b[0m\u001b[0;34m\u001b[0m\u001b[0m\n",
      "\u001b[0;32m//anaconda3/envs/Datrition/lib/python3.7/site-packages/matplotlib/image.py\u001b[0m in \u001b[0;36m_draw_list_compositing_images\u001b[0;34m(renderer, parent, artists, suppress_composite)\u001b[0m\n\u001b[1;32m    133\u001b[0m     \u001b[0;32mif\u001b[0m \u001b[0mnot_composite\u001b[0m \u001b[0;32mor\u001b[0m \u001b[0;32mnot\u001b[0m \u001b[0mhas_images\u001b[0m\u001b[0;34m:\u001b[0m\u001b[0;34m\u001b[0m\u001b[0;34m\u001b[0m\u001b[0m\n\u001b[1;32m    134\u001b[0m         \u001b[0;32mfor\u001b[0m \u001b[0ma\u001b[0m \u001b[0;32min\u001b[0m \u001b[0martists\u001b[0m\u001b[0;34m:\u001b[0m\u001b[0;34m\u001b[0m\u001b[0;34m\u001b[0m\u001b[0m\n\u001b[0;32m--> 135\u001b[0;31m             \u001b[0ma\u001b[0m\u001b[0;34m.\u001b[0m\u001b[0mdraw\u001b[0m\u001b[0;34m(\u001b[0m\u001b[0mrenderer\u001b[0m\u001b[0;34m)\u001b[0m\u001b[0;34m\u001b[0m\u001b[0;34m\u001b[0m\u001b[0m\n\u001b[0m\u001b[1;32m    136\u001b[0m     \u001b[0;32melse\u001b[0m\u001b[0;34m:\u001b[0m\u001b[0;34m\u001b[0m\u001b[0;34m\u001b[0m\u001b[0m\n\u001b[1;32m    137\u001b[0m         \u001b[0;31m# Composite any adjacent images together\u001b[0m\u001b[0;34m\u001b[0m\u001b[0;34m\u001b[0m\u001b[0;34m\u001b[0m\u001b[0m\n",
      "\u001b[0;32m//anaconda3/envs/Datrition/lib/python3.7/site-packages/matplotlib/artist.py\u001b[0m in \u001b[0;36mdraw_wrapper\u001b[0;34m(artist, renderer, *args, **kwargs)\u001b[0m\n\u001b[1;32m     36\u001b[0m                 \u001b[0mrenderer\u001b[0m\u001b[0;34m.\u001b[0m\u001b[0mstart_filter\u001b[0m\u001b[0;34m(\u001b[0m\u001b[0;34m)\u001b[0m\u001b[0;34m\u001b[0m\u001b[0;34m\u001b[0m\u001b[0m\n\u001b[1;32m     37\u001b[0m \u001b[0;34m\u001b[0m\u001b[0m\n\u001b[0;32m---> 38\u001b[0;31m             \u001b[0;32mreturn\u001b[0m \u001b[0mdraw\u001b[0m\u001b[0;34m(\u001b[0m\u001b[0martist\u001b[0m\u001b[0;34m,\u001b[0m \u001b[0mrenderer\u001b[0m\u001b[0;34m,\u001b[0m \u001b[0;34m*\u001b[0m\u001b[0margs\u001b[0m\u001b[0;34m,\u001b[0m \u001b[0;34m**\u001b[0m\u001b[0mkwargs\u001b[0m\u001b[0;34m)\u001b[0m\u001b[0;34m\u001b[0m\u001b[0;34m\u001b[0m\u001b[0m\n\u001b[0m\u001b[1;32m     39\u001b[0m         \u001b[0;32mfinally\u001b[0m\u001b[0;34m:\u001b[0m\u001b[0;34m\u001b[0m\u001b[0;34m\u001b[0m\u001b[0m\n\u001b[1;32m     40\u001b[0m             \u001b[0;32mif\u001b[0m \u001b[0martist\u001b[0m\u001b[0;34m.\u001b[0m\u001b[0mget_agg_filter\u001b[0m\u001b[0;34m(\u001b[0m\u001b[0;34m)\u001b[0m \u001b[0;32mis\u001b[0m \u001b[0;32mnot\u001b[0m \u001b[0;32mNone\u001b[0m\u001b[0;34m:\u001b[0m\u001b[0;34m\u001b[0m\u001b[0;34m\u001b[0m\u001b[0m\n",
      "\u001b[0;32m//anaconda3/envs/Datrition/lib/python3.7/site-packages/matplotlib/axes/_base.py\u001b[0m in \u001b[0;36mdraw\u001b[0;34m(self, renderer, inframe)\u001b[0m\n\u001b[1;32m   2643\u001b[0m             \u001b[0mrenderer\u001b[0m\u001b[0;34m.\u001b[0m\u001b[0mstop_rasterizing\u001b[0m\u001b[0;34m(\u001b[0m\u001b[0;34m)\u001b[0m\u001b[0;34m\u001b[0m\u001b[0;34m\u001b[0m\u001b[0m\n\u001b[1;32m   2644\u001b[0m \u001b[0;34m\u001b[0m\u001b[0m\n\u001b[0;32m-> 2645\u001b[0;31m         \u001b[0mmimage\u001b[0m\u001b[0;34m.\u001b[0m\u001b[0m_draw_list_compositing_images\u001b[0m\u001b[0;34m(\u001b[0m\u001b[0mrenderer\u001b[0m\u001b[0;34m,\u001b[0m \u001b[0mself\u001b[0m\u001b[0;34m,\u001b[0m \u001b[0martists\u001b[0m\u001b[0;34m)\u001b[0m\u001b[0;34m\u001b[0m\u001b[0;34m\u001b[0m\u001b[0m\n\u001b[0m\u001b[1;32m   2646\u001b[0m \u001b[0;34m\u001b[0m\u001b[0m\n\u001b[1;32m   2647\u001b[0m         \u001b[0mrenderer\u001b[0m\u001b[0;34m.\u001b[0m\u001b[0mclose_group\u001b[0m\u001b[0;34m(\u001b[0m\u001b[0;34m'axes'\u001b[0m\u001b[0;34m)\u001b[0m\u001b[0;34m\u001b[0m\u001b[0;34m\u001b[0m\u001b[0m\n",
      "\u001b[0;32m//anaconda3/envs/Datrition/lib/python3.7/site-packages/matplotlib/image.py\u001b[0m in \u001b[0;36m_draw_list_compositing_images\u001b[0;34m(renderer, parent, artists, suppress_composite)\u001b[0m\n\u001b[1;32m    133\u001b[0m     \u001b[0;32mif\u001b[0m \u001b[0mnot_composite\u001b[0m \u001b[0;32mor\u001b[0m \u001b[0;32mnot\u001b[0m \u001b[0mhas_images\u001b[0m\u001b[0;34m:\u001b[0m\u001b[0;34m\u001b[0m\u001b[0;34m\u001b[0m\u001b[0m\n\u001b[1;32m    134\u001b[0m         \u001b[0;32mfor\u001b[0m \u001b[0ma\u001b[0m \u001b[0;32min\u001b[0m \u001b[0martists\u001b[0m\u001b[0;34m:\u001b[0m\u001b[0;34m\u001b[0m\u001b[0;34m\u001b[0m\u001b[0m\n\u001b[0;32m--> 135\u001b[0;31m             \u001b[0ma\u001b[0m\u001b[0;34m.\u001b[0m\u001b[0mdraw\u001b[0m\u001b[0;34m(\u001b[0m\u001b[0mrenderer\u001b[0m\u001b[0;34m)\u001b[0m\u001b[0;34m\u001b[0m\u001b[0;34m\u001b[0m\u001b[0m\n\u001b[0m\u001b[1;32m    136\u001b[0m     \u001b[0;32melse\u001b[0m\u001b[0;34m:\u001b[0m\u001b[0;34m\u001b[0m\u001b[0;34m\u001b[0m\u001b[0m\n\u001b[1;32m    137\u001b[0m         \u001b[0;31m# Composite any adjacent images together\u001b[0m\u001b[0;34m\u001b[0m\u001b[0;34m\u001b[0m\u001b[0;34m\u001b[0m\u001b[0m\n",
      "\u001b[0;32m//anaconda3/envs/Datrition/lib/python3.7/site-packages/matplotlib/artist.py\u001b[0m in \u001b[0;36mdraw_wrapper\u001b[0;34m(artist, renderer, *args, **kwargs)\u001b[0m\n\u001b[1;32m     36\u001b[0m                 \u001b[0mrenderer\u001b[0m\u001b[0;34m.\u001b[0m\u001b[0mstart_filter\u001b[0m\u001b[0;34m(\u001b[0m\u001b[0;34m)\u001b[0m\u001b[0;34m\u001b[0m\u001b[0;34m\u001b[0m\u001b[0m\n\u001b[1;32m     37\u001b[0m \u001b[0;34m\u001b[0m\u001b[0m\n\u001b[0;32m---> 38\u001b[0;31m             \u001b[0;32mreturn\u001b[0m \u001b[0mdraw\u001b[0m\u001b[0;34m(\u001b[0m\u001b[0martist\u001b[0m\u001b[0;34m,\u001b[0m \u001b[0mrenderer\u001b[0m\u001b[0;34m,\u001b[0m \u001b[0;34m*\u001b[0m\u001b[0margs\u001b[0m\u001b[0;34m,\u001b[0m \u001b[0;34m**\u001b[0m\u001b[0mkwargs\u001b[0m\u001b[0;34m)\u001b[0m\u001b[0;34m\u001b[0m\u001b[0;34m\u001b[0m\u001b[0m\n\u001b[0m\u001b[1;32m     39\u001b[0m         \u001b[0;32mfinally\u001b[0m\u001b[0;34m:\u001b[0m\u001b[0;34m\u001b[0m\u001b[0;34m\u001b[0m\u001b[0m\n\u001b[1;32m     40\u001b[0m             \u001b[0;32mif\u001b[0m \u001b[0martist\u001b[0m\u001b[0;34m.\u001b[0m\u001b[0mget_agg_filter\u001b[0m\u001b[0;34m(\u001b[0m\u001b[0;34m)\u001b[0m \u001b[0;32mis\u001b[0m \u001b[0;32mnot\u001b[0m \u001b[0;32mNone\u001b[0m\u001b[0;34m:\u001b[0m\u001b[0;34m\u001b[0m\u001b[0;34m\u001b[0m\u001b[0m\n",
      "\u001b[0;32m//anaconda3/envs/Datrition/lib/python3.7/site-packages/matplotlib/image.py\u001b[0m in \u001b[0;36mdraw\u001b[0;34m(self, renderer, *args, **kwargs)\u001b[0m\n\u001b[1;32m    617\u001b[0m         \u001b[0;32melse\u001b[0m\u001b[0;34m:\u001b[0m\u001b[0;34m\u001b[0m\u001b[0;34m\u001b[0m\u001b[0m\n\u001b[1;32m    618\u001b[0m             im, l, b, trans = self.make_image(\n\u001b[0;32m--> 619\u001b[0;31m                 renderer, renderer.get_image_magnification())\n\u001b[0m\u001b[1;32m    620\u001b[0m             \u001b[0;32mif\u001b[0m \u001b[0mim\u001b[0m \u001b[0;32mis\u001b[0m \u001b[0;32mnot\u001b[0m \u001b[0;32mNone\u001b[0m\u001b[0;34m:\u001b[0m\u001b[0;34m\u001b[0m\u001b[0;34m\u001b[0m\u001b[0m\n\u001b[1;32m    621\u001b[0m                 \u001b[0mrenderer\u001b[0m\u001b[0;34m.\u001b[0m\u001b[0mdraw_image\u001b[0m\u001b[0;34m(\u001b[0m\u001b[0mgc\u001b[0m\u001b[0;34m,\u001b[0m \u001b[0ml\u001b[0m\u001b[0;34m,\u001b[0m \u001b[0mb\u001b[0m\u001b[0;34m,\u001b[0m \u001b[0mim\u001b[0m\u001b[0;34m)\u001b[0m\u001b[0;34m\u001b[0m\u001b[0;34m\u001b[0m\u001b[0m\n",
      "\u001b[0;32m//anaconda3/envs/Datrition/lib/python3.7/site-packages/matplotlib/image.py\u001b[0m in \u001b[0;36mmake_image\u001b[0;34m(self, renderer, magnification, unsampled)\u001b[0m\n\u001b[1;32m    872\u001b[0m         return self._make_image(\n\u001b[1;32m    873\u001b[0m             \u001b[0mself\u001b[0m\u001b[0;34m.\u001b[0m\u001b[0m_A\u001b[0m\u001b[0;34m,\u001b[0m \u001b[0mbbox\u001b[0m\u001b[0;34m,\u001b[0m \u001b[0mtransformed_bbox\u001b[0m\u001b[0;34m,\u001b[0m \u001b[0mself\u001b[0m\u001b[0;34m.\u001b[0m\u001b[0maxes\u001b[0m\u001b[0;34m.\u001b[0m\u001b[0mbbox\u001b[0m\u001b[0;34m,\u001b[0m \u001b[0mmagnification\u001b[0m\u001b[0;34m,\u001b[0m\u001b[0;34m\u001b[0m\u001b[0;34m\u001b[0m\u001b[0m\n\u001b[0;32m--> 874\u001b[0;31m             unsampled=unsampled)\n\u001b[0m\u001b[1;32m    875\u001b[0m \u001b[0;34m\u001b[0m\u001b[0m\n\u001b[1;32m    876\u001b[0m     \u001b[0;32mdef\u001b[0m \u001b[0m_check_unsampled_image\u001b[0m\u001b[0;34m(\u001b[0m\u001b[0mself\u001b[0m\u001b[0;34m,\u001b[0m \u001b[0mrenderer\u001b[0m\u001b[0;34m)\u001b[0m\u001b[0;34m:\u001b[0m\u001b[0;34m\u001b[0m\u001b[0;34m\u001b[0m\u001b[0m\n",
      "\u001b[0;32m//anaconda3/envs/Datrition/lib/python3.7/site-packages/matplotlib/image.py\u001b[0m in \u001b[0;36m_make_image\u001b[0;34m(self, A, in_bbox, out_bbox, clip_bbox, magnification, unsampled, round_to_pixel_border)\u001b[0m\n\u001b[1;32m    429\u001b[0m                                 \u001b[0mself\u001b[0m\u001b[0;34m.\u001b[0m\u001b[0mget_resample\u001b[0m\u001b[0;34m(\u001b[0m\u001b[0;34m)\u001b[0m\u001b[0;34m,\u001b[0m \u001b[0;36m1.0\u001b[0m\u001b[0;34m,\u001b[0m\u001b[0;34m\u001b[0m\u001b[0;34m\u001b[0m\u001b[0m\n\u001b[1;32m    430\u001b[0m                                 \u001b[0mself\u001b[0m\u001b[0;34m.\u001b[0m\u001b[0mget_filternorm\u001b[0m\u001b[0;34m(\u001b[0m\u001b[0;34m)\u001b[0m\u001b[0;34m,\u001b[0m\u001b[0;34m\u001b[0m\u001b[0;34m\u001b[0m\u001b[0m\n\u001b[0;32m--> 431\u001b[0;31m                                 self.get_filterrad())\n\u001b[0m\u001b[1;32m    432\u001b[0m \u001b[0;34m\u001b[0m\u001b[0m\n\u001b[1;32m    433\u001b[0m                 \u001b[0;31m# we are done with A_scaled now, remove from namespace\u001b[0m\u001b[0;34m\u001b[0m\u001b[0;34m\u001b[0m\u001b[0;34m\u001b[0m\u001b[0m\n",
      "\u001b[0;31mKeyboardInterrupt\u001b[0m: "
     ]
    },
    {
     "data": {
      "image/png": "[encoded data removed]",
      "text/plain": [
       "<Figure size 432x288 with 1 Axes>"
      ]
     },
     "metadata": {
      "needs_background": "light"
     },
     "output_type": "display_data"
    }
   ],
   "source": [
    "import glob\n",
    "import matplotlib.pyplot as plt\n",
    "import matplotlib.image as mpimg\n",
    "%matplotlib inline\n",
    "\n",
    "images = []\n",
    "counter = 1\n",
    "for img_path in tqdm(glob.glob('img/*.jpg')):\n",
    "    \n",
    "    img = cv2.imread(img_path,0)\n",
    "    (thresh, img_bin) = cv2.threshold(img, 240, 255,cv2.THRESH_BINARY|cv2.THRESH_OTSU)\n",
    "    img_bin = 255-img_bin\n",
    "    f(255)\n",
    "    alpha = 0.9\n",
    "    beta = 1.0 - alpha\n",
    "    # This function helps to add two image with specific weight parameter to get a third image as summation of two image.\n",
    "    img_final_bin = cv2.addWeighted(verticle_lines_img, alpha, horizontal_lines_img, beta, 0.5)\n",
    "    #img_final_bin = cv2.erode(~img_final_bin, kernel, iterations=2)\n",
    "    (thresh, img_final_bin) = cv2.threshold(img_final_bin, 230,255, cv2.THRESH_BINARY | cv2.THRESH_OTSU)\n",
    "    plt.axis('off')\n",
    "    plt.imshow(img_final_bin)\n",
    "#     images.append(mpimg.imread(img_path))\n",
    "    # Find contours for image, which will detect all the boxes\n",
    "    contours, hierarchy = cv2.findContours(img_final_bin, cv2.RETR_TREE, cv2.CHAIN_APPROX_SIMPLE)\n",
    "\n",
    "    # Sort all the contours by top to bottom.\n",
    "    (contours, boundingBoxes) = sort_contours(contours, method=\"top-to-bottom\")\n",
    "    idx = 1\n",
    "    \n",
    "    for c in (contours):\n",
    "        # Returns the location and width,height for every contour\n",
    "        x, y, w, h = cv2.boundingRect(c)\n",
    "        \n",
    "# If the box height is greater then 20, widht is >80, then only save it as a box in \"cropped/\" folder.\n",
    "        if (w > 160 and h > 80) and w < 2.5 *h:\n",
    "            idx += 3\n",
    "            new_img = img[y:y+h, x:x+w]\n",
    "            #plt.subplot(2,3, idx)\n",
    "            plt.imshow(new_img)\n",
    "            plt.axis('off')\n",
    "            #cv2.imwrite('./th/')\n",
    "            #path = './th/'\n",
    "            plt.savefig(f'./img_result/label{counter}.jpg',dpi=300)\n",
    "            #cv2.imwrite(os.path.join(path , 'label'+str(num)+'.jpg'), new_img)\n",
    "            #cv2.imwrite(os.path.join(path , 'f', new_img))\n",
    "            counter+=1\n",
    "            #cv2.waitKey(0)\n",
    "    #break"
   ]
  },
  {
   "cell_type": "code",
   "execution_count": 60,
   "metadata": {
    "scrolled": true
   },
   "outputs": [
    {
     "name": "stderr",
     "output_type": "stream",
     "text": [
      "\n",
      "  0%|          | 0/6 [00:00<?, ?it/s]\u001b[A\n",
      " 17%|█▋        | 1/6 [00:02<00:12,  2.57s/it]\u001b[A\n",
      " 33%|███▎      | 2/6 [00:05<00:10,  2.62s/it]\u001b[A\n",
      " 50%|█████     | 3/6 [00:06<00:06,  2.11s/it]\u001b[A\n",
      " 67%|██████▋   | 4/6 [00:14<00:07,  3.83s/it]\u001b[A\n",
      " 83%|████████▎ | 5/6 [00:25<00:06,  6.08s/it]\u001b[A\n",
      "100%|██████████| 6/6 [00:29<00:00,  5.64s/it]\u001b[A"
     ]
    },
    {
     "data": {
      "image/png": "[encoded data removed]",
      "text/plain": [
       "<Figure size 432x288 with 1 Axes>"
      ]
     },
     "metadata": {
      "needs_background": "light"
     },
     "output_type": "display_data"
    }
   ],
   "source": [
    "import glob\n",
    "import matplotlib.pyplot as plt\n",
    "import matplotlib.image as mpimg\n",
    "%matplotlib inline\n",
    "\n",
    "images = []\n",
    "counter = 1\n",
    "for img_path in tqdm(glob.glob('img/*.jpg')):\n",
    "    \n",
    "    img = cv2.imread(img_path,0)\n",
    "    (thresh, img_bin) = cv2.threshold(img, 240, 255,cv2.THRESH_BINARY|cv2.THRESH_OTSU)\n",
    "    img_bin = 255-img_bin\n",
    "    f(255)\n",
    "    alpha = 0.9\n",
    "    beta = 1.0 - alpha\n",
    "    # This function helps to add two image with specific weight parameter to get a third image as summation of two image.\n",
    "    img_final_bin = cv2.addWeighted(verticle_lines_img, alpha, horizontal_lines_img, beta, 0.5)\n",
    "    #img_final_bin = cv2.erode(~img_final_bin, kernel, iterations=2)\n",
    "    (thresh, img_final_bin) = cv2.threshold(img_final_bin, 230,255, cv2.THRESH_BINARY | cv2.THRESH_OTSU)\n",
    "    plt.axis('off')\n",
    "    plt.imshow(img_final_bin)\n",
    "#     images.append(mpimg.imread(img_path))\n",
    "    # Find contours for image, which will detect all the boxes\n",
    "    contours, hierarchy = cv2.findContours(img_final_bin, cv2.RETR_TREE, cv2.CHAIN_APPROX_SIMPLE)\n",
    "\n",
    "    # Sort all the contours by top to bottom.\n",
    "    (contours, boundingBoxes) = sort_contours(contours, method=\"top-to-bottom\")\n",
    "    idx = 1\n",
    "    \n",
    "    for c in (contours):\n",
    "        # Returns the location and width,height for every contour\n",
    "        x, y, w, h = cv2.boundingRect(c)\n",
    "        \n",
    "# If the box height is greater then 20, widht is >80, then only save it as a box in \"cropped/\" folder.\n",
    "        if (w > 160 and h > 80) and w < 2.5 *h:\n",
    "            idx += 3\n",
    "            new_img = img[y:y+h, x:x+w]\n",
    "            #plt.subplot(2,3, idx)\n",
    "            plt.imshow(new_img)\n",
    "            plt.axis('off')\n",
    "            file_n = img_path.split('/')[-1].split('.')[0]\n",
    "            \n",
    "            plt.savefig(f'./img_result/{file_n} _ label{counter}',dpi=300)\n",
    "            #cv2.imwrite(os.path.join(path , 'label'+str(num)+'.jpg'), new_img)\n",
    "            #cv2.imwrite(os.path.join(path , 'f', new_img))\n",
    "            counter+=1\n",
    "            #cv2.waitKey(0)\n",
    "    #break"
   ]
  },
  {
   "cell_type": "code",
   "execution_count": 25,
   "metadata": {},
   "outputs": [
    {
     "data": {
      "image/png": "[encoded data removed]",
      "text/plain": [
       "<Figure size 432x288 with 1 Axes>"
      ]
     },
     "metadata": {
      "needs_background": "light"
     },
     "output_type": "display_data"
    }
   ],
   "source": [
    "import glob\n",
    "import matplotlib.pyplot as plt\n",
    "import matplotlib.image as mpimg\n",
    "%matplotlib inline\n",
    "\n",
    "images = []\n",
    "counter = 1\n",
    "\n",
    "img = cv2.imread('img/product_6.jpg',0)\n",
    "(thresh, img_bin) = cv2.threshold(img, 240, 255,cv2.THRESH_BINARY|cv2.THRESH_OTSU)\n",
    "img_bin = 255-img_bin\n",
    "f(255)\n",
    "alpha = 0.9\n",
    "beta = 1.0 - alpha\n",
    "img_final_bin = cv2.addWeighted(verticle_lines_img, alpha, horizontal_lines_img, beta, 0.5)\n",
    "(thresh, img_final_bin) = cv2.threshold(img_final_bin, 230,255, cv2.THRESH_BINARY | cv2.THRESH_OTSU)\n",
    "plt.axis('off')\n",
    "plt.imshow(img_final_bin)\n",
    "contours, hierarchy = cv2.findContours(img_final_bin, cv2.RETR_TREE, cv2.CHAIN_APPROX_SIMPLE)\n",
    "\n",
    "(contours, boundingBoxes) = sort_contours(contours, method=\"top-to-bottom\")\n",
    "idx = 1\n",
    "\n",
    "for c in (contours):\n",
    "    x, y, w, h = cv2.boundingRect(c)\n",
    "\n",
    "    if (w > 160 and h > 80) and w < 2.5 *h:\n",
    "        idx += 3\n",
    "        new_img = img[y:y+h, x:x+w]\n",
    "        plt.imshow(new_img)\n",
    "        plt.axis('off')\n",
    "        plt.savefig(f'./img_result/label{counter} {}.jpg',dpi=300)\n",
    "        counter+=1\n",
    "print(im)"
   ]
  },
  {
   "cell_type": "code",
   "execution_count": 32,
   "metadata": {},
   "outputs": [
    {
     "data": {
      "text/plain": [
       "array([[ 29,  29,  29, ..., 255, 255, 255],\n",
       "       [ 29,  29,  29, ..., 255, 255, 255],\n",
       "       [ 29,  29,  29, ..., 255, 255, 255],\n",
       "       ...,\n",
       "       [255, 255, 255, ..., 110, 110, 110],\n",
       "       [255, 255, 255, ..., 110, 110, 110],\n",
       "       [255, 255, 255, ..., 110, 110, 110]], dtype=uint8)"
      ]
     },
     "execution_count": 32,
     "metadata": {},
     "output_type": "execute_result"
    }
   ],
   "source": [
    "img"
   ]
  },
  {
   "cell_type": "code",
   "execution_count": 27,
   "metadata": {},
   "outputs": [
    {
     "data": {
      "text/plain": [
       "(162, 213)"
      ]
     },
     "execution_count": 27,
     "metadata": {},
     "output_type": "execute_result"
    }
   ],
   "source": [
    "new_img"
   ]
  },
  {
   "cell_type": "markdown",
   "metadata": {},
   "source": [
    "## Extracting text from Nutrition lables"
   ]
  },
  {
   "cell_type": "markdown",
   "metadata": {},
   "source": [
    "### ---------------"
   ]
  },
  {
   "cell_type": "code",
   "execution_count": 7,
   "metadata": {},
   "outputs": [],
   "source": [
    "import pytesseract\n",
    "from PIL import Image, ImageEnhance, ImageFilter\n",
    "import os\n",
    "import glob\n",
    "import re\n",
    "import sys\n",
    "import cv2"
   ]
  },
  {
   "cell_type": "code",
   "execution_count": 8,
   "metadata": {},
   "outputs": [],
   "source": [
    "\n",
    "#sys.path.append('/usr/local/lib/python2.7/site-packages')\n",
    "## FOR FEW IMAGES ONLY\n",
    "\n",
    "def writeFile(directory, fileName, content):\n",
    "    outFile = open('outputs/' + directory + '/' + fileName + '.txt', 'w')\n",
    "    outFile.write(content)\n",
    "    outFile.close()\n",
    "\n",
    "# Setup regex for stripping file names\n",
    "p = re.compile('[0-9]+.jpg')\n",
    "    \n",
    "# Use images in the labels directory\n",
    "for file in glob.glob('../labels/*.jpg'):\n",
    "    fileName = p.findall(file)[0]\n",
    "    print (\"Proccessing \" + fileName)\n",
    "    outFileName = fileName[0:len(fileName)-4]\n",
    "    \n",
    "    #-----------------------\n",
    "#     # Get default text recognition \n",
    "#     output = pytesseract.image_to_string(Image.open(file))\n",
    "#     #print(output)\n",
    "\n",
    "#     # Write default text output to 'outputs/default' directory\n",
    "#     writeFile('default', outFileName, output)\n",
    "\n",
    "    # Open image as black and white\n",
    "    #-----------------------\n",
    "    \n",
    "    bw = cv2.imread(file, 0)\n",
    "\n",
    "    # Apply adaptive thresholding to images\n",
    "    thresh = cv2.adaptiveThreshold(bw, 255, cv2.ADAPTIVE_THRESH_GAUSSIAN_C,\\\n",
    "            cv2.THRESH_BINARY, 11, 2)\n",
    "\n",
    "    # Get text recognition from thresholded images\n",
    "    output = pytesseract.image_to_string(Image.fromarray(bw))\n",
    "    writeFile('bw', outFileName, output)\n",
    "\n",
    "    break"
   ]
  },
  {
   "cell_type": "code",
   "execution_count": null,
   "metadata": {},
   "outputs": [],
   "source": []
  },
  {
   "cell_type": "code",
   "execution_count": 9,
   "metadata": {},
   "outputs": [],
   "source": [
    "def label_Recognizer(path):\n",
    "    import re\n",
    "#    import end_to_end\n",
    "    import os\n",
    "    from matplotlib import pyplot \n",
    "    files = []\n",
    "    # r=root, d=directories, f = files\n",
    "    for  r,d, f in os.walk(path):\n",
    "        for file in f:\n",
    "            files.append(os.path.join(file))\n",
    "    p = re.compile('[0-9]+.jpg')\n",
    "    all_result = []\n",
    "    for f in files:\n",
    "        print(f)\n",
    "     #   out_dict = end_to_end.end_to_end(f'{path}\\{f}')\n",
    "        #-----------------\n",
    "        try:\n",
    "            for file in glob.glob('./pd_test/*.jpg'):\n",
    "                fileName = p.findall(file)[0]\n",
    "                print (\"Proccessing \" + fileName)\n",
    "                outFileName = fileName[0:len(fileName)-4]\n",
    "                # Get default text recognition \n",
    "                output = pytesseract.image_to_string(Image.open(file))\n",
    "                print(\"/n/sLABEL\", output)\n",
    "                all_result.append(output)\n",
    "            return all_result\n",
    "        except:\n",
    "            \n",
    "            print('error')\n",
    "    \n",
    "            # Write default text output to 'outputs/default' directory\n",
    "#             writeFile('default', outFileName, output)\n",
    "\n",
    "#             # Open image as black and white\n",
    "#             bw = cv2.imread(file, 0)\n",
    "\n",
    "#             # Apply adaptive thresholding to images\n",
    "#             thresh = cv2.adaptiveThreshold(bw, 255, cv2.ADAPTIVE_THRESH_GAUSSIAN_C,\\\n",
    "#                     cv2.THRESH_BINARY, 11, 2)\n",
    "\n",
    "#             # Get text recognition from thresholded images\n",
    "#             output = pytesseract.image_to_string(Image.fromarray(bw))\n",
    "                \n",
    "\n",
    "#         #-----------------\n",
    "# #         print('This is out_dict type', type(out_dict))\n",
    "# #         print(f.replace(r'.jpg',''))\n",
    "# #         out_dict['Image_id']=f.replace(r'.jpg','')\n",
    "#             all_result.append(output)\n",
    "            \n",
    "#         break\n",
    "\n",
    "#     df = pd.DataFrame(all_result)\n",
    "#     df = pd.DataFrame(columns=['Image_id','Nutrient', 'Amount', 'Unit', 'Serving Size','Serving Size Unit','Language'])\n",
    "#     df_long = df.melt(id_vars=['Serving Size','Image_id'])\n",
    "#     Units = {'Calories': 'Kcal',\n",
    "#         'Energy': 'kJ',\n",
    "#         'Total Fat': 'g',\n",
    "#         'Saturated Fat': 'g',\n",
    "#         'Trans Fat': 'g',\n",
    "#         'Poly Fat': 'g',\n",
    "#         'Mono Fat': 'g',\n",
    "#         'Cholesterol': 'mg',\n",
    "#         'Sodium': 'mg',\n",
    "#         'Potassium': 'g',\n",
    "#         'Total Carbohydrate': 'g',\n",
    "#         'Dietary Fiber': 'g',\n",
    "#         'Sugars': 'g',\n",
    "#         'Protein': 'g'}\n",
    "#     df_long['Serving Size Unit']= 'g'\n",
    "#     df_long.columns = ['Serving Size','Image_id','Nutrient','Amount','Serving Size Unit']\n",
    "#     df_long['Unit'] = [Units [x] for x in df_long['Nutrient']]\n",
    "#     df_long['Language'] = 'English'\n",
    "#     Final_Outcome = df_long[['Image_id','Nutrient', 'Amount', 'Unit', 'Serving Size','Serving Size Unit','Language']]\n",
    "#     Final_Outcome.to_excel('DSI-V-Abdulrahman.xlsx', index=False)\n",
    "#     return Final_Outcome"
   ]
  },
  {
   "cell_type": "code",
   "execution_count": 10,
   "metadata": {},
   "outputs": [],
   "source": [
    "#####\n",
    "\n",
    "def label_Recognizer(path):\n",
    "    import re\n",
    "    import os\n",
    "    from matplotlib import pyplot \n",
    "    files = []\n",
    "    for  r,d, f in os.walk(path):\n",
    "        for file in f:\n",
    "            files.append(os.path.join(file))\n",
    "    p = re.compile('[0-9]+.jpg')\n",
    "    all_result = []\n",
    "    for f in files:\n",
    "        print(f)\n",
    "     #   out_dict = end_to_end.end_to_end(f'{path}\\{f}')\n",
    "        #-----------------\n",
    "\n",
    "        for file in glob.glob('pd_test/*.jpg'):\n",
    "            fileName = p.findall(file)[0]\n",
    "            print (\"Proccessing \" + fileName)\n",
    "            outFileName = fileName[0:len(fileName)-4]\n",
    "            # Get default text recognition \n",
    "            output = pytesseract.image_to_string(Image.open(file))\n",
    "            print(\"/n/sLABEL\", output)\n",
    "            all_result.append(output)\n",
    "        result = []\n",
    "        for i in all_result:\n",
    "            if len(i) == 0:\n",
    "                pass\n",
    "            else:\n",
    "                result.append(i)\n",
    "        return result\n",
    "            \n"
   ]
  },
  {
   "cell_type": "code",
   "execution_count": 62,
   "metadata": {},
   "outputs": [
    {
     "name": "stdout",
     "output_type": "stream",
     "text": [
      "label152.jpg\n",
      "Proccessing 152.jpg\n",
      "/n/sLABEL \n",
      "Proccessing 386.jpg\n",
      "/n/sLABEL ition Facts|!INGREDIENTS:\n",
      "(28g / about 1\" cube) | PASTEURIZED PART-SKIM.\n",
      "out 8 MILK, CHEESE CULTURE,\n",
      "SALT, ENZYMES\n",
      "\n",
      " \n",
      "   \n",
      "  \n",
      " \n",
      "  \n",
      " \n",
      "\n",
      "     \n",
      " \n",
      "\n",
      " \n",
      "\n",
      "CONTAINS: MILK.\n",
      "\n",
      "DISTRIBUTED BY\n",
      "‘9% | CHURNY COMPANY, INC.\n",
      "WEYAUWEGA, WI54983 USA\n",
      "\n",
      "Glu eran ie) 0 oF Ug eh INS\n",
      "\n",
      "1) wh\n",
      "\n",
      "O27¢\n",
      "\n",
      " \n",
      "\n",
      "fae\n",
      "KEEP AERIERATD\n",
      "Proccessing 322.jpg\n",
      "/n/sLABEL Nutrition Facts\n",
      "A Amount Per Serving 1oz (289)\n",
      "A Galories 175 Calories From Fat 125\n",
      "Total Fat 14g 22%\n",
      "Saturated Fat 2.19 11%\n",
      "Trans Fat Og 0%\n",
      "Cholesterol Omg 0%\n",
      "Sodium 23mg 1%\n",
      "Total Carbohydrate 5g 5%\n",
      "Dietary Fiber 2.79 119\n",
      "Protein 7g 14%\n",
      "Calcium 0%\n",
      "Iron 3%\n",
      "VitaminA = 0% Vitamin€ = 2%\n",
      "Calcium 6% Iron 8%\n",
      "Percent Daily Values are based on - 2000 calories\n",
      "diet Your Daily value may be higher or lower\n",
      "depending on your calorie ne\n",
      "\n",
      " \n",
      "\n",
      " \n",
      "\n",
      " \n",
      "\n",
      "Aug byllg Syballuc bysylarost\n",
      "Uno egg\n",
      "\n",
      "KEEP AWAY FROM HEAT , HUMIDITY\n",
      "AND SUNLIGHT\n",
      "\n",
      "MIAN\n",
      "\n",
      "Mn 7260\n",
      "Proccessing 109.jpg\n",
      "/n/sLABEL \n"
     ]
    }
   ],
   "source": [
    "n = label_Recognizer('pd_test')"
   ]
  },
  {
   "cell_type": "code",
   "execution_count": 66,
   "metadata": {},
   "outputs": [],
   "source": [
    "import pandas as pd"
   ]
  },
  {
   "cell_type": "code",
   "execution_count": 69,
   "metadata": {},
   "outputs": [
    {
     "data": {
      "text/plain": [
       "'Nutrition Facts\\nA Amount Per Serving 1oz (289)\\nA Galories 175 Calories From Fat 125\\nTotal Fat 14g 22%\\nSaturated Fat 2.19 11%\\nTrans Fat Og 0%\\nCholesterol Omg 0%\\nSodium 23mg 1%\\nTotal Carbohydrate 5g 5%\\nDietary Fiber 2.79 119\\nProtein 7g 14%\\nCalcium 0%\\nIron 3%\\nVitaminA = 0% Vitamin€ = 2%\\nCalcium 6% Iron 8%\\nPercent Daily Values are based on - 2000 calories\\ndiet Your Daily value may be higher or lower\\ndepending on your calorie ne\\n\\n \\n\\n \\n\\n \\n\\nAug byllg Syballuc bysylarost\\nUno egg\\n\\nKEEP AWAY FROM HEAT , HUMIDITY\\nAND SUNLIGHT\\n\\nMIAN\\n\\nMn 7260'"
      ]
     },
     "execution_count": 69,
     "metadata": {},
     "output_type": "execute_result"
    }
   ],
   "source": [
    "n[2]"
   ]
  },
  {
   "cell_type": "code",
   "execution_count": 71,
   "metadata": {},
   "outputs": [
    {
     "name": "stdout",
     "output_type": "stream",
     "text": [
      "True\n"
     ]
    }
   ],
   "source": [
    "if 'Nutrition Facts' in n[2]:\n",
    "    print('True')"
   ]
  },
  {
   "cell_type": "code",
   "execution_count": 15,
   "metadata": {
    "scrolled": false
   },
   "outputs": [
    {
     "name": "stdout",
     "output_type": "stream",
     "text": [
      "label152.jpg\n",
      "Proccessing 152.jpg\n",
      "/n/sLABEL \n",
      "Proccessing 386.jpg\n",
      "/n/sLABEL ition Facts|!INGREDIENTS:\n",
      "(28g / about 1\" cube) | PASTEURIZED PART-SKIM.\n",
      "out 8 MILK, CHEESE CULTURE,\n",
      "SALT, ENZYMES\n",
      "\n",
      " \n",
      "   \n",
      "  \n",
      " \n",
      "  \n",
      " \n",
      "\n",
      "     \n",
      " \n",
      "\n",
      " \n",
      "\n",
      "CONTAINS: MILK.\n",
      "\n",
      "DISTRIBUTED BY\n",
      "‘9% | CHURNY COMPANY, INC.\n",
      "WEYAUWEGA, WI54983 USA\n",
      "\n",
      "Glu eran ie) 0 oF Ug eh INS\n",
      "\n",
      "1) wh\n",
      "\n",
      "O27¢\n",
      "\n",
      " \n",
      "\n",
      "fae\n",
      "KEEP AERIERATD\n",
      "Proccessing 322.jpg\n",
      "/n/sLABEL Nutrition Facts\n",
      "A Amount Per Serving 1oz (289)\n",
      "A Galories 175 Calories From Fat 125\n",
      "Total Fat 14g 22%\n",
      "Saturated Fat 2.19 11%\n",
      "Trans Fat Og 0%\n",
      "Cholesterol Omg 0%\n",
      "Sodium 23mg 1%\n",
      "Total Carbohydrate 5g 5%\n",
      "Dietary Fiber 2.79 119\n",
      "Protein 7g 14%\n",
      "Calcium 0%\n",
      "Iron 3%\n",
      "VitaminA = 0% Vitamin€ = 2%\n",
      "Calcium 6% Iron 8%\n",
      "Percent Daily Values are based on - 2000 calories\n",
      "diet Your Daily value may be higher or lower\n",
      "depending on your calorie ne\n",
      "\n",
      " \n",
      "\n",
      " \n",
      "\n",
      " \n",
      "\n",
      "Aug byllg Syballuc bysylarost\n",
      "Uno egg\n",
      "\n",
      "KEEP AWAY FROM HEAT , HUMIDITY\n",
      "AND SUNLIGHT\n",
      "\n",
      "MIAN\n",
      "\n",
      "Mn 7260\n",
      "Proccessing 109.jpg\n",
      "/n/sLABEL \n"
     ]
    }
   ],
   "source": [
    "m = label_Recognizer('pd_test')"
   ]
  },
  {
   "cell_type": "code",
   "execution_count": 21,
   "metadata": {},
   "outputs": [
    {
     "data": {
      "text/plain": [
       "'Nutrition Facts\\nA Amount Per Serving 1oz (289)\\nA Galories 175 Calories From Fat 125\\nTotal Fat 14g 22%\\nSaturated Fat 2.19 11%\\nTrans Fat Og 0%\\nCholesterol Omg 0%\\nSodium 23mg 1%\\nTotal Carbohydrate 5g 5%\\nDietary Fiber 2.79 119\\nProtein 7g 14%\\nCalcium 0%\\nIron 3%\\nVitaminA = 0% Vitamin€ = 2%\\nCalcium 6% Iron 8%\\nPercent Daily Values are based on - 2000 calories\\ndiet Your Daily value may be higher or lower\\ndepending on your calorie ne\\n\\n \\n\\n \\n\\n \\n\\nAug byllg Syballuc bysylarost\\nUno egg\\n\\nKEEP AWAY FROM HEAT , HUMIDITY\\nAND SUNLIGHT\\n\\nMIAN\\n\\nMn 7260'"
      ]
     },
     "execution_count": 21,
     "metadata": {},
     "output_type": "execute_result"
    }
   ],
   "source": [
    "m[2]"
   ]
  },
  {
   "cell_type": "code",
   "execution_count": null,
   "metadata": {},
   "outputs": [],
   "source": []
  },
  {
   "cell_type": "markdown",
   "metadata": {},
   "source": [
    "### -------------------"
   ]
  },
  {
   "cell_type": "code",
   "execution_count": null,
   "metadata": {},
   "outputs": [],
   "source": []
  },
  {
   "cell_type": "markdown",
   "metadata": {},
   "source": [
    "### All_Labels:"
   ]
  },
  {
   "cell_type": "code",
   "execution_count": null,
   "metadata": {},
   "outputs": [],
   "source": [
    "\n",
    "#sys.path.append('/usr/local/lib/python2.7/site-packages')\n",
    "\n",
    "\n",
    "def writeFile(directory, fileName, content):\n",
    "    outFile = open('outputs/' + directory + '/' + fileName + '.txt', 'w')\n",
    "    outFile.write(content)\n",
    "    outFile.close()\n",
    "\n",
    "# Setup regex for stripping file names\n",
    "p = re.compile('[0-9]+.jpg')\n",
    "    \n",
    "# Use images in the labels directory\n",
    "for file in glob.glob('../labels/*.jpg'):\n",
    "    fileName = p.findall(file)[0]\n",
    "    print (\"Proccessing \" + fileName)\n",
    "    outFileName = fileName[0:len(fileName)-4]\n",
    "    # Get default text recognition \n",
    "    output = pytesseract.image_to_string(Image.open(file))\n",
    "    #print(output)\n",
    "\n",
    "    # Write default text output to 'outputs/default' directory\n",
    "    writeFile('default', outFileName, output)\n",
    "\n",
    "    # Open image as black and white\n",
    "    bw = cv2.imread(file, 0)\n",
    "\n",
    "    # Apply adaptive thresholding to images\n",
    "    thresh = cv2.adaptiveThreshold(bw, 255, cv2.ADAPTIVE_THRESH_GAUSSIAN_C,\\\n",
    "            cv2.THRESH_BINARY, 11, 2)\n",
    "\n",
    "    # Get text recognition from thresholded images\n",
    "    output = pytesseract.image_to_string(Image.fromarray(bw))\n",
    "    writeFile('bw', outFileName, output)\n",
    "\n",
    "    break"
   ]
  },
  {
   "cell_type": "code",
   "execution_count": null,
   "metadata": {},
   "outputs": [],
   "source": [
    "def label_Recognizer(path):\n",
    "    import re\n",
    "#    import end_to_end\n",
    "    import os\n",
    "    from matplotlib import pyplot \n",
    "    files = []\n",
    "    # r=root, d=directories, f = files\n",
    "    for  r,d, f in os.walk(path):\n",
    "        for file in f:\n",
    "            files.append(os.path.join(file))\n",
    "    p = re.compile('[0-9]+.jpg')\n",
    "    all_result = []\n",
    "    for f in files:\n",
    "        print(f)\n",
    "     #   out_dict = end_to_end.end_to_end(f'{path}\\{f}')\n",
    "        #-----------------\n",
    "        for file in glob.glob('./img_result/*.jpg'):\n",
    "            fileName = p.findall(file)[0]\n",
    "            print (\"Proccessing \" + fileName)\n",
    "            outFileName = fileName[0:len(fileName)-4]\n",
    "            # Get default text recognition \n",
    "            output = pytesseract.image_to_string(Image.open(file))\n",
    "            print(\"/n\", output)\n",
    "            all_result.append(output)\n",
    "\n",
    "            # Write default text output to 'outputs/default' directory\n",
    "#             writeFile('default', outFileName, output)\n",
    "\n",
    "#             # Open image as black and white\n",
    "#             bw = cv2.imread(file, 0)\n",
    "\n",
    "#             # Apply adaptive thresholding to images\n",
    "#             thresh = cv2.adaptiveThreshold(bw, 255, cv2.ADAPTIVE_THRESH_GAUSSIAN_C,\\\n",
    "#                     cv2.THRESH_BINARY, 11, 2)\n",
    "\n",
    "#             # Get text recognition from thresholded images\n",
    "#             output = pytesseract.image_to_string(Image.fromarray(bw))\n",
    "                \n",
    "\n",
    "#         #-----------------\n",
    "# #         print('This is out_dict type', type(out_dict))\n",
    "# #         print(f.replace(r'.jpg',''))\n",
    "# #         out_dict['Image_id']=f.replace(r'.jpg','')\n",
    "#             all_result.append(output)\n",
    "            \n",
    "#         break\n",
    "\n",
    "    df = pd.DataFrame(all_result)\n",
    "    df = pd.DataFrame(columns=['Image_id','Nutrient', 'Amount', 'Unit', 'Serving Size','Serving Size Unit','Language'])\n",
    "    df_long = df.melt(id_vars=['Serving Size','Image_id'])\n",
    "    Units = {'Calories': 'Kcal',\n",
    "        'Energy': 'kJ',\n",
    "        'Total Fat': 'g',\n",
    "        'Saturated Fat': 'g',\n",
    "        'Trans Fat': 'g',\n",
    "        'Poly Fat': 'g',\n",
    "        'Mono Fat': 'g',\n",
    "        'Cholesterol': 'mg',\n",
    "        'Sodium': 'mg',\n",
    "        'Potassium': 'g',\n",
    "        'Total Carbohydrate': 'g',\n",
    "        'Dietary Fiber': 'g',\n",
    "        'Sugars': 'g',\n",
    "        'Protein': 'g'}\n",
    "    df_long['Serving Size Unit']= 'g'\n",
    "    df_long.columns = ['Serving Size','Image_id','Nutrient','Amount','Serving Size Unit']\n",
    "    df_long['Unit'] = [Units [x] for x in df_long['Nutrient']]\n",
    "    df_long['Language'] = 'English'\n",
    "    Final_Outcome = df_long[['Image_id','Nutrient', 'Amount', 'Unit', 'Serving Size','Serving Size Unit','Language']]\n",
    "    Final_Outcome.to_excel('DSI-V-Abdulrahman.xlsx', index=False)\n",
    "    return Final_Outcome"
   ]
  },
  {
   "cell_type": "code",
   "execution_count": null,
   "metadata": {
    "scrolled": true
   },
   "outputs": [],
   "source": [
    "label_Recognizer('img_result')"
   ]
  },
  {
   "cell_type": "code",
   "execution_count": null,
   "metadata": {},
   "outputs": [],
   "source": [
    "Proccessing 152.jpg\n",
    "Proccessing 386.jpg\n",
    "Proccessing 322.jpg\n",
    "Proccessing 109.jpg"
   ]
  },
  {
   "cell_type": "code",
   "execution_count": null,
   "metadata": {},
   "outputs": [],
   "source": []
  },
  {
   "cell_type": "code",
   "execution_count": null,
   "metadata": {},
   "outputs": [],
   "source": []
  },
  {
   "cell_type": "code",
   "execution_count": null,
   "metadata": {},
   "outputs": [],
   "source": []
  },
  {
   "cell_type": "code",
   "execution_count": null,
   "metadata": {},
   "outputs": [],
   "source": []
  },
  {
   "cell_type": "code",
   "execution_count": null,
   "metadata": {},
   "outputs": [],
   "source": []
  },
  {
   "cell_type": "markdown",
   "metadata": {},
   "source": [
    "## Referenced_code"
   ]
  },
  {
   "cell_type": "code",
   "execution_count": null,
   "metadata": {},
   "outputs": [],
   "source": []
  },
  {
   "cell_type": "code",
   "execution_count": null,
   "metadata": {},
   "outputs": [],
   "source": []
  },
  {
   "cell_type": "code",
   "execution_count": null,
   "metadata": {},
   "outputs": [],
   "source": []
  },
  {
   "cell_type": "code",
   "execution_count": null,
   "metadata": {},
   "outputs": [],
   "source": [
    "basename = os.path.basename(\"./img_result\")\n",
    "label_impath = impath.replace(basename, 'tmp_' + basename)\n",
    "# label_impath = impath.lower().replace('.jpg', 'label_tmp.jpg')\n",
    "cv2.imwrite(label_impath, label_im)\n",
    "\n",
    "start = timer()\n",
    "# Apply Tesseract to image\n",
    "output = apply_tesseract(label_impath, demo=demo)\n",
    "#        print (\"\\n\")\n",
    "output = pytesseract.image_to_string(label_impath,lang='eng')\n",
    "#     print(arabic)\n",
    "\n",
    "end = timer()\n",
    "print('OCR time: %2f' % (end-start))\n",
    "os.remove(label_impath)\n",
    "\n",
    "start = timer()\n",
    "ocr_label = post_process(output, demo=demo)\n",
    "print(ocr_label)\n",
    "\n",
    "end = timer()\n",
    "print('Post process time: %2f' % (end-start))\n",
    "\n",
    "if show:\n",
    "    draw_image(label_im, 'Transformed label: %s' % impath)\n",
    "\n",
    "return ocr_label"
   ]
  },
  {
   "cell_type": "markdown",
   "metadata": {},
   "source": [
    "### image view"
   ]
  },
  {
   "cell_type": "code",
   "execution_count": null,
   "metadata": {},
   "outputs": [],
   "source": [
    "io.imshow('./test_result.png')"
   ]
  },
  {
   "cell_type": "markdown",
   "metadata": {},
   "source": [
    "### Text with Tesseract - codes:"
   ]
  },
  {
   "cell_type": "code",
   "execution_count": null,
   "metadata": {},
   "outputs": [],
   "source": [
    "\n",
    "import pytesseract\n",
    "from PIL import Image, ImageEnhance, ImageFilter\n",
    "\n",
    "im = Image.open(\"test_result.png\") # the second one \n",
    "im = im.filter(ImageFilter.MedianFilter())\n",
    "enhancer = ImageEnhance.Contrast(im)\n",
    "im = enhancer.enhance(22)\n",
    "im = im.convert('1')\n",
    "im.save('test2.jpg')\n",
    "\n",
    "text = pytesseract.image_to_string(Image.open('test2.jpg'))\n",
    "print(text)"
   ]
  },
  {
   "cell_type": "markdown",
   "metadata": {},
   "source": [
    "#### Method 2"
   ]
  },
  {
   "cell_type": "code",
   "execution_count": null,
   "metadata": {},
   "outputs": [],
   "source": [
    "# A seconde way to extract text - OCR \n",
    "import os\n",
    "import tempfile\n",
    "import subprocess\n",
    "\n",
    "def ocr(path):\n",
    "    temp = tempfile.NamedTemporaryFile(delete=False)\n",
    "\n",
    "    process = subprocess.Popen(['tesseract', path, temp.name], stdout=subprocess.PIPE, stderr=subprocess.STDOUT)\n",
    "    process.communicate()\n",
    "\n",
    "    with open(temp.name + '.txt', 'r') as handle:\n",
    "        contents = handle.read()\n",
    "\n",
    "    os.remove(temp.name + '.txt')\n",
    "    os.remove(temp.name)\n",
    "\n",
    "    return contents\n",
    "\n",
    "str = ocr('test_result.png')\n",
    "print(str)"
   ]
  },
  {
   "cell_type": "code",
   "execution_count": 52,
   "metadata": {},
   "outputs": [],
   "source": [
    "img = cv2.imread('img/product_5.jpg',0)"
   ]
  },
  {
   "cell_type": "code",
   "execution_count": 53,
   "metadata": {},
   "outputs": [],
   "source": [
    "idx = 0\n",
    "boxes = []\n",
    "for c in contours:\n",
    "    # Returns the location and width,height for every contour\n",
    "    x, y, w, h = cv2.boundingRect(c)\n",
    "    if (w > 80 and h > 20) and w > 3*h:\n",
    "        idx += 1\n",
    "        boxes.append(img[y:y+h, x:x+w])\n",
    "# If the box height is greater then 20, widht is >80, then only save it as a box in \"cropped/\" folder.\n",
    "    if (w > 80 and h > 20) and w > 3*h:\n",
    "        idx += 1\n",
    "        boxes.append(img[y:y+h, x:x+w])\n",
    "        idx = 0\n",
    "boxes = []\n",
    "for c in contours:\n",
    "    # Returns the location and width,height for every contour\n",
    "    x, y, w, h = cv2.boundingRect(c)\n",
    "    if (w > 80 and h > 20) and w > 3*h:\n",
    "        idx += 1\n",
    "        boxes.append(img[y:y+h, x:x+w])\n",
    "# If the box height is greater then 20, widht is >80, then only save it as a box in \"cropped/\" folder.\n",
    "    if (w > 80 and h > 20) and w > 3*h:\n",
    "        idx += 1\n",
    "        boxes.append(img[y:y+h, x:x+w])"
   ]
  },
  {
   "cell_type": "code",
   "execution_count": 54,
   "metadata": {},
   "outputs": [
    {
     "data": {
      "text/plain": [
       "[]"
      ]
     },
     "execution_count": 54,
     "metadata": {},
     "output_type": "execute_result"
    }
   ],
   "source": [
    "boxes"
   ]
  },
  {
   "cell_type": "code",
   "execution_count": null,
   "metadata": {},
   "outputs": [],
   "source": []
  }
 ],
 "metadata": {
  "kernelspec": {
   "display_name": "Python 3",
   "language": "python",
   "name": "python3"
  },
  "language_info": {
   "codemirror_mode": {
    "name": "ipython",
    "version": 3
   },
   "file_extension": ".py",
   "mimetype": "text/x-python",
   "name": "python",
   "nbconvert_exporter": "python",
   "pygments_lexer": "ipython3",
   "version": "3.7.3"
  },
  "toc": {
   "base_numbering": 1,
   "nav_menu": {},
   "number_sections": true,
   "sideBar": true,
   "skip_h1_title": false,
   "title_cell": "Table of Contents",
   "title_sidebar": "Contents",
   "toc_cell": false,
   "toc_position": {},
   "toc_section_display": true,
   "toc_window_display": false
  }
 },
 "nbformat": 4,
 "nbformat_minor": 2
}
