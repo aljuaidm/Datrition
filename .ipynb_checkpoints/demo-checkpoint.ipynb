{
 "cells": [
  {
   "cell_type": "markdown",
   "metadata": {
    "colab_type": "text",
    "id": "view-in-github"
   },
   "source": [
    "<a href=\"https://colab.research.google.com/github/tgalkovskyi/deep-text-recognition-benchmark/blob/master/demo.ipynb\" target=\"_parent\"><img src=\"https://colab.research.google.com/assets/colab-badge.svg\" alt=\"Open In Colab\"/></a>"
   ]
  },
  {
   "cell_type": "markdown",
   "metadata": {
    "colab_type": "text",
    "id": "dHbHK60Tqn2c"
   },
   "source": [
    "This can be executed in https://colab.research.google.com \"Python 3 / GPU\" runtime."
   ]
  },
  {
   "cell_type": "code",
   "execution_count": 1,
   "metadata": {
    "colab": {
     "base_uri": "https://localhost:8080/",
     "height": 153
    },
    "colab_type": "code",
    "id": "Pi-PA14AhdK-",
    "outputId": "5d620547-6ce9-42b9-8206-20f88f23e567"
   },
   "outputs": [
    {
     "name": "stdout",
     "output_type": "stream",
     "text": [
      "Cloning into 'deep-text-recognition-benchmark'...\n",
      "remote: Enumerating objects: 394, done.\u001b[K\n",
      "remote: Total 394 (delta 0), reused 0 (delta 0), pack-reused 394\u001b[K\n",
      "Receiving objects: 100% (394/394), 2.99 MiB | 1.55 MiB/s, done.\n",
      "Resolving deltas: 100% (238/238), done.\n",
      "/Users/omaralharbi/Desktop/DSI/deep-text-recognition-benchmark/deep-text-recognition-benchmark\n"
     ]
    }
   ],
   "source": [
    "!git clone https://github.com/clovaai/deep-text-recognition-benchmark\n",
    "%cd deep-text-recognition-benchmark"
   ]
  },
  {
   "cell_type": "markdown",
   "metadata": {
    "colab_type": "text",
    "id": "jX-ucvimlaFZ"
   },
   "source": [
    "Next, download large model files from Google Drive, using hack: https://stackoverflow.com/questions/20665881/direct-download-from-google-drive-using-google-drive-api/32742700#32742700"
   ]
  },
  {
   "cell_type": "code",
   "execution_count": 2,
   "metadata": {
    "colab": {
     "base_uri": "https://localhost:8080/",
     "height": 833
    },
    "colab_type": "code",
    "id": "9eEhhPBshkjr",
    "outputId": "205d0bd8-340f-4e9b-ebfd-e9c8f7d327a0"
   },
   "outputs": [
    {
     "name": "stdout",
     "output_type": "stream",
     "text": [
      "  % Total    % Received % Xferd  Average Speed   Time    Time     Time  Current\n",
      "                                 Dload  Upload   Total   Spent    Left  Speed\n",
      "100  3275    0  3275    0     0   3781      0 --:--:-- --:--:-- --:--:--  3781\n",
      "usage: grep [-abcDEFGHhIiJLlmnOoqRSsUVvwxZ] [-A num] [-B num] [-C[num]]\n",
      "\t[-e pattern] [-f file] [--binary-files=value] [--color=when]\n",
      "\t[--context[=num]] [--directories=action] [--label] [--line-buffered]\n",
      "\t[--null] [pattern] [file ...]\n",
      "  % Total    % Received % Xferd  Average Speed   Time    Time     Time  Current\n",
      "                                 Dload  Upload   Total   Spent    Left  Speed\n",
      "  0     0    0     0    0     0      0      0 --:--:-- --:--:-- --:--:--     0\n",
      "100 64660    0 64660    0     0      0      0 --:--:--  0:00:01 --:--:--     0   0     0  53218      0 --:--:--  0:00:01 --:--:--  471k\n",
      "  % Total    % Received % Xferd  Average Speed   Time    Time     Time  Current\n",
      "                                 Dload  Upload   Total   Spent    Left  Speed\n",
      "100   388    0   388    0     0     69      0 --:--:--  0:00:05 --:--:--   119\n",
      "usage: grep [-abcDEFGHhIiJLlmnOoqRSsUVvwxZ] [-A num] [-B num] [-C[num]]\n",
      "\t[-e pattern] [-f file] [--binary-files=value] [--color=when]\n",
      "\t[--context[=num]] [--directories=action] [--label] [--line-buffered]\n",
      "\t[--null] [pattern] [file ...]\n",
      "  % Total    % Received % Xferd  Average Speed   Time    Time     Time  Current\n",
      "                                 Dload  Upload   Total   Spent    Left  Speed\n",
      "  0     0    0     0    0     0      0      0 --:--:-- --:--:-- --:--:--     0\n",
      "100 64884    0 64884    0     0  53358      0 --:--:--  0:00:01 --:--:--  190k\n",
      "  % Total    % Received % Xferd  Average Speed   Time    Time     Time  Current\n",
      "                                 Dload  Upload   Total   Spent    Left  Speed\n",
      "100   388    0   388    0     0    139      0 --:--:--  0:00:02 --:--:--   139\n",
      "usage: grep [-abcDEFGHhIiJLlmnOoqRSsUVvwxZ] [-A num] [-B num] [-C[num]]\n",
      "\t[-e pattern] [-f file] [--binary-files=value] [--color=when]\n",
      "\t[--context[=num]] [--directories=action] [--label] [--line-buffered]\n",
      "\t[--null] [pattern] [file ...]\n",
      "  % Total    % Received % Xferd  Average Speed   Time    Time     Time  Current\n",
      "                                 Dload  Upload   Total   Spent    Left  Speed\n",
      "  0     0    0     0    0     0      0      0 --:--:-- --:--:-- --:--:--     0\n",
      "100 65852    0 65852    0     0  28360      0 --:--:--  0:00:02 --:--:--  125k\n",
      "  % Total    % Received % Xferd  Average Speed   Time    Time     Time  Current\n",
      "                                 Dload  Upload   Total   Spent    Left  Speed\n",
      "100  3291    0  3291    0     0   3446      0 --:--:-- --:--:-- --:--:--  3446\n",
      "usage: grep [-abcDEFGHhIiJLlmnOoqRSsUVvwxZ] [-A num] [-B num] [-C[num]]\n",
      "\t[-e pattern] [-f file] [--binary-files=value] [--color=when]\n",
      "\t[--context[=num]] [--directories=action] [--label] [--line-buffered]\n",
      "\t[--null] [pattern] [file ...]\n",
      "  % Total    % Received % Xferd  Average Speed   Time    Time     Time  Current\n",
      "                                 Dload  Upload   Total   Spent    Left  Speed\n",
      "  0     0    0     0    0     0      0      0 --:--:-- --:--:-- --:--:--     0\n",
      "100 64736    0 64736    0     0  49492      0 --:--:--  0:00:01 --:--:--  215k\n",
      "  % Total    % Received % Xferd  Average Speed   Time    Time     Time  Current\n",
      "                                 Dload  Upload   Total   Spent    Left  Speed\n",
      "100  3267    0  3267    0     0   3343      0 --:--:-- --:--:-- --:--:--  3343\n",
      "usage: grep [-abcDEFGHhIiJLlmnOoqRSsUVvwxZ] [-A num] [-B num] [-C[num]]\n",
      "\t[-e pattern] [-f file] [--binary-files=value] [--color=when]\n",
      "\t[--context[=num]] [--directories=action] [--label] [--line-buffered]\n",
      "\t[--null] [pattern] [file ...]\n",
      "  % Total    % Received % Xferd  Average Speed   Time    Time     Time  Current\n",
      "                                 Dload  Upload   Total   Spent    Left  Speed\n",
      "  0     0    0     0    0     0      0      0 --:--:-- --:--:-- --:--:--     0\n",
      "100 64792    0 64792    0     0  57439      0 --:--:--  0:00:01 --:--:-- 57439\n",
      "  % Total    % Received % Xferd  Average Speed   Time    Time     Time  Current\n",
      "                                 Dload  Upload   Total   Spent    Left  Speed\n",
      "100  3275    0  3275    0     0   4504      0 --:--:-- --:--:-- --:--:--  4498\n",
      "usage: grep [-abcDEFGHhIiJLlmnOoqRSsUVvwxZ] [-A num] [-B num] [-C[num]]\n",
      "\t[-e pattern] [-f file] [--binary-files=value] [--color=when]\n",
      "\t[--context[=num]] [--directories=action] [--label] [--line-buffered]\n",
      "\t[--null] [pattern] [file ...]\n",
      "  % Total    % Received % Xferd  Average Speed   Time    Time     Time  Current\n",
      "                                 Dload  Upload   Total   Spent    Left  Speed\n",
      "  0     0    0     0    0     0      0      0 --:--:-- --:--:-- --:--:--     0\n",
      "100 64788    0 64788    0     0  57538      0 --:--:--  0:00:01 --:--:-- 57538\n",
      "-rw-r--r--  1 omaralharbi  staff  64660 Dec  3 20:44 None-ResNet-None-CTC.pth\n",
      "-rw-r--r--  1 omaralharbi  staff  64884 Dec  3 20:44 None-VGG-BiLSTM-CTC.pth\n",
      "-rw-r--r--  1 omaralharbi  staff  65852 Dec  3 20:44 None-VGG-None-CTC.pth\n",
      "-rw-r--r--  1 omaralharbi  staff  64736 Dec  3 20:44 TPS-ResNet-BiLSTM-Attn-case-sensitive.pth\n",
      "-rw-r--r--  1 omaralharbi  staff  64792 Dec  3 20:44 TPS-ResNet-BiLSTM-Attn.pth\n",
      "-rw-r--r--  1 omaralharbi  staff  64788 Dec  3 20:44 TPS-ResNet-BiLSTM-CTC.pth\n"
     ]
    }
   ],
   "source": [
    "models = {\n",
    "    'None-ResNet-None-CTC.pth': 'https://drive.google.com/open?id=1FocnxQzFBIjDT2F9BkNUiLdo1cC3eaO0',\n",
    "    'None-VGG-BiLSTM-CTC.pth': 'https://drive.google.com/open?id=1GGC2IRYEMQviZhqQpbtpeTgHO_IXWetG',\n",
    "    'None-VGG-None-CTC.pth': 'https://drive.google.com/open?id=1FS3aZevvLiGF1PFBm5SkwvVcgI6hJWL9',\n",
    "    'TPS-ResNet-BiLSTM-Attn-case-sensitive.pth': 'https://drive.google.com/open?id=1ajONZOgiG9pEYsQ-eBmgkVbMDuHgPCaY',\n",
    "    'TPS-ResNet-BiLSTM-Attn.pth': 'https://drive.google.com/open?id=1b59rXuGGmKne1AuHnkgDzoYgKeETNMv9',\n",
    "    'TPS-ResNet-BiLSTM-CTC.pth': 'https://drive.google.com/open?id=1FocnxQzFBIjDT2F9BkNUiLdo1cC3eaO0',\n",
    "}\n",
    "\n",
    "for k, v in models.items():\n",
    "    doc_id = v[v.find('=')+1:]\n",
    "    !curl -c /tmp/cookies \"https://drive.google.com/uc?export=download&id=$doc_id\" > /tmp/intermezzo.html\n",
    "    !curl -L -b /tmp/cookies \"https://drive.google.com$(cat /tmp/intermezzo.html | grep -Po 'uc-download-link\" [^>]* href=\"\\K[^\"]*' | sed 's/\\&amp;/\\&/g')\" > $k\n",
    "\n",
    "!ls -al *.pth"
   ]
  },
  {
   "cell_type": "code",
   "execution_count": 3,
   "metadata": {
    "colab": {},
    "colab_type": "code",
    "id": "s-E716WnhfrI"
   },
   "outputs": [],
   "source": [
    "output = !CUDA_VISIBLE_DEVICES=0 python3 demo.py \\\n",
    "--Transformation TPS --FeatureExtraction ResNet --SequenceModeling BiLSTM --Prediction Attn \\\n",
    "--image_folder demo_image/ \\\n",
    "--saved_model TPS-ResNet-BiLSTM-Attn.pth"
   ]
  },
  {
   "cell_type": "code",
   "execution_count": 4,
   "metadata": {},
   "outputs": [],
   "source": [
    "#! pip install pandas"
   ]
  },
  {
   "cell_type": "code",
   "execution_count": 5,
   "metadata": {
    "colab": {
     "base_uri": "https://localhost:8080/",
     "height": 1000
    },
    "colab_type": "code",
    "id": "bJRPln2QlxlJ",
    "outputId": "a81e0b6b-8171-49a6-c59f-15649d7c6bb8"
   },
   "outputs": [
    {
     "ename": "ValueError",
     "evalue": "'image_path\\tpredicted_labels\\tconfidence score' is not in list",
     "output_type": "error",
     "traceback": [
      "\u001b[0;31m---------------------------------------------------------------------------\u001b[0m",
      "\u001b[0;31mValueError\u001b[0m                                Traceback (most recent call last)",
      "\u001b[0;32m<ipython-input-5-044b70187ad7>\u001b[0m in \u001b[0;36m<module>\u001b[0;34m\u001b[0m\n\u001b[1;32m      6\u001b[0m \u001b[0;34m\u001b[0m\u001b[0m\n\u001b[1;32m      7\u001b[0m \u001b[0mdata\u001b[0m \u001b[0;34m=\u001b[0m \u001b[0mpd\u001b[0m\u001b[0;34m.\u001b[0m\u001b[0mDataFrame\u001b[0m\u001b[0;34m(\u001b[0m\u001b[0;34m)\u001b[0m\u001b[0;34m\u001b[0m\u001b[0;34m\u001b[0m\u001b[0m\n\u001b[0;32m----> 8\u001b[0;31m \u001b[0;32mfor\u001b[0m \u001b[0mind\u001b[0m\u001b[0;34m,\u001b[0m \u001b[0mrow\u001b[0m \u001b[0;32min\u001b[0m \u001b[0menumerate\u001b[0m\u001b[0;34m(\u001b[0m\u001b[0moutput\u001b[0m\u001b[0;34m[\u001b[0m\u001b[0moutput\u001b[0m\u001b[0;34m.\u001b[0m\u001b[0mindex\u001b[0m\u001b[0;34m(\u001b[0m\u001b[0;34m'image_path\\tpredicted_labels\\tconfidence score'\u001b[0m\u001b[0;34m)\u001b[0m\u001b[0;34m+\u001b[0m\u001b[0;36m2\u001b[0m\u001b[0;34m:\u001b[0m\u001b[0;34m]\u001b[0m\u001b[0;34m)\u001b[0m\u001b[0;34m:\u001b[0m\u001b[0;34m\u001b[0m\u001b[0;34m\u001b[0m\u001b[0m\n\u001b[0m\u001b[1;32m      9\u001b[0m     \u001b[0mrow\u001b[0m \u001b[0;34m=\u001b[0m \u001b[0mrow\u001b[0m\u001b[0;34m.\u001b[0m\u001b[0msplit\u001b[0m\u001b[0;34m(\u001b[0m\u001b[0;34m'\\t'\u001b[0m\u001b[0;34m)\u001b[0m\u001b[0;34m\u001b[0m\u001b[0;34m\u001b[0m\u001b[0m\n\u001b[1;32m     10\u001b[0m     \u001b[0mfilename\u001b[0m \u001b[0;34m=\u001b[0m \u001b[0mrow\u001b[0m\u001b[0;34m[\u001b[0m\u001b[0;36m0\u001b[0m\u001b[0;34m]\u001b[0m\u001b[0;34m.\u001b[0m\u001b[0mstrip\u001b[0m\u001b[0;34m(\u001b[0m\u001b[0;34m)\u001b[0m\u001b[0;34m\u001b[0m\u001b[0;34m\u001b[0m\u001b[0m\n",
      "\u001b[0;31mValueError\u001b[0m: 'image_path\\tpredicted_labels\\tconfidence score' is not in list"
     ]
    }
   ],
   "source": [
    "from IPython.core.display import display, HTML\n",
    "from PIL import Image\n",
    "import base64\n",
    "import io\n",
    "import pandas as pd\n",
    "\n",
    "data = pd.DataFrame()\n",
    "for ind, row in enumerate(output[output.index('image_path\\tpredicted_labels\\tconfidence score')+2:]):\n",
    "    row = row.split('\\t')\n",
    "    filename = row[0].strip()\n",
    "    label = row[1].strip()\n",
    "    conf = row[2].strip()\n",
    "    img = Image.open(filename)\n",
    "    img_buffer = io.BytesIO()\n",
    "    img.save(img_buffer, format=\"PNG\")\n",
    "    imgStr = base64.b64encode(img_buffer.getvalue()).decode(\"utf-8\") \n",
    "\n",
    "    data.loc[ind, 'img'] = '<img src=\"data:image/png;base64,{0:s}\">'.format(imgStr)\n",
    "    data.loc[ind, 'id'] = filename\n",
    "    data.loc[ind, 'label'] = label\n",
    "    data.loc[ind, 'conf'] = conf\n",
    "\n",
    "html_all = data.to_html(escape=False)\n",
    "display(HTML(html_all))"
   ]
  },
  {
   "cell_type": "code",
   "execution_count": null,
   "metadata": {},
   "outputs": [],
   "source": []
  }
 ],
 "metadata": {
  "accelerator": "GPU",
  "colab": {
   "collapsed_sections": [],
   "include_colab_link": true,
   "name": "deep-text-recognition-benchmark.ipynb",
   "provenance": []
  },
  "kernelspec": {
   "display_name": "Python 3",
   "language": "python",
   "name": "python3"
  },
  "language_info": {
   "codemirror_mode": {
    "name": "ipython",
    "version": 3
   },
   "file_extension": ".py",
   "mimetype": "text/x-python",
   "name": "python",
   "nbconvert_exporter": "python",
   "pygments_lexer": "ipython3",
   "version": "3.7.5"
  }
 },
 "nbformat": 4,
 "nbformat_minor": 1
}
